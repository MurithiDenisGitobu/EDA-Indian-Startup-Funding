{
 "cells": [
  {
   "cell_type": "markdown",
   "id": "098d19ba-83f1-4ebe-8224-3d771aa670e6",
   "metadata": {},
   "source": [
    "# **INDIAN STARTUP ECOSYSTEM**"
   ]
  },
  {
   "cell_type": "markdown",
   "id": "c62646cd-0736-4382-a4d2-318010effda4",
   "metadata": {},
   "source": [
    "## Project Description\n",
    "We embark on a journey of discovery as we leverage our data analysis expertise to uncover the untapped potential within the Indian startup ecosystem. This project is designed to not only decode the numbers but to distill insights that will guide our team towards a successful foray into this dynamic market."
   ]
  },
  {
   "cell_type": "markdown",
   "id": "073a46b0-b9c4-4cd3-941f-2966afc886e3",
   "metadata": {},
   "source": [
    "## Scope of Work\n",
    "\n",
    "- Conduct a thorough exploration of datasets, dissecting funding patterns, sectoral nuances, and geographical hotspots in the Indian startup landscap\n",
    "- Analyze funding received by startups in india from 2018 to 2021\n",
    "\n"
   ]
  },
  {
   "cell_type": "markdown",
   "id": "56c8dab3-8e2b-47f3-874a-d27632251b8f",
   "metadata": {},
   "source": [
    "## Hypothesis \n",
    "**Null Hypothesis (H₀)**: There is no significant difference in the average funding received by startups and Location.\n",
    "\n",
    "**Alternative Hypothesis (H₁)**: There are significant differences in the average funding received by startups and Location.\n",
    "\n",
    "**Null Hypothesis (H0)**: There is no significant relationship between funding and the sector  \n",
    "\n",
    "**Alternative Hypothesis (H1)**: There is a significant relationship between funding and the sector"
   ]
  },
  {
   "cell_type": "markdown",
   "id": "8620e446-b068-4209-8f16-003e788eebdb",
   "metadata": {},
   "source": [
    "## Questions \n",
    "1. How does funding vary across different industry sectors in India?\n",
    "2. How does funding vary with the loaction of the start-ups\n",
    "3. What is the relationship between the amount of funding and the stage of the company?\n",
    "4. How have funding trends evolved between 2018 and 2021?\n",
    "5. What are the most attractive sectors for investors?\n",
    "6. Does the location of the company influence its sector?\n",
    "\n",
    "\n"
   ]
  },
  {
   "cell_type": "markdown",
   "id": "182b1f90-e702-479c-bed8-7b0937f92ec8",
   "metadata": {},
   "source": [
    "# **DATA EXPLORATION, DATA UNDERSTANDING and DATA ANALYSIS**"
   ]
  },
  {
   "cell_type": "code",
   "execution_count": 1,
   "id": "a4313f08-adad-4397-b2a2-07ab3f969571",
   "metadata": {},
   "outputs": [],
   "source": [
    "# Load libraries\n",
    "# Database connnection\n",
    "import pyodbc     \n",
    "from dotenv import dotenv_values    #import the dotenv_values function from the dotenv package\n",
    "\n",
    "# Data manipulation\n",
    "import pandas as pd\n",
    "import numpy as np\n",
    "\n",
    "# Data visualization\n",
    "import matplotlib.pyplot as plt\n",
    "import seaborn as sns\n",
    "import plotly.express as px\n",
    "\n",
    "# filter warnings\n",
    "import warnings \n",
    "warnings.filterwarnings('ignore')"
   ]
  },
  {
   "cell_type": "markdown",
   "id": "a5653ae6-aaf0-4f36-ac77-0d12378022dd",
   "metadata": {},
   "source": [
    "## **1. Loading and Inspection of Data**"
   ]
  },
  {
   "cell_type": "markdown",
   "id": "6c0ba8b8",
   "metadata": {},
   "source": [
    "**Load data from the SQL server**"
   ]
  },
  {
   "cell_type": "code",
   "execution_count": 2,
   "id": "64476aec-cfda-44ff-9287-f9ae1116d755",
   "metadata": {},
   "outputs": [],
   "source": [
    "# Load environment variables from .env file into a dictionary\n",
    "environment_variables = dotenv_values('.env')\n",
    "\n",
    "# Get the values for the credentials you set in the '.env' file\n",
    "server = environment_variables.get(\"SERVER\")\n",
    "database = environment_variables.get(\"DATABASE\")\n",
    "username = environment_variables.get(\"USERNAME\")\n",
    "password = environment_variables.get(\"PASSWORD\")"
   ]
  },
  {
   "cell_type": "code",
   "execution_count": 3,
   "id": "1065f30f-d2af-4355-9709-68b7cf2eec10",
   "metadata": {},
   "outputs": [],
   "source": [
    "# Create a connection string\n",
    "\n",
    "connection_string = f\"DRIVER={{SQL Server}};SERVER={server};DATABASE={database};UID={username};PWD={password}\"\n",
    "    \n",
    "connection = pyodbc.connect(connection_string)\n",
    "\n"
   ]
  },
  {
   "cell_type": "code",
   "execution_count": 4,
   "id": "7c96e340-66bf-4947-b4bf-878ba7335936",
   "metadata": {},
   "outputs": [],
   "source": [
    "# sql query to get 2020 data. \n",
    "query_2020=\"SELECT * FROM dbo.LP1_startup_funding2020\"\n",
    "\n",
    "# sql query to get 2021 data. \n",
    "query_2021=\"SELECT * FROM dbo.LP1_startup_funding2021\""
   ]
  },
  {
   "cell_type": "code",
   "execution_count": 5,
   "id": "4879cd40-2819-442a-a895-1560371616cc",
   "metadata": {},
   "outputs": [],
   "source": [
    "    # load 2021 data\n",
    "data_2021=pd.read_sql(query_2021,connection)\n",
    "\n",
    "    # load 2020 data\n",
    "data_2020=pd.read_sql(query_2020,connection)"
   ]
  },
  {
   "cell_type": "markdown",
   "id": "35309cc2",
   "metadata": {},
   "source": [
    "**Load CSV Files**"
   ]
  },
  {
   "cell_type": "code",
   "execution_count": 6,
   "id": "a81c6016",
   "metadata": {},
   "outputs": [],
   "source": [
    "# load 2019 data\n",
    "data_2019=pd.read_csv(r'C:\\Users\\iamde\\OneDrive\\Desktop\\jupyter\\india_startup_data\\startup_funding2019.csv')\n",
    "\n",
    "    # load 2018 data\n",
    "data_2018=pd.read_csv(r'C:\\Users\\iamde\\OneDrive\\Desktop\\jupyter\\india_startup_data\\startup_funding2018.csv')\n"
   ]
  },
  {
   "cell_type": "markdown",
   "id": "b93809db-ec5e-415e-bce8-dc9a3367493b",
   "metadata": {},
   "source": [
    "### **2. Data Exploration and Understanding**"
   ]
  },
  {
   "cell_type": "markdown",
   "id": "ededc4f7",
   "metadata": {},
   "source": [
    "**Preview Each dataset**"
   ]
  },
  {
   "cell_type": "code",
   "execution_count": 7,
   "id": "88a913fa-08a6-4612-ac72-37b0a290a00a",
   "metadata": {},
   "outputs": [
    {
     "data": {
      "text/html": [
       "<div>\n",
       "<style scoped>\n",
       "    .dataframe tbody tr th:only-of-type {\n",
       "        vertical-align: middle;\n",
       "    }\n",
       "\n",
       "    .dataframe tbody tr th {\n",
       "        vertical-align: top;\n",
       "    }\n",
       "\n",
       "    .dataframe thead th {\n",
       "        text-align: right;\n",
       "    }\n",
       "</style>\n",
       "<table border=\"1\" class=\"dataframe\">\n",
       "  <thead>\n",
       "    <tr style=\"text-align: right;\">\n",
       "      <th></th>\n",
       "      <th>Company Name</th>\n",
       "      <th>Industry</th>\n",
       "      <th>Round/Series</th>\n",
       "      <th>Amount</th>\n",
       "      <th>Location</th>\n",
       "      <th>About Company</th>\n",
       "    </tr>\n",
       "  </thead>\n",
       "  <tbody>\n",
       "    <tr>\n",
       "      <th>414</th>\n",
       "      <td>NIRA</td>\n",
       "      <td>Credit, Financial Services, FinTech, Lending</td>\n",
       "      <td>Seed</td>\n",
       "      <td>1000000</td>\n",
       "      <td>Bangalore, Karnataka, India</td>\n",
       "      <td>NIRA promotes financial inclusion by creating ...</td>\n",
       "    </tr>\n",
       "    <tr>\n",
       "      <th>449</th>\n",
       "      <td>Cardekho</td>\n",
       "      <td>Automotive, E-Commerce, Information Services</td>\n",
       "      <td>Series C</td>\n",
       "      <td>75000000</td>\n",
       "      <td>Gurgaon, Haryana, India</td>\n",
       "      <td>Cardekho is a car search venture that helps us...</td>\n",
       "    </tr>\n",
       "    <tr>\n",
       "      <th>83</th>\n",
       "      <td>Carmesi</td>\n",
       "      <td>Health Care</td>\n",
       "      <td>Seed</td>\n",
       "      <td>₹34,000,000</td>\n",
       "      <td>Gurgaon, Haryana, India</td>\n",
       "      <td>Carmesi is a brand of high-end menstrual-hygie...</td>\n",
       "    </tr>\n",
       "    <tr>\n",
       "      <th>188</th>\n",
       "      <td>Eduvanz</td>\n",
       "      <td>Finance, Financial Services</td>\n",
       "      <td>Angel</td>\n",
       "      <td>500000</td>\n",
       "      <td>Mumbai, Maharashtra, India</td>\n",
       "      <td>Eduvanz is new, innovative finance company, wh...</td>\n",
       "    </tr>\n",
       "    <tr>\n",
       "      <th>371</th>\n",
       "      <td>Sportido</td>\n",
       "      <td>Social Media, Sports</td>\n",
       "      <td>Seed</td>\n",
       "      <td>—</td>\n",
       "      <td>Noida, Uttar Pradesh, India</td>\n",
       "      <td>Sportido is a sports discovery app that helps ...</td>\n",
       "    </tr>\n",
       "  </tbody>\n",
       "</table>\n",
       "</div>"
      ],
      "text/plain": [
       "    Company Name                                      Industry Round/Series  \\\n",
       "414         NIRA  Credit, Financial Services, FinTech, Lending         Seed   \n",
       "449     Cardekho  Automotive, E-Commerce, Information Services     Series C   \n",
       "83       Carmesi                                   Health Care         Seed   \n",
       "188      Eduvanz                   Finance, Financial Services        Angel   \n",
       "371     Sportido                          Social Media, Sports         Seed   \n",
       "\n",
       "          Amount                     Location  \\\n",
       "414      1000000  Bangalore, Karnataka, India   \n",
       "449     75000000      Gurgaon, Haryana, India   \n",
       "83   ₹34,000,000      Gurgaon, Haryana, India   \n",
       "188       500000   Mumbai, Maharashtra, India   \n",
       "371            —  Noida, Uttar Pradesh, India   \n",
       "\n",
       "                                         About Company  \n",
       "414  NIRA promotes financial inclusion by creating ...  \n",
       "449  Cardekho is a car search venture that helps us...  \n",
       "83   Carmesi is a brand of high-end menstrual-hygie...  \n",
       "188  Eduvanz is new, innovative finance company, wh...  \n",
       "371  Sportido is a sports discovery app that helps ...  "
      ]
     },
     "execution_count": 7,
     "metadata": {},
     "output_type": "execute_result"
    }
   ],
   "source": [
    "# preview the rows and columns for the 2018 dataset\n",
    "data_2018.sample(5)"
   ]
  },
  {
   "cell_type": "code",
   "execution_count": 8,
   "id": "3caff6a6-fadb-4132-9c2c-f79d2378d04d",
   "metadata": {},
   "outputs": [
    {
     "data": {
      "text/html": [
       "<div>\n",
       "<style scoped>\n",
       "    .dataframe tbody tr th:only-of-type {\n",
       "        vertical-align: middle;\n",
       "    }\n",
       "\n",
       "    .dataframe tbody tr th {\n",
       "        vertical-align: top;\n",
       "    }\n",
       "\n",
       "    .dataframe thead th {\n",
       "        text-align: right;\n",
       "    }\n",
       "</style>\n",
       "<table border=\"1\" class=\"dataframe\">\n",
       "  <thead>\n",
       "    <tr style=\"text-align: right;\">\n",
       "      <th></th>\n",
       "      <th>Company/Brand</th>\n",
       "      <th>Founded</th>\n",
       "      <th>HeadQuarter</th>\n",
       "      <th>Sector</th>\n",
       "      <th>What it does</th>\n",
       "      <th>Founders</th>\n",
       "      <th>Investor</th>\n",
       "      <th>Amount($)</th>\n",
       "      <th>Stage</th>\n",
       "    </tr>\n",
       "  </thead>\n",
       "  <tbody>\n",
       "    <tr>\n",
       "      <th>28</th>\n",
       "      <td>HungerBox</td>\n",
       "      <td>2015.0</td>\n",
       "      <td>Bangalore</td>\n",
       "      <td>Foodtech</td>\n",
       "      <td>Offers B2B tech platform to corporates, aimed ...</td>\n",
       "      <td>Sandipan Mitra, Uttam Kumar</td>\n",
       "      <td>Paytm, Asian VC fund NPTK, Sabre Partners, Neo...</td>\n",
       "      <td>$12,000,000</td>\n",
       "      <td>Series C</td>\n",
       "    </tr>\n",
       "    <tr>\n",
       "      <th>64</th>\n",
       "      <td>Moms Co</td>\n",
       "      <td>NaN</td>\n",
       "      <td>New Delhi</td>\n",
       "      <td>E-commerce</td>\n",
       "      <td>It is into mother and baby care-focused consum...</td>\n",
       "      <td>Malika Sadani</td>\n",
       "      <td>Saama Capital, DSG Consumer Partners</td>\n",
       "      <td>$5,000,000</td>\n",
       "      <td>Series B</td>\n",
       "    </tr>\n",
       "    <tr>\n",
       "      <th>39</th>\n",
       "      <td>Lil’ Goodness and sCool meal</td>\n",
       "      <td>NaN</td>\n",
       "      <td>Bangalore</td>\n",
       "      <td>Food &amp; Nutrition</td>\n",
       "      <td>It empowers moms to provide the best of foods ...</td>\n",
       "      <td>NaN</td>\n",
       "      <td>Sajan Pillai, Muthu Krishnan,</td>\n",
       "      <td>$400,000</td>\n",
       "      <td>NaN</td>\n",
       "    </tr>\n",
       "    <tr>\n",
       "      <th>77</th>\n",
       "      <td>Sarva</td>\n",
       "      <td>NaN</td>\n",
       "      <td>Chennai</td>\n",
       "      <td>Yoga &amp; wellness</td>\n",
       "      <td>It drives a cultural change in making yoga-bas...</td>\n",
       "      <td>Sarvesh Shashi</td>\n",
       "      <td>Venture fund, Fireside Ventures.</td>\n",
       "      <td>$2,800,000</td>\n",
       "      <td>NaN</td>\n",
       "    </tr>\n",
       "    <tr>\n",
       "      <th>38</th>\n",
       "      <td>Freshokartz</td>\n",
       "      <td>2016.0</td>\n",
       "      <td>Jaipur</td>\n",
       "      <td>E-marketplace</td>\n",
       "      <td>Online fruits and vegetables delivery company</td>\n",
       "      <td>Rajendra Lora</td>\n",
       "      <td>ThinkLab</td>\n",
       "      <td>$150,000</td>\n",
       "      <td>Pre series A</td>\n",
       "    </tr>\n",
       "  </tbody>\n",
       "</table>\n",
       "</div>"
      ],
      "text/plain": [
       "                   Company/Brand  Founded HeadQuarter            Sector  \\\n",
       "28                     HungerBox   2015.0   Bangalore          Foodtech   \n",
       "64                       Moms Co      NaN   New Delhi        E-commerce   \n",
       "39  Lil’ Goodness and sCool meal      NaN   Bangalore  Food & Nutrition   \n",
       "77                         Sarva      NaN     Chennai   Yoga & wellness   \n",
       "38                   Freshokartz   2016.0      Jaipur     E-marketplace   \n",
       "\n",
       "                                         What it does  \\\n",
       "28  Offers B2B tech platform to corporates, aimed ...   \n",
       "64  It is into mother and baby care-focused consum...   \n",
       "39  It empowers moms to provide the best of foods ...   \n",
       "77  It drives a cultural change in making yoga-bas...   \n",
       "38      Online fruits and vegetables delivery company   \n",
       "\n",
       "                       Founders  \\\n",
       "28  Sandipan Mitra, Uttam Kumar   \n",
       "64                Malika Sadani   \n",
       "39                          NaN   \n",
       "77               Sarvesh Shashi   \n",
       "38                Rajendra Lora   \n",
       "\n",
       "                                             Investor    Amount($)  \\\n",
       "28  Paytm, Asian VC fund NPTK, Sabre Partners, Neo...  $12,000,000   \n",
       "64               Saama Capital, DSG Consumer Partners   $5,000,000   \n",
       "39                      Sajan Pillai, Muthu Krishnan,     $400,000   \n",
       "77                   Venture fund, Fireside Ventures.   $2,800,000   \n",
       "38                                           ThinkLab     $150,000   \n",
       "\n",
       "           Stage  \n",
       "28      Series C  \n",
       "64      Series B  \n",
       "39           NaN  \n",
       "77           NaN  \n",
       "38  Pre series A  "
      ]
     },
     "execution_count": 8,
     "metadata": {},
     "output_type": "execute_result"
    }
   ],
   "source": [
    "# get a sample of 2019 dataset\n",
    "data_2019.sample(5)"
   ]
  },
  {
   "cell_type": "code",
   "execution_count": 9,
   "id": "5b3f3480-99e5-4d9c-999b-c24fd6527f0b",
   "metadata": {},
   "outputs": [
    {
     "data": {
      "text/html": [
       "<div>\n",
       "<style scoped>\n",
       "    .dataframe tbody tr th:only-of-type {\n",
       "        vertical-align: middle;\n",
       "    }\n",
       "\n",
       "    .dataframe tbody tr th {\n",
       "        vertical-align: top;\n",
       "    }\n",
       "\n",
       "    .dataframe thead th {\n",
       "        text-align: right;\n",
       "    }\n",
       "</style>\n",
       "<table border=\"1\" class=\"dataframe\">\n",
       "  <thead>\n",
       "    <tr style=\"text-align: right;\">\n",
       "      <th></th>\n",
       "      <th>Company_Brand</th>\n",
       "      <th>Founded</th>\n",
       "      <th>HeadQuarter</th>\n",
       "      <th>Sector</th>\n",
       "      <th>What_it_does</th>\n",
       "      <th>Founders</th>\n",
       "      <th>Investor</th>\n",
       "      <th>Amount</th>\n",
       "      <th>Stage</th>\n",
       "      <th>column10</th>\n",
       "    </tr>\n",
       "  </thead>\n",
       "  <tbody>\n",
       "    <tr>\n",
       "      <th>934</th>\n",
       "      <td>FirstCry</td>\n",
       "      <td>2010.0</td>\n",
       "      <td>Pune</td>\n",
       "      <td>E-market</td>\n",
       "      <td>Baby products marketplace</td>\n",
       "      <td>Supam Maheshwari, Amitava Saha</td>\n",
       "      <td>Softbank’s Vision Fund</td>\n",
       "      <td>2.960000e+08</td>\n",
       "      <td>Series E</td>\n",
       "      <td>None</td>\n",
       "    </tr>\n",
       "    <tr>\n",
       "      <th>769</th>\n",
       "      <td>NoBroker</td>\n",
       "      <td>2014.0</td>\n",
       "      <td>Bangalore</td>\n",
       "      <td>Real Estate</td>\n",
       "      <td>Online real estate rental startup</td>\n",
       "      <td>Amit Kumar Agarwal, Akhil Gupta, Saurabh Garg</td>\n",
       "      <td>General Atlantic</td>\n",
       "      <td>3.000000e+07</td>\n",
       "      <td>None</td>\n",
       "      <td>None</td>\n",
       "    </tr>\n",
       "    <tr>\n",
       "      <th>280</th>\n",
       "      <td>Reliance Retail Ventures Ltd</td>\n",
       "      <td>2006.0</td>\n",
       "      <td>Mumbai</td>\n",
       "      <td>Retail</td>\n",
       "      <td>Reliance Retail offers online shopping and a c...</td>\n",
       "      <td>Mukesh Ambani</td>\n",
       "      <td>Silver Lake, Mubadala Investment Company</td>\n",
       "      <td>7.000000e+10</td>\n",
       "      <td>None</td>\n",
       "      <td>None</td>\n",
       "    </tr>\n",
       "    <tr>\n",
       "      <th>479</th>\n",
       "      <td>Fanspole</td>\n",
       "      <td>2015.0</td>\n",
       "      <td>Thane</td>\n",
       "      <td>Entertainment</td>\n",
       "      <td>India's only social fantasy gaming platform</td>\n",
       "      <td>Aniket Shinde, Hardik Gondaliya</td>\n",
       "      <td>Mohan Verma, Better Capital</td>\n",
       "      <td>NaN</td>\n",
       "      <td>Pre-Seed</td>\n",
       "      <td>None</td>\n",
       "    </tr>\n",
       "    <tr>\n",
       "      <th>118</th>\n",
       "      <td>Plum</td>\n",
       "      <td>2019.0</td>\n",
       "      <td>Bangalore</td>\n",
       "      <td>HealthTech</td>\n",
       "      <td>High quality health insurance and health benefits</td>\n",
       "      <td>Abhishek Poddar, Saurabh Arora</td>\n",
       "      <td>Surge, Tanglin Venture Partners</td>\n",
       "      <td>4.100000e+06</td>\n",
       "      <td>None</td>\n",
       "      <td>None</td>\n",
       "    </tr>\n",
       "  </tbody>\n",
       "</table>\n",
       "</div>"
      ],
      "text/plain": [
       "                    Company_Brand  Founded HeadQuarter         Sector  \\\n",
       "934                      FirstCry   2010.0        Pune       E-market   \n",
       "769                      NoBroker   2014.0   Bangalore    Real Estate   \n",
       "280  Reliance Retail Ventures Ltd   2006.0      Mumbai         Retail   \n",
       "479                      Fanspole   2015.0       Thane  Entertainment   \n",
       "118                          Plum   2019.0   Bangalore     HealthTech   \n",
       "\n",
       "                                          What_it_does  \\\n",
       "934                          Baby products marketplace   \n",
       "769                  Online real estate rental startup   \n",
       "280  Reliance Retail offers online shopping and a c...   \n",
       "479        India's only social fantasy gaming platform   \n",
       "118  High quality health insurance and health benefits   \n",
       "\n",
       "                                          Founders  \\\n",
       "934                 Supam Maheshwari, Amitava Saha   \n",
       "769  Amit Kumar Agarwal, Akhil Gupta, Saurabh Garg   \n",
       "280                                  Mukesh Ambani   \n",
       "479                Aniket Shinde, Hardik Gondaliya   \n",
       "118                 Abhishek Poddar, Saurabh Arora   \n",
       "\n",
       "                                     Investor        Amount     Stage column10  \n",
       "934                    Softbank’s Vision Fund  2.960000e+08  Series E     None  \n",
       "769                          General Atlantic  3.000000e+07      None     None  \n",
       "280  Silver Lake, Mubadala Investment Company  7.000000e+10      None     None  \n",
       "479               Mohan Verma, Better Capital           NaN  Pre-Seed     None  \n",
       "118           Surge, Tanglin Venture Partners  4.100000e+06      None     None  "
      ]
     },
     "execution_count": 9,
     "metadata": {},
     "output_type": "execute_result"
    }
   ],
   "source": [
    "# get a sample of 2020 dataset\n",
    "data_2020.sample(5)"
   ]
  },
  {
   "cell_type": "code",
   "execution_count": 10,
   "id": "8677d87a-8df2-4c78-8bb3-f70f22ba3a64",
   "metadata": {},
   "outputs": [
    {
     "data": {
      "text/html": [
       "<div>\n",
       "<style scoped>\n",
       "    .dataframe tbody tr th:only-of-type {\n",
       "        vertical-align: middle;\n",
       "    }\n",
       "\n",
       "    .dataframe tbody tr th {\n",
       "        vertical-align: top;\n",
       "    }\n",
       "\n",
       "    .dataframe thead th {\n",
       "        text-align: right;\n",
       "    }\n",
       "</style>\n",
       "<table border=\"1\" class=\"dataframe\">\n",
       "  <thead>\n",
       "    <tr style=\"text-align: right;\">\n",
       "      <th></th>\n",
       "      <th>Company_Brand</th>\n",
       "      <th>Founded</th>\n",
       "      <th>HeadQuarter</th>\n",
       "      <th>Sector</th>\n",
       "      <th>What_it_does</th>\n",
       "      <th>Founders</th>\n",
       "      <th>Investor</th>\n",
       "      <th>Amount</th>\n",
       "      <th>Stage</th>\n",
       "    </tr>\n",
       "  </thead>\n",
       "  <tbody>\n",
       "    <tr>\n",
       "      <th>626</th>\n",
       "      <td>Greenjoules</td>\n",
       "      <td>2018.0</td>\n",
       "      <td>Pune</td>\n",
       "      <td>Renewable Energy</td>\n",
       "      <td>Greenjoules is a green energy technology start...</td>\n",
       "      <td>R. Sethunath, V S Shridhar, V. Radhika, Virara...</td>\n",
       "      <td>Blue Ashva Capital</td>\n",
       "      <td>$4500000</td>\n",
       "      <td>Series A</td>\n",
       "    </tr>\n",
       "    <tr>\n",
       "      <th>281</th>\n",
       "      <td>The Gourmet Jar</td>\n",
       "      <td>2012.0</td>\n",
       "      <td>Noida</td>\n",
       "      <td>Food &amp; Beverages</td>\n",
       "      <td>The Gourmet Jar offers a range of premium cond...</td>\n",
       "      <td>Apeksha Jain</td>\n",
       "      <td>DevX Venture Fund</td>\n",
       "      <td>$150000</td>\n",
       "      <td>None</td>\n",
       "    </tr>\n",
       "    <tr>\n",
       "      <th>261</th>\n",
       "      <td>Practically</td>\n",
       "      <td>2018.0</td>\n",
       "      <td>Hyderabad</td>\n",
       "      <td>E-learning</td>\n",
       "      <td>An experiential learning app for grades 6th to...</td>\n",
       "      <td>Subbarao Siddabattula, Charu Noheria, Ilangove...</td>\n",
       "      <td>NB Ventures, Earlsfield Capital</td>\n",
       "      <td>$5000000</td>\n",
       "      <td>None</td>\n",
       "    </tr>\n",
       "    <tr>\n",
       "      <th>209</th>\n",
       "      <td>StackBOX</td>\n",
       "      <td>2016.0</td>\n",
       "      <td>Bangalore</td>\n",
       "      <td>Logistics &amp; Supply Chain</td>\n",
       "      <td>DISTRIBUTION SIMPLIFIED</td>\n",
       "      <td>Shanmukha Boora, Sabyasachi Bhattacharjee</td>\n",
       "      <td>Ecosystem Ventures, CMM group</td>\n",
       "      <td>$1200000</td>\n",
       "      <td>None</td>\n",
       "    </tr>\n",
       "    <tr>\n",
       "      <th>352</th>\n",
       "      <td>SarvaGram</td>\n",
       "      <td>2019.0</td>\n",
       "      <td>Mumbai</td>\n",
       "      <td>FinTech</td>\n",
       "      <td>SarvaGram provides livelihood upgradation for ...</td>\n",
       "      <td>Utpal Isser, Sameer Mishra</td>\n",
       "      <td>Elevation Capital</td>\n",
       "      <td>$10,000,000</td>\n",
       "      <td>Series B</td>\n",
       "    </tr>\n",
       "  </tbody>\n",
       "</table>\n",
       "</div>"
      ],
      "text/plain": [
       "       Company_Brand  Founded HeadQuarter                    Sector  \\\n",
       "626      Greenjoules   2018.0        Pune          Renewable Energy   \n",
       "281  The Gourmet Jar   2012.0       Noida          Food & Beverages   \n",
       "261      Practically   2018.0   Hyderabad                E-learning   \n",
       "209         StackBOX   2016.0   Bangalore  Logistics & Supply Chain   \n",
       "352        SarvaGram   2019.0      Mumbai                   FinTech   \n",
       "\n",
       "                                          What_it_does  \\\n",
       "626  Greenjoules is a green energy technology start...   \n",
       "281  The Gourmet Jar offers a range of premium cond...   \n",
       "261  An experiential learning app for grades 6th to...   \n",
       "209                            DISTRIBUTION SIMPLIFIED   \n",
       "352  SarvaGram provides livelihood upgradation for ...   \n",
       "\n",
       "                                              Founders  \\\n",
       "626  R. Sethunath, V S Shridhar, V. Radhika, Virara...   \n",
       "281                                       Apeksha Jain   \n",
       "261  Subbarao Siddabattula, Charu Noheria, Ilangove...   \n",
       "209          Shanmukha Boora, Sabyasachi Bhattacharjee   \n",
       "352                         Utpal Isser, Sameer Mishra   \n",
       "\n",
       "                            Investor       Amount     Stage  \n",
       "626               Blue Ashva Capital     $4500000  Series A  \n",
       "281                DevX Venture Fund      $150000      None  \n",
       "261  NB Ventures, Earlsfield Capital     $5000000      None  \n",
       "209    Ecosystem Ventures, CMM group     $1200000      None  \n",
       "352                Elevation Capital  $10,000,000  Series B  "
      ]
     },
     "execution_count": 10,
     "metadata": {},
     "output_type": "execute_result"
    }
   ],
   "source": [
    "# get a sample of 2021 dataset\n",
    "data_2021.sample(5)"
   ]
  },
  {
   "cell_type": "markdown",
   "id": "b93543f2-23bb-4e03-91f7-2a339ccb6370",
   "metadata": {},
   "source": [
    "**Shape of the data**"
   ]
  },
  {
   "cell_type": "code",
   "execution_count": 11,
   "id": "2e589a02-7199-4a0b-902b-2f82a820b2f6",
   "metadata": {},
   "outputs": [
    {
     "name": "stdout",
     "output_type": "stream",
     "text": [
      "The 2018 dataset has 526 rows and 6 Columns\n",
      "\n",
      "The 2019 dataset has 89 rows and 9 Columns\n",
      "\n",
      "The 2020 dataset has 1055 rows and 10 Columns\n",
      "\n",
      "The 2021 dataset has 1209 rows and 9 Columns\n",
      "\n",
      "\n"
     ]
    }
   ],
   "source": [
    "# get the number of rows and columns for the datasets\n",
    "print(f\"The 2018 dataset has {data_2018.shape[0]} rows and {data_2018.shape[1]} Columns\\n\")\n",
    "print(f\"The 2019 dataset has {data_2019.shape[0]} rows and {data_2019.shape[1]} Columns\\n\")\n",
    "print(f\"The 2020 dataset has {data_2020.shape[0]} rows and {data_2020.shape[1]} Columns\\n\")\n",
    "print(f\"The 2021 dataset has {data_2021.shape[0]} rows and {data_2021.shape[1]} Columns\\n\\n\")"
   ]
  },
  {
   "cell_type": "markdown",
   "id": "579a5b01-4b8c-45e6-87b1-73ee5deb7007",
   "metadata": {},
   "source": [
    "**Info of the data**"
   ]
  },
  {
   "cell_type": "code",
   "execution_count": 12,
   "id": "51576669-93b6-4c83-abd4-0ec1383f911a",
   "metadata": {},
   "outputs": [
    {
     "name": "stdout",
     "output_type": "stream",
     "text": [
      "<class 'pandas.core.frame.DataFrame'>\n",
      "RangeIndex: 526 entries, 0 to 525\n",
      "Data columns (total 6 columns):\n",
      " #   Column         Non-Null Count  Dtype \n",
      "---  ------         --------------  ----- \n",
      " 0   Company Name   526 non-null    object\n",
      " 1   Industry       526 non-null    object\n",
      " 2   Round/Series   526 non-null    object\n",
      " 3   Amount         526 non-null    object\n",
      " 4   Location       526 non-null    object\n",
      " 5   About Company  526 non-null    object\n",
      "dtypes: object(6)\n",
      "memory usage: 24.8+ KB\n"
     ]
    }
   ],
   "source": [
    "# overview of 2018 dataset\n",
    "data_2018.info()"
   ]
  },
  {
   "cell_type": "code",
   "execution_count": 13,
   "id": "95d118f0-22c6-44e9-8e2f-032397e4f2fd",
   "metadata": {},
   "outputs": [
    {
     "name": "stdout",
     "output_type": "stream",
     "text": [
      "<class 'pandas.core.frame.DataFrame'>\n",
      "RangeIndex: 89 entries, 0 to 88\n",
      "Data columns (total 9 columns):\n",
      " #   Column         Non-Null Count  Dtype  \n",
      "---  ------         --------------  -----  \n",
      " 0   Company/Brand  89 non-null     object \n",
      " 1   Founded        60 non-null     float64\n",
      " 2   HeadQuarter    70 non-null     object \n",
      " 3   Sector         84 non-null     object \n",
      " 4   What it does   89 non-null     object \n",
      " 5   Founders       86 non-null     object \n",
      " 6   Investor       89 non-null     object \n",
      " 7   Amount($)      89 non-null     object \n",
      " 8   Stage          43 non-null     object \n",
      "dtypes: float64(1), object(8)\n",
      "memory usage: 6.4+ KB\n"
     ]
    }
   ],
   "source": [
    "# overview of 2019 dataset\n",
    "data_2019.info()"
   ]
  },
  {
   "cell_type": "code",
   "execution_count": 14,
   "id": "0a0d12df-af4b-4475-87fe-ea3e0ae6ecae",
   "metadata": {},
   "outputs": [
    {
     "name": "stdout",
     "output_type": "stream",
     "text": [
      "<class 'pandas.core.frame.DataFrame'>\n",
      "RangeIndex: 1055 entries, 0 to 1054\n",
      "Data columns (total 10 columns):\n",
      " #   Column         Non-Null Count  Dtype  \n",
      "---  ------         --------------  -----  \n",
      " 0   Company_Brand  1055 non-null   object \n",
      " 1   Founded        842 non-null    float64\n",
      " 2   HeadQuarter    961 non-null    object \n",
      " 3   Sector         1042 non-null   object \n",
      " 4   What_it_does   1055 non-null   object \n",
      " 5   Founders       1043 non-null   object \n",
      " 6   Investor       1017 non-null   object \n",
      " 7   Amount         801 non-null    float64\n",
      " 8   Stage          591 non-null    object \n",
      " 9   column10       2 non-null      object \n",
      "dtypes: float64(2), object(8)\n",
      "memory usage: 82.6+ KB\n"
     ]
    }
   ],
   "source": [
    "# overview of 2020 dataset\n",
    "data_2020.info()"
   ]
  },
  {
   "cell_type": "code",
   "execution_count": 15,
   "id": "59bb1fcb-4c04-4466-8dc3-533cc7a66d02",
   "metadata": {},
   "outputs": [
    {
     "name": "stdout",
     "output_type": "stream",
     "text": [
      "<class 'pandas.core.frame.DataFrame'>\n",
      "RangeIndex: 1209 entries, 0 to 1208\n",
      "Data columns (total 9 columns):\n",
      " #   Column         Non-Null Count  Dtype  \n",
      "---  ------         --------------  -----  \n",
      " 0   Company_Brand  1209 non-null   object \n",
      " 1   Founded        1208 non-null   float64\n",
      " 2   HeadQuarter    1208 non-null   object \n",
      " 3   Sector         1209 non-null   object \n",
      " 4   What_it_does   1209 non-null   object \n",
      " 5   Founders       1205 non-null   object \n",
      " 6   Investor       1147 non-null   object \n",
      " 7   Amount         1206 non-null   object \n",
      " 8   Stage          781 non-null    object \n",
      "dtypes: float64(1), object(8)\n",
      "memory usage: 85.1+ KB\n"
     ]
    }
   ],
   "source": [
    "# overview of 2021 dataset\n",
    "data_2021.info()"
   ]
  },
  {
   "cell_type": "markdown",
   "id": "b34f7762-7ada-467d-9553-ad81094e8a11",
   "metadata": {},
   "source": [
    "**Displaying datasets columns**"
   ]
  },
  {
   "cell_type": "code",
   "execution_count": 16,
   "id": "bd635e90-d8e9-4e8a-9290-b6feaa704d4b",
   "metadata": {},
   "outputs": [
    {
     "data": {
      "text/plain": [
       "Index(['Company_Brand', 'Founded', 'HeadQuarter', 'Sector', 'What_it_does',\n",
       "       'Founders', 'Investor', 'Amount', 'Stage'],\n",
       "      dtype='object')"
      ]
     },
     "execution_count": 16,
     "metadata": {},
     "output_type": "execute_result"
    }
   ],
   "source": [
    "# 2021 data columns\n",
    "data_2021.columns"
   ]
  },
  {
   "cell_type": "code",
   "execution_count": 17,
   "id": "36c35f2f-a6dd-484e-9b87-81eca131801c",
   "metadata": {},
   "outputs": [
    {
     "data": {
      "text/plain": [
       "Index(['Company_Brand', 'Founded', 'HeadQuarter', 'Sector', 'What_it_does',\n",
       "       'Founders', 'Investor', 'Amount', 'Stage', 'column10'],\n",
       "      dtype='object')"
      ]
     },
     "execution_count": 17,
     "metadata": {},
     "output_type": "execute_result"
    }
   ],
   "source": [
    "# 2020 data columns\n",
    "\n",
    "data_2020.columns"
   ]
  },
  {
   "cell_type": "code",
   "execution_count": 18,
   "id": "4f6ca9f7-a761-4a13-bf36-ce15976dc308",
   "metadata": {},
   "outputs": [
    {
     "data": {
      "text/plain": [
       "Index(['Company/Brand', 'Founded', 'HeadQuarter', 'Sector', 'What it does',\n",
       "       'Founders', 'Investor', 'Amount($)', 'Stage'],\n",
       "      dtype='object')"
      ]
     },
     "execution_count": 18,
     "metadata": {},
     "output_type": "execute_result"
    }
   ],
   "source": [
    "# 2019 data columns\n",
    "\n",
    "data_2019.columns"
   ]
  },
  {
   "cell_type": "code",
   "execution_count": 19,
   "id": "f8632c75-946a-42b6-8fb6-0d72b228f4a3",
   "metadata": {},
   "outputs": [
    {
     "data": {
      "text/plain": [
       "Index(['Company Name', 'Industry', 'Round/Series', 'Amount', 'Location',\n",
       "       'About Company'],\n",
       "      dtype='object')"
      ]
     },
     "execution_count": 19,
     "metadata": {},
     "output_type": "execute_result"
    }
   ],
   "source": [
    "# 2018 data columns\n",
    "\n",
    "data_2018.columns"
   ]
  },
  {
   "cell_type": "markdown",
   "id": "406e25a7-e736-4340-b842-a579360997d6",
   "metadata": {},
   "source": [
    "## **Observations:**\n",
    "**Issues with the data**\n",
    "\n",
    "1. There is a discrepancy in the naming conventions between the columns in the 2018 and 2019 datasets compared to the 2020 and 2021 datasets.\n",
    "\n",
    "2. The 2018 dataset exhibits some missing columns, contributing to an incomplete representation of the data.\n",
    "\n",
    "3. Conversely, the 2020 dataset contains an additional column that appears to be extraneous and does not serve a meaningful purpose in our analysis.\n",
    "\n",
    "**Course of Action:**\n",
    "\n",
    "1. **Missing Column Engineering for 2018:**\n",
    "   - We will address the absence of certain columns in the 2018 dataset by employing data engineering techniques to create and populate the missing columns, ensuring a comprehensive and consistent dataset.\n",
    "\n",
    "2. **Column Name Standardization:**\n",
    "   - To establish uniformity and coherence across all datasets, we will embark on a column renaming process for the 2018 and 2019 datasets. This action aims to align the naming conventions with those observed in the 2020 and 2021 datasets, facilitating seamless data integration and analysis.\n",
    "\n",
    "3. **Extraneous Column Removal in 2020:**\n",
    "   - The redundant column identified in the 2020 dataset will be removed, streamlining the dataset and eliminating unnecessary elements that do not contribute to the overall analysis objectives.\n",
    "\n",
    "These actions collectively enhance the integrity, consistency, and completeness of the dataset, paving the way for a more robust and coherent analytical process.\n",
    "ical process.\n",
    "\n",
    "\n",
    "\n",
    "\n",
    "\n"
   ]
  },
  {
   "cell_type": "markdown",
   "id": "5959a53d-4842-48c0-ab8c-77448bd42a0a",
   "metadata": {},
   "source": [
    "# **3. Data Cleaning**"
   ]
  },
  {
   "cell_type": "markdown",
   "id": "5a6699fc",
   "metadata": {},
   "source": [
    "**Handling missing columns and currency signs in the 2018 dataset**\n",
    "\n",
    "- The 2018 dataset has missing; 'founded', 'founders', and 'investor' columns\n"
   ]
  },
  {
   "cell_type": "code",
   "execution_count": 20,
   "id": "3058a0b5",
   "metadata": {},
   "outputs": [],
   "source": [
    "# Engineer missing columns for the 2018 dataset\n",
    "columns_to_add = ['founded', 'founders', 'investor']\n",
    "for column in columns_to_add:\n",
    "    if column not in data_2018.columns:\n",
    "        data_2018[column] = np.NaN\n",
    "\n",
    "# Replace '₹', commas, '—', and \"''\" in 'Amount' column\n",
    "data_2018['Amount'] = data_2018['Amount'].str.replace(',', '').str.replace('—', '').str.replace(\"''\",'').replace('', np.nan)\n",
    "\n",
    "# Conditionally apply multiplication only where '₹' is present\n",
    "mask = data_2018['Amount'].str.contains('₹', na=False)\n",
    "data_2018.loc[mask, 'Amount'] = data_2018.loc[mask, 'Amount'].str.replace('₹', '').astype(float) * 0.0146"
   ]
  },
  {
   "cell_type": "markdown",
   "id": "38deab22",
   "metadata": {},
   "source": [
    "**Data collection Year**\n",
    "\n",
    "- There is need to add a column that represents the year each dataset was collected. This will help with handling the datasets after merging the dataframes \n"
   ]
  },
  {
   "cell_type": "code",
   "execution_count": 21,
   "id": "0633e25e",
   "metadata": {},
   "outputs": [],
   "source": [
    "# add year when data was collected column to every dataset\n",
    "data_2018['data_year'] = pd.to_datetime('2018', format='%Y').year\n",
    "data_2019['data_year'] = pd.to_datetime('2019', format='%Y').year\n",
    "data_2020['data_year'] = pd.to_datetime('2020', format='%Y').year\n",
    "data_2021['data_year'] = pd.to_datetime('2021', format='%Y').year"
   ]
  },
  {
   "cell_type": "markdown",
   "id": "96f9f8d0",
   "metadata": {},
   "source": [
    "**Merge the dataframes**"
   ]
  },
  {
   "cell_type": "markdown",
   "id": "55009ec1",
   "metadata": {},
   "source": [
    "**Notes**\n",
    "- The function below concatenates the dataframes then renames the columns to ensure uniformity across the merged dataframe\n"
   ]
  },
  {
   "cell_type": "code",
   "execution_count": 47,
   "id": "ee2b9099",
   "metadata": {},
   "outputs": [],
   "source": [
    "# Define function to concatenate and rename columns\n",
    "def concat_dfs(df_1, df_2, df_3, df_4):\n",
    "    # Rename columns in individual DataFrames\n",
    "    df_1.rename(columns={'Company Name': 'company_brand', 'Industry': 'sector', 'Round/Series': 'stage',\n",
    "                         'Amount': 'amount($)', 'Location': 'location', 'About Company': 'about_company'},\n",
    "                inplace=True)\n",
    "    df_2.rename(columns={'Company/Brand': 'company_brand', 'Founded': 'founded', 'HeadQuarter': 'location',\n",
    "                         'Sector': 'sector', 'What it does': 'about_company', 'Founders': 'founders',\n",
    "                         'Investor': 'investor', 'Amount($)': 'amount($)', 'Stage': 'stage'},\n",
    "                inplace=True)\n",
    "    df_3.rename(columns={'Company_Brand': 'company_brand', 'Founded': 'founded', 'HeadQuarter': 'location',\n",
    "                         'Sector': 'sector', 'What_it_does': 'about_company', 'Founders': 'founders',\n",
    "                         'Investor': 'investor', 'Amount': 'amount($)', 'Stage': 'stage'},\n",
    "                inplace=True)\n",
    "    df_4.rename(columns={'Company_Brand': 'company_brand', 'Founded': 'founded', 'HeadQuarter': 'location',\n",
    "                         'Sector': 'sector', 'What_it_does': 'about_company', 'Founders': 'founders',\n",
    "                         'Investor': 'investor', 'Amount': 'amount($)', 'Stage': 'stage'},\n",
    "                inplace=True)\n",
    "\n",
    "    # Concatenate dataframes along the row axis and reset index\n",
    "    df = pd.concat([df_1, df_2, df_3, df_4])\n",
    "\n",
    "    return df\n",
    "\n",
    "\n",
    "df = concat_dfs(data_2018, data_2019, data_2020, data_2021)\n"
   ]
  },
  {
   "cell_type": "code",
   "execution_count": 48,
   "id": "482326e4",
   "metadata": {},
   "outputs": [],
   "source": [
    "#Drop the extreneous column 10\n",
    "df.drop('column10', axis=1, inplace= True)"
   ]
  },
  {
   "cell_type": "markdown",
   "id": "4d9d8fc2",
   "metadata": {},
   "source": [
    "**Cleaning 'Amount' column**"
   ]
  },
  {
   "cell_type": "markdown",
   "id": "7dafaa40",
   "metadata": {},
   "source": [
    "**Notes**  \n",
    "- Remove all currency signs  \n",
    "\n",
    "- Remove all other umwanted characters, words and symbols  \n",
    "\n",
    "- Populate null values with the mode of the dataset  \n",
    "\n",
    "- Convert the column from object to float"
   ]
  },
  {
   "cell_type": "code",
   "execution_count": 24,
   "id": "bb33eeac",
   "metadata": {},
   "outputs": [],
   "source": [
    "\n",
    "# Remove dollar sign\n",
    "df['amount($)'] = df['amount($)'].replace('\\$', '', regex=True)\n",
    "\n",
    "# Remove commas\n",
    "df['amount($)'] = df['amount($)'].str.replace(',', '')\n",
    "\n",
    "# Remove all other irrelevant characters, words and symbols\n",
    "df['amount($)'] = df['amount($)'].replace([\"Upsparks\", 'undisclosed', 'Undisclosed', \"ah! Ventures\", \n",
    "                                               \"Pre-series A\", \"ITO Angel Network LetsVenture\", \n",
    "                                               \"JITO Angel Network LetsVenture\", \"Series C\", 'Seed', ','], '')\n",
    "\n",
    "# Convert the 'amount($)' column to numeric\n",
    "df['amount($)'] = pd.to_numeric(df['amount($)'])"
   ]
  },
  {
   "cell_type": "code",
   "execution_count": 49,
   "id": "80a74fb7",
   "metadata": {},
   "outputs": [
    {
     "name": "stdout",
     "output_type": "stream",
     "text": [
      "<class 'pandas.core.series.Series'>\n",
      "Index: 2879 entries, 0 to 1208\n",
      "Series name: amount($)\n",
      "Non-Null Count  Dtype \n",
      "--------------  ----- \n",
      "2474 non-null   object\n",
      "dtypes: object(1)\n",
      "memory usage: 45.0+ KB\n"
     ]
    }
   ],
   "source": [
    "df['amount($)'].info()"
   ]
  },
  {
   "cell_type": "markdown",
   "id": "51fb2513",
   "metadata": {},
   "source": [
    "**Cleaning data_year column**"
   ]
  },
  {
   "cell_type": "markdown",
   "id": "b279ed04",
   "metadata": {},
   "source": [
    "**Notes**  \n",
    "\n",
    "\n",
    "- Convert data type to period\n"
   ]
  },
  {
   "cell_type": "code",
   "execution_count": 27,
   "id": "0cbb5d28",
   "metadata": {},
   "outputs": [],
   "source": [
    "# Convert the data_year column to date\n",
    "df['data_year']=pd.to_datetime(df['data_year'], format='%Y')\n",
    "df['data_year']=df['data_year'].dt.to_period('y')\n",
    "# df['founded']=pd.to_datetime(df['founded']).dt.year"
   ]
  },
  {
   "cell_type": "code",
   "execution_count": 28,
   "id": "375a213e",
   "metadata": {},
   "outputs": [
    {
     "name": "stdout",
     "output_type": "stream",
     "text": [
      "There are 0 Null values in the 'data_year' column\n"
     ]
    }
   ],
   "source": [
    "# check for nulls and duplicated\n",
    "print(f\"There are {df['data_year'].isna().sum()} Null values in the 'data_year' column\")"
   ]
  },
  {
   "cell_type": "code",
   "execution_count": 29,
   "id": "5cba9afa",
   "metadata": {},
   "outputs": [
    {
     "name": "stdout",
     "output_type": "stream",
     "text": [
      "<class 'pandas.core.series.Series'>\n",
      "Index: 2879 entries, 0 to 1208\n",
      "Series name: data_year\n",
      "Non-Null Count  Dtype        \n",
      "--------------  -----        \n",
      "2879 non-null   period[Y-DEC]\n",
      "dtypes: period[Y-DEC](1)\n",
      "memory usage: 45.0 KB\n"
     ]
    }
   ],
   "source": [
    "df['data_year'].info()"
   ]
  },
  {
   "cell_type": "markdown",
   "id": "60be2406",
   "metadata": {},
   "source": [
    "**Cleaning 'founded' column**"
   ]
  },
  {
   "cell_type": "markdown",
   "id": "26637de4",
   "metadata": {},
   "source": [
    "**Notes**\n",
    "- Handle nulls by populating with the 'bfill' method\n",
    "\n"
   ]
  },
  {
   "cell_type": "code",
   "execution_count": 30,
   "id": "b10490c8",
   "metadata": {},
   "outputs": [
    {
     "name": "stdout",
     "output_type": "stream",
     "text": [
      "There are 769 Null values in the 'founded' column\n"
     ]
    }
   ],
   "source": [
    "print(f\"There are {df['founded'].isna().sum()} Null values in the 'founded' column\")"
   ]
  },
  {
   "cell_type": "markdown",
   "id": "865f3aa5",
   "metadata": {},
   "source": [
    "**Notes**  \n",
    "- There are 769 null values in the 'founded' column.  \n",
    "\n",
    "- Since dropping the nulls will lead to a significant loss of our data, Backward fill will be used to fill the null values"
   ]
  },
  {
   "cell_type": "code",
   "execution_count": 51,
   "id": "a2ee8fc5",
   "metadata": {},
   "outputs": [],
   "source": [
    "# Convert to datetime\n",
    "df['founded'] = pd.to_datetime(df['founded'], format='%Y')\n",
    "\n",
    "# Convert to period\n",
    "df['founded'] = df['founded'].dt.to_period('Y')\n"
   ]
  },
  {
   "cell_type": "code",
   "execution_count": 52,
   "id": "24f08912",
   "metadata": {},
   "outputs": [
    {
     "name": "stdout",
     "output_type": "stream",
     "text": [
      "<class 'pandas.core.series.Series'>\n",
      "Index: 2879 entries, 0 to 1208\n",
      "Series name: founded\n",
      "Non-Null Count  Dtype        \n",
      "--------------  -----        \n",
      "2110 non-null   period[Y-DEC]\n",
      "dtypes: period[Y-DEC](1)\n",
      "memory usage: 45.0 KB\n"
     ]
    }
   ],
   "source": [
    "df['founded'].info()"
   ]
  },
  {
   "cell_type": "markdown",
   "id": "358535e4",
   "metadata": {},
   "source": [
    "**Cleaning the 'founders' column**"
   ]
  },
  {
   "cell_type": "code",
   "execution_count": 35,
   "id": "48bbb608",
   "metadata": {},
   "outputs": [
    {
     "name": "stdout",
     "output_type": "stream",
     "text": [
      "545\n"
     ]
    }
   ],
   "source": [
    "# Remove unwanted characters\n",
    "df['founders'] = df['founders'].replace(['...', np.nan], np.NaN)\n",
    "\n",
    "# Check the number of NaN values in the 'founders' column\n",
    "nan_count = df['founders'].isna().sum()\n",
    "\n",
    "print(nan_count)"
   ]
  },
  {
   "cell_type": "code",
   "execution_count": 56,
   "id": "dfd189ff-2635-47d7-9172-0fc53a7ea365",
   "metadata": {},
   "outputs": [
    {
     "name": "stdout",
     "output_type": "stream",
     "text": [
      "<class 'pandas.core.series.Series'>\n",
      "Index: 2879 entries, 0 to 1208\n",
      "Series name: founders\n",
      "Non-Null Count  Dtype \n",
      "--------------  ----- \n",
      "2334 non-null   object\n",
      "dtypes: object(1)\n",
      "memory usage: 45.0+ KB\n"
     ]
    }
   ],
   "source": [
    "df['founders'].info()"
   ]
  },
  {
   "cell_type": "markdown",
   "id": "82fa3c58",
   "metadata": {},
   "source": [
    "**Cleaning **Stage** column**"
   ]
  },
  {
   "cell_type": "markdown",
   "id": "891207b6",
   "metadata": {},
   "source": [
    "Startups start with pre-seed, progress through seed, Series A, Series B, etc., securing resources for development and strategies. Additional rounds like Series C or D may follow. External funding at each stage fuels growth toward the venture's full potential."
   ]
  },
  {
   "cell_type": "markdown",
   "id": "5f93eb2a",
   "metadata": {},
   "source": [
    "**Pre-Seed Funding**  \n",
    "Entrepreneurial idea in early development; small funds needed; limited informal channels for raising funds.\n",
    "\n",
    "**Seed Funding**  \n",
    "First official equity funding; investors provide funds for equity ownership.\n",
    "\n",
    "**Series A Financing**  \n",
    "First venture capital round; developed product, consistent revenue, long-term profit plan.\n",
    "\n",
    "**Series B Financing**  \n",
    "For established startups; substantial user base and revenue; funding for expansion.\n",
    "\n",
    "**Series C and Beyond**  \n",
    "Optional rounds for final push before IPO or unmet objectives; Series C is the third venture capital round.\n",
    "\n",
    "**Initial Public Offering (IPO)**  \n",
    "Process of offering corporate shares to the public; used for funding or divestment."
   ]
  },
  {
   "cell_type": "markdown",
   "id": "7c6b8512",
   "metadata": {},
   "source": [
    "link: https://www.startupindia.gov.in/content/sih/en/funding.html"
   ]
  },
  {
   "cell_type": "code",
   "execution_count": 38,
   "id": "b88de265",
   "metadata": {},
   "outputs": [],
   "source": [
    "# Cleaning stage column\n",
    "df['stage'].unique()\n",
    "df['stage']=df['stage'].replace(['https://docs.google.com/spreadsheets/d/1x9ziNeaz6auNChIHnMI8U6kS7knTr3byy_YBGfQaoUA/edit#gid=1861303593',\n",
    "'$6000000','$1000000','$300000','$1200000'],np.NaN)"
   ]
  },
  {
   "cell_type": "code",
   "execution_count": 39,
   "id": "502bbaec",
   "metadata": {},
   "outputs": [],
   "source": [
    "# Standardize funding stages in the 'stage' column\n",
    "df['stage'] = df['stage'].replace(['Series A', 'Seies A', 'Series A-1', 'Series A2', 'Series A+', 'Series A+'], 'Series A')\n",
    "df['stage'] = df['stage'].replace(['Pre-seed', 'Pre-seed Round', 'Pre seed Round', 'Pre seed round'], 'Pre-Seed Stage')\n",
    "df['stage'] = df['stage'].replace(['Pre series A', 'Pre-series A', 'Pre Series A', 'Pre series A1', 'Pre-series A1', 'Pre- series A'], 'Pre series A')\n",
    "df['stage'] = df['stage'].replace(['Series B', 'Series B+', 'Series B2', 'Series B3'], 'Series B')\n",
    "df['stage'] = df['stage'].replace(['Series C', 'Series C', 'Series C, D','Series C', 'Private Equity','PE', 'Post-IPO Equity','Series D', 'Series E', 'Series F', 'Series G', 'Series H', 'Series I','Series D1','Series F2', 'Series F1'], 'Series C and Beyond')\n",
    "df['stage'] = df['stage'].replace(['Venture - Series Unknown', None,'Grant','Debt','Debt Financing','Post-IPO Debt','Non-equity Assistance','Bridge','Bridge Round','Fresh funding','Funding Round','Mid series','Edge',], 'unknown')\n",
    "df['stage'] = df['stage'].replace(['Corporate Round','Undisclosed','Secondary Market','Pre-series','Post series A','Pre-series B','Pre-Series B','Pre series B','Pre-series C','Pre series C'], 'Other Stages')\n",
    "df['stage'] = df['stage'].replace(['Seed','Seed funding','Pre-Seed','Angel', 'Angel Round','Seed fund', 'Seed round', 'Seed A','Seed Funding', 'Seed Round & Series A', 'Series E2', 'Seed Round','Seed Investment','Seed+','Early seed'],'Seed Stage')"
   ]
  },
  {
   "cell_type": "code",
   "execution_count": 57,
   "id": "90556419",
   "metadata": {},
   "outputs": [
    {
     "name": "stdout",
     "output_type": "stream",
     "text": [
      "<class 'pandas.core.series.Series'>\n",
      "Index: 2879 entries, 0 to 1208\n",
      "Series name: stage\n",
      "Non-Null Count  Dtype \n",
      "--------------  ----- \n",
      "1941 non-null   object\n",
      "dtypes: object(1)\n",
      "memory usage: 45.0+ KB\n"
     ]
    }
   ],
   "source": [
    "df['stage'].info()"
   ]
  },
  {
   "cell_type": "code",
   "execution_count": 41,
   "metadata": {},
   "outputs": [
    {
     "data": {
      "text/plain": [
       "0"
      ]
     },
     "execution_count": 41,
     "metadata": {},
     "output_type": "execute_result"
    }
   ],
   "source": [
    "df['stage'].isna().sum()"
   ]
  },
  {
   "cell_type": "code",
   "execution_count": 42,
   "id": "082af59b",
   "metadata": {},
   "outputs": [
    {
     "data": {
      "text/plain": [
       "stage\n",
       "unknown                1060\n",
       "Seed Stage              746\n",
       "Series A                309\n",
       "Pre series A            291\n",
       "Series C and Beyond     232\n",
       "Series B                138\n",
       "Pre-Seed Stage           65\n",
       "Other Stages             38\n",
       "Name: count, dtype: int64"
      ]
     },
     "execution_count": 42,
     "metadata": {},
     "output_type": "execute_result"
    }
   ],
   "source": [
    "df['stage'].value_counts()"
   ]
  },
  {
   "cell_type": "markdown",
   "id": "4350b2c8",
   "metadata": {},
   "source": [
    "**Cleaning the Sector Column**"
   ]
  },
  {
   "cell_type": "code",
   "execution_count": 43,
   "id": "4d425ecd",
   "metadata": {},
   "outputs": [],
   "source": [
    "# Get the first sentence of every list\n",
    "df['sector']=df['sector'].str.split(\",\").str[0]"
   ]
  },
  {
   "cell_type": "code",
   "execution_count": 44,
   "id": "63bb61db",
   "metadata": {},
   "outputs": [],
   "source": [
    "# Get the first location from every list\n",
    "df['location']=df['location'].str.split(\",\").str[0]"
   ]
  },
  {
   "cell_type": "markdown",
   "id": "017be599",
   "metadata": {},
   "source": [
    "**Correct naming variations in the location column**"
   ]
  },
  {
   "cell_type": "code",
   "execution_count": 45,
   "id": "525727b4",
   "metadata": {},
   "outputs": [],
   "source": [
    "df['location']=df['location'].replace({'Bengaluru': 'Bangalore', 'Banglore': 'Bangalore', 'Gurugram': 'Gurgaon', 'Hyderebad': 'Hyderabad', \n",
    "                                       'New Delhi': 'Delhi', 'Ahmadabad': 'Ahmedabad', 'Ernakulam': 'Cochin', 'Telugana': 'Telangana',\n",
    "                                         'Uttar pradesh': 'Uttar Pradesh', 'Rajastan': 'Rajasthan', 'San Franciscao': 'San Francisco', \n",
    "                                         'Samsitpur': 'Samastipur', 'Santra': 'Samtra', 'Rajsamand': 'Rajasthan', 'Kerala': 'Kochi', \n",
    "                                         'The Nilgiris': 'Nilgiris', 'Gurugram\\t#REF!': 'Gurgaon', 'California': 'San Francisco', \n",
    "                                         'San Francisco Bay Area': 'San Francisco', 'Hyderebad': 'Hyderabad', 'Online Media\\t#REF!': 'Online Media',\n",
    "                                           'Pharmaceuticals\\t#REF!': 'Pharmaceuticals', 'Information Technology & Services': \n",
    "                                           'IT Services', 'Small Towns': 'Unknown', 'Odisha': 'Odisha', 'Beijing': 'Beijing', 'Orissia': 'Odisha', \n",
    "                                           'Santra': 'Samtra', 'Vadodara': 'Vadodara', 'Food & Beverages': 'Food and Beverages', 'Bhilwara': 'Bhilwara',\n",
    "                                             'Gandhinagar': 'Gandhinagar', 'Thiruvananthapuram': 'Thiruvananthapuram', 'Gurgaon': 'Gurgaon',\n",
    "                                               'Patna': 'Patna', 'San Ramon': 'San Ramon', 'Plano': 'Plano', 'Bangaldesh': 'Bangladesh', 'Milano': 'Milano',\n",
    "                                                 'California': 'California', 'Jharkhand': 'Jharkhand'}) \n"
   ]
  },
  {
   "cell_type": "code",
   "execution_count": 46,
   "id": "eb6241db",
   "metadata": {},
   "outputs": [
    {
     "name": "stdout",
     "output_type": "stream",
     "text": [
      "<class 'pandas.core.frame.DataFrame'>\n",
      "Index: 2879 entries, 0 to 1208\n",
      "Data columns (total 10 columns):\n",
      " #   Column         Non-Null Count  Dtype        \n",
      "---  ------         --------------  -----        \n",
      " 0   company_brand  2879 non-null   object       \n",
      " 1   sector         2861 non-null   object       \n",
      " 2   stage          2879 non-null   object       \n",
      " 3   amount($)      1367 non-null   float64      \n",
      " 4   location       2765 non-null   object       \n",
      " 5   about_company  2879 non-null   object       \n",
      " 6   founded        2110 non-null   period[Y-DEC]\n",
      " 7   founders       2334 non-null   object       \n",
      " 8   investor       2253 non-null   object       \n",
      " 9   data_year      2879 non-null   period[Y-DEC]\n",
      "dtypes: float64(1), object(7), period[Y-DEC](2)\n",
      "memory usage: 247.4+ KB\n"
     ]
    }
   ],
   "source": [
    "df.info()"
   ]
  }
 ],
 "metadata": {
  "kernelspec": {
   "display_name": "Python 3 (ipykernel)",
   "language": "python",
   "name": "python3"
  },
  "language_info": {
   "codemirror_mode": {
    "name": "ipython",
    "version": 3
   },
   "file_extension": ".py",
   "mimetype": "text/x-python",
   "name": "python",
   "nbconvert_exporter": "python",
   "pygments_lexer": "ipython3",
   "version": "3.11.6"
  }
 },
 "nbformat": 4,
 "nbformat_minor": 5
}
