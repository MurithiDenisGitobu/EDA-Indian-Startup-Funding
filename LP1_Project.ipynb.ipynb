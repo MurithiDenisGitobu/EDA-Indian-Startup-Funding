{
 "cells": [
  {
   "cell_type": "markdown",
   "id": "098d19ba-83f1-4ebe-8224-3d771aa670e6",
   "metadata": {},
   "source": [
    "# INDIAN STARTUP ECOSYSTEM"
   ]
  },
  {
   "cell_type": "markdown",
   "id": "c62646cd-0736-4382-a4d2-318010effda4",
   "metadata": {},
   "source": [
    "## Project Description\n",
    "We embark on a journey of discovery as we leverage our data analysis expertise to uncover the untapped potential within the Indian startup ecosystem. This project is designed to not only decode the numbers but to distill insights that will guide our team towards a successful foray into this dynamic market."
   ]
  },
  {
   "cell_type": "markdown",
   "id": "073a46b0-b9c4-4cd3-941f-2966afc886e3",
   "metadata": {},
   "source": [
    "## Scope of Work\n",
    "\n",
    "- Conduct a thorough exploration of datasets, dissecting funding patterns, sectoral nuances, and geographical hotspots in the Indian startup landscap\n",
    "- Analyze funding received by startups in india from 2018 to 2019\n",
    "\n"
   ]
  },
  {
   "cell_type": "markdown",
   "id": "56c8dab3-8e2b-47f3-874a-d27632251b8f",
   "metadata": {},
   "source": [
    "## Hypothesis \n",
    "**Null Hypothesis (H₀)**: There is no significant difference in the average funding received by startups in various regions of India.\n",
    "\n",
    "**Alternative Hypothesis (H₁)**: There are significant differences in the average funding received by startups in different regions of India."
   ]
  },
  {
   "cell_type": "markdown",
   "id": "8620e446-b068-4209-8f16-003e788eebdb",
   "metadata": {},
   "source": [
    "## Questions \n",
    "1. How does funding vary across different industry sectors in India?\n",
    "2. Are there regional variations in startup funding within India?\n",
    "3. What is the relationship between funding and startup success or failure?\n",
    "4. How have funding trends evolved over the years?\n",
    "5. How do funding amounts vary based on the startup's development stage (For example: early-stage, growth-stage)?\n",
    "\n",
    "\n"
   ]
  },
  {
   "cell_type": "markdown",
   "id": "182b1f90-e702-479c-bed8-7b0937f92ec8",
   "metadata": {},
   "source": [
    "# DATA EXPLORATION, DATA UNDERSTANDING and DATA ANALYSIS"
   ]
  },
  {
   "cell_type": "code",
   "execution_count": 1,
   "id": "a4313f08-adad-4397-b2a2-07ab3f969571",
   "metadata": {},
   "outputs": [],
   "source": [
    "# Load libraries\n",
    "# Database connnection\n",
    "import pyodbc     \n",
    "from dotenv import dotenv_values    #import the dotenv_values function from the dotenv package\n",
    "\n",
    "# Data manipulation\n",
    "import pandas as pd\n",
    "import numpy as np\n",
    "\n",
    "# Data visualization\n",
    "import matplotlib.pyplot as plt\n",
    "import seaborn as sns\n",
    "import plotly.express as px\n",
    "\n",
    "# filter warnings\n",
    "import warnings \n",
    "warnings.filterwarnings('ignore')"
   ]
  },
  {
   "cell_type": "markdown",
   "id": "a5653ae6-aaf0-4f36-ac77-0d12378022dd",
   "metadata": {},
   "source": [
    "## 1. Loading and Inspection of Data"
   ]
  },
  {
   "cell_type": "code",
   "execution_count": 2,
   "id": "64476aec-cfda-44ff-9287-f9ae1116d755",
   "metadata": {},
   "outputs": [],
   "source": [
    "# Load environment variables from .env file into a dictionary\n",
    "environment_variables = dotenv_values('.env')\n",
    "\n",
    "# Get the values for the credentials you set in the '.env' file\n",
    "server = environment_variables.get(\"SERVER\")\n",
    "database = environment_variables.get(\"DATABASE\")\n",
    "username = environment_variables.get(\"USERNAME\")\n",
    "password = environment_variables.get(\"PASSWORD\")"
   ]
  },
  {
   "cell_type": "code",
   "execution_count": 3,
   "id": "1065f30f-d2af-4355-9709-68b7cf2eec10",
   "metadata": {},
   "outputs": [],
   "source": [
    "# Create a connection string\n",
    "\n",
    "connection_string = f\"DRIVER={{SQL Server}};SERVER={server};DATABASE={database};UID={username};PWD={password}\"\n"
   ]
  },
  {
   "cell_type": "code",
   "execution_count": 5,
   "id": "0f7c63fd-3a4a-462f-bdae-47095059d373",
   "metadata": {},
   "outputs": [],
   "source": [
    "# connect to the database\n",
    "try:\n",
    "    connection = pyodbc.connect(connection_string)\n",
    "except Exception as e:\n",
    "    print(f'Error: {e}\\n{type(e)}')"
   ]
  },
  {
   "cell_type": "code",
   "execution_count": 6,
   "id": "7c96e340-66bf-4947-b4bf-878ba7335936",
   "metadata": {},
   "outputs": [],
   "source": [
    "# sql query to get 2020 data. \n",
    "query_2020=\"SELECT * FROM dbo.LP1_startup_funding2020\"\n",
    "\n",
    "# sql query to get 2021 data. \n",
    "query_2021=\"SELECT * FROM dbo.LP1_startup_funding2021\""
   ]
  },
  {
   "cell_type": "code",
   "execution_count": 7,
   "id": "4879cd40-2819-442a-a895-1560371616cc",
   "metadata": {},
   "outputs": [],
   "source": [
    "try:\n",
    "    # load 2021 data\n",
    "    data_2021=pd.read_sql(query_2021,connection)\n",
    "\n",
    "    # load 2020 data\n",
    "    data_2020=pd.read_sql(query_2020,connection)\n",
    "\n",
    "    # load 2019 data\n",
    "    data_2019=pd.read_csv(r'C:\\Users\\iamde\\OneDrive\\Desktop\\jupyter\\india_startup_data\\startup_funding2019.csv')\n",
    "\n",
    "    # load 2018 data\n",
    "    data_2018=pd.read_csv(r'C:\\Users\\iamde\\OneDrive\\Desktop\\jupyter\\india_startup_data\\startup_funding2018.csv')\n",
    "except Exception as e:\n",
    "    print(f\"Error: {e}, {type(e)}\")"
   ]
  },
  {
   "cell_type": "markdown",
   "id": "b93809db-ec5e-415e-bce8-dc9a3367493b",
   "metadata": {},
   "source": [
    "### 1.1 Displaying Dataframes"
   ]
  },
  {
   "cell_type": "code",
   "execution_count": 8,
   "id": "88a913fa-08a6-4612-ac72-37b0a290a00a",
   "metadata": {},
   "outputs": [
    {
     "data": {
      "text/html": [
       "<div>\n",
       "<style scoped>\n",
       "    .dataframe tbody tr th:only-of-type {\n",
       "        vertical-align: middle;\n",
       "    }\n",
       "\n",
       "    .dataframe tbody tr th {\n",
       "        vertical-align: top;\n",
       "    }\n",
       "\n",
       "    .dataframe thead th {\n",
       "        text-align: right;\n",
       "    }\n",
       "</style>\n",
       "<table border=\"1\" class=\"dataframe\">\n",
       "  <thead>\n",
       "    <tr style=\"text-align: right;\">\n",
       "      <th></th>\n",
       "      <th>Company Name</th>\n",
       "      <th>Industry</th>\n",
       "      <th>Round/Series</th>\n",
       "      <th>Amount</th>\n",
       "      <th>Location</th>\n",
       "      <th>About Company</th>\n",
       "    </tr>\n",
       "  </thead>\n",
       "  <tbody>\n",
       "    <tr>\n",
       "      <th>116</th>\n",
       "      <td>APAC Financial Services</td>\n",
       "      <td>Finance, Financial Services</td>\n",
       "      <td>Private Equity</td>\n",
       "      <td>₹2,500,000,000</td>\n",
       "      <td>Mumbai, Maharashtra, India</td>\n",
       "      <td>APAC Financial Services is a financial service...</td>\n",
       "    </tr>\n",
       "    <tr>\n",
       "      <th>406</th>\n",
       "      <td>Traveo Soft Pvt. Ltd.</td>\n",
       "      <td>Mobile, Software, Travel</td>\n",
       "      <td>Undisclosed</td>\n",
       "      <td>₹1,200,000</td>\n",
       "      <td>Bangalore, Karnataka, India</td>\n",
       "      <td>AI based Business Travel &amp; Expense management</td>\n",
       "    </tr>\n",
       "    <tr>\n",
       "      <th>42</th>\n",
       "      <td>UClean</td>\n",
       "      <td>Clean Energy, CleanTech, Laundry and Dry-cleaning</td>\n",
       "      <td>Seed</td>\n",
       "      <td>₹40,000,000</td>\n",
       "      <td>India, Asia</td>\n",
       "      <td>UClean is a tech enabled laundry service provi...</td>\n",
       "    </tr>\n",
       "    <tr>\n",
       "      <th>282</th>\n",
       "      <td>Zoctr Health</td>\n",
       "      <td>Apps, Health Care, Hospital, Mobile Apps</td>\n",
       "      <td>Seed</td>\n",
       "      <td>—</td>\n",
       "      <td>Powai, Assam, India</td>\n",
       "      <td>Zoctr Health Network is a first-of-its kind pa...</td>\n",
       "    </tr>\n",
       "    <tr>\n",
       "      <th>298</th>\n",
       "      <td>Doxper</td>\n",
       "      <td>Health Care, Hospital</td>\n",
       "      <td>Seed</td>\n",
       "      <td>₹72,000,000</td>\n",
       "      <td>Mumbai, Maharashtra, India</td>\n",
       "      <td>Doxper is Health tech startup which has create...</td>\n",
       "    </tr>\n",
       "  </tbody>\n",
       "</table>\n",
       "</div>"
      ],
      "text/plain": [
       "                Company Name  \\\n",
       "116  APAC Financial Services   \n",
       "406    Traveo Soft Pvt. Ltd.   \n",
       "42                    UClean   \n",
       "282             Zoctr Health   \n",
       "298                   Doxper   \n",
       "\n",
       "                                              Industry    Round/Series  \\\n",
       "116                        Finance, Financial Services  Private Equity   \n",
       "406                           Mobile, Software, Travel     Undisclosed   \n",
       "42   Clean Energy, CleanTech, Laundry and Dry-cleaning            Seed   \n",
       "282           Apps, Health Care, Hospital, Mobile Apps            Seed   \n",
       "298                              Health Care, Hospital            Seed   \n",
       "\n",
       "             Amount                     Location  \\\n",
       "116  ₹2,500,000,000   Mumbai, Maharashtra, India   \n",
       "406      ₹1,200,000  Bangalore, Karnataka, India   \n",
       "42      ₹40,000,000                  India, Asia   \n",
       "282               —          Powai, Assam, India   \n",
       "298     ₹72,000,000   Mumbai, Maharashtra, India   \n",
       "\n",
       "                                         About Company  \n",
       "116  APAC Financial Services is a financial service...  \n",
       "406      AI based Business Travel & Expense management  \n",
       "42   UClean is a tech enabled laundry service provi...  \n",
       "282  Zoctr Health Network is a first-of-its kind pa...  \n",
       "298  Doxper is Health tech startup which has create...  "
      ]
     },
     "execution_count": 8,
     "metadata": {},
     "output_type": "execute_result"
    }
   ],
   "source": [
    "# preview the rows and columns for the 2018 dataset\n",
    "data_2018.sample(5)"
   ]
  },
  {
   "cell_type": "code",
   "execution_count": 9,
   "id": "3caff6a6-fadb-4132-9c2c-f79d2378d04d",
   "metadata": {},
   "outputs": [
    {
     "data": {
      "text/html": [
       "<div>\n",
       "<style scoped>\n",
       "    .dataframe tbody tr th:only-of-type {\n",
       "        vertical-align: middle;\n",
       "    }\n",
       "\n",
       "    .dataframe tbody tr th {\n",
       "        vertical-align: top;\n",
       "    }\n",
       "\n",
       "    .dataframe thead th {\n",
       "        text-align: right;\n",
       "    }\n",
       "</style>\n",
       "<table border=\"1\" class=\"dataframe\">\n",
       "  <thead>\n",
       "    <tr style=\"text-align: right;\">\n",
       "      <th></th>\n",
       "      <th>Company/Brand</th>\n",
       "      <th>Founded</th>\n",
       "      <th>HeadQuarter</th>\n",
       "      <th>Sector</th>\n",
       "      <th>What it does</th>\n",
       "      <th>Founders</th>\n",
       "      <th>Investor</th>\n",
       "      <th>Amount($)</th>\n",
       "      <th>Stage</th>\n",
       "    </tr>\n",
       "  </thead>\n",
       "  <tbody>\n",
       "    <tr>\n",
       "      <th>9</th>\n",
       "      <td>Lenskart</td>\n",
       "      <td>2010.0</td>\n",
       "      <td>Delhi</td>\n",
       "      <td>E-commerce</td>\n",
       "      <td>It is a eyewear company</td>\n",
       "      <td>Peyush Bansal, Amit Chaudhary, Sumeet Kapahi</td>\n",
       "      <td>SoftBank</td>\n",
       "      <td>$275,000,000</td>\n",
       "      <td>Series G</td>\n",
       "    </tr>\n",
       "    <tr>\n",
       "      <th>39</th>\n",
       "      <td>Lil’ Goodness and sCool meal</td>\n",
       "      <td>NaN</td>\n",
       "      <td>Bangalore</td>\n",
       "      <td>Food &amp; Nutrition</td>\n",
       "      <td>It empowers moms to provide the best of foods ...</td>\n",
       "      <td>NaN</td>\n",
       "      <td>Sajan Pillai, Muthu Krishnan,</td>\n",
       "      <td>$400,000</td>\n",
       "      <td>NaN</td>\n",
       "    </tr>\n",
       "    <tr>\n",
       "      <th>60</th>\n",
       "      <td>Ecom Express</td>\n",
       "      <td>2012.0</td>\n",
       "      <td>Gurugram</td>\n",
       "      <td>Logistics</td>\n",
       "      <td>It is a technology enabled logistics solutions...</td>\n",
       "      <td>Krishnan, Manju Dhawan, K Satyanarayana, Sanje...</td>\n",
       "      <td>CDC Group</td>\n",
       "      <td>$36,000,000</td>\n",
       "      <td>NaN</td>\n",
       "    </tr>\n",
       "    <tr>\n",
       "      <th>63</th>\n",
       "      <td>Euler Motors</td>\n",
       "      <td>NaN</td>\n",
       "      <td>Delhi</td>\n",
       "      <td>Automotive tech</td>\n",
       "      <td>It is offering mobility as a service</td>\n",
       "      <td>Saurav Kumar</td>\n",
       "      <td>Blume Ventures, Emergent Ventures</td>\n",
       "      <td>$2,000,000</td>\n",
       "      <td>NaN</td>\n",
       "    </tr>\n",
       "    <tr>\n",
       "      <th>61</th>\n",
       "      <td>Stanza Living</td>\n",
       "      <td>2017.0</td>\n",
       "      <td>Delhi</td>\n",
       "      <td>Accomodation</td>\n",
       "      <td>Provides comfortable and secure accomodation f...</td>\n",
       "      <td>Sandeep Dalmia, Anindya Dutta</td>\n",
       "      <td>Alteria Capital</td>\n",
       "      <td>$5,700,000</td>\n",
       "      <td>NaN</td>\n",
       "    </tr>\n",
       "  </tbody>\n",
       "</table>\n",
       "</div>"
      ],
      "text/plain": [
       "                   Company/Brand  Founded HeadQuarter            Sector  \\\n",
       "9                       Lenskart   2010.0       Delhi        E-commerce   \n",
       "39  Lil’ Goodness and sCool meal      NaN   Bangalore  Food & Nutrition   \n",
       "60                  Ecom Express   2012.0    Gurugram         Logistics   \n",
       "63                  Euler Motors      NaN       Delhi   Automotive tech   \n",
       "61                 Stanza Living   2017.0       Delhi      Accomodation   \n",
       "\n",
       "                                         What it does  \\\n",
       "9                             It is a eyewear company   \n",
       "39  It empowers moms to provide the best of foods ...   \n",
       "60  It is a technology enabled logistics solutions...   \n",
       "63               It is offering mobility as a service   \n",
       "61  Provides comfortable and secure accomodation f...   \n",
       "\n",
       "                                             Founders  \\\n",
       "9        Peyush Bansal, Amit Chaudhary, Sumeet Kapahi   \n",
       "39                                                NaN   \n",
       "60  Krishnan, Manju Dhawan, K Satyanarayana, Sanje...   \n",
       "63                                       Saurav Kumar   \n",
       "61                      Sandeep Dalmia, Anindya Dutta   \n",
       "\n",
       "                             Investor     Amount($)     Stage  \n",
       "9                            SoftBank  $275,000,000  Series G  \n",
       "39      Sajan Pillai, Muthu Krishnan,      $400,000       NaN  \n",
       "60                          CDC Group   $36,000,000       NaN  \n",
       "63  Blume Ventures, Emergent Ventures    $2,000,000       NaN  \n",
       "61                    Alteria Capital    $5,700,000       NaN  "
      ]
     },
     "execution_count": 9,
     "metadata": {},
     "output_type": "execute_result"
    }
   ],
   "source": [
    "# get a sample of 2019 dataset\n",
    "data_2019.sample(5)"
   ]
  },
  {
   "cell_type": "code",
   "execution_count": 10,
   "id": "5b3f3480-99e5-4d9c-999b-c24fd6527f0b",
   "metadata": {},
   "outputs": [
    {
     "data": {
      "text/html": [
       "<div>\n",
       "<style scoped>\n",
       "    .dataframe tbody tr th:only-of-type {\n",
       "        vertical-align: middle;\n",
       "    }\n",
       "\n",
       "    .dataframe tbody tr th {\n",
       "        vertical-align: top;\n",
       "    }\n",
       "\n",
       "    .dataframe thead th {\n",
       "        text-align: right;\n",
       "    }\n",
       "</style>\n",
       "<table border=\"1\" class=\"dataframe\">\n",
       "  <thead>\n",
       "    <tr style=\"text-align: right;\">\n",
       "      <th></th>\n",
       "      <th>Company_Brand</th>\n",
       "      <th>Founded</th>\n",
       "      <th>HeadQuarter</th>\n",
       "      <th>Sector</th>\n",
       "      <th>What_it_does</th>\n",
       "      <th>Founders</th>\n",
       "      <th>Investor</th>\n",
       "      <th>Amount</th>\n",
       "      <th>Stage</th>\n",
       "      <th>column10</th>\n",
       "    </tr>\n",
       "  </thead>\n",
       "  <tbody>\n",
       "    <tr>\n",
       "      <th>241</th>\n",
       "      <td>SoOLEGAL</td>\n",
       "      <td>2015.0</td>\n",
       "      <td>New Delhi</td>\n",
       "      <td>LegalTech</td>\n",
       "      <td>SoOLEGAL is a global integrated directory of l...</td>\n",
       "      <td>Manish Kaul</td>\n",
       "      <td>None</td>\n",
       "      <td>4000000.0</td>\n",
       "      <td>None</td>\n",
       "      <td>None</td>\n",
       "    </tr>\n",
       "    <tr>\n",
       "      <th>857</th>\n",
       "      <td>Soxytoes</td>\n",
       "      <td>NaN</td>\n",
       "      <td>Delhi</td>\n",
       "      <td>Ecommerce</td>\n",
       "      <td>Online store to buy various types of socks inc...</td>\n",
       "      <td>Vidushi Kajaria, Aayush Goenka</td>\n",
       "      <td>Angel network</td>\n",
       "      <td>NaN</td>\n",
       "      <td>None</td>\n",
       "      <td>None</td>\n",
       "    </tr>\n",
       "    <tr>\n",
       "      <th>939</th>\n",
       "      <td>Leap India</td>\n",
       "      <td>NaN</td>\n",
       "      <td>Coimbatore</td>\n",
       "      <td>Agritech</td>\n",
       "      <td>Agricultural warehousing and logistics company</td>\n",
       "      <td>Narain Karthikeyan.</td>\n",
       "      <td>Neev Fund</td>\n",
       "      <td>30000000.0</td>\n",
       "      <td>Series B</td>\n",
       "      <td>None</td>\n",
       "    </tr>\n",
       "    <tr>\n",
       "      <th>785</th>\n",
       "      <td>Rebel Foods</td>\n",
       "      <td>NaN</td>\n",
       "      <td>None</td>\n",
       "      <td>Food tech</td>\n",
       "      <td>It runs internet kitchen</td>\n",
       "      <td>Jaydeep Barman, Kallol Bannerjee</td>\n",
       "      <td>Coatue Management</td>\n",
       "      <td>50000000.0</td>\n",
       "      <td>None</td>\n",
       "      <td>None</td>\n",
       "    </tr>\n",
       "    <tr>\n",
       "      <th>588</th>\n",
       "      <td>JetSynthesys</td>\n",
       "      <td>2012.0</td>\n",
       "      <td>Pune</td>\n",
       "      <td>Digital tech</td>\n",
       "      <td>Digital entertainment and technology company</td>\n",
       "      <td>RajanNavani</td>\n",
       "      <td>Adar Poonawalla, Kris Gopalakrishnan</td>\n",
       "      <td>40000000.0</td>\n",
       "      <td>None</td>\n",
       "      <td>None</td>\n",
       "    </tr>\n",
       "  </tbody>\n",
       "</table>\n",
       "</div>"
      ],
      "text/plain": [
       "    Company_Brand  Founded HeadQuarter        Sector  \\\n",
       "241      SoOLEGAL   2015.0   New Delhi     LegalTech   \n",
       "857      Soxytoes      NaN       Delhi     Ecommerce   \n",
       "939    Leap India      NaN  Coimbatore      Agritech   \n",
       "785   Rebel Foods      NaN        None     Food tech   \n",
       "588  JetSynthesys   2012.0        Pune  Digital tech   \n",
       "\n",
       "                                          What_it_does  \\\n",
       "241  SoOLEGAL is a global integrated directory of l...   \n",
       "857  Online store to buy various types of socks inc...   \n",
       "939     Agricultural warehousing and logistics company   \n",
       "785                           It runs internet kitchen   \n",
       "588       Digital entertainment and technology company   \n",
       "\n",
       "                             Founders                              Investor  \\\n",
       "241                       Manish Kaul                                  None   \n",
       "857    Vidushi Kajaria, Aayush Goenka                         Angel network   \n",
       "939               Narain Karthikeyan.                             Neev Fund   \n",
       "785  Jaydeep Barman, Kallol Bannerjee                     Coatue Management   \n",
       "588                       RajanNavani  Adar Poonawalla, Kris Gopalakrishnan   \n",
       "\n",
       "         Amount     Stage column10  \n",
       "241   4000000.0      None     None  \n",
       "857         NaN      None     None  \n",
       "939  30000000.0  Series B     None  \n",
       "785  50000000.0      None     None  \n",
       "588  40000000.0      None     None  "
      ]
     },
     "execution_count": 10,
     "metadata": {},
     "output_type": "execute_result"
    }
   ],
   "source": [
    "# get a sample of 2020 dataset\n",
    "data_2020.sample(5)"
   ]
  },
  {
   "cell_type": "code",
   "execution_count": 11,
   "id": "8677d87a-8df2-4c78-8bb3-f70f22ba3a64",
   "metadata": {},
   "outputs": [
    {
     "data": {
      "text/html": [
       "<div>\n",
       "<style scoped>\n",
       "    .dataframe tbody tr th:only-of-type {\n",
       "        vertical-align: middle;\n",
       "    }\n",
       "\n",
       "    .dataframe tbody tr th {\n",
       "        vertical-align: top;\n",
       "    }\n",
       "\n",
       "    .dataframe thead th {\n",
       "        text-align: right;\n",
       "    }\n",
       "</style>\n",
       "<table border=\"1\" class=\"dataframe\">\n",
       "  <thead>\n",
       "    <tr style=\"text-align: right;\">\n",
       "      <th></th>\n",
       "      <th>Company_Brand</th>\n",
       "      <th>Founded</th>\n",
       "      <th>HeadQuarter</th>\n",
       "      <th>Sector</th>\n",
       "      <th>What_it_does</th>\n",
       "      <th>Founders</th>\n",
       "      <th>Investor</th>\n",
       "      <th>Amount</th>\n",
       "      <th>Stage</th>\n",
       "    </tr>\n",
       "  </thead>\n",
       "  <tbody>\n",
       "    <tr>\n",
       "      <th>406</th>\n",
       "      <td>Digit Insurance</td>\n",
       "      <td>2016.0</td>\n",
       "      <td>Bangalore</td>\n",
       "      <td>FinTech</td>\n",
       "      <td>Digit Insurance is a financial services compan...</td>\n",
       "      <td>Kamesh Goyal</td>\n",
       "      <td>A91 Partners, Faering Capital</td>\n",
       "      <td>Undisclosed</td>\n",
       "      <td>None</td>\n",
       "    </tr>\n",
       "    <tr>\n",
       "      <th>1105</th>\n",
       "      <td>Zypp Electric</td>\n",
       "      <td>2017.0</td>\n",
       "      <td>Gurugram</td>\n",
       "      <td>Logistics &amp; Supply Chain</td>\n",
       "      <td>Zypp is working to convert all deliveries for ...</td>\n",
       "      <td>Akash Gupta, Rashi Agarwal</td>\n",
       "      <td>9Unicorns, Anthill Ventures</td>\n",
       "      <td>$7000000</td>\n",
       "      <td>Series A</td>\n",
       "    </tr>\n",
       "    <tr>\n",
       "      <th>527</th>\n",
       "      <td>MedPay</td>\n",
       "      <td>2020.0</td>\n",
       "      <td>Bangalore</td>\n",
       "      <td>Information Technology</td>\n",
       "      <td>MedPay® is building the real-time claims adjud...</td>\n",
       "      <td>Arun Bhatia, Ravi Chandra</td>\n",
       "      <td>Entrepreneur First (EF), GrowX Ventures</td>\n",
       "      <td>$1200000</td>\n",
       "      <td>Seed</td>\n",
       "    </tr>\n",
       "    <tr>\n",
       "      <th>762</th>\n",
       "      <td>Livve Homes</td>\n",
       "      <td>2017.0</td>\n",
       "      <td>Bangalore</td>\n",
       "      <td>Rental space</td>\n",
       "      <td>India's homegrown online portal, championing t...</td>\n",
       "      <td>Maya Lakshman</td>\n",
       "      <td>Angel investors</td>\n",
       "      <td>$5,000,000</td>\n",
       "      <td>None</td>\n",
       "    </tr>\n",
       "    <tr>\n",
       "      <th>1068</th>\n",
       "      <td>Exotel</td>\n",
       "      <td>2011.0</td>\n",
       "      <td>Bangalore</td>\n",
       "      <td>Telecommunications</td>\n",
       "      <td>Asia's largest customer engagement platform, s...</td>\n",
       "      <td>Shivakumar Ganesan, Ishwar Sridharan, Siddhart...</td>\n",
       "      <td>IIFL AMC, Sistema Asia Fund, CX Partners, Sing...</td>\n",
       "      <td>$35000000</td>\n",
       "      <td>Series C</td>\n",
       "    </tr>\n",
       "  </tbody>\n",
       "</table>\n",
       "</div>"
      ],
      "text/plain": [
       "        Company_Brand  Founded HeadQuarter                    Sector  \\\n",
       "406   Digit Insurance   2016.0   Bangalore                   FinTech   \n",
       "1105    Zypp Electric   2017.0    Gurugram  Logistics & Supply Chain   \n",
       "527            MedPay   2020.0   Bangalore    Information Technology   \n",
       "762       Livve Homes   2017.0   Bangalore              Rental space   \n",
       "1068           Exotel   2011.0   Bangalore        Telecommunications   \n",
       "\n",
       "                                           What_it_does  \\\n",
       "406   Digit Insurance is a financial services compan...   \n",
       "1105  Zypp is working to convert all deliveries for ...   \n",
       "527   MedPay® is building the real-time claims adjud...   \n",
       "762   India's homegrown online portal, championing t...   \n",
       "1068  Asia's largest customer engagement platform, s...   \n",
       "\n",
       "                                               Founders  \\\n",
       "406                                        Kamesh Goyal   \n",
       "1105                         Akash Gupta, Rashi Agarwal   \n",
       "527                           Arun Bhatia, Ravi Chandra   \n",
       "762                                       Maya Lakshman   \n",
       "1068  Shivakumar Ganesan, Ishwar Sridharan, Siddhart...   \n",
       "\n",
       "                                               Investor       Amount     Stage  \n",
       "406                       A91 Partners, Faering Capital  Undisclosed      None  \n",
       "1105                        9Unicorns, Anthill Ventures     $7000000  Series A  \n",
       "527             Entrepreneur First (EF), GrowX Ventures     $1200000      Seed  \n",
       "762                                     Angel investors   $5,000,000      None  \n",
       "1068  IIFL AMC, Sistema Asia Fund, CX Partners, Sing...    $35000000  Series C  "
      ]
     },
     "execution_count": 11,
     "metadata": {},
     "output_type": "execute_result"
    }
   ],
   "source": [
    "# get a sample of 2021 dataset\n",
    "data_2021.sample(5)"
   ]
  },
  {
   "cell_type": "markdown",
   "id": "9a5c87c3-51a6-40df-b378-e6f4e5773a8c",
   "metadata": {},
   "source": [
    "### 1.2 Data Inspection and Exploration"
   ]
  },
  {
   "cell_type": "markdown",
   "id": "b93543f2-23bb-4e03-91f7-2a339ccb6370",
   "metadata": {},
   "source": [
    "### 1.2.1 Shape of the data"
   ]
  },
  {
   "cell_type": "code",
   "execution_count": 12,
   "id": "2e589a02-7199-4a0b-902b-2f82a820b2f6",
   "metadata": {},
   "outputs": [
    {
     "name": "stdout",
     "output_type": "stream",
     "text": [
      "The 2018 dataset has 526 rows and 6 Columns\n",
      "\n",
      "The 2019 dataset has 89 rows and 9 Columns\n",
      "\n",
      "The 2020 dataset has 1055 rows and 10 Columns\n",
      "\n",
      "The 2021 dataset has 1209 rows and 9 Columns\n",
      "\n",
      "\n"
     ]
    }
   ],
   "source": [
    "# get the number of rows and columns for the datasets\n",
    "print(f\"The 2018 dataset has {data_2018.shape[0]} rows and {data_2018.shape[1]} Columns\\n\")\n",
    "print(f\"The 2019 dataset has {data_2019.shape[0]} rows and {data_2019.shape[1]} Columns\\n\")\n",
    "print(f\"The 2020 dataset has {data_2020.shape[0]} rows and {data_2020.shape[1]} Columns\\n\")\n",
    "print(f\"The 2021 dataset has {data_2021.shape[0]} rows and {data_2021.shape[1]} Columns\\n\\n\")"
   ]
  },
  {
   "cell_type": "markdown",
   "id": "579a5b01-4b8c-45e6-87b1-73ee5deb7007",
   "metadata": {},
   "source": [
    "### 1.2.2 Info of the data"
   ]
  },
  {
   "cell_type": "code",
   "execution_count": 13,
   "id": "51576669-93b6-4c83-abd4-0ec1383f911a",
   "metadata": {},
   "outputs": [
    {
     "name": "stdout",
     "output_type": "stream",
     "text": [
      "<class 'pandas.core.frame.DataFrame'>\n",
      "RangeIndex: 526 entries, 0 to 525\n",
      "Data columns (total 6 columns):\n",
      " #   Column         Non-Null Count  Dtype \n",
      "---  ------         --------------  ----- \n",
      " 0   Company Name   526 non-null    object\n",
      " 1   Industry       526 non-null    object\n",
      " 2   Round/Series   526 non-null    object\n",
      " 3   Amount         526 non-null    object\n",
      " 4   Location       526 non-null    object\n",
      " 5   About Company  526 non-null    object\n",
      "dtypes: object(6)\n",
      "memory usage: 24.8+ KB\n"
     ]
    }
   ],
   "source": [
    "# overview of 2018 dataset\n",
    "data_2018.info()"
   ]
  },
  {
   "cell_type": "code",
   "execution_count": 14,
   "id": "95d118f0-22c6-44e9-8e2f-032397e4f2fd",
   "metadata": {},
   "outputs": [
    {
     "name": "stdout",
     "output_type": "stream",
     "text": [
      "<class 'pandas.core.frame.DataFrame'>\n",
      "RangeIndex: 89 entries, 0 to 88\n",
      "Data columns (total 9 columns):\n",
      " #   Column         Non-Null Count  Dtype  \n",
      "---  ------         --------------  -----  \n",
      " 0   Company/Brand  89 non-null     object \n",
      " 1   Founded        60 non-null     float64\n",
      " 2   HeadQuarter    70 non-null     object \n",
      " 3   Sector         84 non-null     object \n",
      " 4   What it does   89 non-null     object \n",
      " 5   Founders       86 non-null     object \n",
      " 6   Investor       89 non-null     object \n",
      " 7   Amount($)      89 non-null     object \n",
      " 8   Stage          43 non-null     object \n",
      "dtypes: float64(1), object(8)\n",
      "memory usage: 6.4+ KB\n"
     ]
    }
   ],
   "source": [
    "# overview of 2019 dataset\n",
    "data_2019.info()"
   ]
  },
  {
   "cell_type": "code",
   "execution_count": 15,
   "id": "0a0d12df-af4b-4475-87fe-ea3e0ae6ecae",
   "metadata": {},
   "outputs": [
    {
     "name": "stdout",
     "output_type": "stream",
     "text": [
      "<class 'pandas.core.frame.DataFrame'>\n",
      "RangeIndex: 1055 entries, 0 to 1054\n",
      "Data columns (total 10 columns):\n",
      " #   Column         Non-Null Count  Dtype  \n",
      "---  ------         --------------  -----  \n",
      " 0   Company_Brand  1055 non-null   object \n",
      " 1   Founded        842 non-null    float64\n",
      " 2   HeadQuarter    961 non-null    object \n",
      " 3   Sector         1042 non-null   object \n",
      " 4   What_it_does   1055 non-null   object \n",
      " 5   Founders       1043 non-null   object \n",
      " 6   Investor       1017 non-null   object \n",
      " 7   Amount         801 non-null    float64\n",
      " 8   Stage          591 non-null    object \n",
      " 9   column10       2 non-null      object \n",
      "dtypes: float64(2), object(8)\n",
      "memory usage: 82.6+ KB\n"
     ]
    }
   ],
   "source": [
    "# overview of 2020 dataset\n",
    "data_2020.info()"
   ]
  },
  {
   "cell_type": "code",
   "execution_count": 16,
   "id": "59bb1fcb-4c04-4466-8dc3-533cc7a66d02",
   "metadata": {},
   "outputs": [
    {
     "name": "stdout",
     "output_type": "stream",
     "text": [
      "<class 'pandas.core.frame.DataFrame'>\n",
      "RangeIndex: 1209 entries, 0 to 1208\n",
      "Data columns (total 9 columns):\n",
      " #   Column         Non-Null Count  Dtype  \n",
      "---  ------         --------------  -----  \n",
      " 0   Company_Brand  1209 non-null   object \n",
      " 1   Founded        1208 non-null   float64\n",
      " 2   HeadQuarter    1208 non-null   object \n",
      " 3   Sector         1209 non-null   object \n",
      " 4   What_it_does   1209 non-null   object \n",
      " 5   Founders       1205 non-null   object \n",
      " 6   Investor       1147 non-null   object \n",
      " 7   Amount         1206 non-null   object \n",
      " 8   Stage          781 non-null    object \n",
      "dtypes: float64(1), object(8)\n",
      "memory usage: 85.1+ KB\n"
     ]
    }
   ],
   "source": [
    "# overview of 2021 dataset\n",
    "data_2021.info()"
   ]
  },
  {
   "cell_type": "markdown",
   "id": "b34f7762-7ada-467d-9553-ad81094e8a11",
   "metadata": {},
   "source": [
    "### 1.2.3 Displaying datasets columns"
   ]
  },
  {
   "cell_type": "code",
   "execution_count": 17,
   "id": "bd635e90-d8e9-4e8a-9290-b6feaa704d4b",
   "metadata": {},
   "outputs": [
    {
     "data": {
      "text/plain": [
       "Index(['Company_Brand', 'Founded', 'HeadQuarter', 'Sector', 'What_it_does',\n",
       "       'Founders', 'Investor', 'Amount', 'Stage'],\n",
       "      dtype='object')"
      ]
     },
     "execution_count": 17,
     "metadata": {},
     "output_type": "execute_result"
    }
   ],
   "source": [
    "data_2021.columns"
   ]
  },
  {
   "cell_type": "code",
   "execution_count": 18,
   "id": "36c35f2f-a6dd-484e-9b87-81eca131801c",
   "metadata": {},
   "outputs": [
    {
     "data": {
      "text/plain": [
       "Index(['Company_Brand', 'Founded', 'HeadQuarter', 'Sector', 'What_it_does',\n",
       "       'Founders', 'Investor', 'Amount', 'Stage', 'column10'],\n",
       "      dtype='object')"
      ]
     },
     "execution_count": 18,
     "metadata": {},
     "output_type": "execute_result"
    }
   ],
   "source": [
    "data_2020.columns"
   ]
  },
  {
   "cell_type": "code",
   "execution_count": 19,
   "id": "4f6ca9f7-a761-4a13-bf36-ce15976dc308",
   "metadata": {},
   "outputs": [
    {
     "data": {
      "text/plain": [
       "Index(['Company/Brand', 'Founded', 'HeadQuarter', 'Sector', 'What it does',\n",
       "       'Founders', 'Investor', 'Amount($)', 'Stage'],\n",
       "      dtype='object')"
      ]
     },
     "execution_count": 19,
     "metadata": {},
     "output_type": "execute_result"
    }
   ],
   "source": [
    "data_2019.columns"
   ]
  },
  {
   "cell_type": "code",
   "execution_count": 20,
   "id": "f8632c75-946a-42b6-8fb6-0d72b228f4a3",
   "metadata": {},
   "outputs": [
    {
     "data": {
      "text/plain": [
       "Index(['Company Name', 'Industry', 'Round/Series', 'Amount', 'Location',\n",
       "       'About Company'],\n",
       "      dtype='object')"
      ]
     },
     "execution_count": 20,
     "metadata": {},
     "output_type": "execute_result"
    }
   ],
   "source": [
    "data_2018.columns"
   ]
  },
  {
   "cell_type": "markdown",
   "id": "406e25a7-e736-4340-b842-a579360997d6",
   "metadata": {},
   "source": [
    "## **Observations:**\n",
    "\n",
    "1. There is a discrepancy in the naming conventions between the columns in the 2018 and 2019 datasets compared to the 2020 and 2021 datasets.\n",
    "\n",
    "2. The 2018 dataset exhibits some missing columns, contributing to an incomplete representation of the data.\n",
    "\n",
    "3. Conversely, the 2020 dataset contains an additional column that appears to be extraneous and does not serve a meaningful purpose in our analysis.\n",
    "\n",
    "**Course of Action:**\n",
    "\n",
    "1. **Missing Column Engineering for 2018:**\n",
    "   - We will address the absence of certain columns in the 2018 dataset by employing data engineering techniques to create and populate the missing columns, ensuring a comprehensive and consistent dataset.\n",
    "\n",
    "2. **Column Name Standardization:**\n",
    "   - To establish uniformity and coherence across all datasets, we will embark on a column renaming process for the 2018 and 2019 datasets. This action aims to align the naming conventions with those observed in the 2020 and 2021 datasets, facilitating seamless data integration and analysis.\n",
    "\n",
    "3. **Extraneous Column Removal in 2020:**\n",
    "   - The redundant column identified in the 2020 dataset will be removed, streamlining the dataset and eliminating unnecessary elements that do not contribute to the overall analysis objectives.\n",
    "\n",
    "These actions collectively enhance the integrity, consistency, and completeness of the dataset, paving the way for a more robust and coherent analytical process.\n",
    "ical process.\n",
    "\n",
    "\n",
    "\n",
    "\n",
    "\n"
   ]
  },
  {
   "cell_type": "markdown",
   "id": "5959a53d-4842-48c0-ab8c-77448bd42a0a",
   "metadata": {},
   "source": [
    "# 2. Data Cleaning"
   ]
  },
  {
   "cell_type": "markdown",
   "id": "eaca177c-df42-4d89-96fe-a057ddfd9bd5",
   "metadata": {},
   "source": [
    "## 2.1 Handling missing columns in the 2018 dataset"
   ]
  },
  {
   "cell_type": "code",
   "execution_count": 21,
   "id": "c492312c-28ab-431b-b264-994c397ffd1c",
   "metadata": {},
   "outputs": [],
   "source": [
    "# Engineer missing columns for the 2018 dataset\n",
    "try:\n",
    "    columns_to_add = ['Founded', 'Founders', 'Investor']\n",
    "    for column in columns_to_add:\n",
    "        if column not in data_2018.columns:\n",
    "            data_2018[column] = np.NaN\n",
    "except KeyError as e:\n",
    "    print(f\"Error: {e}, Type: {type(e)}\")\n",
    "except Exception as e:\n",
    "    print(f\"Unexpected Error: {e}, Type: {type(e)}\")\n"
   ]
  },
  {
   "cell_type": "code",
   "execution_count": 22,
   "id": "ee2b9099",
   "metadata": {},
   "outputs": [
    {
     "data": {
      "text/html": [
       "<div>\n",
       "<style scoped>\n",
       "    .dataframe tbody tr th:only-of-type {\n",
       "        vertical-align: middle;\n",
       "    }\n",
       "\n",
       "    .dataframe tbody tr th {\n",
       "        vertical-align: top;\n",
       "    }\n",
       "\n",
       "    .dataframe thead th {\n",
       "        text-align: right;\n",
       "    }\n",
       "</style>\n",
       "<table border=\"1\" class=\"dataframe\">\n",
       "  <thead>\n",
       "    <tr style=\"text-align: right;\">\n",
       "      <th></th>\n",
       "      <th>Company Name</th>\n",
       "      <th>Industry</th>\n",
       "      <th>Round/Series</th>\n",
       "      <th>Amount</th>\n",
       "      <th>Location</th>\n",
       "      <th>About Company</th>\n",
       "      <th>Founded</th>\n",
       "      <th>Founders</th>\n",
       "      <th>Investor</th>\n",
       "    </tr>\n",
       "  </thead>\n",
       "  <tbody>\n",
       "    <tr>\n",
       "      <th>0</th>\n",
       "      <td>TheCollegeFever</td>\n",
       "      <td>Brand Marketing, Event Promotion, Marketing, S...</td>\n",
       "      <td>Seed</td>\n",
       "      <td>250000</td>\n",
       "      <td>Bangalore, Karnataka, India</td>\n",
       "      <td>TheCollegeFever is a hub for fun, fiesta and f...</td>\n",
       "      <td>NaN</td>\n",
       "      <td>NaN</td>\n",
       "      <td>NaN</td>\n",
       "    </tr>\n",
       "    <tr>\n",
       "      <th>1</th>\n",
       "      <td>Happy Cow Dairy</td>\n",
       "      <td>Agriculture, Farming</td>\n",
       "      <td>Seed</td>\n",
       "      <td>₹40,000,000</td>\n",
       "      <td>Mumbai, Maharashtra, India</td>\n",
       "      <td>A startup which aggregates milk from dairy far...</td>\n",
       "      <td>NaN</td>\n",
       "      <td>NaN</td>\n",
       "      <td>NaN</td>\n",
       "    </tr>\n",
       "  </tbody>\n",
       "</table>\n",
       "</div>"
      ],
      "text/plain": [
       "      Company Name                                           Industry  \\\n",
       "0  TheCollegeFever  Brand Marketing, Event Promotion, Marketing, S...   \n",
       "1  Happy Cow Dairy                               Agriculture, Farming   \n",
       "\n",
       "  Round/Series       Amount                     Location  \\\n",
       "0         Seed       250000  Bangalore, Karnataka, India   \n",
       "1         Seed  ₹40,000,000   Mumbai, Maharashtra, India   \n",
       "\n",
       "                                       About Company  Founded  Founders  \\\n",
       "0  TheCollegeFever is a hub for fun, fiesta and f...      NaN       NaN   \n",
       "1  A startup which aggregates milk from dairy far...      NaN       NaN   \n",
       "\n",
       "   Investor  \n",
       "0       NaN  \n",
       "1       NaN  "
      ]
     },
     "execution_count": 22,
     "metadata": {},
     "output_type": "execute_result"
    }
   ],
   "source": [
    "# display the engineered columns\n",
    "data_2018.head(2)"
   ]
  },
  {
   "cell_type": "code",
   "execution_count": 23,
   "id": "63a027de",
   "metadata": {},
   "outputs": [],
   "source": [
    "# Define a dictionary with old column names as keys and new column names as values\n",
    "rename_dict_2018 = {\n",
    "    'Company Name': 'Company_Brand',\n",
    "    'Industry': 'Sector',\n",
    "    'Round/Series': 'Stage',\n",
    "    'About Company': 'What_it_does'\n",
    "}\n",
    "\n",
    "rename_dict_2019 = {\n",
    "    'Company/Brand': 'Company_Brand',\n",
    "    'What it does': 'What_it_does',\n",
    "    'Amount($)': 'Amount'\n",
    "}\n",
    "\n",
    "# Use the rename method to rename columns\n",
    "data_2018 = data_2018.rename(columns=rename_dict_2018)\n",
    "data_2019 = data_2019.rename(columns=rename_dict_2019)\n",
    "\n",
    "for dataframe in [data_2019, data_2020, data_2021]:\n",
    "    dataframe.rename(columns={'HeadQuarter': 'Location'}, inplace=True)\n"
   ]
  },
  {
   "cell_type": "code",
   "execution_count": 24,
   "id": "b117131f",
   "metadata": {},
   "outputs": [],
   "source": [
    "# 2020 dataset has an extra column\n",
    "# Remove 2020 column10\n",
    "data_2020.drop('column10', axis=1, inplace=True)\n"
   ]
  },
  {
   "cell_type": "code",
   "execution_count": 25,
   "id": "c403ae4f",
   "metadata": {},
   "outputs": [
    {
     "data": {
      "text/html": [
       "<div>\n",
       "<style scoped>\n",
       "    .dataframe tbody tr th:only-of-type {\n",
       "        vertical-align: middle;\n",
       "    }\n",
       "\n",
       "    .dataframe tbody tr th {\n",
       "        vertical-align: top;\n",
       "    }\n",
       "\n",
       "    .dataframe thead th {\n",
       "        text-align: right;\n",
       "    }\n",
       "</style>\n",
       "<table border=\"1\" class=\"dataframe\">\n",
       "  <thead>\n",
       "    <tr style=\"text-align: right;\">\n",
       "      <th></th>\n",
       "      <th>Company_Brand</th>\n",
       "      <th>Founded</th>\n",
       "      <th>Location</th>\n",
       "      <th>Sector</th>\n",
       "      <th>What_it_does</th>\n",
       "      <th>Founders</th>\n",
       "      <th>Investor</th>\n",
       "      <th>Amount</th>\n",
       "      <th>Stage</th>\n",
       "    </tr>\n",
       "  </thead>\n",
       "  <tbody>\n",
       "    <tr>\n",
       "      <th>0</th>\n",
       "      <td>Bombay Shaving</td>\n",
       "      <td>NaN</td>\n",
       "      <td>NaN</td>\n",
       "      <td>Ecommerce</td>\n",
       "      <td>Provides a range of male grooming products</td>\n",
       "      <td>Shantanu Deshpande</td>\n",
       "      <td>Sixth Sense Ventures</td>\n",
       "      <td>$6,300,000</td>\n",
       "      <td>NaN</td>\n",
       "    </tr>\n",
       "    <tr>\n",
       "      <th>1</th>\n",
       "      <td>Ruangguru</td>\n",
       "      <td>2014.0</td>\n",
       "      <td>Mumbai</td>\n",
       "      <td>Edtech</td>\n",
       "      <td>A learning platform that provides topic-based ...</td>\n",
       "      <td>Adamas Belva Syah Devara, Iman Usman.</td>\n",
       "      <td>General Atlantic</td>\n",
       "      <td>$150,000,000</td>\n",
       "      <td>Series C</td>\n",
       "    </tr>\n",
       "  </tbody>\n",
       "</table>\n",
       "</div>"
      ],
      "text/plain": [
       "    Company_Brand  Founded Location     Sector  \\\n",
       "0  Bombay Shaving      NaN      NaN  Ecommerce   \n",
       "1       Ruangguru   2014.0   Mumbai     Edtech   \n",
       "\n",
       "                                        What_it_does  \\\n",
       "0         Provides a range of male grooming products   \n",
       "1  A learning platform that provides topic-based ...   \n",
       "\n",
       "                                Founders              Investor        Amount  \\\n",
       "0                     Shantanu Deshpande  Sixth Sense Ventures    $6,300,000   \n",
       "1  Adamas Belva Syah Devara, Iman Usman.      General Atlantic  $150,000,000   \n",
       "\n",
       "      Stage  \n",
       "0       NaN  \n",
       "1  Series C  "
      ]
     },
     "execution_count": 25,
     "metadata": {},
     "output_type": "execute_result"
    }
   ],
   "source": [
    "# display the columns to confirm the changes\n",
    "# dispaly 2019 dataset\n",
    "data_2019.head(2)"
   ]
  },
  {
   "cell_type": "code",
   "execution_count": 26,
   "id": "db14977b",
   "metadata": {},
   "outputs": [
    {
     "data": {
      "text/html": [
       "<div>\n",
       "<style scoped>\n",
       "    .dataframe tbody tr th:only-of-type {\n",
       "        vertical-align: middle;\n",
       "    }\n",
       "\n",
       "    .dataframe tbody tr th {\n",
       "        vertical-align: top;\n",
       "    }\n",
       "\n",
       "    .dataframe thead th {\n",
       "        text-align: right;\n",
       "    }\n",
       "</style>\n",
       "<table border=\"1\" class=\"dataframe\">\n",
       "  <thead>\n",
       "    <tr style=\"text-align: right;\">\n",
       "      <th></th>\n",
       "      <th>Company_Brand</th>\n",
       "      <th>Founded</th>\n",
       "      <th>Location</th>\n",
       "      <th>Sector</th>\n",
       "      <th>What_it_does</th>\n",
       "      <th>Founders</th>\n",
       "      <th>Investor</th>\n",
       "      <th>Amount</th>\n",
       "      <th>Stage</th>\n",
       "    </tr>\n",
       "  </thead>\n",
       "  <tbody>\n",
       "    <tr>\n",
       "      <th>0</th>\n",
       "      <td>Aqgromalin</td>\n",
       "      <td>2019.0</td>\n",
       "      <td>Chennai</td>\n",
       "      <td>AgriTech</td>\n",
       "      <td>Cultivating Ideas for Profit</td>\n",
       "      <td>Prasanna Manogaran, Bharani C L</td>\n",
       "      <td>Angel investors</td>\n",
       "      <td>200000.0</td>\n",
       "      <td>None</td>\n",
       "    </tr>\n",
       "    <tr>\n",
       "      <th>1</th>\n",
       "      <td>Krayonnz</td>\n",
       "      <td>2019.0</td>\n",
       "      <td>Bangalore</td>\n",
       "      <td>EdTech</td>\n",
       "      <td>An academy-guardian-scholar centric ecosystem ...</td>\n",
       "      <td>Saurabh Dixit, Gurudutt Upadhyay</td>\n",
       "      <td>GSF Accelerator</td>\n",
       "      <td>100000.0</td>\n",
       "      <td>Pre-seed</td>\n",
       "    </tr>\n",
       "  </tbody>\n",
       "</table>\n",
       "</div>"
      ],
      "text/plain": [
       "  Company_Brand  Founded   Location    Sector  \\\n",
       "0    Aqgromalin   2019.0    Chennai  AgriTech   \n",
       "1      Krayonnz   2019.0  Bangalore    EdTech   \n",
       "\n",
       "                                        What_it_does  \\\n",
       "0                       Cultivating Ideas for Profit   \n",
       "1  An academy-guardian-scholar centric ecosystem ...   \n",
       "\n",
       "                           Founders         Investor    Amount     Stage  \n",
       "0   Prasanna Manogaran, Bharani C L  Angel investors  200000.0      None  \n",
       "1  Saurabh Dixit, Gurudutt Upadhyay  GSF Accelerator  100000.0  Pre-seed  "
      ]
     },
     "execution_count": 26,
     "metadata": {},
     "output_type": "execute_result"
    }
   ],
   "source": [
    "# dispaly 2020 dataset\n",
    "data_2020.head(2)"
   ]
  },
  {
   "cell_type": "code",
   "execution_count": 27,
   "id": "8869e6aa",
   "metadata": {},
   "outputs": [
    {
     "data": {
      "text/html": [
       "<div>\n",
       "<style scoped>\n",
       "    .dataframe tbody tr th:only-of-type {\n",
       "        vertical-align: middle;\n",
       "    }\n",
       "\n",
       "    .dataframe tbody tr th {\n",
       "        vertical-align: top;\n",
       "    }\n",
       "\n",
       "    .dataframe thead th {\n",
       "        text-align: right;\n",
       "    }\n",
       "</style>\n",
       "<table border=\"1\" class=\"dataframe\">\n",
       "  <thead>\n",
       "    <tr style=\"text-align: right;\">\n",
       "      <th></th>\n",
       "      <th>Company_Brand</th>\n",
       "      <th>Founded</th>\n",
       "      <th>Location</th>\n",
       "      <th>Sector</th>\n",
       "      <th>What_it_does</th>\n",
       "      <th>Founders</th>\n",
       "      <th>Investor</th>\n",
       "      <th>Amount</th>\n",
       "      <th>Stage</th>\n",
       "    </tr>\n",
       "  </thead>\n",
       "  <tbody>\n",
       "    <tr>\n",
       "      <th>0</th>\n",
       "      <td>Unbox Robotics</td>\n",
       "      <td>2019.0</td>\n",
       "      <td>Bangalore</td>\n",
       "      <td>AI startup</td>\n",
       "      <td>Unbox Robotics builds on-demand AI-driven ware...</td>\n",
       "      <td>Pramod Ghadge, Shahid Memon</td>\n",
       "      <td>BEENEXT, Entrepreneur First</td>\n",
       "      <td>$1,200,000</td>\n",
       "      <td>Pre-series A</td>\n",
       "    </tr>\n",
       "    <tr>\n",
       "      <th>1</th>\n",
       "      <td>upGrad</td>\n",
       "      <td>2015.0</td>\n",
       "      <td>Mumbai</td>\n",
       "      <td>EdTech</td>\n",
       "      <td>UpGrad is an online higher education platform.</td>\n",
       "      <td>Mayank Kumar, Phalgun Kompalli, Ravijot Chugh,...</td>\n",
       "      <td>Unilazer Ventures, IIFL Asset Management</td>\n",
       "      <td>$120,000,000</td>\n",
       "      <td>None</td>\n",
       "    </tr>\n",
       "  </tbody>\n",
       "</table>\n",
       "</div>"
      ],
      "text/plain": [
       "    Company_Brand  Founded   Location      Sector  \\\n",
       "0  Unbox Robotics   2019.0  Bangalore  AI startup   \n",
       "1          upGrad   2015.0     Mumbai      EdTech   \n",
       "\n",
       "                                        What_it_does  \\\n",
       "0  Unbox Robotics builds on-demand AI-driven ware...   \n",
       "1     UpGrad is an online higher education platform.   \n",
       "\n",
       "                                            Founders  \\\n",
       "0                        Pramod Ghadge, Shahid Memon   \n",
       "1  Mayank Kumar, Phalgun Kompalli, Ravijot Chugh,...   \n",
       "\n",
       "                                   Investor        Amount         Stage  \n",
       "0               BEENEXT, Entrepreneur First    $1,200,000  Pre-series A  \n",
       "1  Unilazer Ventures, IIFL Asset Management  $120,000,000          None  "
      ]
     },
     "execution_count": 27,
     "metadata": {},
     "output_type": "execute_result"
    }
   ],
   "source": [
    "# dispaly 2021 dataset\n",
    "data_2021.head(2)"
   ]
  },
  {
   "cell_type": "code",
   "execution_count": 28,
   "id": "6f9fa12a",
   "metadata": {},
   "outputs": [],
   "source": [
    "# add year when data was collected column to every dataset\n",
    "data_2018['Data_year'] = pd.to_datetime('2018', format='%Y').year\n",
    "data_2019['Data_year'] = pd.to_datetime('2019', format='%Y').year\n",
    "data_2020['Data_year'] = pd.to_datetime('2020', format='%Y').year\n",
    "data_2021['Data_year'] = pd.to_datetime('2021', format='%Y').year"
   ]
  },
  {
   "cell_type": "markdown",
   "id": "940763bf",
   "metadata": {},
   "source": [
    "Note:  \n",
    "- We have added a year column to make a data cleaning and analysis simpler going forward "
   ]
  },
  {
   "cell_type": "markdown",
   "id": "7e385333",
   "metadata": {},
   "source": [
    "### 2.3 Merging the DataFrames"
   ]
  },
  {
   "cell_type": "code",
   "execution_count": 29,
   "id": "ac0584a6",
   "metadata": {},
   "outputs": [],
   "source": [
    "# Merge dataframes\n",
    "df = pd.concat([data_2018, data_2019, data_2020, data_2021]).reset_index(drop=True)\n"
   ]
  },
  {
   "cell_type": "code",
   "execution_count": 30,
   "id": "82a910fe",
   "metadata": {},
   "outputs": [
    {
     "data": {
      "text/html": [
       "<div>\n",
       "<style scoped>\n",
       "    .dataframe tbody tr th:only-of-type {\n",
       "        vertical-align: middle;\n",
       "    }\n",
       "\n",
       "    .dataframe tbody tr th {\n",
       "        vertical-align: top;\n",
       "    }\n",
       "\n",
       "    .dataframe thead th {\n",
       "        text-align: right;\n",
       "    }\n",
       "</style>\n",
       "<table border=\"1\" class=\"dataframe\">\n",
       "  <thead>\n",
       "    <tr style=\"text-align: right;\">\n",
       "      <th></th>\n",
       "      <th>Company_Brand</th>\n",
       "      <th>Sector</th>\n",
       "      <th>Stage</th>\n",
       "      <th>Amount</th>\n",
       "      <th>Location</th>\n",
       "      <th>What_it_does</th>\n",
       "      <th>Founded</th>\n",
       "      <th>Founders</th>\n",
       "      <th>Investor</th>\n",
       "      <th>Data_year</th>\n",
       "    </tr>\n",
       "  </thead>\n",
       "  <tbody>\n",
       "    <tr>\n",
       "      <th>0</th>\n",
       "      <td>TheCollegeFever</td>\n",
       "      <td>Brand Marketing, Event Promotion, Marketing, S...</td>\n",
       "      <td>Seed</td>\n",
       "      <td>250000</td>\n",
       "      <td>Bangalore, Karnataka, India</td>\n",
       "      <td>TheCollegeFever is a hub for fun, fiesta and f...</td>\n",
       "      <td>NaN</td>\n",
       "      <td>NaN</td>\n",
       "      <td>NaN</td>\n",
       "      <td>2018</td>\n",
       "    </tr>\n",
       "    <tr>\n",
       "      <th>1</th>\n",
       "      <td>Happy Cow Dairy</td>\n",
       "      <td>Agriculture, Farming</td>\n",
       "      <td>Seed</td>\n",
       "      <td>₹40,000,000</td>\n",
       "      <td>Mumbai, Maharashtra, India</td>\n",
       "      <td>A startup which aggregates milk from dairy far...</td>\n",
       "      <td>NaN</td>\n",
       "      <td>NaN</td>\n",
       "      <td>NaN</td>\n",
       "      <td>2018</td>\n",
       "    </tr>\n",
       "    <tr>\n",
       "      <th>2</th>\n",
       "      <td>MyLoanCare</td>\n",
       "      <td>Credit, Financial Services, Lending, Marketplace</td>\n",
       "      <td>Series A</td>\n",
       "      <td>₹65,000,000</td>\n",
       "      <td>Gurgaon, Haryana, India</td>\n",
       "      <td>Leading Online Loans Marketplace in India</td>\n",
       "      <td>NaN</td>\n",
       "      <td>NaN</td>\n",
       "      <td>NaN</td>\n",
       "      <td>2018</td>\n",
       "    </tr>\n",
       "    <tr>\n",
       "      <th>3</th>\n",
       "      <td>PayMe India</td>\n",
       "      <td>Financial Services, FinTech</td>\n",
       "      <td>Angel</td>\n",
       "      <td>2000000</td>\n",
       "      <td>Noida, Uttar Pradesh, India</td>\n",
       "      <td>PayMe India is an innovative FinTech organizat...</td>\n",
       "      <td>NaN</td>\n",
       "      <td>NaN</td>\n",
       "      <td>NaN</td>\n",
       "      <td>2018</td>\n",
       "    </tr>\n",
       "    <tr>\n",
       "      <th>4</th>\n",
       "      <td>Eunimart</td>\n",
       "      <td>E-Commerce Platforms, Retail, SaaS</td>\n",
       "      <td>Seed</td>\n",
       "      <td>—</td>\n",
       "      <td>Hyderabad, Andhra Pradesh, India</td>\n",
       "      <td>Eunimart is a one stop solution for merchants ...</td>\n",
       "      <td>NaN</td>\n",
       "      <td>NaN</td>\n",
       "      <td>NaN</td>\n",
       "      <td>2018</td>\n",
       "    </tr>\n",
       "  </tbody>\n",
       "</table>\n",
       "</div>"
      ],
      "text/plain": [
       "     Company_Brand                                             Sector  \\\n",
       "0  TheCollegeFever  Brand Marketing, Event Promotion, Marketing, S...   \n",
       "1  Happy Cow Dairy                               Agriculture, Farming   \n",
       "2       MyLoanCare   Credit, Financial Services, Lending, Marketplace   \n",
       "3      PayMe India                        Financial Services, FinTech   \n",
       "4         Eunimart                 E-Commerce Platforms, Retail, SaaS   \n",
       "\n",
       "      Stage       Amount                          Location  \\\n",
       "0      Seed       250000       Bangalore, Karnataka, India   \n",
       "1      Seed  ₹40,000,000        Mumbai, Maharashtra, India   \n",
       "2  Series A  ₹65,000,000           Gurgaon, Haryana, India   \n",
       "3     Angel      2000000       Noida, Uttar Pradesh, India   \n",
       "4      Seed            —  Hyderabad, Andhra Pradesh, India   \n",
       "\n",
       "                                        What_it_does  Founded Founders  \\\n",
       "0  TheCollegeFever is a hub for fun, fiesta and f...      NaN      NaN   \n",
       "1  A startup which aggregates milk from dairy far...      NaN      NaN   \n",
       "2          Leading Online Loans Marketplace in India      NaN      NaN   \n",
       "3  PayMe India is an innovative FinTech organizat...      NaN      NaN   \n",
       "4  Eunimart is a one stop solution for merchants ...      NaN      NaN   \n",
       "\n",
       "  Investor  Data_year  \n",
       "0      NaN       2018  \n",
       "1      NaN       2018  \n",
       "2      NaN       2018  \n",
       "3      NaN       2018  \n",
       "4      NaN       2018  "
      ]
     },
     "execution_count": 30,
     "metadata": {},
     "output_type": "execute_result"
    }
   ],
   "source": [
    "# preview new merged dataframe\n",
    "df.head()"
   ]
  },
  {
   "cell_type": "code",
   "execution_count": 31,
   "id": "6a942cea",
   "metadata": {},
   "outputs": [
    {
     "name": "stdout",
     "output_type": "stream",
     "text": [
      "<class 'pandas.core.frame.DataFrame'>\n",
      "RangeIndex: 2879 entries, 0 to 2878\n",
      "Data columns (total 10 columns):\n",
      " #   Column         Non-Null Count  Dtype  \n",
      "---  ------         --------------  -----  \n",
      " 0   Company_Brand  2879 non-null   object \n",
      " 1   Sector         2861 non-null   object \n",
      " 2   Stage          1941 non-null   object \n",
      " 3   Amount         2622 non-null   object \n",
      " 4   Location       2765 non-null   object \n",
      " 5   What_it_does   2879 non-null   object \n",
      " 6   Founded        2110 non-null   float64\n",
      " 7   Founders       2334 non-null   object \n",
      " 8   Investor       2253 non-null   object \n",
      " 9   Data_year      2879 non-null   int64  \n",
      "dtypes: float64(1), int64(1), object(8)\n",
      "memory usage: 225.1+ KB\n"
     ]
    }
   ],
   "source": [
    "# information of the merged dataset\n",
    "df.info()"
   ]
  }
 ],
 "metadata": {
  "kernelspec": {
   "display_name": "Python 3 (ipykernel)",
   "language": "python",
   "name": "python3"
  },
  "language_info": {
   "codemirror_mode": {
    "name": "ipython",
    "version": 3
   },
   "file_extension": ".py",
   "mimetype": "text/x-python",
   "name": "python",
   "nbconvert_exporter": "python",
   "pygments_lexer": "ipython3",
   "version": "3.11.6"
  }
 },
 "nbformat": 4,
 "nbformat_minor": 5
}
