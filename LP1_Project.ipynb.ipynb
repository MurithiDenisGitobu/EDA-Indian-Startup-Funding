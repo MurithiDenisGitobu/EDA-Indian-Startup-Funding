{
 "cells": [
  {
   "cell_type": "markdown",
   "id": "098d19ba-83f1-4ebe-8224-3d771aa670e6",
   "metadata": {},
   "source": [
    "# **INDIAN STARTUP ECOSYSTEM**"
   ]
  },
  {
   "cell_type": "markdown",
   "id": "c62646cd-0736-4382-a4d2-318010effda4",
   "metadata": {},
   "source": [
    "## Project Description\n",
    "We embark on a journey of discovery as we leverage our data analysis expertise to uncover the untapped potential within the Indian startup ecosystem. This project is designed to not only decode the numbers but to distill insights that will guide our team towards a successful foray into this dynamic market."
   ]
  },
  {
   "cell_type": "markdown",
   "id": "073a46b0-b9c4-4cd3-941f-2966afc886e3",
   "metadata": {},
   "source": [
    "## Scope of Work\n",
    "\n",
    "- Conduct a thorough exploration of datasets, dissecting funding patterns, sectoral nuances, and geographical hotspots in the Indian startup landscap\n",
    "- Analyze funding received by startups in india from 2018 to 2021\n",
    "\n"
   ]
  },
  {
   "cell_type": "markdown",
   "id": "56c8dab3-8e2b-47f3-874a-d27632251b8f",
   "metadata": {},
   "source": [
    "## Hypothesis \n",
    "**Null Hypothesis (H₀)**: There is no significant difference in the average funding received by startups and Location.\n",
    "\n",
    "**Alternative Hypothesis (H₁)**: There are significant differences in the average funding received by startups and Location.\n",
    "\n",
    "**Null Hypothesis (H0)**: There is no significant relationship between funding and the sector  \n",
    "\n",
    "**Alternative Hypothesis (H1)**: There is a significant relationship between funding and the sector"
   ]
  },
  {
   "cell_type": "markdown",
   "id": "8620e446-b068-4209-8f16-003e788eebdb",
   "metadata": {},
   "source": [
    "## Questions \n",
    "1. How does funding vary across different industry sectors in India?\n",
    "2. How does funding vary with the loaction of the start-ups\n",
    "3. What is the relationship between the amount of funding and the stage of the company?\n",
    "4. How have funding trends evolved between 2018 and 2021?\n",
    "5. What are the most attractive sectors for investors?\n",
    "6. Does the location of the company influence its sector?\n",
    "\n",
    "\n"
   ]
  },
  {
   "cell_type": "markdown",
   "id": "182b1f90-e702-479c-bed8-7b0937f92ec8",
   "metadata": {},
   "source": [
    "# **DATA EXPLORATION, DATA UNDERSTANDING and DATA ANALYSIS**"
   ]
  },
  {
   "cell_type": "code",
   "execution_count": 2,
   "id": "a4313f08-adad-4397-b2a2-07ab3f969571",
   "metadata": {},
   "outputs": [],
   "source": [
    "# Load libraries\n",
    "# Database connnection\n",
    "import pyodbc     \n",
    "from dotenv import dotenv_values    #import the dotenv_values function from the dotenv package\n",
    "\n",
    "# Data manipulation\n",
    "import pandas as pd\n",
    "import numpy as np\n",
    "\n",
    "# Data visualization\n",
    "import matplotlib.pyplot as plt\n",
    "import seaborn as sns\n",
    "import plotly.express as px\n",
    "\n",
    "# filter warnings\n",
    "import warnings \n",
    "warnings.filterwarnings('ignore')"
   ]
  },
  {
   "cell_type": "markdown",
   "id": "a5653ae6-aaf0-4f36-ac77-0d12378022dd",
   "metadata": {},
   "source": [
    "## **1. Loading and Inspection of Data**"
   ]
  },
  {
   "cell_type": "markdown",
   "id": "6c0ba8b8",
   "metadata": {},
   "source": [
    "**Load data from the SQL server**"
   ]
  },
  {
   "cell_type": "code",
   "execution_count": 3,
   "id": "64476aec-cfda-44ff-9287-f9ae1116d755",
   "metadata": {},
   "outputs": [],
   "source": [
    "# Load environment variables from .env file into a dictionary\n",
    "environment_variables = dotenv_values('.env')\n",
    "\n",
    "# Get the values for the credentials you set in the '.env' file\n",
    "server = environment_variables.get(\"SERVER\")\n",
    "database = environment_variables.get(\"DATABASE\")\n",
    "username = environment_variables.get(\"USERNAME\")\n",
    "password = environment_variables.get(\"PASSWORD\")"
   ]
  },
  {
   "cell_type": "code",
   "execution_count": 4,
   "id": "1065f30f-d2af-4355-9709-68b7cf2eec10",
   "metadata": {},
   "outputs": [],
   "source": [
    "# Create a connection string\n",
    "\n",
    "connection_string = f\"DRIVER={{SQL Server}};SERVER={server};DATABASE={database};UID={username};PWD={password}\"\n",
    "    \n",
    "connection = pyodbc.connect(connection_string)\n",
    "\n"
   ]
  },
  {
   "cell_type": "code",
   "execution_count": 5,
   "id": "7c96e340-66bf-4947-b4bf-878ba7335936",
   "metadata": {},
   "outputs": [],
   "source": [
    "# sql query to get 2020 data. \n",
    "query_2020=\"SELECT * FROM dbo.LP1_startup_funding2020\"\n",
    "\n",
    "# sql query to get 2021 data. \n",
    "query_2021=\"SELECT * FROM dbo.LP1_startup_funding2021\""
   ]
  },
  {
   "cell_type": "code",
   "execution_count": 6,
   "id": "4879cd40-2819-442a-a895-1560371616cc",
   "metadata": {},
   "outputs": [],
   "source": [
    "    # load 2021 data\n",
    "data_2021=pd.read_sql(query_2021,connection)\n",
    "\n",
    "    # load 2020 data\n",
    "data_2020=pd.read_sql(query_2020,connection)"
   ]
  },
  {
   "cell_type": "markdown",
   "id": "35309cc2",
   "metadata": {},
   "source": [
    "**Load CSV Files**"
   ]
  },
  {
   "cell_type": "code",
   "execution_count": 7,
   "id": "a81c6016",
   "metadata": {},
   "outputs": [],
   "source": [
    "# load 2019 data\n",
    "data_2019=pd.read_csv(r'C:\\Users\\iamde\\OneDrive\\Desktop\\jupyter\\india_startup_data\\startup_funding2019.csv')\n",
    "\n",
    "    # load 2018 data\n",
    "data_2018=pd.read_csv(r'C:\\Users\\iamde\\OneDrive\\Desktop\\jupyter\\india_startup_data\\startup_funding2018.csv')\n"
   ]
  },
  {
   "cell_type": "markdown",
   "id": "b93809db-ec5e-415e-bce8-dc9a3367493b",
   "metadata": {},
   "source": [
    "### **2. Data Exploration and Understanding**"
   ]
  },
  {
   "cell_type": "markdown",
   "id": "ededc4f7",
   "metadata": {},
   "source": [
    "**Preview Each dataset**"
   ]
  },
  {
   "cell_type": "code",
   "execution_count": 8,
   "id": "88a913fa-08a6-4612-ac72-37b0a290a00a",
   "metadata": {},
   "outputs": [
    {
     "data": {
      "text/html": [
       "<div>\n",
       "<style scoped>\n",
       "    .dataframe tbody tr th:only-of-type {\n",
       "        vertical-align: middle;\n",
       "    }\n",
       "\n",
       "    .dataframe tbody tr th {\n",
       "        vertical-align: top;\n",
       "    }\n",
       "\n",
       "    .dataframe thead th {\n",
       "        text-align: right;\n",
       "    }\n",
       "</style>\n",
       "<table border=\"1\" class=\"dataframe\">\n",
       "  <thead>\n",
       "    <tr style=\"text-align: right;\">\n",
       "      <th></th>\n",
       "      <th>Company Name</th>\n",
       "      <th>Industry</th>\n",
       "      <th>Round/Series</th>\n",
       "      <th>Amount</th>\n",
       "      <th>Location</th>\n",
       "      <th>About Company</th>\n",
       "    </tr>\n",
       "  </thead>\n",
       "  <tbody>\n",
       "    <tr>\n",
       "      <th>479</th>\n",
       "      <td>Knocksense</td>\n",
       "      <td>News, Publishing, Social Media</td>\n",
       "      <td>Seed</td>\n",
       "      <td>—</td>\n",
       "      <td>Lucknow, Uttar Pradesh, India</td>\n",
       "      <td>Knocksense is a fast growing lifestyle website.</td>\n",
       "    </tr>\n",
       "    <tr>\n",
       "      <th>53</th>\n",
       "      <td>ONGO Framework</td>\n",
       "      <td>B2B, Information Services, Information Technology</td>\n",
       "      <td>Angel</td>\n",
       "      <td>1000000</td>\n",
       "      <td>Hyderabad, Andhra Pradesh, India</td>\n",
       "      <td>ONGO Framework is a B2B IT and digital solutio...</td>\n",
       "    </tr>\n",
       "    <tr>\n",
       "      <th>51</th>\n",
       "      <td>Dainik Jagran</td>\n",
       "      <td>Media and Entertainment, News, Outdoors</td>\n",
       "      <td>Seed</td>\n",
       "      <td>₹40,000,000</td>\n",
       "      <td>Kanpur, Uttar Pradesh, India</td>\n",
       "      <td>Dainik Jagran is a media and communications gr...</td>\n",
       "    </tr>\n",
       "    <tr>\n",
       "      <th>27</th>\n",
       "      <td>Mintifi</td>\n",
       "      <td>Financial Services, Lending</td>\n",
       "      <td>Seed</td>\n",
       "      <td>2000000</td>\n",
       "      <td>Mumbai, Maharashtra, India</td>\n",
       "      <td>Online lending startup based in Mumbai.</td>\n",
       "    </tr>\n",
       "    <tr>\n",
       "      <th>148</th>\n",
       "      <td>OYO</td>\n",
       "      <td>Hospitality, Hotel, Leisure, Travel</td>\n",
       "      <td>Series E</td>\n",
       "      <td>$100,000,000</td>\n",
       "      <td>Gurgaon, Haryana, India</td>\n",
       "      <td>OYO is an Indian hospitality startup that oper...</td>\n",
       "    </tr>\n",
       "  </tbody>\n",
       "</table>\n",
       "</div>"
      ],
      "text/plain": [
       "       Company Name                                           Industry  \\\n",
       "479      Knocksense                     News, Publishing, Social Media   \n",
       "53   ONGO Framework  B2B, Information Services, Information Technology   \n",
       "51    Dainik Jagran            Media and Entertainment, News, Outdoors   \n",
       "27          Mintifi                        Financial Services, Lending   \n",
       "148             OYO                Hospitality, Hotel, Leisure, Travel   \n",
       "\n",
       "    Round/Series        Amount                          Location  \\\n",
       "479         Seed             —     Lucknow, Uttar Pradesh, India   \n",
       "53         Angel       1000000  Hyderabad, Andhra Pradesh, India   \n",
       "51          Seed   ₹40,000,000      Kanpur, Uttar Pradesh, India   \n",
       "27          Seed       2000000        Mumbai, Maharashtra, India   \n",
       "148     Series E  $100,000,000           Gurgaon, Haryana, India   \n",
       "\n",
       "                                         About Company  \n",
       "479    Knocksense is a fast growing lifestyle website.  \n",
       "53   ONGO Framework is a B2B IT and digital solutio...  \n",
       "51   Dainik Jagran is a media and communications gr...  \n",
       "27             Online lending startup based in Mumbai.  \n",
       "148  OYO is an Indian hospitality startup that oper...  "
      ]
     },
     "execution_count": 8,
     "metadata": {},
     "output_type": "execute_result"
    }
   ],
   "source": [
    "# preview the rows and columns for the 2018 dataset\n",
    "data_2018.sample(5)"
   ]
  },
  {
   "cell_type": "code",
   "execution_count": 9,
   "id": "3caff6a6-fadb-4132-9c2c-f79d2378d04d",
   "metadata": {},
   "outputs": [
    {
     "data": {
      "text/html": [
       "<div>\n",
       "<style scoped>\n",
       "    .dataframe tbody tr th:only-of-type {\n",
       "        vertical-align: middle;\n",
       "    }\n",
       "\n",
       "    .dataframe tbody tr th {\n",
       "        vertical-align: top;\n",
       "    }\n",
       "\n",
       "    .dataframe thead th {\n",
       "        text-align: right;\n",
       "    }\n",
       "</style>\n",
       "<table border=\"1\" class=\"dataframe\">\n",
       "  <thead>\n",
       "    <tr style=\"text-align: right;\">\n",
       "      <th></th>\n",
       "      <th>Company/Brand</th>\n",
       "      <th>Founded</th>\n",
       "      <th>HeadQuarter</th>\n",
       "      <th>Sector</th>\n",
       "      <th>What it does</th>\n",
       "      <th>Founders</th>\n",
       "      <th>Investor</th>\n",
       "      <th>Amount($)</th>\n",
       "      <th>Stage</th>\n",
       "    </tr>\n",
       "  </thead>\n",
       "  <tbody>\n",
       "    <tr>\n",
       "      <th>79</th>\n",
       "      <td>Zolostays</td>\n",
       "      <td>2015.0</td>\n",
       "      <td>NaN</td>\n",
       "      <td>Accomodation</td>\n",
       "      <td>It offers affordable housing apartments to you...</td>\n",
       "      <td>Akhil Sikri, Nikhil Sikri, Sneha Choudhry</td>\n",
       "      <td>Trifecta Capital</td>\n",
       "      <td>$7,000,000</td>\n",
       "      <td>NaN</td>\n",
       "    </tr>\n",
       "    <tr>\n",
       "      <th>27</th>\n",
       "      <td>Fireflies .ai</td>\n",
       "      <td>NaN</td>\n",
       "      <td>NaN</td>\n",
       "      <td>AI</td>\n",
       "      <td>Developer of an artificial intelligence-powere...</td>\n",
       "      <td>Sam Udotong</td>\n",
       "      <td>Canaan Partners</td>\n",
       "      <td>$5,000,000</td>\n",
       "      <td>NaN</td>\n",
       "    </tr>\n",
       "    <tr>\n",
       "      <th>75</th>\n",
       "      <td>Sportido</td>\n",
       "      <td>2015.0</td>\n",
       "      <td>Noida</td>\n",
       "      <td>Sports</td>\n",
       "      <td>It is a sports discovery app that helps to fin...</td>\n",
       "      <td>Neeraj Aggarwala, Akhil Ramachandran</td>\n",
       "      <td>Inflection Point Ventures, SucSEED Venture Par...</td>\n",
       "      <td>Undisclosed</td>\n",
       "      <td>Series B</td>\n",
       "    </tr>\n",
       "    <tr>\n",
       "      <th>69</th>\n",
       "      <td>Nivesh.com</td>\n",
       "      <td>2016.0</td>\n",
       "      <td>Noida</td>\n",
       "      <td>Mutual Funds</td>\n",
       "      <td>The platform simplifies the process of investment</td>\n",
       "      <td>Anurag Garg, Sridhar Srinivasan</td>\n",
       "      <td>Windrose Capital</td>\n",
       "      <td>$600,000</td>\n",
       "      <td>NaN</td>\n",
       "    </tr>\n",
       "    <tr>\n",
       "      <th>16</th>\n",
       "      <td>Byju's</td>\n",
       "      <td>2011.0</td>\n",
       "      <td>NaN</td>\n",
       "      <td>Edtech</td>\n",
       "      <td>Provides online learning classes</td>\n",
       "      <td>Byju Raveendran</td>\n",
       "      <td>South Africa’s Naspers Ventures, the CPP Inves...</td>\n",
       "      <td>$540,000,000</td>\n",
       "      <td>NaN</td>\n",
       "    </tr>\n",
       "  </tbody>\n",
       "</table>\n",
       "</div>"
      ],
      "text/plain": [
       "    Company/Brand  Founded HeadQuarter        Sector  \\\n",
       "79      Zolostays   2015.0         NaN  Accomodation   \n",
       "27  Fireflies .ai      NaN         NaN            AI   \n",
       "75       Sportido   2015.0       Noida        Sports   \n",
       "69     Nivesh.com   2016.0       Noida  Mutual Funds   \n",
       "16         Byju's   2011.0         NaN        Edtech   \n",
       "\n",
       "                                         What it does  \\\n",
       "79  It offers affordable housing apartments to you...   \n",
       "27  Developer of an artificial intelligence-powere...   \n",
       "75  It is a sports discovery app that helps to fin...   \n",
       "69  The platform simplifies the process of investment   \n",
       "16                   Provides online learning classes   \n",
       "\n",
       "                                     Founders  \\\n",
       "79  Akhil Sikri, Nikhil Sikri, Sneha Choudhry   \n",
       "27                                Sam Udotong   \n",
       "75       Neeraj Aggarwala, Akhil Ramachandran   \n",
       "69            Anurag Garg, Sridhar Srinivasan   \n",
       "16                            Byju Raveendran   \n",
       "\n",
       "                                             Investor     Amount($)     Stage  \n",
       "79                                   Trifecta Capital    $7,000,000       NaN  \n",
       "27                                    Canaan Partners    $5,000,000       NaN  \n",
       "75  Inflection Point Ventures, SucSEED Venture Par...   Undisclosed  Series B  \n",
       "69                                   Windrose Capital      $600,000       NaN  \n",
       "16  South Africa’s Naspers Ventures, the CPP Inves...  $540,000,000       NaN  "
      ]
     },
     "execution_count": 9,
     "metadata": {},
     "output_type": "execute_result"
    }
   ],
   "source": [
    "# get a sample of 2019 dataset\n",
    "data_2019.sample(5)"
   ]
  },
  {
   "cell_type": "code",
   "execution_count": 10,
   "id": "5b3f3480-99e5-4d9c-999b-c24fd6527f0b",
   "metadata": {},
   "outputs": [
    {
     "data": {
      "text/html": [
       "<div>\n",
       "<style scoped>\n",
       "    .dataframe tbody tr th:only-of-type {\n",
       "        vertical-align: middle;\n",
       "    }\n",
       "\n",
       "    .dataframe tbody tr th {\n",
       "        vertical-align: top;\n",
       "    }\n",
       "\n",
       "    .dataframe thead th {\n",
       "        text-align: right;\n",
       "    }\n",
       "</style>\n",
       "<table border=\"1\" class=\"dataframe\">\n",
       "  <thead>\n",
       "    <tr style=\"text-align: right;\">\n",
       "      <th></th>\n",
       "      <th>Company_Brand</th>\n",
       "      <th>Founded</th>\n",
       "      <th>HeadQuarter</th>\n",
       "      <th>Sector</th>\n",
       "      <th>What_it_does</th>\n",
       "      <th>Founders</th>\n",
       "      <th>Investor</th>\n",
       "      <th>Amount</th>\n",
       "      <th>Stage</th>\n",
       "      <th>column10</th>\n",
       "    </tr>\n",
       "  </thead>\n",
       "  <tbody>\n",
       "    <tr>\n",
       "      <th>933</th>\n",
       "      <td>Pepperfry</td>\n",
       "      <td>2013.0</td>\n",
       "      <td>Mumbai</td>\n",
       "      <td>E-market</td>\n",
       "      <td>Online home furniture marketplace</td>\n",
       "      <td>Ambareesh Murty, Ashish Shah</td>\n",
       "      <td>Pidilite Industries</td>\n",
       "      <td>40000000.0</td>\n",
       "      <td>Series F</td>\n",
       "      <td>None</td>\n",
       "    </tr>\n",
       "    <tr>\n",
       "      <th>4</th>\n",
       "      <td>Gramophone</td>\n",
       "      <td>2016.0</td>\n",
       "      <td>Indore</td>\n",
       "      <td>AgriTech</td>\n",
       "      <td>Gramophone is an AgTech platform enabling acce...</td>\n",
       "      <td>Ashish Rajan Singh, Harshit Gupta, Nishant Mah...</td>\n",
       "      <td>Siana Capital Management, Info Edge</td>\n",
       "      <td>340000.0</td>\n",
       "      <td>None</td>\n",
       "      <td>None</td>\n",
       "    </tr>\n",
       "    <tr>\n",
       "      <th>424</th>\n",
       "      <td>LEAD School</td>\n",
       "      <td>2012.0</td>\n",
       "      <td>Mumbai</td>\n",
       "      <td>EdtTech</td>\n",
       "      <td>Offers a high-end digital classroom system foc...</td>\n",
       "      <td>Sumeet Mehta, Smita Deorah</td>\n",
       "      <td>Westbridge Capital, Elevar Equity</td>\n",
       "      <td>28000000.0</td>\n",
       "      <td>Series C</td>\n",
       "      <td>None</td>\n",
       "    </tr>\n",
       "    <tr>\n",
       "      <th>748</th>\n",
       "      <td>Convosight</td>\n",
       "      <td>2019.0</td>\n",
       "      <td>Hyderabad</td>\n",
       "      <td>Data Analytics</td>\n",
       "      <td>It helps business gain insights from its commu...</td>\n",
       "      <td>Tarun Dhamija, Kartik Bansal</td>\n",
       "      <td>IvyCap Ventures, Sequoia Capital</td>\n",
       "      <td>4000000.0</td>\n",
       "      <td>Pre series A</td>\n",
       "      <td>None</td>\n",
       "    </tr>\n",
       "    <tr>\n",
       "      <th>787</th>\n",
       "      <td>Porter</td>\n",
       "      <td>2014.0</td>\n",
       "      <td>Mumbai</td>\n",
       "      <td>Logistics</td>\n",
       "      <td>Logistics and fleet management</td>\n",
       "      <td>Pranav Goel, Uttam Digga</td>\n",
       "      <td>Lightstone Global Funds</td>\n",
       "      <td>18370000.0</td>\n",
       "      <td>Series D</td>\n",
       "      <td>None</td>\n",
       "    </tr>\n",
       "  </tbody>\n",
       "</table>\n",
       "</div>"
      ],
      "text/plain": [
       "    Company_Brand  Founded HeadQuarter          Sector  \\\n",
       "933     Pepperfry   2013.0      Mumbai        E-market   \n",
       "4      Gramophone   2016.0      Indore        AgriTech   \n",
       "424   LEAD School   2012.0      Mumbai         EdtTech   \n",
       "748    Convosight   2019.0   Hyderabad  Data Analytics   \n",
       "787        Porter   2014.0      Mumbai       Logistics   \n",
       "\n",
       "                                          What_it_does  \\\n",
       "933                  Online home furniture marketplace   \n",
       "4    Gramophone is an AgTech platform enabling acce...   \n",
       "424  Offers a high-end digital classroom system foc...   \n",
       "748  It helps business gain insights from its commu...   \n",
       "787                     Logistics and fleet management   \n",
       "\n",
       "                                              Founders  \\\n",
       "933                       Ambareesh Murty, Ashish Shah   \n",
       "4    Ashish Rajan Singh, Harshit Gupta, Nishant Mah...   \n",
       "424                         Sumeet Mehta, Smita Deorah   \n",
       "748                       Tarun Dhamija, Kartik Bansal   \n",
       "787                           Pranav Goel, Uttam Digga   \n",
       "\n",
       "                                Investor      Amount         Stage column10  \n",
       "933                  Pidilite Industries  40000000.0      Series F     None  \n",
       "4    Siana Capital Management, Info Edge    340000.0          None     None  \n",
       "424    Westbridge Capital, Elevar Equity  28000000.0      Series C     None  \n",
       "748     IvyCap Ventures, Sequoia Capital   4000000.0  Pre series A     None  \n",
       "787              Lightstone Global Funds  18370000.0      Series D     None  "
      ]
     },
     "execution_count": 10,
     "metadata": {},
     "output_type": "execute_result"
    }
   ],
   "source": [
    "# get a sample of 2020 dataset\n",
    "data_2020.sample(5)"
   ]
  },
  {
   "cell_type": "code",
   "execution_count": 11,
   "id": "8677d87a-8df2-4c78-8bb3-f70f22ba3a64",
   "metadata": {},
   "outputs": [
    {
     "data": {
      "text/html": [
       "<div>\n",
       "<style scoped>\n",
       "    .dataframe tbody tr th:only-of-type {\n",
       "        vertical-align: middle;\n",
       "    }\n",
       "\n",
       "    .dataframe tbody tr th {\n",
       "        vertical-align: top;\n",
       "    }\n",
       "\n",
       "    .dataframe thead th {\n",
       "        text-align: right;\n",
       "    }\n",
       "</style>\n",
       "<table border=\"1\" class=\"dataframe\">\n",
       "  <thead>\n",
       "    <tr style=\"text-align: right;\">\n",
       "      <th></th>\n",
       "      <th>Company_Brand</th>\n",
       "      <th>Founded</th>\n",
       "      <th>HeadQuarter</th>\n",
       "      <th>Sector</th>\n",
       "      <th>What_it_does</th>\n",
       "      <th>Founders</th>\n",
       "      <th>Investor</th>\n",
       "      <th>Amount</th>\n",
       "      <th>Stage</th>\n",
       "    </tr>\n",
       "  </thead>\n",
       "  <tbody>\n",
       "    <tr>\n",
       "      <th>591</th>\n",
       "      <td>Powerplay</td>\n",
       "      <td>2020.0</td>\n",
       "      <td>Bangalore</td>\n",
       "      <td>Construction</td>\n",
       "      <td>Powerplay helps simplify end to end Constructi...</td>\n",
       "      <td>Shubham Goyal, Lesh Dixit</td>\n",
       "      <td>Sequoia’s Surge, Accel Partners</td>\n",
       "      <td>$5200000</td>\n",
       "      <td>None</td>\n",
       "    </tr>\n",
       "    <tr>\n",
       "      <th>248</th>\n",
       "      <td>FanAnywhere</td>\n",
       "      <td>2021.0</td>\n",
       "      <td>Bangalore</td>\n",
       "      <td>Financial Services</td>\n",
       "      <td>Celebrity NFT platform</td>\n",
       "      <td>Varun Chaudhary, Amit Kumar</td>\n",
       "      <td>Oasis Capital, Scorpio VC, DeltaHub Capital</td>\n",
       "      <td>$Undisclosed</td>\n",
       "      <td>Seed</td>\n",
       "    </tr>\n",
       "    <tr>\n",
       "      <th>277</th>\n",
       "      <td>Bizongo</td>\n",
       "      <td>2015.0</td>\n",
       "      <td>Mumbai</td>\n",
       "      <td>B2B Ecommerce</td>\n",
       "      <td>izongo is India’s largest B2B platform for mad...</td>\n",
       "      <td>Sachin Agrawal, Aniket Deb, Ankit Tomar</td>\n",
       "      <td>Tiger Global</td>\n",
       "      <td>$100000000</td>\n",
       "      <td>Series D</td>\n",
       "    </tr>\n",
       "    <tr>\n",
       "      <th>275</th>\n",
       "      <td>Dista</td>\n",
       "      <td>2017.0</td>\n",
       "      <td>Pune</td>\n",
       "      <td>Computer Software</td>\n",
       "      <td>Dista is an AI-enabled location intelligence p...</td>\n",
       "      <td>Nishant Kumar, Shishir Gokhale, Deepak Garg</td>\n",
       "      <td>Pentathlon Ventures</td>\n",
       "      <td>$1200000</td>\n",
       "      <td>Seed</td>\n",
       "    </tr>\n",
       "    <tr>\n",
       "      <th>950</th>\n",
       "      <td>GramCover</td>\n",
       "      <td>2016.0</td>\n",
       "      <td>Noida</td>\n",
       "      <td>Insurance</td>\n",
       "      <td>GramCover is a tech-enabled insurance marketpl...</td>\n",
       "      <td>Dhyanesh Bhatt</td>\n",
       "      <td>Siana Capital, Inflexor Ventures, Stride Ventures</td>\n",
       "      <td>$7000000</td>\n",
       "      <td>Series A</td>\n",
       "    </tr>\n",
       "  </tbody>\n",
       "</table>\n",
       "</div>"
      ],
      "text/plain": [
       "    Company_Brand  Founded HeadQuarter              Sector  \\\n",
       "591     Powerplay   2020.0   Bangalore        Construction   \n",
       "248   FanAnywhere   2021.0   Bangalore  Financial Services   \n",
       "277       Bizongo   2015.0      Mumbai       B2B Ecommerce   \n",
       "275         Dista   2017.0        Pune   Computer Software   \n",
       "950     GramCover   2016.0       Noida           Insurance   \n",
       "\n",
       "                                          What_it_does  \\\n",
       "591  Powerplay helps simplify end to end Constructi...   \n",
       "248                             Celebrity NFT platform   \n",
       "277  izongo is India’s largest B2B platform for mad...   \n",
       "275  Dista is an AI-enabled location intelligence p...   \n",
       "950  GramCover is a tech-enabled insurance marketpl...   \n",
       "\n",
       "                                        Founders  \\\n",
       "591                    Shubham Goyal, Lesh Dixit   \n",
       "248                  Varun Chaudhary, Amit Kumar   \n",
       "277      Sachin Agrawal, Aniket Deb, Ankit Tomar   \n",
       "275  Nishant Kumar, Shishir Gokhale, Deepak Garg   \n",
       "950                               Dhyanesh Bhatt   \n",
       "\n",
       "                                              Investor        Amount     Stage  \n",
       "591                    Sequoia’s Surge, Accel Partners      $5200000      None  \n",
       "248        Oasis Capital, Scorpio VC, DeltaHub Capital  $Undisclosed      Seed  \n",
       "277                                       Tiger Global    $100000000  Series D  \n",
       "275                                Pentathlon Ventures      $1200000      Seed  \n",
       "950  Siana Capital, Inflexor Ventures, Stride Ventures      $7000000  Series A  "
      ]
     },
     "execution_count": 11,
     "metadata": {},
     "output_type": "execute_result"
    }
   ],
   "source": [
    "# get a sample of 2021 dataset\n",
    "data_2021.sample(5)"
   ]
  },
  {
   "cell_type": "markdown",
   "id": "b93543f2-23bb-4e03-91f7-2a339ccb6370",
   "metadata": {},
   "source": [
    "**Shape of the data**"
   ]
  },
  {
   "cell_type": "code",
   "execution_count": 12,
   "id": "2e589a02-7199-4a0b-902b-2f82a820b2f6",
   "metadata": {},
   "outputs": [
    {
     "name": "stdout",
     "output_type": "stream",
     "text": [
      "The 2018 dataset has 526 rows and 6 Columns\n",
      "\n",
      "The 2019 dataset has 89 rows and 9 Columns\n",
      "\n",
      "The 2020 dataset has 1055 rows and 10 Columns\n",
      "\n",
      "The 2021 dataset has 1209 rows and 9 Columns\n",
      "\n",
      "\n"
     ]
    }
   ],
   "source": [
    "# get the number of rows and columns for the datasets\n",
    "print(f\"The 2018 dataset has {data_2018.shape[0]} rows and {data_2018.shape[1]} Columns\\n\")\n",
    "print(f\"The 2019 dataset has {data_2019.shape[0]} rows and {data_2019.shape[1]} Columns\\n\")\n",
    "print(f\"The 2020 dataset has {data_2020.shape[0]} rows and {data_2020.shape[1]} Columns\\n\")\n",
    "print(f\"The 2021 dataset has {data_2021.shape[0]} rows and {data_2021.shape[1]} Columns\\n\\n\")"
   ]
  },
  {
   "cell_type": "markdown",
   "id": "579a5b01-4b8c-45e6-87b1-73ee5deb7007",
   "metadata": {},
   "source": [
    "**Info of the data**"
   ]
  },
  {
   "cell_type": "code",
   "execution_count": 13,
   "id": "51576669-93b6-4c83-abd4-0ec1383f911a",
   "metadata": {},
   "outputs": [
    {
     "name": "stdout",
     "output_type": "stream",
     "text": [
      "<class 'pandas.core.frame.DataFrame'>\n",
      "RangeIndex: 526 entries, 0 to 525\n",
      "Data columns (total 6 columns):\n",
      " #   Column         Non-Null Count  Dtype \n",
      "---  ------         --------------  ----- \n",
      " 0   Company Name   526 non-null    object\n",
      " 1   Industry       526 non-null    object\n",
      " 2   Round/Series   526 non-null    object\n",
      " 3   Amount         526 non-null    object\n",
      " 4   Location       526 non-null    object\n",
      " 5   About Company  526 non-null    object\n",
      "dtypes: object(6)\n",
      "memory usage: 24.8+ KB\n"
     ]
    }
   ],
   "source": [
    "# overview of 2018 dataset\n",
    "data_2018.info()"
   ]
  },
  {
   "cell_type": "code",
   "execution_count": 14,
   "id": "95d118f0-22c6-44e9-8e2f-032397e4f2fd",
   "metadata": {},
   "outputs": [
    {
     "name": "stdout",
     "output_type": "stream",
     "text": [
      "<class 'pandas.core.frame.DataFrame'>\n",
      "RangeIndex: 89 entries, 0 to 88\n",
      "Data columns (total 9 columns):\n",
      " #   Column         Non-Null Count  Dtype  \n",
      "---  ------         --------------  -----  \n",
      " 0   Company/Brand  89 non-null     object \n",
      " 1   Founded        60 non-null     float64\n",
      " 2   HeadQuarter    70 non-null     object \n",
      " 3   Sector         84 non-null     object \n",
      " 4   What it does   89 non-null     object \n",
      " 5   Founders       86 non-null     object \n",
      " 6   Investor       89 non-null     object \n",
      " 7   Amount($)      89 non-null     object \n",
      " 8   Stage          43 non-null     object \n",
      "dtypes: float64(1), object(8)\n",
      "memory usage: 6.4+ KB\n"
     ]
    }
   ],
   "source": [
    "# overview of 2019 dataset\n",
    "data_2019.info()"
   ]
  },
  {
   "cell_type": "code",
   "execution_count": 15,
   "id": "0a0d12df-af4b-4475-87fe-ea3e0ae6ecae",
   "metadata": {},
   "outputs": [
    {
     "name": "stdout",
     "output_type": "stream",
     "text": [
      "<class 'pandas.core.frame.DataFrame'>\n",
      "RangeIndex: 1055 entries, 0 to 1054\n",
      "Data columns (total 10 columns):\n",
      " #   Column         Non-Null Count  Dtype  \n",
      "---  ------         --------------  -----  \n",
      " 0   Company_Brand  1055 non-null   object \n",
      " 1   Founded        842 non-null    float64\n",
      " 2   HeadQuarter    961 non-null    object \n",
      " 3   Sector         1042 non-null   object \n",
      " 4   What_it_does   1055 non-null   object \n",
      " 5   Founders       1043 non-null   object \n",
      " 6   Investor       1017 non-null   object \n",
      " 7   Amount         801 non-null    float64\n",
      " 8   Stage          591 non-null    object \n",
      " 9   column10       2 non-null      object \n",
      "dtypes: float64(2), object(8)\n",
      "memory usage: 82.6+ KB\n"
     ]
    }
   ],
   "source": [
    "# overview of 2020 dataset\n",
    "data_2020.info()"
   ]
  },
  {
   "cell_type": "code",
   "execution_count": 16,
   "id": "59bb1fcb-4c04-4466-8dc3-533cc7a66d02",
   "metadata": {},
   "outputs": [
    {
     "name": "stdout",
     "output_type": "stream",
     "text": [
      "<class 'pandas.core.frame.DataFrame'>\n",
      "RangeIndex: 1209 entries, 0 to 1208\n",
      "Data columns (total 9 columns):\n",
      " #   Column         Non-Null Count  Dtype  \n",
      "---  ------         --------------  -----  \n",
      " 0   Company_Brand  1209 non-null   object \n",
      " 1   Founded        1208 non-null   float64\n",
      " 2   HeadQuarter    1208 non-null   object \n",
      " 3   Sector         1209 non-null   object \n",
      " 4   What_it_does   1209 non-null   object \n",
      " 5   Founders       1205 non-null   object \n",
      " 6   Investor       1147 non-null   object \n",
      " 7   Amount         1206 non-null   object \n",
      " 8   Stage          781 non-null    object \n",
      "dtypes: float64(1), object(8)\n",
      "memory usage: 85.1+ KB\n"
     ]
    }
   ],
   "source": [
    "# overview of 2021 dataset\n",
    "data_2021.info()"
   ]
  },
  {
   "cell_type": "markdown",
   "id": "b34f7762-7ada-467d-9553-ad81094e8a11",
   "metadata": {},
   "source": [
    "**Displaying datasets columns**"
   ]
  },
  {
   "cell_type": "code",
   "execution_count": 17,
   "id": "bd635e90-d8e9-4e8a-9290-b6feaa704d4b",
   "metadata": {},
   "outputs": [
    {
     "data": {
      "text/plain": [
       "Index(['Company_Brand', 'Founded', 'HeadQuarter', 'Sector', 'What_it_does',\n",
       "       'Founders', 'Investor', 'Amount', 'Stage'],\n",
       "      dtype='object')"
      ]
     },
     "execution_count": 17,
     "metadata": {},
     "output_type": "execute_result"
    }
   ],
   "source": [
    "# 2021 data columns\n",
    "data_2021.columns"
   ]
  },
  {
   "cell_type": "code",
   "execution_count": 18,
   "id": "36c35f2f-a6dd-484e-9b87-81eca131801c",
   "metadata": {},
   "outputs": [
    {
     "data": {
      "text/plain": [
       "Index(['Company_Brand', 'Founded', 'HeadQuarter', 'Sector', 'What_it_does',\n",
       "       'Founders', 'Investor', 'Amount', 'Stage', 'column10'],\n",
       "      dtype='object')"
      ]
     },
     "execution_count": 18,
     "metadata": {},
     "output_type": "execute_result"
    }
   ],
   "source": [
    "# 2020 data columns\n",
    "\n",
    "data_2020.columns"
   ]
  },
  {
   "cell_type": "code",
   "execution_count": 19,
   "id": "4f6ca9f7-a761-4a13-bf36-ce15976dc308",
   "metadata": {},
   "outputs": [
    {
     "data": {
      "text/plain": [
       "Index(['Company/Brand', 'Founded', 'HeadQuarter', 'Sector', 'What it does',\n",
       "       'Founders', 'Investor', 'Amount($)', 'Stage'],\n",
       "      dtype='object')"
      ]
     },
     "execution_count": 19,
     "metadata": {},
     "output_type": "execute_result"
    }
   ],
   "source": [
    "# 2019 data columns\n",
    "\n",
    "data_2019.columns"
   ]
  },
  {
   "cell_type": "code",
   "execution_count": 20,
   "id": "f8632c75-946a-42b6-8fb6-0d72b228f4a3",
   "metadata": {},
   "outputs": [
    {
     "data": {
      "text/plain": [
       "Index(['Company Name', 'Industry', 'Round/Series', 'Amount', 'Location',\n",
       "       'About Company'],\n",
       "      dtype='object')"
      ]
     },
     "execution_count": 20,
     "metadata": {},
     "output_type": "execute_result"
    }
   ],
   "source": [
    "# 2018 data columns\n",
    "\n",
    "data_2018.columns"
   ]
  },
  {
   "cell_type": "markdown",
   "id": "406e25a7-e736-4340-b842-a579360997d6",
   "metadata": {},
   "source": [
    "## **Observations:**\n",
    "**Issues with the data**\n",
    "\n",
    "1. There is a discrepancy in the naming conventions between the columns in the 2018 and 2019 datasets compared to the 2020 and 2021 datasets.\n",
    "\n",
    "2. The 2018 dataset exhibits some missing columns, contributing to an incomplete representation of the data.\n",
    "\n",
    "3. Conversely, the 2020 dataset contains an additional column that appears to be extraneous and does not serve a meaningful purpose in our analysis.\n",
    "\n",
    "**Course of Action:**\n",
    "\n",
    "1. **Missing Column Engineering for 2018:**\n",
    "   - We will address the absence of certain columns in the 2018 dataset by employing data engineering techniques to create and populate the missing columns, ensuring a comprehensive and consistent dataset.\n",
    "\n",
    "2. **Column Name Standardization:**\n",
    "   - To establish uniformity and coherence across all datasets, we will embark on a column renaming process for the 2018 and 2019 datasets. This action aims to align the naming conventions with those observed in the 2020 and 2021 datasets, facilitating seamless data integration and analysis.\n",
    "\n",
    "3. **Extraneous Column Removal in 2020:**\n",
    "   - The redundant column identified in the 2020 dataset will be removed, streamlining the dataset and eliminating unnecessary elements that do not contribute to the overall analysis objectives.\n",
    "\n",
    "These actions collectively enhance the integrity, consistency, and completeness of the dataset, paving the way for a more robust and coherent analytical process.\n",
    "ical process.\n",
    "\n",
    "\n",
    "\n",
    "\n",
    "\n"
   ]
  },
  {
   "cell_type": "markdown",
   "id": "5959a53d-4842-48c0-ab8c-77448bd42a0a",
   "metadata": {},
   "source": [
    "# **3. Data Cleaning**"
   ]
  },
  {
   "cell_type": "code",
   "execution_count": 21,
   "id": "d3398f48",
   "metadata": {},
   "outputs": [
    {
     "data": {
      "text/html": [
       "<div>\n",
       "<style scoped>\n",
       "    .dataframe tbody tr th:only-of-type {\n",
       "        vertical-align: middle;\n",
       "    }\n",
       "\n",
       "    .dataframe tbody tr th {\n",
       "        vertical-align: top;\n",
       "    }\n",
       "\n",
       "    .dataframe thead th {\n",
       "        text-align: right;\n",
       "    }\n",
       "</style>\n",
       "<table border=\"1\" class=\"dataframe\">\n",
       "  <thead>\n",
       "    <tr style=\"text-align: right;\">\n",
       "      <th></th>\n",
       "      <th>Company Name</th>\n",
       "      <th>Industry</th>\n",
       "      <th>Round/Series</th>\n",
       "      <th>Amount</th>\n",
       "      <th>Location</th>\n",
       "      <th>About Company</th>\n",
       "    </tr>\n",
       "  </thead>\n",
       "  <tbody>\n",
       "    <tr>\n",
       "      <th>0</th>\n",
       "      <td>TheCollegeFever</td>\n",
       "      <td>Brand Marketing, Event Promotion, Marketing, S...</td>\n",
       "      <td>Seed</td>\n",
       "      <td>250000</td>\n",
       "      <td>Bangalore, Karnataka, India</td>\n",
       "      <td>TheCollegeFever is a hub for fun, fiesta and f...</td>\n",
       "    </tr>\n",
       "    <tr>\n",
       "      <th>1</th>\n",
       "      <td>Happy Cow Dairy</td>\n",
       "      <td>Agriculture, Farming</td>\n",
       "      <td>Seed</td>\n",
       "      <td>₹40,000,000</td>\n",
       "      <td>Mumbai, Maharashtra, India</td>\n",
       "      <td>A startup which aggregates milk from dairy far...</td>\n",
       "    </tr>\n",
       "    <tr>\n",
       "      <th>2</th>\n",
       "      <td>MyLoanCare</td>\n",
       "      <td>Credit, Financial Services, Lending, Marketplace</td>\n",
       "      <td>Series A</td>\n",
       "      <td>₹65,000,000</td>\n",
       "      <td>Gurgaon, Haryana, India</td>\n",
       "      <td>Leading Online Loans Marketplace in India</td>\n",
       "    </tr>\n",
       "    <tr>\n",
       "      <th>3</th>\n",
       "      <td>PayMe India</td>\n",
       "      <td>Financial Services, FinTech</td>\n",
       "      <td>Angel</td>\n",
       "      <td>2000000</td>\n",
       "      <td>Noida, Uttar Pradesh, India</td>\n",
       "      <td>PayMe India is an innovative FinTech organizat...</td>\n",
       "    </tr>\n",
       "    <tr>\n",
       "      <th>4</th>\n",
       "      <td>Eunimart</td>\n",
       "      <td>E-Commerce Platforms, Retail, SaaS</td>\n",
       "      <td>Seed</td>\n",
       "      <td>—</td>\n",
       "      <td>Hyderabad, Andhra Pradesh, India</td>\n",
       "      <td>Eunimart is a one stop solution for merchants ...</td>\n",
       "    </tr>\n",
       "    <tr>\n",
       "      <th>...</th>\n",
       "      <td>...</td>\n",
       "      <td>...</td>\n",
       "      <td>...</td>\n",
       "      <td>...</td>\n",
       "      <td>...</td>\n",
       "      <td>...</td>\n",
       "    </tr>\n",
       "    <tr>\n",
       "      <th>521</th>\n",
       "      <td>Udaan</td>\n",
       "      <td>B2B, Business Development, Internet, Marketplace</td>\n",
       "      <td>Series C</td>\n",
       "      <td>225000000</td>\n",
       "      <td>Bangalore, Karnataka, India</td>\n",
       "      <td>Udaan is a B2B trade platform, designed specif...</td>\n",
       "    </tr>\n",
       "    <tr>\n",
       "      <th>522</th>\n",
       "      <td>Happyeasygo Group</td>\n",
       "      <td>Tourism, Travel</td>\n",
       "      <td>Series A</td>\n",
       "      <td>—</td>\n",
       "      <td>Haryana, Haryana, India</td>\n",
       "      <td>HappyEasyGo is an online travel domain.</td>\n",
       "    </tr>\n",
       "    <tr>\n",
       "      <th>523</th>\n",
       "      <td>Mombay</td>\n",
       "      <td>Food and Beverage, Food Delivery, Internet</td>\n",
       "      <td>Seed</td>\n",
       "      <td>7500</td>\n",
       "      <td>Mumbai, Maharashtra, India</td>\n",
       "      <td>Mombay is a unique opportunity for housewives ...</td>\n",
       "    </tr>\n",
       "    <tr>\n",
       "      <th>524</th>\n",
       "      <td>Droni Tech</td>\n",
       "      <td>Information Technology</td>\n",
       "      <td>Seed</td>\n",
       "      <td>₹35,000,000</td>\n",
       "      <td>Mumbai, Maharashtra, India</td>\n",
       "      <td>Droni Tech manufacture UAVs and develop softwa...</td>\n",
       "    </tr>\n",
       "    <tr>\n",
       "      <th>525</th>\n",
       "      <td>Netmeds</td>\n",
       "      <td>Biotechnology, Health Care, Pharmaceutical</td>\n",
       "      <td>Series C</td>\n",
       "      <td>35000000</td>\n",
       "      <td>Chennai, Tamil Nadu, India</td>\n",
       "      <td>Welcome to India's most convenient pharmacy!</td>\n",
       "    </tr>\n",
       "  </tbody>\n",
       "</table>\n",
       "<p>526 rows × 6 columns</p>\n",
       "</div>"
      ],
      "text/plain": [
       "          Company Name                                           Industry  \\\n",
       "0      TheCollegeFever  Brand Marketing, Event Promotion, Marketing, S...   \n",
       "1      Happy Cow Dairy                               Agriculture, Farming   \n",
       "2           MyLoanCare   Credit, Financial Services, Lending, Marketplace   \n",
       "3          PayMe India                        Financial Services, FinTech   \n",
       "4             Eunimart                 E-Commerce Platforms, Retail, SaaS   \n",
       "..                 ...                                                ...   \n",
       "521              Udaan   B2B, Business Development, Internet, Marketplace   \n",
       "522  Happyeasygo Group                                    Tourism, Travel   \n",
       "523             Mombay         Food and Beverage, Food Delivery, Internet   \n",
       "524         Droni Tech                             Information Technology   \n",
       "525            Netmeds         Biotechnology, Health Care, Pharmaceutical   \n",
       "\n",
       "    Round/Series       Amount                          Location  \\\n",
       "0           Seed       250000       Bangalore, Karnataka, India   \n",
       "1           Seed  ₹40,000,000        Mumbai, Maharashtra, India   \n",
       "2       Series A  ₹65,000,000           Gurgaon, Haryana, India   \n",
       "3          Angel      2000000       Noida, Uttar Pradesh, India   \n",
       "4           Seed            —  Hyderabad, Andhra Pradesh, India   \n",
       "..           ...          ...                               ...   \n",
       "521     Series C    225000000       Bangalore, Karnataka, India   \n",
       "522     Series A            —           Haryana, Haryana, India   \n",
       "523         Seed         7500        Mumbai, Maharashtra, India   \n",
       "524         Seed  ₹35,000,000        Mumbai, Maharashtra, India   \n",
       "525     Series C     35000000        Chennai, Tamil Nadu, India   \n",
       "\n",
       "                                         About Company  \n",
       "0    TheCollegeFever is a hub for fun, fiesta and f...  \n",
       "1    A startup which aggregates milk from dairy far...  \n",
       "2            Leading Online Loans Marketplace in India  \n",
       "3    PayMe India is an innovative FinTech organizat...  \n",
       "4    Eunimart is a one stop solution for merchants ...  \n",
       "..                                                 ...  \n",
       "521  Udaan is a B2B trade platform, designed specif...  \n",
       "522            HappyEasyGo is an online travel domain.  \n",
       "523  Mombay is a unique opportunity for housewives ...  \n",
       "524  Droni Tech manufacture UAVs and develop softwa...  \n",
       "525       Welcome to India's most convenient pharmacy!  \n",
       "\n",
       "[526 rows x 6 columns]"
      ]
     },
     "execution_count": 21,
     "metadata": {},
     "output_type": "execute_result"
    }
   ],
   "source": [
    "data_2018"
   ]
  },
  {
   "cell_type": "markdown",
   "id": "5a6699fc",
   "metadata": {},
   "source": [
    "**Handling missing columns and currency signs in the 2018 dataset**\n",
    "\n",
    "- The 2018 dataset has missing; 'founded', 'founders', and 'investor' columns\n"
   ]
  },
  {
   "cell_type": "code",
   "execution_count": 22,
   "id": "3058a0b5",
   "metadata": {},
   "outputs": [],
   "source": [
    "# Engineer missing columns for the 2018 dataset\n",
    "columns_to_add = ['founded', 'founders', 'investor']\n",
    "for column in columns_to_add:\n",
    "    if column not in data_2018.columns:\n",
    "        data_2018[column] = np.NaN\n",
    "\n",
    "# Replace '₹', commas, '—', and \"''\" in 'Amount' column\n",
    "data_2018['Amount'] = data_2018['Amount'].str.replace(',', '').str.replace('—', '').str.replace(\"''\",'').replace('', np.nan)\n",
    "\n",
    "# Conditionally apply multiplication only where '₹' is present\n",
    "mask = data_2018['Amount'].str.contains('₹', na=False)\n",
    "data_2018.loc[mask, 'Amount'] = data_2018.loc[mask, 'Amount'].str.replace('₹', '').astype(float) * 0.0146"
   ]
  },
  {
   "cell_type": "markdown",
   "id": "38deab22",
   "metadata": {},
   "source": [
    "**Data collection Year**\n",
    "\n",
    "- There is need to add a column that represents the year each dataset was collected. This will help with handling the datasets after merging the dataframes \n"
   ]
  },
  {
   "cell_type": "code",
   "execution_count": 23,
   "id": "0633e25e",
   "metadata": {},
   "outputs": [],
   "source": [
    "# add year when data was collected column to every dataset\n",
    "data_2018['data_year'] = pd.to_datetime('2018', format='%Y').year\n",
    "data_2019['data_year'] = pd.to_datetime('2019', format='%Y').year\n",
    "data_2020['data_year'] = pd.to_datetime('2020', format='%Y').year\n",
    "data_2021['data_year'] = pd.to_datetime('2021', format='%Y').year"
   ]
  },
  {
   "cell_type": "markdown",
   "id": "4e3dcda9",
   "metadata": {},
   "source": []
  },
  {
   "cell_type": "markdown",
   "id": "96f9f8d0",
   "metadata": {},
   "source": [
    "**Merge the dataframes**"
   ]
  },
  {
   "cell_type": "markdown",
   "id": "55009ec1",
   "metadata": {},
   "source": [
    "**Notes**\n",
    "- The function below concatenates the dataframes then renames the columns to ensure uniformity across the merged dataframe\n"
   ]
  },
  {
   "cell_type": "code",
   "execution_count": 28,
   "id": "ee2b9099",
   "metadata": {},
   "outputs": [],
   "source": [
    "#Define fuction to concatenate and rename columns\n",
    "def concat_dfs(df_1, df_2, df_3, df_4):\n",
    "    # Concatenate dataframes along the row axis and reset index\n",
    "    df = pd.concat([df_1, df_2, df_3, df_4], ignore_index=True)\n",
    "\n",
    "    # Rename columns before concatenating\n",
    "    df_1.rename(columns={'Company Name': 'company_brand', 'Industry': 'sector', 'Round/Series': 'stage',\n",
    "                         'Amount': 'amount($)', 'Location': 'location', 'About Company': 'about_company'},\n",
    "                inplace=True)\n",
    "    df_2.rename(columns={'Company/Brand': 'company_brand', 'Founded': 'founded', 'HeadQuarter': 'location',\n",
    "                         'Sector': 'sector', 'What it does': 'about_company', 'Founders': 'founders',\n",
    "                         'Investor': 'investor', 'Amount($)': 'amount($)', 'Stage': 'stage'},\n",
    "                inplace=True)\n",
    "    df_3.rename(columns={'Company_Brand': 'company_brand', 'Founded': 'founded', 'HeadQuarter': 'location',\n",
    "                         'Sector': 'sector', 'What_it_does': 'about_company', 'Founders': 'founders',\n",
    "                         'Investor': 'investor', 'Amount': 'amount($)', 'Stage': 'stage'},\n",
    "                inplace=True)\n",
    "    df_4.rename(columns={'Company_Brand': 'company_brand', 'Founded': 'founded', 'HeadQuarter': 'location',\n",
    "                         'Sector': 'sector', 'What_it_does': 'about_company', 'Founders': 'founders',\n",
    "                         'Investor': 'investor', 'Amount': 'amount($)', 'Stage': 'stage'},\n",
    "                inplace=True)\n",
    "\n",
    "    return df\n",
    "\n",
    "df = concat_dfs(data_2018, data_2019, data_2020, data_2021)\n"
   ]
  },
  {
   "cell_type": "code",
   "execution_count": 29,
   "id": "482326e4",
   "metadata": {},
   "outputs": [],
   "source": [
    "#Drop the extreneous column 10\n",
    "df.drop('column10', axis=1, inplace= True)"
   ]
  },
  {
   "cell_type": "markdown",
   "id": "4d9d8fc2",
   "metadata": {},
   "source": [
    "**Cleaning 'Amount' column**"
   ]
  },
  {
   "cell_type": "code",
   "execution_count": 26,
   "id": "bb33eeac",
   "metadata": {},
   "outputs": [
    {
     "name": "stdout",
     "output_type": "stream",
     "text": [
      "Error: 'amount($)'\n"
     ]
    }
   ],
   "source": [
    "try:\n",
    "    # Remove dollar sign\n",
    "    df['amount($)'] = df['amount($)'].replace('\\$', '', regex=True)\n",
    "\n",
    "    # Remove commas\n",
    "    df['amount($)'] = df['amount($)'].str.replace(',', '')\n",
    "\n",
    "    # Remove specified values\n",
    "    df['amount($)'] = df['amount($)'].replace([\"Upsparks\", 'undisclosed', 'Undisclosed', \"ah! Ventures\", \n",
    "                                               \"Pre-series A\", \"ITO Angel Network LetsVenture\", \n",
    "                                               \"JITO Angel Network LetsVenture\", \"Series C\", 'Seed', ','], '')\n",
    "\n",
    "    # Convert the 'amount($)' column to numeric\n",
    "    df['amount($)'] = pd.to_numeric(df['amount($)'])\n",
    "\n",
    "except Exception as e:\n",
    "    print(f'Error: {e}')\n",
    "\n"
   ]
  },
  {
   "cell_type": "code",
   "execution_count": 30,
   "id": "80a74fb7",
   "metadata": {},
   "outputs": [
    {
     "name": "stdout",
     "output_type": "stream",
     "text": [
      "<class 'pandas.core.series.Series'>\n",
      "RangeIndex: 2879 entries, 0 to 2878\n",
      "Series name: amount($)\n",
      "Non-Null Count  Dtype \n",
      "--------------  ----- \n",
      "2474 non-null   object\n",
      "dtypes: object(1)\n",
      "memory usage: 22.6+ KB\n"
     ]
    }
   ],
   "source": [
    "df['amount($)'].info()"
   ]
  },
  {
   "cell_type": "markdown",
   "id": "51fb2513",
   "metadata": {},
   "source": [
    "**Cleaning data_year column**"
   ]
  },
  {
   "cell_type": "code",
   "execution_count": 33,
   "id": "0cbb5d28",
   "metadata": {},
   "outputs": [],
   "source": [
    "# Convert the data_year column to date\n",
    "df['data_year']=pd.to_datetime(df['data_year'], format='%Y')\n",
    "df['data_year']=df['data_year'].dt.to_period('y')\n",
    "# df['founded']=pd.to_datetime(df['founded']).dt.year"
   ]
  },
  {
   "cell_type": "code",
   "execution_count": 34,
   "id": "375a213e",
   "metadata": {},
   "outputs": [
    {
     "name": "stdout",
     "output_type": "stream",
     "text": [
      "There are 0 Null values in the 'data_year' column\n"
     ]
    }
   ],
   "source": [
    "# check for nulls and duplicated\n",
    "print(f\"There are {df['data_year'].isna().sum()} Null values in the 'data_year' column\")"
   ]
  },
  {
   "cell_type": "code",
   "execution_count": 35,
   "id": "5cba9afa",
   "metadata": {},
   "outputs": [
    {
     "name": "stdout",
     "output_type": "stream",
     "text": [
      "<class 'pandas.core.series.Series'>\n",
      "RangeIndex: 2879 entries, 0 to 2878\n",
      "Series name: data_year\n",
      "Non-Null Count  Dtype        \n",
      "--------------  -----        \n",
      "2879 non-null   period[Y-DEC]\n",
      "dtypes: period[Y-DEC](1)\n",
      "memory usage: 22.6 KB\n"
     ]
    }
   ],
   "source": [
    "df['data_year'].info()"
   ]
  },
  {
   "cell_type": "markdown",
   "id": "60be2406",
   "metadata": {},
   "source": [
    "**Cleaning 'founded' column**"
   ]
  },
  {
   "cell_type": "code",
   "execution_count": null,
   "id": "b10490c8",
   "metadata": {},
   "outputs": [
    {
     "name": "stdout",
     "output_type": "stream",
     "text": [
      "There are 2844 and 769 Null values in the 'founded' column\n"
     ]
    }
   ],
   "source": [
    "print(f\"There are {df['founded'].isna().sum()} Null values in the 'founded' column\")"
   ]
  },
  {
   "cell_type": "markdown",
   "id": "865f3aa5",
   "metadata": {},
   "source": [
    "**Notes**  \n",
    "- There are 769 null values in the 'founded' column.  \n",
    "\n",
    "- Since dropping the nulls will lead to a significant loss of our data, Backward fill will be used to fill the null values"
   ]
  },
  {
   "cell_type": "code",
   "execution_count": 31,
   "id": "b2cb3f0d",
   "metadata": {},
   "outputs": [],
   "source": [
    "# Fill missing values\n",
    "df['founded']=df['founded'].fillna(method='bfill')\n",
    "\n",
    "# convert to datetime\n",
    "df['founded']=pd.to_datetime(df['founded'], format='%Y')\n",
    "\n",
    "df['founded']=df['founded'].dt.to_period('y')"
   ]
  },
  {
   "cell_type": "code",
   "execution_count": 36,
   "id": "1526d680",
   "metadata": {},
   "outputs": [
    {
     "name": "stdout",
     "output_type": "stream",
     "text": [
      "<class 'pandas.core.frame.DataFrame'>\n",
      "RangeIndex: 2879 entries, 0 to 2878\n",
      "Data columns (total 10 columns):\n",
      " #   Column         Non-Null Count  Dtype        \n",
      "---  ------         --------------  -----        \n",
      " 0   company_brand  2879 non-null   object       \n",
      " 1   sector         2861 non-null   object       \n",
      " 2   stage          1941 non-null   object       \n",
      " 3   amount($)      2474 non-null   object       \n",
      " 4   location       2765 non-null   object       \n",
      " 5   about_company  2879 non-null   object       \n",
      " 6   founded        2879 non-null   period[Y-DEC]\n",
      " 7   founders       2334 non-null   object       \n",
      " 8   investor       2253 non-null   object       \n",
      " 9   data_year      2879 non-null   period[Y-DEC]\n",
      "dtypes: object(8), period[Y-DEC](2)\n",
      "memory usage: 225.1+ KB\n"
     ]
    }
   ],
   "source": [
    "df.info()"
   ]
  }
 ],
 "metadata": {
  "kernelspec": {
   "display_name": "Python 3 (ipykernel)",
   "language": "python",
   "name": "python3"
  },
  "language_info": {
   "codemirror_mode": {
    "name": "ipython",
    "version": 3
   },
   "file_extension": ".py",
   "mimetype": "text/x-python",
   "name": "python",
   "nbconvert_exporter": "python",
   "pygments_lexer": "ipython3",
   "version": "3.11.6"
  }
 },
 "nbformat": 4,
 "nbformat_minor": 5
}
