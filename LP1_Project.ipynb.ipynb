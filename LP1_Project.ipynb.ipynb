{
 "cells": [
  {
   "cell_type": "markdown",
   "id": "098d19ba-83f1-4ebe-8224-3d771aa670e6",
   "metadata": {},
   "source": [
    "# **INDIAN STARTUP ECOSYSTEM**"
   ]
  },
  {
   "cell_type": "markdown",
   "id": "c62646cd-0736-4382-a4d2-318010effda4",
   "metadata": {},
   "source": [
    "## Project Description\n",
    "We embark on a journey of discovery as we leverage our data analysis expertise to uncover the untapped potential within the Indian startup ecosystem. This project is designed to not only decode the numbers but to distill insights that will guide our team towards a successful foray into this dynamic market."
   ]
  },
  {
   "cell_type": "markdown",
   "id": "073a46b0-b9c4-4cd3-941f-2966afc886e3",
   "metadata": {},
   "source": [
    "## Scope of Work\n",
    "\n",
    "- Conduct a thorough exploration of datasets, dissecting funding patterns, sectoral nuances, and geographical hotspots in the Indian startup landscap\n",
    "- Analyze funding received by startups in india from 2018 to 2021\n",
    "\n"
   ]
  },
  {
   "cell_type": "markdown",
   "id": "56c8dab3-8e2b-47f3-874a-d27632251b8f",
   "metadata": {},
   "source": [
    "## Hypothesis \n",
    "\n",
    "**Null Hypothesis (H0)**: There is no significant relationship between funding and the sector  \n",
    "\n",
    "**Alternative Hypothesis (H1)**: There is a significant relationship between funding and the sector"
   ]
  },
  {
   "cell_type": "markdown",
   "id": "8620e446-b068-4209-8f16-003e788eebdb",
   "metadata": {},
   "source": [
    "## Questions \n",
    "1. How does funding vary across different industry sectors in India?\n",
    "2. How does funding vary with the loaction of the start-ups\n",
    "3. What is the relationship between the amount of funding and the stage of the company?\n",
    "4. How have funding trends evolved between 2018 and 2021?\n",
    "5. What are the most attractive sectors for investors?\n",
    "6. Does the location of the company influence its sector?\n",
    "\n",
    "\n"
   ]
  },
  {
   "cell_type": "markdown",
   "id": "182b1f90-e702-479c-bed8-7b0937f92ec8",
   "metadata": {},
   "source": [
    "# **DATA EXPLORATION, DATA UNDERSTANDING and DATA ANALYSIS**"
   ]
  },
  {
   "cell_type": "code",
   "execution_count": 4,
   "id": "a4313f08-adad-4397-b2a2-07ab3f969571",
   "metadata": {},
   "outputs": [],
   "source": [
    "# Load libraries\n",
    "# Database connnection\n",
    "import pyodbc     \n",
    "from dotenv import dotenv_values    #import the dotenv_values function from the dotenv package\n",
    "\n",
    "# Data manipulation\n",
    "import pandas as pd\n",
    "import numpy as np\n",
    "\n",
    "# Data visualization\n",
    "import matplotlib.pyplot as plt\n",
    "import seaborn as sns\n",
    "import plotly.express as px\n",
    "\n",
    "from scipy.stats import f_oneway\n",
    "\n",
    "# filter warnings\n",
    "import warnings \n",
    "warnings.filterwarnings('ignore')"
   ]
  },
  {
   "cell_type": "markdown",
   "id": "a5653ae6-aaf0-4f36-ac77-0d12378022dd",
   "metadata": {},
   "source": [
    "# **1. Loading and Inspection of Data**"
   ]
  },
  {
   "cell_type": "markdown",
   "id": "6c0ba8b8",
   "metadata": {},
   "source": [
    "## **1.1 Loading data from the SQL server**"
   ]
  },
  {
   "cell_type": "code",
   "execution_count": 5,
   "id": "64476aec-cfda-44ff-9287-f9ae1116d755",
   "metadata": {},
   "outputs": [],
   "source": [
    "# Load environment variables from .env file into a dictionary\n",
    "environment_variables = dotenv_values('.env')\n",
    "\n",
    "# Get the values for the credentials you set in the '.env' file\n",
    "server = environment_variables.get(\"SERVER\")\n",
    "database = environment_variables.get(\"DATABASE\")\n",
    "username = environment_variables.get(\"USERNAME\")\n",
    "password = environment_variables.get(\"PASSWORD\")"
   ]
  },
  {
   "cell_type": "code",
   "execution_count": 6,
   "id": "1065f30f-d2af-4355-9709-68b7cf2eec10",
   "metadata": {},
   "outputs": [],
   "source": [
    "# Create a connection string\n",
    "\n",
    "connection_string = f\"DRIVER={{SQL Server}};SERVER={server};DATABASE={database};UID={username};PWD={password}\"\n",
    "    \n",
    "connection = pyodbc.connect(connection_string)\n",
    "\n"
   ]
  },
  {
   "cell_type": "code",
   "execution_count": 7,
   "id": "7c96e340-66bf-4947-b4bf-878ba7335936",
   "metadata": {},
   "outputs": [],
   "source": [
    "# sql query to get 2020 data. \n",
    "query_2020=\"SELECT * FROM dbo.LP1_startup_funding2020\"\n",
    "\n",
    "# sql query to get 2021 data. \n",
    "query_2021=\"SELECT * FROM dbo.LP1_startup_funding2021\""
   ]
  },
  {
   "cell_type": "code",
   "execution_count": 8,
   "id": "4879cd40-2819-442a-a895-1560371616cc",
   "metadata": {},
   "outputs": [],
   "source": [
    "    # load 2021 data\n",
    "data_2021=pd.read_sql(query_2021,connection)\n",
    "\n",
    "    # load 2020 data\n",
    "data_2020=pd.read_sql(query_2020,connection)"
   ]
  },
  {
   "cell_type": "markdown",
   "id": "35309cc2",
   "metadata": {},
   "source": [
    "## **1.2 Loading CSV Files**"
   ]
  },
  {
   "cell_type": "code",
   "execution_count": 9,
   "id": "a81c6016",
   "metadata": {},
   "outputs": [],
   "source": [
    "# load 2019 data\n",
    "data_2019=pd.read_csv(r'C:\\Users\\iamde\\OneDrive\\Desktop\\jupyter\\india_startup_data\\startup_funding2019.csv')\n",
    "\n",
    "    # load 2018 data\n",
    "data_2018=pd.read_csv(r'C:\\Users\\iamde\\OneDrive\\Desktop\\jupyter\\india_startup_data\\startup_funding2018.csv')\n"
   ]
  },
  {
   "cell_type": "markdown",
   "id": "b93809db-ec5e-415e-bce8-dc9a3367493b",
   "metadata": {},
   "source": [
    "# **2.Exploratory Data Analaysis(EDA)**"
   ]
  },
  {
   "cell_type": "markdown",
   "id": "ededc4f7",
   "metadata": {},
   "source": [
    "## **2.0.  2018 Dataset EDA**"
   ]
  },
  {
   "cell_type": "code",
   "execution_count": 10,
   "id": "88a913fa-08a6-4612-ac72-37b0a290a00a",
   "metadata": {},
   "outputs": [
    {
     "data": {
      "text/html": [
       "<div>\n",
       "<style scoped>\n",
       "    .dataframe tbody tr th:only-of-type {\n",
       "        vertical-align: middle;\n",
       "    }\n",
       "\n",
       "    .dataframe tbody tr th {\n",
       "        vertical-align: top;\n",
       "    }\n",
       "\n",
       "    .dataframe thead th {\n",
       "        text-align: right;\n",
       "    }\n",
       "</style>\n",
       "<table border=\"1\" class=\"dataframe\">\n",
       "  <thead>\n",
       "    <tr style=\"text-align: right;\">\n",
       "      <th></th>\n",
       "      <th>Company Name</th>\n",
       "      <th>Industry</th>\n",
       "      <th>Round/Series</th>\n",
       "      <th>Amount</th>\n",
       "      <th>Location</th>\n",
       "      <th>About Company</th>\n",
       "    </tr>\n",
       "  </thead>\n",
       "  <tbody>\n",
       "    <tr>\n",
       "      <th>523</th>\n",
       "      <td>Mombay</td>\n",
       "      <td>Food and Beverage, Food Delivery, Internet</td>\n",
       "      <td>Seed</td>\n",
       "      <td>7500</td>\n",
       "      <td>Mumbai, Maharashtra, India</td>\n",
       "      <td>Mombay is a unique opportunity for housewives ...</td>\n",
       "    </tr>\n",
       "    <tr>\n",
       "      <th>329</th>\n",
       "      <td>arzooo.com</td>\n",
       "      <td>Consumer Electronics, E-Commerce, E-Commerce P...</td>\n",
       "      <td>Seed</td>\n",
       "      <td>₹15,000,000</td>\n",
       "      <td>Bangalore, Karnataka, India</td>\n",
       "      <td>E-commerce website promising the best price on...</td>\n",
       "    </tr>\n",
       "    <tr>\n",
       "      <th>94</th>\n",
       "      <td>Rays Power Infra</td>\n",
       "      <td>Energy, Solar</td>\n",
       "      <td>Venture - Series Unknown</td>\n",
       "      <td>₹2,000,000,000</td>\n",
       "      <td>Jaipur, Rajasthan, India</td>\n",
       "      <td>Rays Power Infra is a leading integrated Solar...</td>\n",
       "    </tr>\n",
       "    <tr>\n",
       "      <th>393</th>\n",
       "      <td>Asset Reconstruction Company (India) Ltd.</td>\n",
       "      <td>Financial Services, Professional Services</td>\n",
       "      <td>Secondary Market</td>\n",
       "      <td>—</td>\n",
       "      <td>Mumbai, Maharashtra, India</td>\n",
       "      <td>Asset Reconstruction Company (India) Ltd. oper...</td>\n",
       "    </tr>\n",
       "    <tr>\n",
       "      <th>107</th>\n",
       "      <td>Be U Salons</td>\n",
       "      <td>Apps, Beauty, Consumer, Retail</td>\n",
       "      <td>Seed</td>\n",
       "      <td>₹30,000,000</td>\n",
       "      <td>New Delhi, Delhi, India</td>\n",
       "      <td>Be U is India's first subscription based Salon...</td>\n",
       "    </tr>\n",
       "  </tbody>\n",
       "</table>\n",
       "</div>"
      ],
      "text/plain": [
       "                                  Company Name  \\\n",
       "523                                     Mombay   \n",
       "329                                 arzooo.com   \n",
       "94                            Rays Power Infra   \n",
       "393  Asset Reconstruction Company (India) Ltd.   \n",
       "107                                Be U Salons   \n",
       "\n",
       "                                              Industry  \\\n",
       "523         Food and Beverage, Food Delivery, Internet   \n",
       "329  Consumer Electronics, E-Commerce, E-Commerce P...   \n",
       "94                                       Energy, Solar   \n",
       "393          Financial Services, Professional Services   \n",
       "107                     Apps, Beauty, Consumer, Retail   \n",
       "\n",
       "                 Round/Series          Amount                     Location  \\\n",
       "523                      Seed            7500   Mumbai, Maharashtra, India   \n",
       "329                      Seed     ₹15,000,000  Bangalore, Karnataka, India   \n",
       "94   Venture - Series Unknown  ₹2,000,000,000     Jaipur, Rajasthan, India   \n",
       "393          Secondary Market               —   Mumbai, Maharashtra, India   \n",
       "107                      Seed     ₹30,000,000      New Delhi, Delhi, India   \n",
       "\n",
       "                                         About Company  \n",
       "523  Mombay is a unique opportunity for housewives ...  \n",
       "329  E-commerce website promising the best price on...  \n",
       "94   Rays Power Infra is a leading integrated Solar...  \n",
       "393  Asset Reconstruction Company (India) Ltd. oper...  \n",
       "107  Be U is India's first subscription based Salon...  "
      ]
     },
     "execution_count": 10,
     "metadata": {},
     "output_type": "execute_result"
    }
   ],
   "source": [
    "# preview the rows and columns for the 2018 dataset\n",
    "data_2018.sample(5)"
   ]
  },
  {
   "cell_type": "code",
   "execution_count": 11,
   "id": "42aebb98",
   "metadata": {},
   "outputs": [
    {
     "name": "stdout",
     "output_type": "stream",
     "text": [
      "(526, 6)\n",
      "There are 526 rows, and 6 columns\n"
     ]
    }
   ],
   "source": [
    "# checking for number of columns and rows\n",
    "print (data_2018.shape)\n",
    "print(f\"There are {data_2018.shape[0]} rows, and {data_2018.shape[1]} columns\")"
   ]
  },
  {
   "cell_type": "code",
   "execution_count": 12,
   "id": "132ad5bb",
   "metadata": {},
   "outputs": [
    {
     "name": "stdout",
     "output_type": "stream",
     "text": [
      "<class 'pandas.core.frame.DataFrame'>\n",
      "RangeIndex: 526 entries, 0 to 525\n",
      "Data columns (total 6 columns):\n",
      " #   Column         Non-Null Count  Dtype \n",
      "---  ------         --------------  ----- \n",
      " 0   Company Name   526 non-null    object\n",
      " 1   Industry       526 non-null    object\n",
      " 2   Round/Series   526 non-null    object\n",
      " 3   Amount         526 non-null    object\n",
      " 4   Location       526 non-null    object\n",
      " 5   About Company  526 non-null    object\n",
      "dtypes: object(6)\n",
      "memory usage: 24.8+ KB\n"
     ]
    }
   ],
   "source": [
    "# checking info\n",
    "data_2018.info()"
   ]
  },
  {
   "cell_type": "code",
   "execution_count": 13,
   "id": "0e79a650",
   "metadata": {},
   "outputs": [
    {
     "data": {
      "text/html": [
       "<div>\n",
       "<style scoped>\n",
       "    .dataframe tbody tr th:only-of-type {\n",
       "        vertical-align: middle;\n",
       "    }\n",
       "\n",
       "    .dataframe tbody tr th {\n",
       "        vertical-align: top;\n",
       "    }\n",
       "\n",
       "    .dataframe thead th {\n",
       "        text-align: right;\n",
       "    }\n",
       "</style>\n",
       "<table border=\"1\" class=\"dataframe\">\n",
       "  <thead>\n",
       "    <tr style=\"text-align: right;\">\n",
       "      <th></th>\n",
       "      <th>Company Name</th>\n",
       "      <th>Industry</th>\n",
       "      <th>Round/Series</th>\n",
       "      <th>Amount</th>\n",
       "      <th>Location</th>\n",
       "      <th>About Company</th>\n",
       "    </tr>\n",
       "  </thead>\n",
       "  <tbody>\n",
       "    <tr>\n",
       "      <th>count</th>\n",
       "      <td>526</td>\n",
       "      <td>526</td>\n",
       "      <td>526</td>\n",
       "      <td>526</td>\n",
       "      <td>526</td>\n",
       "      <td>526</td>\n",
       "    </tr>\n",
       "    <tr>\n",
       "      <th>unique</th>\n",
       "      <td>525</td>\n",
       "      <td>405</td>\n",
       "      <td>21</td>\n",
       "      <td>198</td>\n",
       "      <td>50</td>\n",
       "      <td>524</td>\n",
       "    </tr>\n",
       "    <tr>\n",
       "      <th>top</th>\n",
       "      <td>TheCollegeFever</td>\n",
       "      <td>—</td>\n",
       "      <td>Seed</td>\n",
       "      <td>—</td>\n",
       "      <td>Bangalore, Karnataka, India</td>\n",
       "      <td>TheCollegeFever is a hub for fun, fiesta and f...</td>\n",
       "    </tr>\n",
       "    <tr>\n",
       "      <th>freq</th>\n",
       "      <td>2</td>\n",
       "      <td>30</td>\n",
       "      <td>280</td>\n",
       "      <td>148</td>\n",
       "      <td>102</td>\n",
       "      <td>2</td>\n",
       "    </tr>\n",
       "  </tbody>\n",
       "</table>\n",
       "</div>"
      ],
      "text/plain": [
       "           Company Name Industry Round/Series Amount  \\\n",
       "count               526      526          526    526   \n",
       "unique              525      405           21    198   \n",
       "top     TheCollegeFever        —         Seed      —   \n",
       "freq                  2       30          280    148   \n",
       "\n",
       "                           Location  \\\n",
       "count                           526   \n",
       "unique                           50   \n",
       "top     Bangalore, Karnataka, India   \n",
       "freq                            102   \n",
       "\n",
       "                                            About Company  \n",
       "count                                                 526  \n",
       "unique                                                524  \n",
       "top     TheCollegeFever is a hub for fun, fiesta and f...  \n",
       "freq                                                    2  "
      ]
     },
     "execution_count": 13,
     "metadata": {},
     "output_type": "execute_result"
    }
   ],
   "source": [
    "# Describing the data\n",
    "data_2018.describe()"
   ]
  },
  {
   "cell_type": "markdown",
   "id": "966193e3",
   "metadata": {},
   "source": [
    "**Findings**  \n",
    "- TheCollegeFever company was the most common company  \n",
    "\n",
    "- Seed series was the most preffered  \n",
    "\n",
    "- most companies were based in Bangalore location  "
   ]
  },
  {
   "cell_type": "code",
   "execution_count": 14,
   "id": "5c19b957",
   "metadata": {},
   "outputs": [
    {
     "name": "stdout",
     "output_type": "stream",
     "text": [
      "There are  1 duplicate(s)\n"
     ]
    }
   ],
   "source": [
    "# checking for duplicates\n",
    "print(\"There are \",data_2018.duplicated().sum(),\"duplicate(s)\")"
   ]
  },
  {
   "cell_type": "code",
   "execution_count": 15,
   "id": "75166167",
   "metadata": {},
   "outputs": [
    {
     "data": {
      "text/plain": [
       "Company Name     0\n",
       "Industry         0\n",
       "Round/Series     0\n",
       "Amount           0\n",
       "Location         0\n",
       "About Company    0\n",
       "dtype: int64"
      ]
     },
     "execution_count": 15,
     "metadata": {},
     "output_type": "execute_result"
    }
   ],
   "source": [
    "# Checking for missing values\n",
    "data_2018.isnull().sum()"
   ]
  },
  {
   "cell_type": "markdown",
   "id": "5ef16a59",
   "metadata": {},
   "source": [
    "## **2.1. 2019 EDA**"
   ]
  },
  {
   "cell_type": "code",
   "execution_count": 16,
   "id": "3caff6a6-fadb-4132-9c2c-f79d2378d04d",
   "metadata": {},
   "outputs": [
    {
     "data": {
      "text/html": [
       "<div>\n",
       "<style scoped>\n",
       "    .dataframe tbody tr th:only-of-type {\n",
       "        vertical-align: middle;\n",
       "    }\n",
       "\n",
       "    .dataframe tbody tr th {\n",
       "        vertical-align: top;\n",
       "    }\n",
       "\n",
       "    .dataframe thead th {\n",
       "        text-align: right;\n",
       "    }\n",
       "</style>\n",
       "<table border=\"1\" class=\"dataframe\">\n",
       "  <thead>\n",
       "    <tr style=\"text-align: right;\">\n",
       "      <th></th>\n",
       "      <th>Company/Brand</th>\n",
       "      <th>Founded</th>\n",
       "      <th>HeadQuarter</th>\n",
       "      <th>Sector</th>\n",
       "      <th>What it does</th>\n",
       "      <th>Founders</th>\n",
       "      <th>Investor</th>\n",
       "      <th>Amount($)</th>\n",
       "      <th>Stage</th>\n",
       "    </tr>\n",
       "  </thead>\n",
       "  <tbody>\n",
       "    <tr>\n",
       "      <th>65</th>\n",
       "      <td>Cubical Labs</td>\n",
       "      <td>2013.0</td>\n",
       "      <td>NaN</td>\n",
       "      <td>IoT</td>\n",
       "      <td>Home automation solution provider</td>\n",
       "      <td>Dhruv Ratra, Swati Vyas</td>\n",
       "      <td>Rockstud Capital</td>\n",
       "      <td>Undisclosed</td>\n",
       "      <td>Series B</td>\n",
       "    </tr>\n",
       "    <tr>\n",
       "      <th>22</th>\n",
       "      <td>Springboard</td>\n",
       "      <td>2013.0</td>\n",
       "      <td>NaN</td>\n",
       "      <td>Edtech</td>\n",
       "      <td>Offers online courses and extensive mentor-bas...</td>\n",
       "      <td>Gautam Tambay, Parul Gupta</td>\n",
       "      <td>Reach Capital</td>\n",
       "      <td>$11,000,000</td>\n",
       "      <td>Post series A</td>\n",
       "    </tr>\n",
       "    <tr>\n",
       "      <th>83</th>\n",
       "      <td>Froogal</td>\n",
       "      <td>NaN</td>\n",
       "      <td>Hyderabad</td>\n",
       "      <td>Marketing &amp; Customer loyalty</td>\n",
       "      <td>A cloud based Customer Loyalty &amp; Engagement Pl...</td>\n",
       "      <td>Jeevan Chowdary M, Harshit Harchani</td>\n",
       "      <td>US-based angel investors</td>\n",
       "      <td>$1,000,000</td>\n",
       "      <td>Pre series A</td>\n",
       "    </tr>\n",
       "    <tr>\n",
       "      <th>1</th>\n",
       "      <td>Ruangguru</td>\n",
       "      <td>2014.0</td>\n",
       "      <td>Mumbai</td>\n",
       "      <td>Edtech</td>\n",
       "      <td>A learning platform that provides topic-based ...</td>\n",
       "      <td>Adamas Belva Syah Devara, Iman Usman.</td>\n",
       "      <td>General Atlantic</td>\n",
       "      <td>$150,000,000</td>\n",
       "      <td>Series C</td>\n",
       "    </tr>\n",
       "    <tr>\n",
       "      <th>82</th>\n",
       "      <td>Kratikal</td>\n",
       "      <td>NaN</td>\n",
       "      <td>Uttar pradesh</td>\n",
       "      <td>Technology</td>\n",
       "      <td>Provides cyber security solutions</td>\n",
       "      <td>Pavan Kushwaha</td>\n",
       "      <td>Gilda VC, Art Venture, Rajeev Chitrabhanu</td>\n",
       "      <td>$1,000,000</td>\n",
       "      <td>Pre-series A</td>\n",
       "    </tr>\n",
       "  </tbody>\n",
       "</table>\n",
       "</div>"
      ],
      "text/plain": [
       "   Company/Brand  Founded    HeadQuarter                        Sector  \\\n",
       "65  Cubical Labs   2013.0            NaN                           IoT   \n",
       "22   Springboard   2013.0            NaN                        Edtech   \n",
       "83       Froogal      NaN      Hyderabad  Marketing & Customer loyalty   \n",
       "1      Ruangguru   2014.0         Mumbai                        Edtech   \n",
       "82      Kratikal      NaN  Uttar pradesh                    Technology   \n",
       "\n",
       "                                         What it does  \\\n",
       "65                  Home automation solution provider   \n",
       "22  Offers online courses and extensive mentor-bas...   \n",
       "83  A cloud based Customer Loyalty & Engagement Pl...   \n",
       "1   A learning platform that provides topic-based ...   \n",
       "82                  Provides cyber security solutions   \n",
       "\n",
       "                                 Founders  \\\n",
       "65                Dhruv Ratra, Swati Vyas   \n",
       "22             Gautam Tambay, Parul Gupta   \n",
       "83    Jeevan Chowdary M, Harshit Harchani   \n",
       "1   Adamas Belva Syah Devara, Iman Usman.   \n",
       "82                         Pavan Kushwaha   \n",
       "\n",
       "                                     Investor     Amount($)          Stage  \n",
       "65                           Rockstud Capital   Undisclosed       Series B  \n",
       "22                              Reach Capital   $11,000,000  Post series A  \n",
       "83                   US-based angel investors    $1,000,000   Pre series A  \n",
       "1                            General Atlantic  $150,000,000       Series C  \n",
       "82  Gilda VC, Art Venture, Rajeev Chitrabhanu    $1,000,000   Pre-series A  "
      ]
     },
     "execution_count": 16,
     "metadata": {},
     "output_type": "execute_result"
    }
   ],
   "source": [
    "# get a sample of 2019 dataset\n",
    "data_2019.sample(5)"
   ]
  },
  {
   "cell_type": "code",
   "execution_count": 17,
   "id": "a9580d42",
   "metadata": {},
   "outputs": [
    {
     "name": "stdout",
     "output_type": "stream",
     "text": [
      "(89, 9)\n",
      "There are 89 rows, and 9 columns\n"
     ]
    }
   ],
   "source": [
    "# checking for number of columns and rows\n",
    "print (data_2019.shape)\n",
    "print(f\"There are {data_2019.shape[0]} rows, and {data_2019.shape[1]} columns\")"
   ]
  },
  {
   "cell_type": "code",
   "execution_count": 18,
   "id": "5de172ed",
   "metadata": {},
   "outputs": [
    {
     "name": "stdout",
     "output_type": "stream",
     "text": [
      "There are  0 duplicate(s)\n"
     ]
    }
   ],
   "source": [
    "# checking for duplicates\n",
    "print(\"There are \",data_2019.duplicated().sum(),\"duplicate(s)\")"
   ]
  },
  {
   "cell_type": "code",
   "execution_count": 19,
   "id": "9f408af6",
   "metadata": {},
   "outputs": [
    {
     "data": {
      "text/plain": [
       "Company/Brand     0\n",
       "Founded          29\n",
       "HeadQuarter      19\n",
       "Sector            5\n",
       "What it does      0\n",
       "Founders          3\n",
       "Investor          0\n",
       "Amount($)         0\n",
       "Stage            46\n",
       "dtype: int64"
      ]
     },
     "execution_count": 19,
     "metadata": {},
     "output_type": "execute_result"
    }
   ],
   "source": [
    "# Checking for nulls\n",
    "data_2019.isnull().sum()"
   ]
  },
  {
   "cell_type": "code",
   "execution_count": 20,
   "id": "164b5044",
   "metadata": {},
   "outputs": [
    {
     "name": "stdout",
     "output_type": "stream",
     "text": [
      "<class 'pandas.core.frame.DataFrame'>\n",
      "RangeIndex: 89 entries, 0 to 88\n",
      "Data columns (total 9 columns):\n",
      " #   Column         Non-Null Count  Dtype  \n",
      "---  ------         --------------  -----  \n",
      " 0   Company/Brand  89 non-null     object \n",
      " 1   Founded        60 non-null     float64\n",
      " 2   HeadQuarter    70 non-null     object \n",
      " 3   Sector         84 non-null     object \n",
      " 4   What it does   89 non-null     object \n",
      " 5   Founders       86 non-null     object \n",
      " 6   Investor       89 non-null     object \n",
      " 7   Amount($)      89 non-null     object \n",
      " 8   Stage          43 non-null     object \n",
      "dtypes: float64(1), object(8)\n",
      "memory usage: 6.4+ KB\n"
     ]
    }
   ],
   "source": [
    "# checking for datatypes in the different columns\n",
    "data_2019.info()"
   ]
  },
  {
   "cell_type": "code",
   "execution_count": 21,
   "id": "d383f36b",
   "metadata": {},
   "outputs": [
    {
     "data": {
      "text/html": [
       "<div>\n",
       "<style scoped>\n",
       "    .dataframe tbody tr th:only-of-type {\n",
       "        vertical-align: middle;\n",
       "    }\n",
       "\n",
       "    .dataframe tbody tr th {\n",
       "        vertical-align: top;\n",
       "    }\n",
       "\n",
       "    .dataframe thead th {\n",
       "        text-align: right;\n",
       "    }\n",
       "</style>\n",
       "<table border=\"1\" class=\"dataframe\">\n",
       "  <thead>\n",
       "    <tr style=\"text-align: right;\">\n",
       "      <th></th>\n",
       "      <th>Company/Brand</th>\n",
       "      <th>Founded</th>\n",
       "      <th>HeadQuarter</th>\n",
       "      <th>Sector</th>\n",
       "      <th>What it does</th>\n",
       "      <th>Founders</th>\n",
       "      <th>Investor</th>\n",
       "      <th>Amount($)</th>\n",
       "      <th>Stage</th>\n",
       "    </tr>\n",
       "  </thead>\n",
       "  <tbody>\n",
       "    <tr>\n",
       "      <th>count</th>\n",
       "      <td>89</td>\n",
       "      <td>60.000000</td>\n",
       "      <td>70</td>\n",
       "      <td>84</td>\n",
       "      <td>89</td>\n",
       "      <td>86</td>\n",
       "      <td>89</td>\n",
       "      <td>89</td>\n",
       "      <td>43</td>\n",
       "    </tr>\n",
       "    <tr>\n",
       "      <th>unique</th>\n",
       "      <td>87</td>\n",
       "      <td>NaN</td>\n",
       "      <td>17</td>\n",
       "      <td>52</td>\n",
       "      <td>88</td>\n",
       "      <td>85</td>\n",
       "      <td>86</td>\n",
       "      <td>50</td>\n",
       "      <td>15</td>\n",
       "    </tr>\n",
       "    <tr>\n",
       "      <th>top</th>\n",
       "      <td>Kratikal</td>\n",
       "      <td>NaN</td>\n",
       "      <td>Bangalore</td>\n",
       "      <td>Edtech</td>\n",
       "      <td>Online meat shop</td>\n",
       "      <td>Vivek Gupta, Abhay Hanjura</td>\n",
       "      <td>Undisclosed</td>\n",
       "      <td>Undisclosed</td>\n",
       "      <td>Series A</td>\n",
       "    </tr>\n",
       "    <tr>\n",
       "      <th>freq</th>\n",
       "      <td>2</td>\n",
       "      <td>NaN</td>\n",
       "      <td>21</td>\n",
       "      <td>7</td>\n",
       "      <td>2</td>\n",
       "      <td>2</td>\n",
       "      <td>3</td>\n",
       "      <td>12</td>\n",
       "      <td>10</td>\n",
       "    </tr>\n",
       "    <tr>\n",
       "      <th>mean</th>\n",
       "      <td>NaN</td>\n",
       "      <td>2014.533333</td>\n",
       "      <td>NaN</td>\n",
       "      <td>NaN</td>\n",
       "      <td>NaN</td>\n",
       "      <td>NaN</td>\n",
       "      <td>NaN</td>\n",
       "      <td>NaN</td>\n",
       "      <td>NaN</td>\n",
       "    </tr>\n",
       "    <tr>\n",
       "      <th>std</th>\n",
       "      <td>NaN</td>\n",
       "      <td>2.937003</td>\n",
       "      <td>NaN</td>\n",
       "      <td>NaN</td>\n",
       "      <td>NaN</td>\n",
       "      <td>NaN</td>\n",
       "      <td>NaN</td>\n",
       "      <td>NaN</td>\n",
       "      <td>NaN</td>\n",
       "    </tr>\n",
       "    <tr>\n",
       "      <th>min</th>\n",
       "      <td>NaN</td>\n",
       "      <td>2004.000000</td>\n",
       "      <td>NaN</td>\n",
       "      <td>NaN</td>\n",
       "      <td>NaN</td>\n",
       "      <td>NaN</td>\n",
       "      <td>NaN</td>\n",
       "      <td>NaN</td>\n",
       "      <td>NaN</td>\n",
       "    </tr>\n",
       "    <tr>\n",
       "      <th>25%</th>\n",
       "      <td>NaN</td>\n",
       "      <td>2013.000000</td>\n",
       "      <td>NaN</td>\n",
       "      <td>NaN</td>\n",
       "      <td>NaN</td>\n",
       "      <td>NaN</td>\n",
       "      <td>NaN</td>\n",
       "      <td>NaN</td>\n",
       "      <td>NaN</td>\n",
       "    </tr>\n",
       "    <tr>\n",
       "      <th>50%</th>\n",
       "      <td>NaN</td>\n",
       "      <td>2015.000000</td>\n",
       "      <td>NaN</td>\n",
       "      <td>NaN</td>\n",
       "      <td>NaN</td>\n",
       "      <td>NaN</td>\n",
       "      <td>NaN</td>\n",
       "      <td>NaN</td>\n",
       "      <td>NaN</td>\n",
       "    </tr>\n",
       "    <tr>\n",
       "      <th>75%</th>\n",
       "      <td>NaN</td>\n",
       "      <td>2016.250000</td>\n",
       "      <td>NaN</td>\n",
       "      <td>NaN</td>\n",
       "      <td>NaN</td>\n",
       "      <td>NaN</td>\n",
       "      <td>NaN</td>\n",
       "      <td>NaN</td>\n",
       "      <td>NaN</td>\n",
       "    </tr>\n",
       "    <tr>\n",
       "      <th>max</th>\n",
       "      <td>NaN</td>\n",
       "      <td>2019.000000</td>\n",
       "      <td>NaN</td>\n",
       "      <td>NaN</td>\n",
       "      <td>NaN</td>\n",
       "      <td>NaN</td>\n",
       "      <td>NaN</td>\n",
       "      <td>NaN</td>\n",
       "      <td>NaN</td>\n",
       "    </tr>\n",
       "  </tbody>\n",
       "</table>\n",
       "</div>"
      ],
      "text/plain": [
       "       Company/Brand      Founded HeadQuarter  Sector      What it does  \\\n",
       "count             89    60.000000          70      84                89   \n",
       "unique            87          NaN          17      52                88   \n",
       "top         Kratikal          NaN   Bangalore  Edtech  Online meat shop   \n",
       "freq               2          NaN          21       7                 2   \n",
       "mean             NaN  2014.533333         NaN     NaN               NaN   \n",
       "std              NaN     2.937003         NaN     NaN               NaN   \n",
       "min              NaN  2004.000000         NaN     NaN               NaN   \n",
       "25%              NaN  2013.000000         NaN     NaN               NaN   \n",
       "50%              NaN  2015.000000         NaN     NaN               NaN   \n",
       "75%              NaN  2016.250000         NaN     NaN               NaN   \n",
       "max              NaN  2019.000000         NaN     NaN               NaN   \n",
       "\n",
       "                          Founders     Investor    Amount($)     Stage  \n",
       "count                           86           89           89        43  \n",
       "unique                          85           86           50        15  \n",
       "top     Vivek Gupta, Abhay Hanjura  Undisclosed  Undisclosed  Series A  \n",
       "freq                             2            3           12        10  \n",
       "mean                           NaN          NaN          NaN       NaN  \n",
       "std                            NaN          NaN          NaN       NaN  \n",
       "min                            NaN          NaN          NaN       NaN  \n",
       "25%                            NaN          NaN          NaN       NaN  \n",
       "50%                            NaN          NaN          NaN       NaN  \n",
       "75%                            NaN          NaN          NaN       NaN  \n",
       "max                            NaN          NaN          NaN       NaN  "
      ]
     },
     "execution_count": 21,
     "metadata": {},
     "output_type": "execute_result"
    }
   ],
   "source": [
    "# performing descriptive analysis\n",
    "data_2019.describe(include='all')"
   ]
  },
  {
   "cell_type": "markdown",
   "id": "1e13028c",
   "metadata": {},
   "source": [
    "**Findings**\n",
    "- Kratikal company was the most common company\n",
    "\n",
    "- Most companies had their headquarters based in Bangalore\n",
    "\n",
    "- Majority of the companies are involved in the Edtech sector"
   ]
  },
  {
   "cell_type": "markdown",
   "id": "177b29be",
   "metadata": {},
   "source": [
    "## **2.2. 2020 EDA**"
   ]
  },
  {
   "cell_type": "code",
   "execution_count": 22,
   "id": "5b3f3480-99e5-4d9c-999b-c24fd6527f0b",
   "metadata": {},
   "outputs": [
    {
     "data": {
      "text/html": [
       "<div>\n",
       "<style scoped>\n",
       "    .dataframe tbody tr th:only-of-type {\n",
       "        vertical-align: middle;\n",
       "    }\n",
       "\n",
       "    .dataframe tbody tr th {\n",
       "        vertical-align: top;\n",
       "    }\n",
       "\n",
       "    .dataframe thead th {\n",
       "        text-align: right;\n",
       "    }\n",
       "</style>\n",
       "<table border=\"1\" class=\"dataframe\">\n",
       "  <thead>\n",
       "    <tr style=\"text-align: right;\">\n",
       "      <th></th>\n",
       "      <th>Company_Brand</th>\n",
       "      <th>Founded</th>\n",
       "      <th>HeadQuarter</th>\n",
       "      <th>Sector</th>\n",
       "      <th>What_it_does</th>\n",
       "      <th>Founders</th>\n",
       "      <th>Investor</th>\n",
       "      <th>Amount</th>\n",
       "      <th>Stage</th>\n",
       "      <th>column10</th>\n",
       "    </tr>\n",
       "  </thead>\n",
       "  <tbody>\n",
       "    <tr>\n",
       "      <th>151</th>\n",
       "      <td>BlackSoil</td>\n",
       "      <td>2016.0</td>\n",
       "      <td>Mumbai</td>\n",
       "      <td>FinTech</td>\n",
       "      <td>Blacksoil Advisory is an independent boutique ...</td>\n",
       "      <td>Ankur Bansal</td>\n",
       "      <td>None</td>\n",
       "      <td>10000000.0</td>\n",
       "      <td>None</td>\n",
       "      <td>None</td>\n",
       "    </tr>\n",
       "    <tr>\n",
       "      <th>706</th>\n",
       "      <td>SirionLabs</td>\n",
       "      <td>2012.0</td>\n",
       "      <td>Gurugram</td>\n",
       "      <td>SaaS</td>\n",
       "      <td>Provides procurement, outsourcing services &amp; c...</td>\n",
       "      <td>Ajay Agrawal</td>\n",
       "      <td>Tiger Global, Avatar Growth Capital</td>\n",
       "      <td>44000000.0</td>\n",
       "      <td>Series C</td>\n",
       "      <td>None</td>\n",
       "    </tr>\n",
       "    <tr>\n",
       "      <th>388</th>\n",
       "      <td>Brinton</td>\n",
       "      <td>2014.0</td>\n",
       "      <td>California</td>\n",
       "      <td>HealthTech</td>\n",
       "      <td>Brinton is one of the fastest growing Pharmace...</td>\n",
       "      <td>Rahul Darda</td>\n",
       "      <td>India Alternatives Private Equity Fund, Tata C...</td>\n",
       "      <td>1300000.0</td>\n",
       "      <td>Debt</td>\n",
       "      <td>None</td>\n",
       "    </tr>\n",
       "    <tr>\n",
       "      <th>357</th>\n",
       "      <td>Specsmakers</td>\n",
       "      <td>2011.0</td>\n",
       "      <td>Chennai</td>\n",
       "      <td>Eyeglasses</td>\n",
       "      <td>A leader in crafting stylish, high-quality, ey...</td>\n",
       "      <td>Pratik Shah</td>\n",
       "      <td>Eight Roads Ventures</td>\n",
       "      <td>3000000.0</td>\n",
       "      <td>None</td>\n",
       "      <td>None</td>\n",
       "    </tr>\n",
       "    <tr>\n",
       "      <th>133</th>\n",
       "      <td>Turtlemint</td>\n",
       "      <td>2015.0</td>\n",
       "      <td>Mumbai</td>\n",
       "      <td>HealthTech</td>\n",
       "      <td>Turtlemint has built Indian personalized insur...</td>\n",
       "      <td>Anand Prabhudesai, Dhirendra Mahyavanshi, Kuna...</td>\n",
       "      <td>Nexus Venture Partners, Dream Incubator</td>\n",
       "      <td>30000000.0</td>\n",
       "      <td>None</td>\n",
       "      <td>None</td>\n",
       "    </tr>\n",
       "  </tbody>\n",
       "</table>\n",
       "</div>"
      ],
      "text/plain": [
       "    Company_Brand  Founded HeadQuarter      Sector  \\\n",
       "151     BlackSoil   2016.0      Mumbai     FinTech   \n",
       "706    SirionLabs   2012.0    Gurugram        SaaS   \n",
       "388       Brinton   2014.0  California  HealthTech   \n",
       "357   Specsmakers   2011.0     Chennai  Eyeglasses   \n",
       "133    Turtlemint   2015.0      Mumbai  HealthTech   \n",
       "\n",
       "                                          What_it_does  \\\n",
       "151  Blacksoil Advisory is an independent boutique ...   \n",
       "706  Provides procurement, outsourcing services & c...   \n",
       "388  Brinton is one of the fastest growing Pharmace...   \n",
       "357  A leader in crafting stylish, high-quality, ey...   \n",
       "133  Turtlemint has built Indian personalized insur...   \n",
       "\n",
       "                                              Founders  \\\n",
       "151                                       Ankur Bansal   \n",
       "706                                       Ajay Agrawal   \n",
       "388                                        Rahul Darda   \n",
       "357                                        Pratik Shah   \n",
       "133  Anand Prabhudesai, Dhirendra Mahyavanshi, Kuna...   \n",
       "\n",
       "                                              Investor      Amount     Stage  \\\n",
       "151                                               None  10000000.0      None   \n",
       "706                Tiger Global, Avatar Growth Capital  44000000.0  Series C   \n",
       "388  India Alternatives Private Equity Fund, Tata C...   1300000.0      Debt   \n",
       "357                               Eight Roads Ventures   3000000.0      None   \n",
       "133            Nexus Venture Partners, Dream Incubator  30000000.0      None   \n",
       "\n",
       "    column10  \n",
       "151     None  \n",
       "706     None  \n",
       "388     None  \n",
       "357     None  \n",
       "133     None  "
      ]
     },
     "execution_count": 22,
     "metadata": {},
     "output_type": "execute_result"
    }
   ],
   "source": [
    "# get a sample of 2020 dataset\n",
    "data_2020.sample(5)"
   ]
  },
  {
   "cell_type": "code",
   "execution_count": 23,
   "id": "31cebea9",
   "metadata": {},
   "outputs": [
    {
     "name": "stdout",
     "output_type": "stream",
     "text": [
      "(1055, 10)\n",
      "There are 1055 rows, and 10 columns\n"
     ]
    }
   ],
   "source": [
    "#checking for number of columns and rows\n",
    "print (data_2020.shape)\n",
    "print(f\"There are {data_2020.shape[0]} rows, and {data_2020.shape[1]} columns\")"
   ]
  },
  {
   "cell_type": "code",
   "execution_count": 24,
   "id": "cefad822",
   "metadata": {},
   "outputs": [
    {
     "name": "stdout",
     "output_type": "stream",
     "text": [
      "There are  3 duplicate(s)\n"
     ]
    }
   ],
   "source": [
    "# checking for duplicates\n",
    "print(\"There are \",data_2020.duplicated().sum(),\"duplicate(s)\")"
   ]
  },
  {
   "cell_type": "code",
   "execution_count": 25,
   "id": "714e1078",
   "metadata": {},
   "outputs": [
    {
     "data": {
      "text/plain": [
       "Company_Brand       0\n",
       "Founded           213\n",
       "HeadQuarter        94\n",
       "Sector             13\n",
       "What_it_does        0\n",
       "Founders           12\n",
       "Investor           38\n",
       "Amount            254\n",
       "Stage             464\n",
       "column10         1053\n",
       "dtype: int64"
      ]
     },
     "execution_count": 25,
     "metadata": {},
     "output_type": "execute_result"
    }
   ],
   "source": [
    "# Checking for nulls\n",
    "data_2020.isnull().sum()"
   ]
  },
  {
   "cell_type": "code",
   "execution_count": 26,
   "id": "b06a6e6c",
   "metadata": {},
   "outputs": [
    {
     "name": "stdout",
     "output_type": "stream",
     "text": [
      "<class 'pandas.core.frame.DataFrame'>\n",
      "RangeIndex: 1055 entries, 0 to 1054\n",
      "Data columns (total 10 columns):\n",
      " #   Column         Non-Null Count  Dtype  \n",
      "---  ------         --------------  -----  \n",
      " 0   Company_Brand  1055 non-null   object \n",
      " 1   Founded        842 non-null    float64\n",
      " 2   HeadQuarter    961 non-null    object \n",
      " 3   Sector         1042 non-null   object \n",
      " 4   What_it_does   1055 non-null   object \n",
      " 5   Founders       1043 non-null   object \n",
      " 6   Investor       1017 non-null   object \n",
      " 7   Amount         801 non-null    float64\n",
      " 8   Stage          591 non-null    object \n",
      " 9   column10       2 non-null      object \n",
      "dtypes: float64(2), object(8)\n",
      "memory usage: 82.6+ KB\n"
     ]
    }
   ],
   "source": [
    "# checking for datatypes in the different columns\n",
    "data_2020.info()"
   ]
  },
  {
   "cell_type": "code",
   "execution_count": 27,
   "id": "b6469ee0",
   "metadata": {},
   "outputs": [
    {
     "data": {
      "text/html": [
       "<div>\n",
       "<style scoped>\n",
       "    .dataframe tbody tr th:only-of-type {\n",
       "        vertical-align: middle;\n",
       "    }\n",
       "\n",
       "    .dataframe tbody tr th {\n",
       "        vertical-align: top;\n",
       "    }\n",
       "\n",
       "    .dataframe thead th {\n",
       "        text-align: right;\n",
       "    }\n",
       "</style>\n",
       "<table border=\"1\" class=\"dataframe\">\n",
       "  <thead>\n",
       "    <tr style=\"text-align: right;\">\n",
       "      <th></th>\n",
       "      <th>Company_Brand</th>\n",
       "      <th>Founded</th>\n",
       "      <th>HeadQuarter</th>\n",
       "      <th>Sector</th>\n",
       "      <th>What_it_does</th>\n",
       "      <th>Founders</th>\n",
       "      <th>Investor</th>\n",
       "      <th>Amount</th>\n",
       "      <th>Stage</th>\n",
       "      <th>column10</th>\n",
       "    </tr>\n",
       "  </thead>\n",
       "  <tbody>\n",
       "    <tr>\n",
       "      <th>count</th>\n",
       "      <td>1055</td>\n",
       "      <td>842.000000</td>\n",
       "      <td>961</td>\n",
       "      <td>1042</td>\n",
       "      <td>1055</td>\n",
       "      <td>1043</td>\n",
       "      <td>1017</td>\n",
       "      <td>8.010000e+02</td>\n",
       "      <td>591</td>\n",
       "      <td>2</td>\n",
       "    </tr>\n",
       "    <tr>\n",
       "      <th>unique</th>\n",
       "      <td>905</td>\n",
       "      <td>NaN</td>\n",
       "      <td>77</td>\n",
       "      <td>302</td>\n",
       "      <td>990</td>\n",
       "      <td>927</td>\n",
       "      <td>848</td>\n",
       "      <td>NaN</td>\n",
       "      <td>42</td>\n",
       "      <td>2</td>\n",
       "    </tr>\n",
       "    <tr>\n",
       "      <th>top</th>\n",
       "      <td>Nykaa</td>\n",
       "      <td>NaN</td>\n",
       "      <td>Bangalore</td>\n",
       "      <td>Fintech</td>\n",
       "      <td>Provides online learning classes</td>\n",
       "      <td>Falguni Nayar</td>\n",
       "      <td>Venture Catalysts</td>\n",
       "      <td>NaN</td>\n",
       "      <td>Series A</td>\n",
       "      <td>Pre-Seed</td>\n",
       "    </tr>\n",
       "    <tr>\n",
       "      <th>freq</th>\n",
       "      <td>6</td>\n",
       "      <td>NaN</td>\n",
       "      <td>317</td>\n",
       "      <td>80</td>\n",
       "      <td>4</td>\n",
       "      <td>6</td>\n",
       "      <td>20</td>\n",
       "      <td>NaN</td>\n",
       "      <td>96</td>\n",
       "      <td>1</td>\n",
       "    </tr>\n",
       "    <tr>\n",
       "      <th>mean</th>\n",
       "      <td>NaN</td>\n",
       "      <td>2015.363420</td>\n",
       "      <td>NaN</td>\n",
       "      <td>NaN</td>\n",
       "      <td>NaN</td>\n",
       "      <td>NaN</td>\n",
       "      <td>NaN</td>\n",
       "      <td>1.130430e+08</td>\n",
       "      <td>NaN</td>\n",
       "      <td>NaN</td>\n",
       "    </tr>\n",
       "    <tr>\n",
       "      <th>std</th>\n",
       "      <td>NaN</td>\n",
       "      <td>4.097909</td>\n",
       "      <td>NaN</td>\n",
       "      <td>NaN</td>\n",
       "      <td>NaN</td>\n",
       "      <td>NaN</td>\n",
       "      <td>NaN</td>\n",
       "      <td>2.476635e+09</td>\n",
       "      <td>NaN</td>\n",
       "      <td>NaN</td>\n",
       "    </tr>\n",
       "    <tr>\n",
       "      <th>min</th>\n",
       "      <td>NaN</td>\n",
       "      <td>1973.000000</td>\n",
       "      <td>NaN</td>\n",
       "      <td>NaN</td>\n",
       "      <td>NaN</td>\n",
       "      <td>NaN</td>\n",
       "      <td>NaN</td>\n",
       "      <td>1.270000e+04</td>\n",
       "      <td>NaN</td>\n",
       "      <td>NaN</td>\n",
       "    </tr>\n",
       "    <tr>\n",
       "      <th>25%</th>\n",
       "      <td>NaN</td>\n",
       "      <td>2014.000000</td>\n",
       "      <td>NaN</td>\n",
       "      <td>NaN</td>\n",
       "      <td>NaN</td>\n",
       "      <td>NaN</td>\n",
       "      <td>NaN</td>\n",
       "      <td>1.000000e+06</td>\n",
       "      <td>NaN</td>\n",
       "      <td>NaN</td>\n",
       "    </tr>\n",
       "    <tr>\n",
       "      <th>50%</th>\n",
       "      <td>NaN</td>\n",
       "      <td>2016.000000</td>\n",
       "      <td>NaN</td>\n",
       "      <td>NaN</td>\n",
       "      <td>NaN</td>\n",
       "      <td>NaN</td>\n",
       "      <td>NaN</td>\n",
       "      <td>3.000000e+06</td>\n",
       "      <td>NaN</td>\n",
       "      <td>NaN</td>\n",
       "    </tr>\n",
       "    <tr>\n",
       "      <th>75%</th>\n",
       "      <td>NaN</td>\n",
       "      <td>2018.000000</td>\n",
       "      <td>NaN</td>\n",
       "      <td>NaN</td>\n",
       "      <td>NaN</td>\n",
       "      <td>NaN</td>\n",
       "      <td>NaN</td>\n",
       "      <td>1.100000e+07</td>\n",
       "      <td>NaN</td>\n",
       "      <td>NaN</td>\n",
       "    </tr>\n",
       "    <tr>\n",
       "      <th>max</th>\n",
       "      <td>NaN</td>\n",
       "      <td>2020.000000</td>\n",
       "      <td>NaN</td>\n",
       "      <td>NaN</td>\n",
       "      <td>NaN</td>\n",
       "      <td>NaN</td>\n",
       "      <td>NaN</td>\n",
       "      <td>7.000000e+10</td>\n",
       "      <td>NaN</td>\n",
       "      <td>NaN</td>\n",
       "    </tr>\n",
       "  </tbody>\n",
       "</table>\n",
       "</div>"
      ],
      "text/plain": [
       "       Company_Brand      Founded HeadQuarter   Sector  \\\n",
       "count           1055   842.000000         961     1042   \n",
       "unique           905          NaN          77      302   \n",
       "top            Nykaa          NaN   Bangalore  Fintech   \n",
       "freq               6          NaN         317       80   \n",
       "mean             NaN  2015.363420         NaN      NaN   \n",
       "std              NaN     4.097909         NaN      NaN   \n",
       "min              NaN  1973.000000         NaN      NaN   \n",
       "25%              NaN  2014.000000         NaN      NaN   \n",
       "50%              NaN  2016.000000         NaN      NaN   \n",
       "75%              NaN  2018.000000         NaN      NaN   \n",
       "max              NaN  2020.000000         NaN      NaN   \n",
       "\n",
       "                            What_it_does       Founders           Investor  \\\n",
       "count                               1055           1043               1017   \n",
       "unique                               990            927                848   \n",
       "top     Provides online learning classes  Falguni Nayar  Venture Catalysts   \n",
       "freq                                   4              6                 20   \n",
       "mean                                 NaN            NaN                NaN   \n",
       "std                                  NaN            NaN                NaN   \n",
       "min                                  NaN            NaN                NaN   \n",
       "25%                                  NaN            NaN                NaN   \n",
       "50%                                  NaN            NaN                NaN   \n",
       "75%                                  NaN            NaN                NaN   \n",
       "max                                  NaN            NaN                NaN   \n",
       "\n",
       "              Amount     Stage  column10  \n",
       "count   8.010000e+02       591         2  \n",
       "unique           NaN        42         2  \n",
       "top              NaN  Series A  Pre-Seed  \n",
       "freq             NaN        96         1  \n",
       "mean    1.130430e+08       NaN       NaN  \n",
       "std     2.476635e+09       NaN       NaN  \n",
       "min     1.270000e+04       NaN       NaN  \n",
       "25%     1.000000e+06       NaN       NaN  \n",
       "50%     3.000000e+06       NaN       NaN  \n",
       "75%     1.100000e+07       NaN       NaN  \n",
       "max     7.000000e+10       NaN       NaN  "
      ]
     },
     "execution_count": 27,
     "metadata": {},
     "output_type": "execute_result"
    }
   ],
   "source": [
    "# Describe the data\n",
    "data_2020.describe(include='all')"
   ]
  },
  {
   "cell_type": "markdown",
   "id": "710899d6",
   "metadata": {},
   "source": [
    "**Findings**  \n",
    "- Nykaa company was the most common company  \n",
    "\n",
    "- Majority of the companies had their headquarter at Bangalore  \n",
    "\n",
    "- The average Amount invested was 113042969.54"
   ]
  },
  {
   "cell_type": "markdown",
   "id": "302f9953",
   "metadata": {},
   "source": [
    "## **2.3. 2021 EDA**"
   ]
  },
  {
   "cell_type": "code",
   "execution_count": 28,
   "id": "8677d87a-8df2-4c78-8bb3-f70f22ba3a64",
   "metadata": {},
   "outputs": [
    {
     "data": {
      "text/html": [
       "<div>\n",
       "<style scoped>\n",
       "    .dataframe tbody tr th:only-of-type {\n",
       "        vertical-align: middle;\n",
       "    }\n",
       "\n",
       "    .dataframe tbody tr th {\n",
       "        vertical-align: top;\n",
       "    }\n",
       "\n",
       "    .dataframe thead th {\n",
       "        text-align: right;\n",
       "    }\n",
       "</style>\n",
       "<table border=\"1\" class=\"dataframe\">\n",
       "  <thead>\n",
       "    <tr style=\"text-align: right;\">\n",
       "      <th></th>\n",
       "      <th>Company_Brand</th>\n",
       "      <th>Founded</th>\n",
       "      <th>HeadQuarter</th>\n",
       "      <th>Sector</th>\n",
       "      <th>What_it_does</th>\n",
       "      <th>Founders</th>\n",
       "      <th>Investor</th>\n",
       "      <th>Amount</th>\n",
       "      <th>Stage</th>\n",
       "    </tr>\n",
       "  </thead>\n",
       "  <tbody>\n",
       "    <tr>\n",
       "      <th>497</th>\n",
       "      <td>Mailmodo</td>\n",
       "      <td>2020.0</td>\n",
       "      <td>Bangalore</td>\n",
       "      <td>Marketing &amp; Advertising</td>\n",
       "      <td>Mailmodo is a complete email marketing solutio...</td>\n",
       "      <td>Aquibur Rahman, Apurv Gupta, Devyesh Tandon</td>\n",
       "      <td>Sequoia’s Surge, Y Combinator</td>\n",
       "      <td>$2000000</td>\n",
       "      <td>Seed</td>\n",
       "    </tr>\n",
       "    <tr>\n",
       "      <th>387</th>\n",
       "      <td>SeeVC</td>\n",
       "      <td>2020.0</td>\n",
       "      <td>New Delhi</td>\n",
       "      <td>Tech Startup</td>\n",
       "      <td>Leverages artificial intelligence (AI) to buil...</td>\n",
       "      <td>Shivam Sood, Lark Aakarshan</td>\n",
       "      <td>Jimmy Singh</td>\n",
       "      <td>$1,000,000</td>\n",
       "      <td>Seed</td>\n",
       "    </tr>\n",
       "    <tr>\n",
       "      <th>176</th>\n",
       "      <td>Wiz Freight</td>\n",
       "      <td>2020.0</td>\n",
       "      <td>Chennai</td>\n",
       "      <td>Logistics &amp; Supply Chain</td>\n",
       "      <td>Wiz is a tech-enabled freight forwarding platf...</td>\n",
       "      <td>Ramkumar Govindarajan, Ramkumar Ramachandran</td>\n",
       "      <td>Axilor</td>\n",
       "      <td>$3500000</td>\n",
       "      <td>Seed</td>\n",
       "    </tr>\n",
       "    <tr>\n",
       "      <th>524</th>\n",
       "      <td>Sea6 Energy</td>\n",
       "      <td>2010.0</td>\n",
       "      <td>Bangalore</td>\n",
       "      <td>Biotechnology</td>\n",
       "      <td>Sea6 Energy envisions a future where the abund...</td>\n",
       "      <td>Sailaja Nori, Nelson Vadassery, Sowmya Balendi...</td>\n",
       "      <td>Aqua-Spark</td>\n",
       "      <td>$9000000</td>\n",
       "      <td>Series B</td>\n",
       "    </tr>\n",
       "    <tr>\n",
       "      <th>272</th>\n",
       "      <td>Fitpage</td>\n",
       "      <td>2020.0</td>\n",
       "      <td>Mumbai</td>\n",
       "      <td>Health, Wellness &amp; Fitness</td>\n",
       "      <td>An endurance-first fitness tech platform focus...</td>\n",
       "      <td>Vikas Singh</td>\n",
       "      <td>Astra Ventures, Gaurav Jaitly</td>\n",
       "      <td>$300000</td>\n",
       "      <td>None</td>\n",
       "    </tr>\n",
       "  </tbody>\n",
       "</table>\n",
       "</div>"
      ],
      "text/plain": [
       "    Company_Brand  Founded HeadQuarter                      Sector  \\\n",
       "497      Mailmodo   2020.0   Bangalore     Marketing & Advertising   \n",
       "387         SeeVC   2020.0   New Delhi                Tech Startup   \n",
       "176   Wiz Freight   2020.0     Chennai    Logistics & Supply Chain   \n",
       "524   Sea6 Energy   2010.0   Bangalore               Biotechnology   \n",
       "272       Fitpage   2020.0      Mumbai  Health, Wellness & Fitness   \n",
       "\n",
       "                                          What_it_does  \\\n",
       "497  Mailmodo is a complete email marketing solutio...   \n",
       "387  Leverages artificial intelligence (AI) to buil...   \n",
       "176  Wiz is a tech-enabled freight forwarding platf...   \n",
       "524  Sea6 Energy envisions a future where the abund...   \n",
       "272  An endurance-first fitness tech platform focus...   \n",
       "\n",
       "                                              Founders  \\\n",
       "497        Aquibur Rahman, Apurv Gupta, Devyesh Tandon   \n",
       "387                        Shivam Sood, Lark Aakarshan   \n",
       "176       Ramkumar Govindarajan, Ramkumar Ramachandran   \n",
       "524  Sailaja Nori, Nelson Vadassery, Sowmya Balendi...   \n",
       "272                                        Vikas Singh   \n",
       "\n",
       "                          Investor      Amount     Stage  \n",
       "497  Sequoia’s Surge, Y Combinator    $2000000      Seed  \n",
       "387                    Jimmy Singh  $1,000,000      Seed  \n",
       "176                         Axilor    $3500000      Seed  \n",
       "524                     Aqua-Spark    $9000000  Series B  \n",
       "272  Astra Ventures, Gaurav Jaitly     $300000      None  "
      ]
     },
     "execution_count": 28,
     "metadata": {},
     "output_type": "execute_result"
    }
   ],
   "source": [
    "# get a sample of 2021 dataset\n",
    "data_2021.sample(5)"
   ]
  },
  {
   "cell_type": "code",
   "execution_count": 29,
   "id": "2e589a02-7199-4a0b-902b-2f82a820b2f6",
   "metadata": {},
   "outputs": [
    {
     "name": "stdout",
     "output_type": "stream",
     "text": [
      "(1209, 9)\n",
      "The 2021 dataset has 1209 rows and 9 Columns\n"
     ]
    }
   ],
   "source": [
    "# get the number of rows and columns for the datasets\n",
    "print(f'{data_2021.shape}')\n",
    "\n",
    "print(f\"The 2021 dataset has {data_2021.shape[0]} rows and {data_2021.shape[1]} Columns\")"
   ]
  },
  {
   "cell_type": "code",
   "execution_count": 30,
   "id": "51576669-93b6-4c83-abd4-0ec1383f911a",
   "metadata": {},
   "outputs": [
    {
     "name": "stdout",
     "output_type": "stream",
     "text": [
      "There are  19 duplicate(s)\n"
     ]
    }
   ],
   "source": [
    "# checking for duplicates\n",
    "print(\"There are \",data_2021.duplicated().sum(),\"duplicate(s)\")"
   ]
  },
  {
   "cell_type": "code",
   "execution_count": 31,
   "id": "95d118f0-22c6-44e9-8e2f-032397e4f2fd",
   "metadata": {},
   "outputs": [
    {
     "data": {
      "text/plain": [
       "Company_Brand      0\n",
       "Founded            1\n",
       "HeadQuarter        1\n",
       "Sector             0\n",
       "What_it_does       0\n",
       "Founders           4\n",
       "Investor          62\n",
       "Amount             3\n",
       "Stage            428\n",
       "dtype: int64"
      ]
     },
     "execution_count": 31,
     "metadata": {},
     "output_type": "execute_result"
    }
   ],
   "source": [
    "#  Checking for nulls\n",
    "data_2021.isnull().sum()"
   ]
  },
  {
   "cell_type": "code",
   "execution_count": 32,
   "id": "0a0d12df-af4b-4475-87fe-ea3e0ae6ecae",
   "metadata": {},
   "outputs": [
    {
     "name": "stdout",
     "output_type": "stream",
     "text": [
      "<class 'pandas.core.frame.DataFrame'>\n",
      "RangeIndex: 1209 entries, 0 to 1208\n",
      "Data columns (total 9 columns):\n",
      " #   Column         Non-Null Count  Dtype  \n",
      "---  ------         --------------  -----  \n",
      " 0   Company_Brand  1209 non-null   object \n",
      " 1   Founded        1208 non-null   float64\n",
      " 2   HeadQuarter    1208 non-null   object \n",
      " 3   Sector         1209 non-null   object \n",
      " 4   What_it_does   1209 non-null   object \n",
      " 5   Founders       1205 non-null   object \n",
      " 6   Investor       1147 non-null   object \n",
      " 7   Amount         1206 non-null   object \n",
      " 8   Stage          781 non-null    object \n",
      "dtypes: float64(1), object(8)\n",
      "memory usage: 85.1+ KB\n"
     ]
    }
   ],
   "source": [
    "# checking for datatypes in the different columns\n",
    "data_2021.info()"
   ]
  },
  {
   "cell_type": "code",
   "execution_count": 33,
   "id": "59bb1fcb-4c04-4466-8dc3-533cc7a66d02",
   "metadata": {},
   "outputs": [
    {
     "data": {
      "text/html": [
       "<div>\n",
       "<style scoped>\n",
       "    .dataframe tbody tr th:only-of-type {\n",
       "        vertical-align: middle;\n",
       "    }\n",
       "\n",
       "    .dataframe tbody tr th {\n",
       "        vertical-align: top;\n",
       "    }\n",
       "\n",
       "    .dataframe thead th {\n",
       "        text-align: right;\n",
       "    }\n",
       "</style>\n",
       "<table border=\"1\" class=\"dataframe\">\n",
       "  <thead>\n",
       "    <tr style=\"text-align: right;\">\n",
       "      <th></th>\n",
       "      <th>Company_Brand</th>\n",
       "      <th>Founded</th>\n",
       "      <th>HeadQuarter</th>\n",
       "      <th>Sector</th>\n",
       "      <th>What_it_does</th>\n",
       "      <th>Founders</th>\n",
       "      <th>Investor</th>\n",
       "      <th>Amount</th>\n",
       "      <th>Stage</th>\n",
       "    </tr>\n",
       "  </thead>\n",
       "  <tbody>\n",
       "    <tr>\n",
       "      <th>count</th>\n",
       "      <td>1209</td>\n",
       "      <td>1208.000000</td>\n",
       "      <td>1208</td>\n",
       "      <td>1209</td>\n",
       "      <td>1209</td>\n",
       "      <td>1205</td>\n",
       "      <td>1147</td>\n",
       "      <td>1206</td>\n",
       "      <td>781</td>\n",
       "    </tr>\n",
       "    <tr>\n",
       "      <th>unique</th>\n",
       "      <td>1033</td>\n",
       "      <td>NaN</td>\n",
       "      <td>70</td>\n",
       "      <td>254</td>\n",
       "      <td>1143</td>\n",
       "      <td>1095</td>\n",
       "      <td>937</td>\n",
       "      <td>278</td>\n",
       "      <td>31</td>\n",
       "    </tr>\n",
       "    <tr>\n",
       "      <th>top</th>\n",
       "      <td>BharatPe</td>\n",
       "      <td>NaN</td>\n",
       "      <td>Bangalore</td>\n",
       "      <td>FinTech</td>\n",
       "      <td>BharatPe develops a QR code-based payment app ...</td>\n",
       "      <td>Ashneer Grover, Shashvat Nakrani</td>\n",
       "      <td>Inflection Point Ventures</td>\n",
       "      <td>$Undisclosed</td>\n",
       "      <td>Seed</td>\n",
       "    </tr>\n",
       "    <tr>\n",
       "      <th>freq</th>\n",
       "      <td>8</td>\n",
       "      <td>NaN</td>\n",
       "      <td>426</td>\n",
       "      <td>122</td>\n",
       "      <td>4</td>\n",
       "      <td>7</td>\n",
       "      <td>24</td>\n",
       "      <td>73</td>\n",
       "      <td>246</td>\n",
       "    </tr>\n",
       "    <tr>\n",
       "      <th>mean</th>\n",
       "      <td>NaN</td>\n",
       "      <td>2016.655629</td>\n",
       "      <td>NaN</td>\n",
       "      <td>NaN</td>\n",
       "      <td>NaN</td>\n",
       "      <td>NaN</td>\n",
       "      <td>NaN</td>\n",
       "      <td>NaN</td>\n",
       "      <td>NaN</td>\n",
       "    </tr>\n",
       "    <tr>\n",
       "      <th>std</th>\n",
       "      <td>NaN</td>\n",
       "      <td>4.517364</td>\n",
       "      <td>NaN</td>\n",
       "      <td>NaN</td>\n",
       "      <td>NaN</td>\n",
       "      <td>NaN</td>\n",
       "      <td>NaN</td>\n",
       "      <td>NaN</td>\n",
       "      <td>NaN</td>\n",
       "    </tr>\n",
       "    <tr>\n",
       "      <th>min</th>\n",
       "      <td>NaN</td>\n",
       "      <td>1963.000000</td>\n",
       "      <td>NaN</td>\n",
       "      <td>NaN</td>\n",
       "      <td>NaN</td>\n",
       "      <td>NaN</td>\n",
       "      <td>NaN</td>\n",
       "      <td>NaN</td>\n",
       "      <td>NaN</td>\n",
       "    </tr>\n",
       "    <tr>\n",
       "      <th>25%</th>\n",
       "      <td>NaN</td>\n",
       "      <td>2015.000000</td>\n",
       "      <td>NaN</td>\n",
       "      <td>NaN</td>\n",
       "      <td>NaN</td>\n",
       "      <td>NaN</td>\n",
       "      <td>NaN</td>\n",
       "      <td>NaN</td>\n",
       "      <td>NaN</td>\n",
       "    </tr>\n",
       "    <tr>\n",
       "      <th>50%</th>\n",
       "      <td>NaN</td>\n",
       "      <td>2018.000000</td>\n",
       "      <td>NaN</td>\n",
       "      <td>NaN</td>\n",
       "      <td>NaN</td>\n",
       "      <td>NaN</td>\n",
       "      <td>NaN</td>\n",
       "      <td>NaN</td>\n",
       "      <td>NaN</td>\n",
       "    </tr>\n",
       "    <tr>\n",
       "      <th>75%</th>\n",
       "      <td>NaN</td>\n",
       "      <td>2020.000000</td>\n",
       "      <td>NaN</td>\n",
       "      <td>NaN</td>\n",
       "      <td>NaN</td>\n",
       "      <td>NaN</td>\n",
       "      <td>NaN</td>\n",
       "      <td>NaN</td>\n",
       "      <td>NaN</td>\n",
       "    </tr>\n",
       "    <tr>\n",
       "      <th>max</th>\n",
       "      <td>NaN</td>\n",
       "      <td>2021.000000</td>\n",
       "      <td>NaN</td>\n",
       "      <td>NaN</td>\n",
       "      <td>NaN</td>\n",
       "      <td>NaN</td>\n",
       "      <td>NaN</td>\n",
       "      <td>NaN</td>\n",
       "      <td>NaN</td>\n",
       "    </tr>\n",
       "  </tbody>\n",
       "</table>\n",
       "</div>"
      ],
      "text/plain": [
       "       Company_Brand      Founded HeadQuarter   Sector  \\\n",
       "count           1209  1208.000000        1208     1209   \n",
       "unique          1033          NaN          70      254   \n",
       "top         BharatPe          NaN   Bangalore  FinTech   \n",
       "freq               8          NaN         426      122   \n",
       "mean             NaN  2016.655629         NaN      NaN   \n",
       "std              NaN     4.517364         NaN      NaN   \n",
       "min              NaN  1963.000000         NaN      NaN   \n",
       "25%              NaN  2015.000000         NaN      NaN   \n",
       "50%              NaN  2018.000000         NaN      NaN   \n",
       "75%              NaN  2020.000000         NaN      NaN   \n",
       "max              NaN  2021.000000         NaN      NaN   \n",
       "\n",
       "                                             What_it_does  \\\n",
       "count                                                1209   \n",
       "unique                                               1143   \n",
       "top     BharatPe develops a QR code-based payment app ...   \n",
       "freq                                                    4   \n",
       "mean                                                  NaN   \n",
       "std                                                   NaN   \n",
       "min                                                   NaN   \n",
       "25%                                                   NaN   \n",
       "50%                                                   NaN   \n",
       "75%                                                   NaN   \n",
       "max                                                   NaN   \n",
       "\n",
       "                                Founders                   Investor  \\\n",
       "count                               1205                       1147   \n",
       "unique                              1095                        937   \n",
       "top     Ashneer Grover, Shashvat Nakrani  Inflection Point Ventures   \n",
       "freq                                   7                         24   \n",
       "mean                                 NaN                        NaN   \n",
       "std                                  NaN                        NaN   \n",
       "min                                  NaN                        NaN   \n",
       "25%                                  NaN                        NaN   \n",
       "50%                                  NaN                        NaN   \n",
       "75%                                  NaN                        NaN   \n",
       "max                                  NaN                        NaN   \n",
       "\n",
       "              Amount Stage  \n",
       "count           1206   781  \n",
       "unique           278    31  \n",
       "top     $Undisclosed  Seed  \n",
       "freq              73   246  \n",
       "mean             NaN   NaN  \n",
       "std              NaN   NaN  \n",
       "min              NaN   NaN  \n",
       "25%              NaN   NaN  \n",
       "50%              NaN   NaN  \n",
       "75%              NaN   NaN  \n",
       "max              NaN   NaN  "
      ]
     },
     "execution_count": 33,
     "metadata": {},
     "output_type": "execute_result"
    }
   ],
   "source": [
    "# Describe the dataset\n",
    "data_2021.describe(include='all')"
   ]
  },
  {
   "cell_type": "markdown",
   "id": "2803a9d2",
   "metadata": {},
   "source": [
    "**Findings**  \n",
    "- BharatPe is the most common company  \n",
    "\n",
    "- Most companies invested in the FinTech sector  \n",
    "\n",
    "- Majority of the companies were found in Bangalore  "
   ]
  },
  {
   "cell_type": "markdown",
   "id": "406e25a7-e736-4340-b842-a579360997d6",
   "metadata": {},
   "source": [
    "\n",
    "**Overall Observations:**  \n",
    "**Issues with the data**\n",
    "\n",
    "1. There is a discrepancy in the naming conventions between the columns in the 2018 and 2019 datasets compared to the 2020 and 2021 datasets.\n",
    "\n",
    "2. The 2018 dataset exhibits some missing columns, contributing to an incomplete representation of the data.\n",
    "\n",
    "3. Conversely, the 2020 dataset contains an additional column that appears to be extraneous and does not serve a meaningful purpose in our analysis.\n",
    "\n",
    "**Course of Action:**\n",
    "\n",
    "1. **Missing Column Engineering for 2018:**\n",
    "   - We will address the absence of certain columns in the 2018 dataset by employing data engineering techniques to create and populate the missing columns, ensuring a comprehensive and consistent dataset.\n",
    "\n",
    "2. **Column Name Standardization:**\n",
    "   - To establish uniformity and coherence across all datasets, we will embark on a column renaming process for the 2018 and 2019 datasets. This action aims to align the naming conventions with those observed in the 2020 and 2021 datasets, facilitating seamless data integration and analysis.\n",
    "\n",
    "3. **Extraneous Column Removal in 2020:**\n",
    "   - The redundant column identified in the 2020 dataset will be removed, streamlining the dataset and eliminating unnecessary elements that do not contribute to the overall analysis objectives.\n",
    "\n",
    "These actions collectively enhance the integrity, consistency, and completeness of the dataset, paving the way for a more robust and coherent analytical process.\n",
    "ical process.\n",
    "\n",
    "\n",
    "\n",
    "\n",
    "\n"
   ]
  },
  {
   "cell_type": "markdown",
   "id": "5959a53d-4842-48c0-ab8c-77448bd42a0a",
   "metadata": {},
   "source": [
    "# **3. Data Cleaning and Preparation**"
   ]
  },
  {
   "cell_type": "markdown",
   "id": "5a6699fc",
   "metadata": {},
   "source": [
    "## **3.1. Convert Indian Rupee values in the 2018 data to dollars**\n"
   ]
  },
  {
   "cell_type": "code",
   "execution_count": 34,
   "id": "4c0d58f5",
   "metadata": {},
   "outputs": [],
   "source": [
    "# Replace '₹', commas, '—', and \"''\" in 'Amount' column\n",
    "data_2018['Amount'] = data_2018['Amount'].str.replace(',', '').str.replace('—', '').str.replace(\"''\",'').replace('', np.nan)\n",
    "\n",
    "# Conditionally apply multiplication only where '₹' is present\n",
    "mask = data_2018['Amount'].str.contains('₹', na=False)\n",
    "data_2018.loc[mask, 'Amount'] = data_2018.loc[mask, 'Amount'].str.replace('₹', '').astype(float) * 0.0146"
   ]
  },
  {
   "cell_type": "markdown",
   "id": "1d191469",
   "metadata": {},
   "source": [
    "### **Add year data was collected**\n",
    "\n",
    "- There is need to add a column that represents the year each dataset was collected. This will help with handling the datasets after merging the dataframes \n"
   ]
  },
  {
   "cell_type": "code",
   "execution_count": 35,
   "id": "fbfa9169",
   "metadata": {},
   "outputs": [],
   "source": [
    "# add year when data was collected column to every dataset\n",
    "data_2018['year'] = pd.to_datetime('2018', format='%Y').year\n",
    "data_2019['year'] = pd.to_datetime('2019', format='%Y').year\n",
    "data_2020['year'] = pd.to_datetime('2020', format='%Y').year\n",
    "data_2021['year'] = pd.to_datetime('2021', format='%Y').year"
   ]
  },
  {
   "cell_type": "code",
   "execution_count": 36,
   "id": "e0cd1b1e",
   "metadata": {},
   "outputs": [],
   "source": [
    "def concat_dataframes(data,data1, data2, data3):\n",
    "    \"\"\"\n",
    "    Concatenates four dataframes along the row axis.\n",
    "\n",
    "    Parameters:\n",
    "    data (pandas.DataFrame): The first dataframe to concatenate.\n",
    "    data1 (pandas.DataFrame): The second dataframe to concatenate.\n",
    "    data2 (pandas.DataFrame): The third dataframe to concatenate.\n",
    "    data3 (pandas.DataFrame): The fourth dataframe to concatenate.\n",
    "\n",
    "    Returns:\n",
    "    pandas.DataFrame: The concatenated dataframe.\n",
    "    \"\"\"\n",
    "    # Rename columns to make them consistent across dataframes\n",
    "    df1 = data.rename(columns={'Company_Brand': 'company_brand', 'Founded': 'founded','HeadQuarter': 'headquarter','Sector': 'sector','What_it_does': 'about_company','Founders':'founders','Investor':'investor','Amount':'amount','Stage':'series', 'year' : 'year'})\n",
    "    df2 = data1.rename(columns={'Company_Brand': 'company_brand', 'Founded': 'founded','HeadQuarter': 'headquarter','Sector': 'sector','What_it_does': 'about_company','Founders':'founders','Investor':'investor','Amount':'amount','Stage':'series','year' : 'year'})\n",
    "    df3 = data2.rename(columns={'Company/Brand': 'company_brand', 'Founded': 'founded','HeadQuarter': 'headquarter','Sector': 'sector','What it does': 'about_company','Founders':'founders','Investor':'investor','Amount($)':'amount','Stage':'series','year' : 'year'})\n",
    "    df4 = data3.rename(columns={'Company Name': 'company_brand','Location': 'headquarter','Industry': 'sector','About Company': 'about_company','Amount':'amount','Round/Series':'series','year' : 'year'})\n",
    "\n",
    "    # Concatenate dataframes along the row axis\n",
    "    result = pd.concat([df1, df2, df3,df4], axis=0).reset_index(drop=True)\n",
    "\n",
    "    return result"
   ]
  },
  {
   "cell_type": "markdown",
   "id": "46622b7f",
   "metadata": {},
   "source": [
    "## **Concatenate the dataframes**"
   ]
  },
  {
   "cell_type": "code",
   "execution_count": 37,
   "id": "c6f49924",
   "metadata": {},
   "outputs": [],
   "source": [
    "# concating the dataframes\n",
    "df= concat_dataframes(data_2021,data_2020,data_2019,data_2018)"
   ]
  },
  {
   "cell_type": "code",
   "execution_count": 38,
   "id": "38deab22",
   "metadata": {},
   "outputs": [
    {
     "name": "stdout",
     "output_type": "stream",
     "text": [
      "<class 'pandas.core.frame.DataFrame'>\n",
      "RangeIndex: 2879 entries, 0 to 2878\n",
      "Data columns (total 11 columns):\n",
      " #   Column         Non-Null Count  Dtype  \n",
      "---  ------         --------------  -----  \n",
      " 0   company_brand  2879 non-null   object \n",
      " 1   founded        2110 non-null   float64\n",
      " 2   headquarter    2765 non-null   object \n",
      " 3   sector         2861 non-null   object \n",
      " 4   about_company  2879 non-null   object \n",
      " 5   founders       2334 non-null   object \n",
      " 6   investor       2253 non-null   object \n",
      " 7   amount         2474 non-null   object \n",
      " 8   series         1941 non-null   object \n",
      " 9   year           2879 non-null   int64  \n",
      " 10  column10       2 non-null      object \n",
      "dtypes: float64(1), int64(1), object(9)\n",
      "memory usage: 247.5+ KB\n"
     ]
    }
   ],
   "source": [
    "df.info()"
   ]
  },
  {
   "cell_type": "code",
   "execution_count": 39,
   "id": "482326e4",
   "metadata": {},
   "outputs": [],
   "source": [
    "#Drop the extreneous column 10\n",
    "df.drop('column10', axis=1, inplace= True)"
   ]
  },
  {
   "cell_type": "markdown",
   "id": "4d9d8fc2",
   "metadata": {},
   "source": [
    "## **Cleaning 'Amount' column**"
   ]
  },
  {
   "cell_type": "markdown",
   "id": "7dafaa40",
   "metadata": {},
   "source": [
    "**Notes**  \n",
    "- Remove all currency signs  \n",
    "\n",
    "- Remove all other umwanted characters, words and symbols  \n",
    "\n",
    "- Fill the nulls uning interpolate method \n",
    "\n",
    "- Convert the column from object to float"
   ]
  },
  {
   "cell_type": "code",
   "execution_count": 40,
   "id": "03346370",
   "metadata": {},
   "outputs": [],
   "source": [
    "df['amount']=df['amount'].replace('\\$','',regex=True)\n",
    "df['amount']=df['amount'].replace(['Undisclosed','undisclosed',None],np.NAN)\n",
    "df['headquarter']=df['headquarter'].str.strip('\\t#REF!')\n",
    "df['amount']=df['amount'].replace('\\,','',regex=True)\n",
    "df['amount']=df['amount'].replace(\",\",\"\")\n",
    "\n"
   ]
  },
  {
   "cell_type": "code",
   "execution_count": 41,
   "metadata": {},
   "outputs": [],
   "source": [
    "# fix index 242\n",
    "df.at[242, 'headquarter'] = None\n",
    "df.at[242, 'sector'] = 'Pharmaceuticals'\n",
    "df.at[242, 'founders'] = 'Varun Khanna'\n",
    "df.at[242, 'investor'] = 'Morgan Stanley Private Equity Asia'\n",
    "df.at[242, 'amount'] = '22000000'\n",
    "df.at[242, 'series'] = 'Series C'\n",
    "df.at[242, 'about_company'] = 'Development and Manufacturing'\n",
    "\n",
    "# drop the duplicate row\n",
    "df = df.drop(256, axis=0, errors='ignore')\n",
    "\n",
    "# fix index 1148\n",
    "df.at[1148, 'sector'] = 'Logistics'\n",
    "df.at[1148, 'founders'] ='Basant Kumar' \n",
    "df.at[1148, 'investor'] =None\n",
    "df.at[1148, 'amount'] = 1000000\n",
    "df.at[1148, 'series'] = 'Seed'\n",
    " \n",
    "# fix index 257\n",
    "df.at[257, 'sector'] = 'Transport'\n",
    "df.at[257, 'founders'] ='Anshuman Maheshwary'\n",
    "df.at[257, 'investor'] =None\n",
    "df.at[257, 'amount'] = 5000000\n",
    "df.at[257, 'series'] = 'Seed'\n",
    "\n",
    "# fix index 98\n",
    "df.at[98, 'sector'] = 'Computer Games'\n",
    "df.at[98, 'founders'] ='Pritesh Kumar'\n",
    "df.at[98, 'investor'] =None\n",
    "df.at[98, 'amount'] = 1200000\n",
    "df.at[98, 'series'] = 'Seed'\n",
    "\n",
    "# drop the duplicate column\n",
    "df = df.drop(111, axis=0, errors='ignore')\n",
    "\n",
    "# fix index 677\n",
    "df.at[677, 'amount'] = 1000000\n",
    "df.at[677, 'series'] = 'Angel'\n",
    "\n",
    "# fix index 545\n",
    "df.at[545, 'investor'] =None\n",
    "df.at[545, 'amount'] = 1000000\n",
    "df.at[545, 'series'] = 'Pre-series A'\n",
    "\n",
    "# fix index 538\n",
    "df.at[538, 'investor'] =None\n",
    "df.at[538, 'amount'] = 300000\n",
    "df.at[538, 'series'] = 'Pre-Seed'\n",
    "\n",
    "# fix index 551\n",
    "df.at[551,'amount']=300000\n",
    "df.at[551,'series']=None\n",
    "\n",
    "# fix index 674\n",
    "df.at[674,'amount']=6000000\n",
    "df.at[674,'series']=None\n",
    "\n",
    "# fix index 2531\n",
    "df.at[2531,'amount']=None\n",
    "df.at[2531,'series']=None\n"
   ]
  },
  {
   "cell_type": "code",
   "execution_count": 42,
   "id": "8ff95e97",
   "metadata": {},
   "outputs": [],
   "source": [
    "# change the amount column to numeric\n",
    "df['amount']=pd.to_numeric(df['amount'])"
   ]
  },
  {
   "cell_type": "markdown",
   "id": "51fb2513",
   "metadata": {},
   "source": [
    "## **Cleaning data_year column**"
   ]
  },
  {
   "cell_type": "markdown",
   "id": "b279ed04",
   "metadata": {},
   "source": [
    "**Notes**  \n",
    "\n",
    "\n",
    "- Convert data type to period\n"
   ]
  },
  {
   "cell_type": "code",
   "execution_count": 43,
   "id": "0cbb5d28",
   "metadata": {},
   "outputs": [],
   "source": [
    "# Convert the data_year column to date\n",
    "df['year']=pd.to_datetime(df['year'], format='%Y')\n",
    "# df['year']=df['year'].dt.to_period('y')\n",
    "df['founded']=pd.to_datetime(df['founded']).dt.year"
   ]
  },
  {
   "cell_type": "code",
   "execution_count": 44,
   "id": "375a213e",
   "metadata": {},
   "outputs": [
    {
     "name": "stdout",
     "output_type": "stream",
     "text": [
      "There are 0 Null values in the 'year' column\n"
     ]
    }
   ],
   "source": [
    "# check for nulls and duplicated\n",
    "print(f\"There are {df['year'].isna().sum()} Null values in the 'year' column\")"
   ]
  },
  {
   "cell_type": "code",
   "execution_count": 45,
   "id": "5cba9afa",
   "metadata": {},
   "outputs": [
    {
     "name": "stdout",
     "output_type": "stream",
     "text": [
      "<class 'pandas.core.series.Series'>\n",
      "Index: 2877 entries, 0 to 2878\n",
      "Series name: year\n",
      "Non-Null Count  Dtype         \n",
      "--------------  -----         \n",
      "2877 non-null   datetime64[ns]\n",
      "dtypes: datetime64[ns](1)\n",
      "memory usage: 109.5 KB\n"
     ]
    }
   ],
   "source": [
    "df['year'].info()"
   ]
  },
  {
   "cell_type": "markdown",
   "id": "60be2406",
   "metadata": {},
   "source": [
    "## **Cleaning 'founded' column**"
   ]
  },
  {
   "cell_type": "markdown",
   "id": "26637de4",
   "metadata": {},
   "source": [
    "**Notes**\n",
    "- Handle nulls by populating with the 'bfill' method\n",
    "\n"
   ]
  },
  {
   "cell_type": "code",
   "execution_count": 46,
   "id": "b10490c8",
   "metadata": {},
   "outputs": [
    {
     "name": "stdout",
     "output_type": "stream",
     "text": [
      "There are 769 Null values in the 'founded' column\n"
     ]
    }
   ],
   "source": [
    "print(f\"There are {df['founded'].isna().sum()} Null values in the 'founded' column\")"
   ]
  },
  {
   "cell_type": "markdown",
   "id": "865f3aa5",
   "metadata": {},
   "source": [
    "**Notes**  \n",
    "- There are 769 null values in the 'founded' column.  \n",
    "\n",
    "- Since dropping the nulls will lead to a significant loss of our data, Backward fill will be used to fill the null values"
   ]
  },
  {
   "cell_type": "markdown",
   "id": "5b519b5a",
   "metadata": {},
   "source": [
    "**COURSE OF ACTION**\n",
    "\n",
    "- We will be cleaning the missing values by fill them using interpolate method which is suitable for time series data  \n",
    "\n",
    "- We will also be converting the data type from float to datetime for purpose of our analysis."
   ]
  },
  {
   "cell_type": "code",
   "execution_count": 47,
   "id": "048ce5c7",
   "metadata": {},
   "outputs": [
    {
     "name": "stdout",
     "output_type": "stream",
     "text": [
      "There are 0 missing values\n"
     ]
    }
   ],
   "source": [
    "# Fill the nulls\n",
    "df[\"founded\"].interpolate(method='linear',inplace= True)\n",
    "\n",
    "print(f\"There are {df['founded'].isna().sum()} missing values\")"
   ]
  },
  {
   "cell_type": "code",
   "execution_count": 48,
   "id": "a2ee8fc5",
   "metadata": {},
   "outputs": [],
   "source": [
    "# Convert to datetime\n",
    "df['founded'] = pd.to_datetime(df['founded'], format='%Y')\n",
    "\n",
    "# Convert to period\n",
    "df['founded'] = df['founded'].dt.to_period('Y')\n"
   ]
  },
  {
   "cell_type": "code",
   "execution_count": 49,
   "id": "24f08912",
   "metadata": {},
   "outputs": [
    {
     "name": "stdout",
     "output_type": "stream",
     "text": [
      "<class 'pandas.core.series.Series'>\n",
      "Index: 2877 entries, 0 to 2878\n",
      "Series name: founded\n",
      "Non-Null Count  Dtype        \n",
      "--------------  -----        \n",
      "2877 non-null   period[Y-DEC]\n",
      "dtypes: period[Y-DEC](1)\n",
      "memory usage: 109.5 KB\n"
     ]
    }
   ],
   "source": [
    "df['founded'].info()"
   ]
  },
  {
   "cell_type": "code",
   "execution_count": 50,
   "id": "2163eb78",
   "metadata": {},
   "outputs": [
    {
     "name": "stdout",
     "output_type": "stream",
     "text": [
      "<class 'pandas.core.frame.DataFrame'>\n",
      "Index: 2877 entries, 0 to 2878\n",
      "Data columns (total 10 columns):\n",
      " #   Column         Non-Null Count  Dtype         \n",
      "---  ------         --------------  -----         \n",
      " 0   company_brand  2877 non-null   object        \n",
      " 1   founded        2877 non-null   period[Y-DEC] \n",
      " 2   headquarter    2762 non-null   object        \n",
      " 3   sector         2859 non-null   object        \n",
      " 4   about_company  2877 non-null   object        \n",
      " 5   founders       2332 non-null   object        \n",
      " 6   investor       2246 non-null   object        \n",
      " 7   amount         2320 non-null   float64       \n",
      " 8   series         1941 non-null   object        \n",
      " 9   year           2877 non-null   datetime64[ns]\n",
      "dtypes: datetime64[ns](1), float64(1), object(7), period[Y-DEC](1)\n",
      "memory usage: 311.8+ KB\n"
     ]
    }
   ],
   "source": [
    "df.info()"
   ]
  },
  {
   "cell_type": "markdown",
   "id": "358535e4",
   "metadata": {},
   "source": [
    "## **Cleaning the 'founders' column**"
   ]
  },
  {
   "cell_type": "code",
   "execution_count": 51,
   "id": "48bbb608",
   "metadata": {},
   "outputs": [
    {
     "name": "stdout",
     "output_type": "stream",
     "text": [
      "545\n"
     ]
    }
   ],
   "source": [
    "# Remove unwanted characters\n",
    "df['founders'] = df['founders'].replace(['...', np.nan], np.NaN)\n",
    "\n",
    "# Check the number of NaN values in the 'founders' column\n",
    "nan_count = df['founders'].isna().sum()\n",
    "\n",
    "print(nan_count)"
   ]
  },
  {
   "cell_type": "code",
   "execution_count": 52,
   "id": "dfd189ff-2635-47d7-9172-0fc53a7ea365",
   "metadata": {},
   "outputs": [
    {
     "name": "stdout",
     "output_type": "stream",
     "text": [
      "<class 'pandas.core.series.Series'>\n",
      "Index: 2877 entries, 0 to 2878\n",
      "Series name: founders\n",
      "Non-Null Count  Dtype \n",
      "--------------  ----- \n",
      "2332 non-null   object\n",
      "dtypes: object(1)\n",
      "memory usage: 109.5+ KB\n"
     ]
    }
   ],
   "source": [
    "df['founders'].info()"
   ]
  },
  {
   "cell_type": "markdown",
   "id": "82fa3c58",
   "metadata": {},
   "source": [
    "## **Cleaning **Stage** column**"
   ]
  },
  {
   "cell_type": "markdown",
   "id": "891207b6",
   "metadata": {},
   "source": [
    "Startups start with pre-seed, progress through seed, Series A, Series B, etc., securing resources for development and strategies. Additional rounds like Series C or D may follow. External funding at each stage fuels growth toward the venture's full potential."
   ]
  },
  {
   "cell_type": "markdown",
   "id": "5f93eb2a",
   "metadata": {},
   "source": [
    "**Pre-Seed Funding**  \n",
    "Entrepreneurial idea in early development; small funds needed; limited informal channels for raising funds.\n",
    "\n",
    "**Seed Funding**  \n",
    "First official equity funding; investors provide funds for equity ownership.\n",
    "\n",
    "**Series A Financing**  \n",
    "First venture capital round; developed product, consistent revenue, long-term profit plan.\n",
    "\n",
    "**Series B Financing**  \n",
    "For established startups; substantial user base and revenue; funding for expansion.\n",
    "\n",
    "**Series C and Beyond**  \n",
    "Optional rounds for final push before IPO or unmet objectives; Series C is the third venture capital round.\n",
    "\n",
    "**Initial Public Offering (IPO)**  \n",
    "Process of offering corporate shares to the public; used for funding or divestment."
   ]
  },
  {
   "cell_type": "markdown",
   "id": "7c6b8512",
   "metadata": {},
   "source": [
    "link: https://www.startupindia.gov.in/content/sih/en/funding.html"
   ]
  },
  {
   "cell_type": "code",
   "execution_count": 53,
   "id": "2ebff963",
   "metadata": {},
   "outputs": [],
   "source": [
    "# fix index 551\n",
    "df.at[551,'amount']=300000\n",
    "df.at[551,'series']=None\n",
    "\n",
    "# fix index 674\n",
    "df.at[674,'amount']=6000000\n",
    "df.at[674,'series']=None\n",
    "\n",
    "# fix index 2531\n",
    "df.at[2531,'amount']=None\n",
    "df.at[2531,'series']=None"
   ]
  },
  {
   "cell_type": "code",
   "execution_count": 54,
   "id": "502bbaec",
   "metadata": {},
   "outputs": [],
   "source": [
    "# Standardize funding stages in the 'stage' column\n",
    "df['series'] = df['series'].replace(['Series A', 'Seies A', 'Series A-1', 'Series A2', 'Series A+', 'Series A+'], 'Series A')\n",
    "df['series'] = df['series'].replace(['Pre-seed', 'Pre-seed Round', 'Pre seed Round','Non-equity Assistance', 'Pre seed round'], 'Pre-Seed Stage')\n",
    "df['series'] = df['series'].replace(['Pre series A', 'Pre-series A', 'Pre Series A', 'Pre series A1', 'Pre-series A1', 'Pre- series A'], 'Pre series A')\n",
    "df['series'] = df['series'].replace(['Series B', 'Series B+', 'Series B2', 'Mid series','Series B3'], 'Series B')\n",
    "df['series'] = df['series'].replace(['Series C', 'Series C', 'Series C, D','Series C', 'Private Equity','PE', 'Post-IPO Equity','Series D', 'Series E', 'Series F', 'Series G', 'Series H', 'Series I','Series D1','Series F2', 'Series F1'], 'Series C and Beyond')\n",
    "df['series'] = df['series'].replace(['Venture - Series Unknown', None], 'unknown')\n",
    "df['series'] = df['series'].replace(['Corporate Round','Undisclosed','Secondary Market','Pre-series','Post series A','Pre-series B','Pre-Series B','Pre series B','Pre-series C','Pre series C''Grant','Debt','Debt Financing','Post-IPO Debt','Bridge','Bridge Round','Fresh funding','Funding Round','Edge'], 'Other Stages')\n",
    "df['series'] = df['series'].replace(['Seed','Seed funding','Pre-Seed','Angel', 'Angel Round','Seed fund', 'Seed round', 'Seed A','Seed Funding', 'Seed Round & Series A', 'Series E2', 'Seed Round','Seed Investment','Seed+','Early seed'],'Seed Stage')"
   ]
  },
  {
   "cell_type": "code",
   "execution_count": 55,
   "id": "7d13b202",
   "metadata": {},
   "outputs": [
    {
     "data": {
      "text/plain": [
       "array(['Pre series A', 'unknown', 'Series C and Beyond', 'Seed Stage',\n",
       "       'Series B', 'Pre-Seed Stage', 'Series A', 'Other Stages',\n",
       "       'Pre series C', 'Grant'], dtype=object)"
      ]
     },
     "execution_count": 55,
     "metadata": {},
     "output_type": "execute_result"
    }
   ],
   "source": [
    "df['series'].unique()"
   ]
  },
  {
   "cell_type": "code",
   "execution_count": 56,
   "id": "37f235a0",
   "metadata": {},
   "outputs": [],
   "source": [
    "# strip off characters \n",
    "df['series'] = df['series'].str.strip('\\t#REF!')"
   ]
  },
  {
   "cell_type": "markdown",
   "id": "4350b2c8",
   "metadata": {},
   "source": [
    "## **Cleaning the Sector Column**"
   ]
  },
  {
   "cell_type": "code",
   "execution_count": 57,
   "id": "4d425ecd",
   "metadata": {},
   "outputs": [],
   "source": [
    "# Get the first sentence of every list\n",
    "df['sector']=df['sector'].str.split(\",\").str[0]"
   ]
  },
  {
   "cell_type": "code",
   "execution_count": 58,
   "id": "9ad183ea",
   "metadata": {},
   "outputs": [],
   "source": [
    "# df['sector'] = df['sector'].replace({\n",
    "    # 'Edtech': 'EdTech', 'Fintech': 'FinTech', 'Agriculture': 'AgriTech', 'Food & Beverages': 'Food and Beverages',\n",
    "    # 'Financial Services': 'FinTech', 'Healthcare': 'HealthTech', 'HealthTech': 'HealthTech', 'Medical': 'HealthTech', \n",
    "    # 'Medtech': 'HealthTech', 'Pharmaceutical': 'HealthTech', 'Health Insurance': 'HealthTech', \n",
    "    # 'Biotechnology': 'HealthTech', 'Health Diagnostics': 'HealthTech', 'Hospital': 'HealthTech', \n",
    "    # 'Hospital & Health Care': 'HealthTech', 'Wellness': 'HealthTech', 'Dental': 'HealthTech', \n",
    "    # 'Alternative Medicine': 'HealthTech', 'Nutrition': 'HealthTech', 'Fitness': 'HealthTech', \n",
    "    # 'Mental Health': 'HealthTech', 'Healthcare/Edtech': 'HealthTech',\n",
    "    # 'Life sciences': 'HealthTech', 'Biotech': 'Healthcare', 'Nutrition Tech': 'HealthTech', \n",
    "    # 'E-mobility': 'HealthTech', 'Med Tech': 'HealthTech', 'FemTech': 'HealthTech', \n",
    "    # 'Cannabis startup': 'HealthTech', 'Pharmacy': 'HealthTech', 'Medical Device': 'HealthTech', \n",
    "    # 'BioTechnology': 'HealthTech', 'Fertility tech': 'HealthTech', 'Ayurveda tech': 'HealthTech', \n",
    "    # 'E-tail': 'Healthcare', 'E store': 'E-Commerce', 'E-store': 'Healthcare', 'Telemedicine': 'HealthTech', \n",
    "    # 'HealthCare': 'HealthTech', 'AI startup': 'AI', 'Information Services': 'InfoTech & Services', \n",
    "    # 'Healthtech': 'HealthTech', 'Finance': 'FinTech', 'Health Care': 'HealthTech', \n",
    "    # 'Logistics & Supply Chain': 'Logistics', 'Food Industry': 'FoodTech', 'Foodtech': 'FoodTech', \n",
    "    # '—': 'Undisclosed', 'SaaS startup': 'SaaS', 'Health': 'HealthTech', 'Ecommerce': 'E-Commerce', \n",
    "    # 'Tech Startup': 'Tech', 'Mobility': 'Transportation', 'SaaS': 'Tech', 'Artificial Intelligence': 'AI', \n",
    "    # 'Food and Beverage': 'Food and Beverages', 'Information Technology': 'InfoTech & Services', \n",
    "    # 'Internet': 'Tech', 'Apps': 'Tech', 'Computer Software': 'Tech', 'E-commerce': 'E-Commerce', \n",
    "    # 'Agritech': 'AgriTech', 'Hospital & Health Care': 'HealthTech', 'Food': 'Foodtech', 'Cosmetics': 'Consumer Goods', \n",
    "    # 'Tech company': 'Tech', 'Automobile': 'Automotive', 'Apparel & Fashion': 'Fashion', 'Education': 'EdTech', \n",
    "    # 'Social Media': 'Media', 'Digital Media': 'Media', 'IT': 'InfoTech & Services', 'IoT': 'AI', \n",
    "    # 'Software': 'Tech', 'Industrial Automation': 'AI', 'Technology': 'Tech', \n",
    "    # 'Information Technology & Services': 'InfoTech & Services', None: 'Unknown'\n",
    "# })\n",
    "\n",
    "\n"
   ]
  },
  {
   "cell_type": "markdown",
   "id": "017be599",
   "metadata": {},
   "source": [
    "## **Cleaning HeadQuater Column**"
   ]
  },
  {
   "cell_type": "code",
   "execution_count": 59,
   "id": "6d752eed",
   "metadata": {},
   "outputs": [],
   "source": [
    "# Get the first location from every list\n",
    "df['headquarter']=df['headquarter'].str.split(\",\").str[0]"
   ]
  },
  {
   "cell_type": "code",
   "execution_count": 83,
   "id": "525727b4",
   "metadata": {},
   "outputs": [],
   "source": [
    "df['headquarter']=df['headquarter'].replace({'Bengaluru': 'Bangalore', 'Banglore': 'Bangalore', 'Gurugram': 'Gurgaon', 'Hyderebad': 'Hyderabad', \n",
    "                                      'New Delhi': 'Delhi', 'Ahmadabad': 'Ahmedabad', 'Ernakulam': 'Cochin', 'Telugana': 'Telangana',\n",
    "                                      'Rajastan': 'Rajasthan', 'San Franciscao': 'San Francisco', 'Samsitpur': 'Samastipur', 'Santra': 'Samtra',\n",
    "                                      'Rajsamand': 'Rajasthan', 'Kerala': 'Kochi','The Nilgiris': 'Nilgiris', 'Gurugram\\t#REF!': 'Gurgaon', \n",
    "                                      'California': 'San Francisco', 'San Francisco Bay Area': 'San Francisco', 'Hyderebad': 'Hyderabad',\n",
    "                                      'Online Media\\t#REF!': 'Unknown','Pharmaceuticals\\t#REF!': 'Unknown',\n",
    "                                      'Information Technology & Services':'Unknown' ,'Small Towns': 'Unknown','Orissia': 'Odisha', \n",
    "                                      'Santra': 'Samtra', 'Vadodara': 'Vadodara', 'Food & Beverages': 'Unknown', 'Bangaldesh': 'Bangladesh',}) \n"
   ]
  },
  {
   "cell_type": "code",
   "execution_count": 61,
   "id": "afbdaaef",
   "metadata": {},
   "outputs": [
    {
     "data": {
      "text/html": [
       "<div>\n",
       "<style scoped>\n",
       "    .dataframe tbody tr th:only-of-type {\n",
       "        vertical-align: middle;\n",
       "    }\n",
       "\n",
       "    .dataframe tbody tr th {\n",
       "        vertical-align: top;\n",
       "    }\n",
       "\n",
       "    .dataframe thead th {\n",
       "        text-align: right;\n",
       "    }\n",
       "</style>\n",
       "<table border=\"1\" class=\"dataframe\">\n",
       "  <thead>\n",
       "    <tr style=\"text-align: right;\">\n",
       "      <th></th>\n",
       "      <th>company_brand</th>\n",
       "      <th>founded</th>\n",
       "      <th>headquarter</th>\n",
       "      <th>sector</th>\n",
       "      <th>about_company</th>\n",
       "      <th>founders</th>\n",
       "      <th>investor</th>\n",
       "      <th>amount</th>\n",
       "      <th>series</th>\n",
       "      <th>year</th>\n",
       "    </tr>\n",
       "  </thead>\n",
       "  <tbody>\n",
       "    <tr>\n",
       "      <th>0</th>\n",
       "      <td>Unbox Robotics</td>\n",
       "      <td>1970</td>\n",
       "      <td>Bangalore</td>\n",
       "      <td>AI startup</td>\n",
       "      <td>Unbox Robotics builds on-demand AI-driven ware...</td>\n",
       "      <td>Pramod Ghadge, Shahid Memon</td>\n",
       "      <td>BEENEXT, Entrepreneur First</td>\n",
       "      <td>1200000.0</td>\n",
       "      <td>Pre series A</td>\n",
       "      <td>2021-01-01</td>\n",
       "    </tr>\n",
       "    <tr>\n",
       "      <th>1</th>\n",
       "      <td>upGrad</td>\n",
       "      <td>1970</td>\n",
       "      <td>Mumbai</td>\n",
       "      <td>EdTech</td>\n",
       "      <td>UpGrad is an online higher education platform.</td>\n",
       "      <td>Mayank Kumar, Phalgun Kompalli, Ravijot Chugh,...</td>\n",
       "      <td>Unilazer Ventures, IIFL Asset Management</td>\n",
       "      <td>120000000.0</td>\n",
       "      <td>unknown</td>\n",
       "      <td>2021-01-01</td>\n",
       "    </tr>\n",
       "    <tr>\n",
       "      <th>2</th>\n",
       "      <td>Lead School</td>\n",
       "      <td>1970</td>\n",
       "      <td>Mumbai</td>\n",
       "      <td>EdTech</td>\n",
       "      <td>LEAD School offers technology based school tra...</td>\n",
       "      <td>Smita Deorah, Sumeet Mehta</td>\n",
       "      <td>GSV Ventures, Westbridge Capital</td>\n",
       "      <td>30000000.0</td>\n",
       "      <td>Series C and Beyond</td>\n",
       "      <td>2021-01-01</td>\n",
       "    </tr>\n",
       "    <tr>\n",
       "      <th>3</th>\n",
       "      <td>Bizongo</td>\n",
       "      <td>1970</td>\n",
       "      <td>Mumbai</td>\n",
       "      <td>B2B E-commerce</td>\n",
       "      <td>Bizongo is a business-to-business online marke...</td>\n",
       "      <td>Aniket Deb, Ankit Tomar, Sachin Agrawal</td>\n",
       "      <td>CDC Group, IDG Capital</td>\n",
       "      <td>51000000.0</td>\n",
       "      <td>Series C and Beyond</td>\n",
       "      <td>2021-01-01</td>\n",
       "    </tr>\n",
       "    <tr>\n",
       "      <th>4</th>\n",
       "      <td>FypMoney</td>\n",
       "      <td>1970</td>\n",
       "      <td>Gurgaon</td>\n",
       "      <td>FinTech</td>\n",
       "      <td>FypMoney is Digital NEO Bank for Teenagers, em...</td>\n",
       "      <td>Kapil Banwari</td>\n",
       "      <td>Liberatha Kallat, Mukesh Yadav, Dinesh Nagpal</td>\n",
       "      <td>2000000.0</td>\n",
       "      <td>Seed Stage</td>\n",
       "      <td>2021-01-01</td>\n",
       "    </tr>\n",
       "  </tbody>\n",
       "</table>\n",
       "</div>"
      ],
      "text/plain": [
       "    company_brand founded headquarter          sector  \\\n",
       "0  Unbox Robotics    1970   Bangalore      AI startup   \n",
       "1          upGrad    1970      Mumbai          EdTech   \n",
       "2     Lead School    1970      Mumbai          EdTech   \n",
       "3         Bizongo    1970      Mumbai  B2B E-commerce   \n",
       "4        FypMoney    1970     Gurgaon         FinTech   \n",
       "\n",
       "                                       about_company  \\\n",
       "0  Unbox Robotics builds on-demand AI-driven ware...   \n",
       "1     UpGrad is an online higher education platform.   \n",
       "2  LEAD School offers technology based school tra...   \n",
       "3  Bizongo is a business-to-business online marke...   \n",
       "4  FypMoney is Digital NEO Bank for Teenagers, em...   \n",
       "\n",
       "                                            founders  \\\n",
       "0                        Pramod Ghadge, Shahid Memon   \n",
       "1  Mayank Kumar, Phalgun Kompalli, Ravijot Chugh,...   \n",
       "2                         Smita Deorah, Sumeet Mehta   \n",
       "3            Aniket Deb, Ankit Tomar, Sachin Agrawal   \n",
       "4                                      Kapil Banwari   \n",
       "\n",
       "                                        investor       amount  \\\n",
       "0                    BEENEXT, Entrepreneur First    1200000.0   \n",
       "1       Unilazer Ventures, IIFL Asset Management  120000000.0   \n",
       "2               GSV Ventures, Westbridge Capital   30000000.0   \n",
       "3                         CDC Group, IDG Capital   51000000.0   \n",
       "4  Liberatha Kallat, Mukesh Yadav, Dinesh Nagpal    2000000.0   \n",
       "\n",
       "                series       year  \n",
       "0         Pre series A 2021-01-01  \n",
       "1              unknown 2021-01-01  \n",
       "2  Series C and Beyond 2021-01-01  \n",
       "3  Series C and Beyond 2021-01-01  \n",
       "4           Seed Stage 2021-01-01  "
      ]
     },
     "execution_count": 61,
     "metadata": {},
     "output_type": "execute_result"
    }
   ],
   "source": [
    "df.head()"
   ]
  },
  {
   "cell_type": "code",
   "execution_count": 62,
   "id": "2379b027",
   "metadata": {},
   "outputs": [
    {
     "data": {
      "text/html": [
       "<div>\n",
       "<style scoped>\n",
       "    .dataframe tbody tr th:only-of-type {\n",
       "        vertical-align: middle;\n",
       "    }\n",
       "\n",
       "    .dataframe tbody tr th {\n",
       "        vertical-align: top;\n",
       "    }\n",
       "\n",
       "    .dataframe thead th {\n",
       "        text-align: right;\n",
       "    }\n",
       "</style>\n",
       "<table border=\"1\" class=\"dataframe\">\n",
       "  <thead>\n",
       "    <tr style=\"text-align: right;\">\n",
       "      <th></th>\n",
       "      <th>company_brand</th>\n",
       "      <th>founded</th>\n",
       "      <th>headquarter</th>\n",
       "      <th>sector</th>\n",
       "      <th>about_company</th>\n",
       "      <th>founders</th>\n",
       "      <th>investor</th>\n",
       "      <th>amount</th>\n",
       "      <th>series</th>\n",
       "      <th>year</th>\n",
       "    </tr>\n",
       "  </thead>\n",
       "  <tbody>\n",
       "    <tr>\n",
       "      <th>107</th>\n",
       "      <td>Curefoods</td>\n",
       "      <td>1970</td>\n",
       "      <td>Bangalore</td>\n",
       "      <td>Food &amp; Beverages</td>\n",
       "      <td>Healthy &amp; nutritious foods and cold pressed ju...</td>\n",
       "      <td>Ankit Nagori</td>\n",
       "      <td>Iron Pillar, Nordstar, Binny Bansal</td>\n",
       "      <td>13000000.0</td>\n",
       "      <td>unknown</td>\n",
       "      <td>2021-01-01</td>\n",
       "    </tr>\n",
       "    <tr>\n",
       "      <th>109</th>\n",
       "      <td>Bewakoof</td>\n",
       "      <td>1970</td>\n",
       "      <td>Mumbai</td>\n",
       "      <td>Apparel &amp; Fashion</td>\n",
       "      <td>Bewakoof is a lifestyle fashion brand that mak...</td>\n",
       "      <td>Prabhkiran Singh</td>\n",
       "      <td>InvestCorp</td>\n",
       "      <td>8000000.0</td>\n",
       "      <td>unknown</td>\n",
       "      <td>2021-01-01</td>\n",
       "    </tr>\n",
       "    <tr>\n",
       "      <th>117</th>\n",
       "      <td>Advantage Club</td>\n",
       "      <td>1970</td>\n",
       "      <td>Mumbai</td>\n",
       "      <td>HRTech</td>\n",
       "      <td>Advantage Club is India's largest employee eng...</td>\n",
       "      <td>Sourabh Deorah, Smiti Bhatt Deorah</td>\n",
       "      <td>Y Combinator, Broom Ventures, Kunal Shah</td>\n",
       "      <td>1700000.0</td>\n",
       "      <td>unknown</td>\n",
       "      <td>2021-01-01</td>\n",
       "    </tr>\n",
       "    <tr>\n",
       "      <th>119</th>\n",
       "      <td>Ruptok</td>\n",
       "      <td>1970</td>\n",
       "      <td>Delhi</td>\n",
       "      <td>FinTech</td>\n",
       "      <td>Ruptok fintech Pvt. Ltd. is an online gold loa...</td>\n",
       "      <td>Ankur Gupta</td>\n",
       "      <td>Eclear Leasing</td>\n",
       "      <td>1000000.0</td>\n",
       "      <td>unknown</td>\n",
       "      <td>2021-01-01</td>\n",
       "    </tr>\n",
       "    <tr>\n",
       "      <th>243</th>\n",
       "      <td>Trinkerr</td>\n",
       "      <td>1970</td>\n",
       "      <td>Bangalore</td>\n",
       "      <td>Capital Markets</td>\n",
       "      <td>Trinkerr is India's first social trading platf...</td>\n",
       "      <td>Manvendra Singh, Gaurav Agarwal</td>\n",
       "      <td>Accel India</td>\n",
       "      <td>6600000.0</td>\n",
       "      <td>Series A</td>\n",
       "      <td>2021-01-01</td>\n",
       "    </tr>\n",
       "    <tr>\n",
       "      <th>244</th>\n",
       "      <td>Zorro</td>\n",
       "      <td>1970</td>\n",
       "      <td>Gurgaon</td>\n",
       "      <td>Social network</td>\n",
       "      <td>Pseudonymous social network platform</td>\n",
       "      <td>Jasveer Singh, Abhishek Asthana, Deepak Kumar</td>\n",
       "      <td>Vijay Shekhar Sharma, Ritesh Agarwal, Ankiti Bose</td>\n",
       "      <td>32000000.0</td>\n",
       "      <td>Seed Stage</td>\n",
       "      <td>2021-01-01</td>\n",
       "    </tr>\n",
       "    <tr>\n",
       "      <th>245</th>\n",
       "      <td>Ultraviolette</td>\n",
       "      <td>1970</td>\n",
       "      <td>Bangalore</td>\n",
       "      <td>Automotive</td>\n",
       "      <td>Create and Inspire the future of sustainable u...</td>\n",
       "      <td>Subramaniam Narayan, Niraj Rajmohan</td>\n",
       "      <td>TVS Motor, Zoho</td>\n",
       "      <td>150000000.0</td>\n",
       "      <td>Series C and Beyond</td>\n",
       "      <td>2021-01-01</td>\n",
       "    </tr>\n",
       "    <tr>\n",
       "      <th>246</th>\n",
       "      <td>NephroPlus</td>\n",
       "      <td>1970</td>\n",
       "      <td>Hyderabad</td>\n",
       "      <td>Hospital &amp; Health Care</td>\n",
       "      <td>A vision and passion of redefining healthcare ...</td>\n",
       "      <td>Vikram Vuppala</td>\n",
       "      <td>IIFL Asset Management</td>\n",
       "      <td>24000000.0</td>\n",
       "      <td>Series C and Beyond</td>\n",
       "      <td>2021-01-01</td>\n",
       "    </tr>\n",
       "    <tr>\n",
       "      <th>247</th>\n",
       "      <td>Unremot</td>\n",
       "      <td>1970</td>\n",
       "      <td>Bangalore</td>\n",
       "      <td>Information Technology &amp; Services</td>\n",
       "      <td>Unremot is a personal office for consultants!</td>\n",
       "      <td>Shiju Radhakrishnan</td>\n",
       "      <td>Inflection Point Ventures</td>\n",
       "      <td>700000.0</td>\n",
       "      <td>Seed Stage</td>\n",
       "      <td>2021-01-01</td>\n",
       "    </tr>\n",
       "    <tr>\n",
       "      <th>248</th>\n",
       "      <td>FanAnywhere</td>\n",
       "      <td>1970</td>\n",
       "      <td>Bangalore</td>\n",
       "      <td>Financial Services</td>\n",
       "      <td>Celebrity NFT platform</td>\n",
       "      <td>Varun Chaudhary, Amit Kumar</td>\n",
       "      <td>Oasis Capital, Scorpio VC, DeltaHub Capital</td>\n",
       "      <td>NaN</td>\n",
       "      <td>Seed Stage</td>\n",
       "      <td>2021-01-01</td>\n",
       "    </tr>\n",
       "    <tr>\n",
       "      <th>249</th>\n",
       "      <td>PingoLearn</td>\n",
       "      <td>1970</td>\n",
       "      <td>Pune</td>\n",
       "      <td>E-learning</td>\n",
       "      <td>PingoLearn offers language learning courses wi...</td>\n",
       "      <td>Mohit Menghani, Shubham Maheshwari</td>\n",
       "      <td>Titan Capital, Haresh Chawla, AngelList Syndicate</td>\n",
       "      <td>200000.0</td>\n",
       "      <td>unknown</td>\n",
       "      <td>2021-01-01</td>\n",
       "    </tr>\n",
       "    <tr>\n",
       "      <th>250</th>\n",
       "      <td>Spry</td>\n",
       "      <td>1970</td>\n",
       "      <td>Mumbai</td>\n",
       "      <td>Music</td>\n",
       "      <td>THE BEST ROYALTY-FREE MUSIC TO CREATE TRENDING...</td>\n",
       "      <td>Gaurav Dagaonkar, Meghna Mittal</td>\n",
       "      <td>9Unicorns, Ashneer Grover</td>\n",
       "      <td>1500000.0</td>\n",
       "      <td>Seed Stage</td>\n",
       "      <td>2021-01-01</td>\n",
       "    </tr>\n",
       "    <tr>\n",
       "      <th>251</th>\n",
       "      <td>Enmovil</td>\n",
       "      <td>1970</td>\n",
       "      <td>Hyderabad</td>\n",
       "      <td>Information Technology &amp; Services</td>\n",
       "      <td>Enmovil delivers a Business Intelligence Platf...</td>\n",
       "      <td>Ravi Bulusu, Nanda Kishore, Venkat Moganty</td>\n",
       "      <td>Anicut Angel Fund</td>\n",
       "      <td>1300000.0</td>\n",
       "      <td>Pre series A</td>\n",
       "      <td>2021-01-01</td>\n",
       "    </tr>\n",
       "    <tr>\n",
       "      <th>252</th>\n",
       "      <td>ASQI Advisors</td>\n",
       "      <td>1970</td>\n",
       "      <td>Mumbai</td>\n",
       "      <td>Financial Services</td>\n",
       "      <td>Bringing Blockchain technology intro mainstrea...</td>\n",
       "      <td>Swapnil Pawar</td>\n",
       "      <td>Founders Room Capital</td>\n",
       "      <td>1000000.0</td>\n",
       "      <td>Pre series A</td>\n",
       "      <td>2021-01-01</td>\n",
       "    </tr>\n",
       "    <tr>\n",
       "      <th>253</th>\n",
       "      <td>Insurance Samadhan</td>\n",
       "      <td>1970</td>\n",
       "      <td>Delhi</td>\n",
       "      <td>Insurance</td>\n",
       "      <td>The insurance industry will help in representa...</td>\n",
       "      <td>Deepak Bhuvenshwari Uniyal</td>\n",
       "      <td>9Unicorns, ZNL</td>\n",
       "      <td>725000.0</td>\n",
       "      <td>Pre series A</td>\n",
       "      <td>2021-01-01</td>\n",
       "    </tr>\n",
       "    <tr>\n",
       "      <th>254</th>\n",
       "      <td>Evenflow Brands</td>\n",
       "      <td>1970</td>\n",
       "      <td>Mumbai</td>\n",
       "      <td>Consumer Goods</td>\n",
       "      <td>Identify and partner with the upcoming eCommer...</td>\n",
       "      <td>Utsav Agarwal, Pulkit Chhabra</td>\n",
       "      <td>None</td>\n",
       "      <td>500000.0</td>\n",
       "      <td>unknown</td>\n",
       "      <td>2021-01-01</td>\n",
       "    </tr>\n",
       "    <tr>\n",
       "      <th>255</th>\n",
       "      <td>MasterChow</td>\n",
       "      <td>1970</td>\n",
       "      <td>ood &amp; Beverages</td>\n",
       "      <td>Hauz Khas</td>\n",
       "      <td>A ready-to-cook Asian cuisine brand</td>\n",
       "      <td>Vidur Kataria, Sidhanth Madan</td>\n",
       "      <td>WEH Ventures</td>\n",
       "      <td>461000.0</td>\n",
       "      <td>Seed Stage</td>\n",
       "      <td>2021-01-01</td>\n",
       "    </tr>\n",
       "    <tr>\n",
       "      <th>1354</th>\n",
       "      <td>Krimanshi</td>\n",
       "      <td>1970</td>\n",
       "      <td>Jodhpur</td>\n",
       "      <td>Biotechnology company</td>\n",
       "      <td>Krimanshi aims to increase rural income by imp...</td>\n",
       "      <td>Nikhil Bohra</td>\n",
       "      <td>Rajasthan Venture Capital Fund, AIM Smart City</td>\n",
       "      <td>600000.0</td>\n",
       "      <td>Seed Stage</td>\n",
       "      <td>2020-01-01</td>\n",
       "    </tr>\n",
       "    <tr>\n",
       "      <th>1414</th>\n",
       "      <td>Nykaa</td>\n",
       "      <td>1970</td>\n",
       "      <td>Mumbai</td>\n",
       "      <td>Cosmetics</td>\n",
       "      <td>Nykaa is an online marketplace for different b...</td>\n",
       "      <td>Falguni Nayar</td>\n",
       "      <td>Alia Bhatt, Katrina Kaif</td>\n",
       "      <td>NaN</td>\n",
       "      <td>unknown</td>\n",
       "      <td>2020-01-01</td>\n",
       "    </tr>\n",
       "    <tr>\n",
       "      <th>1571</th>\n",
       "      <td>Byju’s</td>\n",
       "      <td>1970</td>\n",
       "      <td>Bangalore</td>\n",
       "      <td>EdTech</td>\n",
       "      <td>An Indian educational technology and online tu...</td>\n",
       "      <td>Byju Raveendran</td>\n",
       "      <td>Owl Ventures, Tiger Global Management</td>\n",
       "      <td>500000000.0</td>\n",
       "      <td>unknown</td>\n",
       "      <td>2020-01-01</td>\n",
       "    </tr>\n",
       "    <tr>\n",
       "      <th>2701</th>\n",
       "      <td>TheCollegeFever</td>\n",
       "      <td>1970</td>\n",
       "      <td>Bangalore</td>\n",
       "      <td>Brand Marketing</td>\n",
       "      <td>TheCollegeFever is a hub for fun, fiesta and f...</td>\n",
       "      <td>NaN</td>\n",
       "      <td>NaN</td>\n",
       "      <td>250000.0</td>\n",
       "      <td>Seed Stage</td>\n",
       "      <td>2018-01-01</td>\n",
       "    </tr>\n",
       "  </tbody>\n",
       "</table>\n",
       "</div>"
      ],
      "text/plain": [
       "           company_brand founded      headquarter  \\\n",
       "107            Curefoods    1970        Bangalore   \n",
       "109             Bewakoof    1970           Mumbai   \n",
       "117       Advantage Club    1970           Mumbai   \n",
       "119               Ruptok    1970            Delhi   \n",
       "243             Trinkerr    1970        Bangalore   \n",
       "244                Zorro    1970          Gurgaon   \n",
       "245        Ultraviolette    1970        Bangalore   \n",
       "246           NephroPlus    1970        Hyderabad   \n",
       "247              Unremot    1970        Bangalore   \n",
       "248          FanAnywhere    1970        Bangalore   \n",
       "249           PingoLearn    1970             Pune   \n",
       "250                 Spry    1970           Mumbai   \n",
       "251              Enmovil    1970        Hyderabad   \n",
       "252        ASQI Advisors    1970           Mumbai   \n",
       "253   Insurance Samadhan    1970            Delhi   \n",
       "254      Evenflow Brands    1970           Mumbai   \n",
       "255           MasterChow    1970  ood & Beverages   \n",
       "1354           Krimanshi    1970          Jodhpur   \n",
       "1414               Nykaa    1970           Mumbai   \n",
       "1571              Byju’s    1970        Bangalore   \n",
       "2701     TheCollegeFever    1970        Bangalore   \n",
       "\n",
       "                                 sector  \\\n",
       "107                    Food & Beverages   \n",
       "109                   Apparel & Fashion   \n",
       "117                              HRTech   \n",
       "119                             FinTech   \n",
       "243                     Capital Markets   \n",
       "244                      Social network   \n",
       "245                          Automotive   \n",
       "246              Hospital & Health Care   \n",
       "247   Information Technology & Services   \n",
       "248                  Financial Services   \n",
       "249                          E-learning   \n",
       "250                               Music   \n",
       "251   Information Technology & Services   \n",
       "252                  Financial Services   \n",
       "253                           Insurance   \n",
       "254                      Consumer Goods   \n",
       "255                           Hauz Khas   \n",
       "1354              Biotechnology company   \n",
       "1414                          Cosmetics   \n",
       "1571                             EdTech   \n",
       "2701                    Brand Marketing   \n",
       "\n",
       "                                          about_company  \\\n",
       "107   Healthy & nutritious foods and cold pressed ju...   \n",
       "109   Bewakoof is a lifestyle fashion brand that mak...   \n",
       "117   Advantage Club is India's largest employee eng...   \n",
       "119   Ruptok fintech Pvt. Ltd. is an online gold loa...   \n",
       "243   Trinkerr is India's first social trading platf...   \n",
       "244                Pseudonymous social network platform   \n",
       "245   Create and Inspire the future of sustainable u...   \n",
       "246   A vision and passion of redefining healthcare ...   \n",
       "247       Unremot is a personal office for consultants!   \n",
       "248                              Celebrity NFT platform   \n",
       "249   PingoLearn offers language learning courses wi...   \n",
       "250   THE BEST ROYALTY-FREE MUSIC TO CREATE TRENDING...   \n",
       "251   Enmovil delivers a Business Intelligence Platf...   \n",
       "252   Bringing Blockchain technology intro mainstrea...   \n",
       "253   The insurance industry will help in representa...   \n",
       "254   Identify and partner with the upcoming eCommer...   \n",
       "255                 A ready-to-cook Asian cuisine brand   \n",
       "1354  Krimanshi aims to increase rural income by imp...   \n",
       "1414  Nykaa is an online marketplace for different b...   \n",
       "1571  An Indian educational technology and online tu...   \n",
       "2701  TheCollegeFever is a hub for fun, fiesta and f...   \n",
       "\n",
       "                                           founders  \\\n",
       "107                                    Ankit Nagori   \n",
       "109                                Prabhkiran Singh   \n",
       "117              Sourabh Deorah, Smiti Bhatt Deorah   \n",
       "119                                     Ankur Gupta   \n",
       "243                 Manvendra Singh, Gaurav Agarwal   \n",
       "244   Jasveer Singh, Abhishek Asthana, Deepak Kumar   \n",
       "245             Subramaniam Narayan, Niraj Rajmohan   \n",
       "246                                  Vikram Vuppala   \n",
       "247                             Shiju Radhakrishnan   \n",
       "248                     Varun Chaudhary, Amit Kumar   \n",
       "249              Mohit Menghani, Shubham Maheshwari   \n",
       "250                 Gaurav Dagaonkar, Meghna Mittal   \n",
       "251      Ravi Bulusu, Nanda Kishore, Venkat Moganty   \n",
       "252                                   Swapnil Pawar   \n",
       "253                      Deepak Bhuvenshwari Uniyal   \n",
       "254                   Utsav Agarwal, Pulkit Chhabra   \n",
       "255                   Vidur Kataria, Sidhanth Madan   \n",
       "1354                                   Nikhil Bohra   \n",
       "1414                                  Falguni Nayar   \n",
       "1571                                Byju Raveendran   \n",
       "2701                                            NaN   \n",
       "\n",
       "                                               investor       amount  \\\n",
       "107                 Iron Pillar, Nordstar, Binny Bansal   13000000.0   \n",
       "109                                          InvestCorp    8000000.0   \n",
       "117            Y Combinator, Broom Ventures, Kunal Shah    1700000.0   \n",
       "119                                      Eclear Leasing    1000000.0   \n",
       "243                                         Accel India    6600000.0   \n",
       "244   Vijay Shekhar Sharma, Ritesh Agarwal, Ankiti Bose   32000000.0   \n",
       "245                                     TVS Motor, Zoho  150000000.0   \n",
       "246                               IIFL Asset Management   24000000.0   \n",
       "247                           Inflection Point Ventures     700000.0   \n",
       "248         Oasis Capital, Scorpio VC, DeltaHub Capital          NaN   \n",
       "249   Titan Capital, Haresh Chawla, AngelList Syndicate     200000.0   \n",
       "250                           9Unicorns, Ashneer Grover    1500000.0   \n",
       "251                                   Anicut Angel Fund    1300000.0   \n",
       "252                               Founders Room Capital    1000000.0   \n",
       "253                                      9Unicorns, ZNL     725000.0   \n",
       "254                                                None     500000.0   \n",
       "255                                        WEH Ventures     461000.0   \n",
       "1354     Rajasthan Venture Capital Fund, AIM Smart City     600000.0   \n",
       "1414                           Alia Bhatt, Katrina Kaif          NaN   \n",
       "1571              Owl Ventures, Tiger Global Management  500000000.0   \n",
       "2701                                                NaN     250000.0   \n",
       "\n",
       "                   series       year  \n",
       "107               unknown 2021-01-01  \n",
       "109               unknown 2021-01-01  \n",
       "117               unknown 2021-01-01  \n",
       "119               unknown 2021-01-01  \n",
       "243              Series A 2021-01-01  \n",
       "244            Seed Stage 2021-01-01  \n",
       "245   Series C and Beyond 2021-01-01  \n",
       "246   Series C and Beyond 2021-01-01  \n",
       "247            Seed Stage 2021-01-01  \n",
       "248            Seed Stage 2021-01-01  \n",
       "249               unknown 2021-01-01  \n",
       "250            Seed Stage 2021-01-01  \n",
       "251          Pre series A 2021-01-01  \n",
       "252          Pre series A 2021-01-01  \n",
       "253          Pre series A 2021-01-01  \n",
       "254               unknown 2021-01-01  \n",
       "255            Seed Stage 2021-01-01  \n",
       "1354           Seed Stage 2020-01-01  \n",
       "1414              unknown 2020-01-01  \n",
       "1571              unknown 2020-01-01  \n",
       "2701           Seed Stage 2018-01-01  "
      ]
     },
     "execution_count": 62,
     "metadata": {},
     "output_type": "execute_result"
    }
   ],
   "source": [
    "# check for duplicates\n",
    "df[df.duplicated()]\n"
   ]
  },
  {
   "cell_type": "code",
   "execution_count": 63,
   "id": "acb18d07",
   "metadata": {},
   "outputs": [],
   "source": [
    "# drop duplicates\n",
    "df.drop_duplicates(keep='first', inplace=True)\n"
   ]
  },
  {
   "cell_type": "code",
   "execution_count": 64,
   "id": "3e72fd35",
   "metadata": {},
   "outputs": [
    {
     "name": "stdout",
     "output_type": "stream",
     "text": [
      " There are 0 duplicates\n"
     ]
    }
   ],
   "source": [
    "# check for duplicates\n",
    "print(f\" There are {df.duplicated().sum()} duplicates\")"
   ]
  },
  {
   "cell_type": "code",
   "execution_count": 65,
   "id": "f07a6e2a",
   "metadata": {},
   "outputs": [
    {
     "name": "stdout",
     "output_type": "stream",
     "text": [
      "<class 'pandas.core.frame.DataFrame'>\n",
      "Index: 2856 entries, 0 to 2878\n",
      "Data columns (total 10 columns):\n",
      " #   Column         Non-Null Count  Dtype         \n",
      "---  ------         --------------  -----         \n",
      " 0   company_brand  2856 non-null   object        \n",
      " 1   founded        2856 non-null   period[Y-DEC] \n",
      " 2   headquarter    2741 non-null   object        \n",
      " 3   sector         2838 non-null   object        \n",
      " 4   about_company  2856 non-null   object        \n",
      " 5   founders       2312 non-null   object        \n",
      " 6   investor       2227 non-null   object        \n",
      " 7   amount         2301 non-null   float64       \n",
      " 8   series         2856 non-null   object        \n",
      " 9   year           2856 non-null   datetime64[ns]\n",
      "dtypes: datetime64[ns](1), float64(1), object(7), period[Y-DEC](1)\n",
      "memory usage: 245.4+ KB\n"
     ]
    }
   ],
   "source": [
    "df.info()"
   ]
  },
  {
   "cell_type": "markdown",
   "id": "bf4536a8",
   "metadata": {},
   "source": [
    "# **4. Hypothesis**"
   ]
  },
  {
   "cell_type": "markdown",
   "id": "8594001a",
   "metadata": {},
   "source": [
    "**Null Hypothesis (H0)**: There is no significant relationship between funding and the sector  \n",
    "\n",
    "**Alternative Hypothesis (H1)**: There is a significant relationship between funding and the sector"
   ]
  },
  {
   "cell_type": "code",
   "execution_count": 66,
   "id": "6270bbf2",
   "metadata": {},
   "outputs": [
    {
     "name": "stdout",
     "output_type": "stream",
     "text": [
      "F-statistic: nan\n",
      "P-value: nan\n",
      "Fail to reject the null hypothesis. There is no significant relationship between funding amount and the sector.\n"
     ]
    }
   ],
   "source": [
    "# Perform one-way ANOVA\n",
    "result = f_oneway(*[df['amount'][df['sector'] == sector] for sector in df['sector'].unique()])\n",
    "\n",
    "# Output the results\n",
    "print(f\"F-statistic: {result.statistic}\")\n",
    "print(f\"P-value: {result.pvalue}\")\n",
    "\n",
    "# Set the significance level\n",
    "alpha = 0.05\n",
    "\n",
    "# Compare p-value with the significance level\n",
    "if result.pvalue < alpha:\n",
    "    print(\"Reject the null hypothesis. There is a significant relationship between funding amount and the sector.\")\n",
    "else:\n",
    "    print(\"Fail to reject the null hypothesis. There is no significant relationship between funding amount and the sector.\")"
   ]
  },
  {
   "cell_type": "markdown",
   "id": "dfd8e56a",
   "metadata": {},
   "source": [
    "# **5. Analytical Questions**"
   ]
  },
  {
   "cell_type": "markdown",
   "id": "62df3ba3",
   "metadata": {},
   "source": [
    "## Questions \n",
    "1. How does funding vary across different industry sectors in India?\n",
    "2. How does funding vary with the loaction of the start-ups\n",
    "3. What is the relationship between the amount of funding and the stage of the company?\n",
    "4. How have funding trends evolved between 2018 and 2021?\n",
    "5. What are the most attractive sectors for investors?\n",
    "6. Does the location of the company influence its sector?"
   ]
  },
  {
   "cell_type": "code",
   "execution_count": 67,
   "id": "da51e0bb",
   "metadata": {},
   "outputs": [
    {
     "data": {
      "text/html": [
       "<div>\n",
       "<style scoped>\n",
       "    .dataframe tbody tr th:only-of-type {\n",
       "        vertical-align: middle;\n",
       "    }\n",
       "\n",
       "    .dataframe tbody tr th {\n",
       "        vertical-align: top;\n",
       "    }\n",
       "\n",
       "    .dataframe thead th {\n",
       "        text-align: right;\n",
       "    }\n",
       "</style>\n",
       "<table border=\"1\" class=\"dataframe\">\n",
       "  <thead>\n",
       "    <tr style=\"text-align: right;\">\n",
       "      <th></th>\n",
       "      <th>company_brand</th>\n",
       "      <th>founded</th>\n",
       "      <th>headquarter</th>\n",
       "      <th>sector</th>\n",
       "      <th>about_company</th>\n",
       "      <th>founders</th>\n",
       "      <th>investor</th>\n",
       "      <th>amount</th>\n",
       "      <th>series</th>\n",
       "      <th>year</th>\n",
       "    </tr>\n",
       "  </thead>\n",
       "  <tbody>\n",
       "    <tr>\n",
       "      <th>0</th>\n",
       "      <td>Unbox Robotics</td>\n",
       "      <td>1970</td>\n",
       "      <td>Bangalore</td>\n",
       "      <td>AI startup</td>\n",
       "      <td>Unbox Robotics builds on-demand AI-driven ware...</td>\n",
       "      <td>Pramod Ghadge, Shahid Memon</td>\n",
       "      <td>BEENEXT, Entrepreneur First</td>\n",
       "      <td>1200000.0</td>\n",
       "      <td>Pre series A</td>\n",
       "      <td>2021-01-01</td>\n",
       "    </tr>\n",
       "    <tr>\n",
       "      <th>1</th>\n",
       "      <td>upGrad</td>\n",
       "      <td>1970</td>\n",
       "      <td>Mumbai</td>\n",
       "      <td>EdTech</td>\n",
       "      <td>UpGrad is an online higher education platform.</td>\n",
       "      <td>Mayank Kumar, Phalgun Kompalli, Ravijot Chugh,...</td>\n",
       "      <td>Unilazer Ventures, IIFL Asset Management</td>\n",
       "      <td>120000000.0</td>\n",
       "      <td>unknown</td>\n",
       "      <td>2021-01-01</td>\n",
       "    </tr>\n",
       "    <tr>\n",
       "      <th>2</th>\n",
       "      <td>Lead School</td>\n",
       "      <td>1970</td>\n",
       "      <td>Mumbai</td>\n",
       "      <td>EdTech</td>\n",
       "      <td>LEAD School offers technology based school tra...</td>\n",
       "      <td>Smita Deorah, Sumeet Mehta</td>\n",
       "      <td>GSV Ventures, Westbridge Capital</td>\n",
       "      <td>30000000.0</td>\n",
       "      <td>Series C and Beyond</td>\n",
       "      <td>2021-01-01</td>\n",
       "    </tr>\n",
       "  </tbody>\n",
       "</table>\n",
       "</div>"
      ],
      "text/plain": [
       "    company_brand founded headquarter      sector  \\\n",
       "0  Unbox Robotics    1970   Bangalore  AI startup   \n",
       "1          upGrad    1970      Mumbai      EdTech   \n",
       "2     Lead School    1970      Mumbai      EdTech   \n",
       "\n",
       "                                       about_company  \\\n",
       "0  Unbox Robotics builds on-demand AI-driven ware...   \n",
       "1     UpGrad is an online higher education platform.   \n",
       "2  LEAD School offers technology based school tra...   \n",
       "\n",
       "                                            founders  \\\n",
       "0                        Pramod Ghadge, Shahid Memon   \n",
       "1  Mayank Kumar, Phalgun Kompalli, Ravijot Chugh,...   \n",
       "2                         Smita Deorah, Sumeet Mehta   \n",
       "\n",
       "                                   investor       amount               series  \\\n",
       "0               BEENEXT, Entrepreneur First    1200000.0         Pre series A   \n",
       "1  Unilazer Ventures, IIFL Asset Management  120000000.0              unknown   \n",
       "2          GSV Ventures, Westbridge Capital   30000000.0  Series C and Beyond   \n",
       "\n",
       "        year  \n",
       "0 2021-01-01  \n",
       "1 2021-01-01  \n",
       "2 2021-01-01  "
      ]
     },
     "execution_count": 67,
     "metadata": {},
     "output_type": "execute_result"
    }
   ],
   "source": [
    "df.head(3)"
   ]
  },
  {
   "cell_type": "markdown",
   "id": "f1ddc698",
   "metadata": {},
   "source": [
    "## **4. How have funding trends evolved between 2018 and 2021?**\n"
   ]
  },
  {
   "cell_type": "markdown",
   "id": "f2ba0037",
   "metadata": {},
   "source": [
    "### **Funding Trend by Year**"
   ]
  },
  {
   "cell_type": "code",
   "execution_count": 112,
   "id": "25b32755",
   "metadata": {},
   "outputs": [
    {
     "data": {
      "image/png": "[encoded data removed]",
      "text/plain": [
       "<Figure size 640x480 with 1 Axes>"
      ]
     },
     "metadata": {},
     "output_type": "display_data"
    }
   ],
   "source": [
    "# Plot a line graph to display the trend over the year\n",
    "funding_trend=df.groupby('year')['amount'].sum()\n",
    "funding_trend=pd.DataFrame(funding_trend)\n",
    "ax=funding_trend.plot.line(marker='o', markersize=8)\n",
    "plt.xlabel('Year')\n",
    "plt.ylabel('Total Amount Funded in \\nBillion Dollars')\n",
    "plt.title('Indian Startup\\nFunding Trend from 2018- 2021\\n')\n",
    "plt.show()"
   ]
  },
  {
   "cell_type": "markdown",
   "id": "46369b7c",
   "metadata": {},
   "source": [
    "#### **Observations**  \n",
    "- There is slight decrease and then a sudden increase  in the Indian Startup funding from 2019 to 2021\n",
    "- The steep upward trajectory suggests an increasing trend in funding"
   ]
  },
  {
   "cell_type": "markdown",
   "id": "51e11113",
   "metadata": {},
   "source": [
    "#### **Funding Trend by Top Locations**"
   ]
  },
  {
   "cell_type": "code",
   "execution_count": 134,
   "id": "73b5c411",
   "metadata": {},
   "outputs": [
    {
     "data": {
      "image/png": "[encoded data removed]",
      "text/plain": [
       "<Figure size 640x480 with 1 Axes>"
      ]
     },
     "metadata": {},
     "output_type": "display_data"
    }
   ],
   "source": [
    "from matplotlib.dates import YearLocator\n",
    "df['year'] = pd.to_datetime(df['year'], format='%Y')\n",
    "location_trend = df.groupby(['headquarter', 'year'])['amount'].sum().sort_values(ascending=False)\n",
    "top_locations = location_trend.groupby('headquarter').sum().nlargest(4).index\n",
    "# Filter the original DataFrame for the top 5 locations\n",
    "location_trend_top4 = location_trend[location_trend.index.get_level_values('headquarter').isin(top_locations)].reset_index()\n",
    "# Set 'year' as the index for the grouped data\n",
    "location_trend_top4.set_index('year', inplace=True)\n",
    "# Create a line plot for each location\n",
    "ax = sns.lineplot(data=location_trend_top4, x='year', y='amount', hue='headquarter', marker='o', markersize=8)\n",
    "plt.xlabel('Year')\n",
    "plt.ylabel('Total Funded Amount')\n",
    "plt.title('Top 4 Locations Funding Trend \\nOver the Years\\n')\n",
    "plt.xticks(rotation=45)\n",
    "ax.xaxis.set_major_locator(YearLocator())\n",
    "plt.show()"
   ]
  },
  {
   "cell_type": "markdown",
   "id": "4c3d28bb",
   "metadata": {},
   "source": [
    "#### **Observations**  \n",
    "- All four locations have see a substantial increase in funding from 2019 to 2021, however, Mumbai funding grew sharply compared to the other three i.e Bangalore Delhi and Gurgaon"
   ]
  }
 ],
 "metadata": {
  "kernelspec": {
   "display_name": "Python 3 (ipykernel)",
   "language": "python",
   "name": "python3"
  },
  "language_info": {
   "codemirror_mode": {
    "name": "ipython",
    "version": 3
   },
   "file_extension": ".py",
   "mimetype": "text/x-python",
   "name": "python",
   "nbconvert_exporter": "python",
   "pygments_lexer": "ipython3",
   "version": "3.11.6"
  }
 },
 "nbformat": 4,
 "nbformat_minor": 5
}
