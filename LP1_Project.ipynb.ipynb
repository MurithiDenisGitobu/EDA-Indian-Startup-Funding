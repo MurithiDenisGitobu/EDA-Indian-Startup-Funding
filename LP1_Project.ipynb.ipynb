{
 "cells": [
  {
   "cell_type": "markdown",
   "id": "098d19ba-83f1-4ebe-8224-3d771aa670e6",
   "metadata": {},
   "source": [
    "# INDIAN STARTUP ECOSYSTEM"
   ]
  },
  {
   "cell_type": "markdown",
   "id": "c62646cd-0736-4382-a4d2-318010effda4",
   "metadata": {},
   "source": [
    "## Project Description\n",
    "We embark on a journey of discovery as we leverage our data analysis expertise to uncover the untapped potential within the Indian startup ecosystem. This project is designed to not only decode the numbers but to distill insights that will guide our team towards a successful foray into this dynamic market."
   ]
  },
  {
   "cell_type": "markdown",
   "id": "073a46b0-b9c4-4cd3-941f-2966afc886e3",
   "metadata": {},
   "source": [
    "## Scope of Work\n",
    "\n",
    "- Conduct a thorough exploration of datasets, dissecting funding patterns, sectoral nuances, and geographical hotspots in the Indian startup landscap\n",
    "- Analyze funding received by startups in india from 2018 to 2019\n",
    "\n"
   ]
  },
  {
   "cell_type": "markdown",
   "id": "56c8dab3-8e2b-47f3-874a-d27632251b8f",
   "metadata": {},
   "source": [
    "## Hypothesis \n",
    "**Null Hypothesis (H₀)**: There is no significant difference in the average funding received by startups in various regions of India.\n",
    "\n",
    "**Alternative Hypothesis (H₁)**: There are significant differences in the average funding received by startups in different regions of India."
   ]
  },
  {
   "cell_type": "markdown",
   "id": "8620e446-b068-4209-8f16-003e788eebdb",
   "metadata": {},
   "source": [
    "## Questions \n",
    "1. How does funding vary across different industry sectors in India?\n",
    "2. Are there regional variations in startup funding within India?\n",
    "3. What is the relationship between funding and startup success or failure?\n",
    "4. How have funding trends evolved over the years?\n",
    "5. How do funding amounts vary based on the startup's development stage (For example: early-stage, growth-stage)?\n",
    "\n",
    "\n"
   ]
  },
  {
   "cell_type": "markdown",
   "id": "182b1f90-e702-479c-bed8-7b0937f92ec8",
   "metadata": {},
   "source": [
    "# DATA EXPLORATION, DATA UNDERSTANDING and DATA ANALYSIS"
   ]
  },
  {
   "cell_type": "code",
   "execution_count": 41,
   "id": "a4313f08-adad-4397-b2a2-07ab3f969571",
   "metadata": {},
   "outputs": [],
   "source": [
    "# Load libraries\n",
    "# Database connnection\n",
    "import pyodbc     \n",
    "from dotenv import dotenv_values    #import the dotenv_values function from the dotenv package\n",
    "\n",
    "# Data manipulation\n",
    "import pandas as pd\n",
    "import numpy as np\n",
    "\n",
    "# Data visualization\n",
    "import matplotlib.pyplot as plt\n",
    "import seaborn as sns\n",
    "import plotly.express as px\n",
    "\n",
    "# filter warnings\n",
    "import warnings \n",
    "warnings.filterwarnings('ignore')"
   ]
  },
  {
   "cell_type": "markdown",
   "id": "a5653ae6-aaf0-4f36-ac77-0d12378022dd",
   "metadata": {},
   "source": [
    "## 1. Loading and Inspection of Data"
   ]
  },
  {
   "cell_type": "code",
   "execution_count": 42,
   "id": "64476aec-cfda-44ff-9287-f9ae1116d755",
   "metadata": {},
   "outputs": [],
   "source": [
    "# Load environment variables from .env file into a dictionary\n",
    "environment_variables = dotenv_values('.gitignore')\n",
    "\n",
    "# Get the values for the credentials you set in the '.env' file\n",
    "server = environment_variables.get(\"SERVER\")\n",
    "database = environment_variables.get(\"DATABASE\")\n",
    "username = environment_variables.get(\"USERNAME\")\n",
    "password = environment_variables.get(\"PASSWORD\")"
   ]
  },
  {
   "cell_type": "code",
   "execution_count": 43,
   "id": "1065f30f-d2af-4355-9709-68b7cf2eec10",
   "metadata": {},
   "outputs": [],
   "source": [
    "# Create a connection string\n",
    "connection_string = f\"DRIVER={{SQL Server}};SERVER={server};DATABASE={database};UID={username};PWD={password}\""
   ]
  },
  {
   "cell_type": "code",
   "execution_count": 44,
   "id": "0f7c63fd-3a4a-462f-bdae-47095059d373",
   "metadata": {},
   "outputs": [],
   "source": [
    "# connect to the database\n",
    "try:\n",
    "    connection = pyodbc.connect(connection_string)\n",
    "except Exception as e:\n",
    "    print(f'Error: {e}\\n{type(e)}')"
   ]
  },
  {
   "cell_type": "code",
   "execution_count": 45,
   "id": "7c96e340-66bf-4947-b4bf-878ba7335936",
   "metadata": {},
   "outputs": [],
   "source": [
    "# sql query to get 2020 data. \n",
    "query_2020=\"SELECT * FROM dbo.LP1_startup_funding2020\"\n",
    "\n",
    "# sql query to get 2021 data. \n",
    "query_2021=\"SELECT * FROM dbo.LP1_startup_funding2021\""
   ]
  },
  {
   "cell_type": "code",
   "execution_count": 46,
   "id": "4879cd40-2819-442a-a895-1560371616cc",
   "metadata": {},
   "outputs": [],
   "source": [
    "try:\n",
    "    # load 2021 data\n",
    "    data_2021=pd.read_sql(query_2021,connection)\n",
    "\n",
    "    # load 2020 data\n",
    "    data_2020=pd.read_sql(query_2020,connection)\n",
    "\n",
    "    # load 2019 data\n",
    "    data_2019=pd.read_csv(r'C:\\Users\\iamde\\OneDrive\\Desktop\\denis\\startup_funding2019.csv')\n",
    "\n",
    "    # load 2018 data\n",
    "    data_2018=pd.read_csv(r'C:\\Users\\iamde\\OneDrive\\Desktop\\denis\\startup_funding2018.csv')\n",
    "except Exception as e:\n",
    "    print(f\"Error: {e}, {type(e)}\")"
   ]
  },
  {
   "cell_type": "markdown",
   "id": "b93809db-ec5e-415e-bce8-dc9a3367493b",
   "metadata": {},
   "source": [
    "### 1.1 Displaying Dataframes"
   ]
  },
  {
   "cell_type": "code",
   "execution_count": 47,
   "id": "88a913fa-08a6-4612-ac72-37b0a290a00a",
   "metadata": {},
   "outputs": [
    {
     "data": {
      "text/html": [
       "<div>\n",
       "<style scoped>\n",
       "    .dataframe tbody tr th:only-of-type {\n",
       "        vertical-align: middle;\n",
       "    }\n",
       "\n",
       "    .dataframe tbody tr th {\n",
       "        vertical-align: top;\n",
       "    }\n",
       "\n",
       "    .dataframe thead th {\n",
       "        text-align: right;\n",
       "    }\n",
       "</style>\n",
       "<table border=\"1\" class=\"dataframe\">\n",
       "  <thead>\n",
       "    <tr style=\"text-align: right;\">\n",
       "      <th></th>\n",
       "      <th>Company Name</th>\n",
       "      <th>Industry</th>\n",
       "      <th>Round/Series</th>\n",
       "      <th>Amount</th>\n",
       "      <th>Location</th>\n",
       "      <th>About Company</th>\n",
       "    </tr>\n",
       "  </thead>\n",
       "  <tbody>\n",
       "    <tr>\n",
       "      <th>414</th>\n",
       "      <td>NIRA</td>\n",
       "      <td>Credit, Financial Services, FinTech, Lending</td>\n",
       "      <td>Seed</td>\n",
       "      <td>1000000</td>\n",
       "      <td>Bangalore, Karnataka, India</td>\n",
       "      <td>NIRA promotes financial inclusion by creating ...</td>\n",
       "    </tr>\n",
       "    <tr>\n",
       "      <th>294</th>\n",
       "      <td>Roadcast</td>\n",
       "      <td>—</td>\n",
       "      <td>Angel</td>\n",
       "      <td>250000</td>\n",
       "      <td>New Delhi, Delhi, India</td>\n",
       "      <td>Transforming the way businesses deliver. Work-...</td>\n",
       "    </tr>\n",
       "    <tr>\n",
       "      <th>504</th>\n",
       "      <td>Naaptol</td>\n",
       "      <td>E-Commerce, Retail, Shopping</td>\n",
       "      <td>Venture - Series Unknown</td>\n",
       "      <td>15000000</td>\n",
       "      <td>Mumbai, Maharashtra, India</td>\n",
       "      <td>Koku Gamer is an online platform that offers g...</td>\n",
       "    </tr>\n",
       "    <tr>\n",
       "      <th>298</th>\n",
       "      <td>Doxper</td>\n",
       "      <td>Health Care, Hospital</td>\n",
       "      <td>Seed</td>\n",
       "      <td>₹72,000,000</td>\n",
       "      <td>Mumbai, Maharashtra, India</td>\n",
       "      <td>Doxper is Health tech startup which has create...</td>\n",
       "    </tr>\n",
       "    <tr>\n",
       "      <th>124</th>\n",
       "      <td>Housejoy</td>\n",
       "      <td>Beauty, Fitness, Home Services, Internet</td>\n",
       "      <td>Series B</td>\n",
       "      <td>$3,240,000</td>\n",
       "      <td>Bengaluru, Karnataka, India</td>\n",
       "      <td>Housejoy is a web-based platform that allows i...</td>\n",
       "    </tr>\n",
       "  </tbody>\n",
       "</table>\n",
       "</div>"
      ],
      "text/plain": [
       "    Company Name                                      Industry  \\\n",
       "414         NIRA  Credit, Financial Services, FinTech, Lending   \n",
       "294     Roadcast                                             —   \n",
       "504      Naaptol                  E-Commerce, Retail, Shopping   \n",
       "298       Doxper                         Health Care, Hospital   \n",
       "124     Housejoy      Beauty, Fitness, Home Services, Internet   \n",
       "\n",
       "                 Round/Series       Amount                     Location  \\\n",
       "414                      Seed      1000000  Bangalore, Karnataka, India   \n",
       "294                     Angel       250000      New Delhi, Delhi, India   \n",
       "504  Venture - Series Unknown     15000000   Mumbai, Maharashtra, India   \n",
       "298                      Seed  ₹72,000,000   Mumbai, Maharashtra, India   \n",
       "124                  Series B   $3,240,000  Bengaluru, Karnataka, India   \n",
       "\n",
       "                                         About Company  \n",
       "414  NIRA promotes financial inclusion by creating ...  \n",
       "294  Transforming the way businesses deliver. Work-...  \n",
       "504  Koku Gamer is an online platform that offers g...  \n",
       "298  Doxper is Health tech startup which has create...  \n",
       "124  Housejoy is a web-based platform that allows i...  "
      ]
     },
     "execution_count": 47,
     "metadata": {},
     "output_type": "execute_result"
    }
   ],
   "source": [
    "# preview the rows and columns for the 2018 dataset\n",
    "data_2018.sample(5)"
   ]
  },
  {
   "cell_type": "code",
   "execution_count": 48,
   "id": "3caff6a6-fadb-4132-9c2c-f79d2378d04d",
   "metadata": {},
   "outputs": [
    {
     "data": {
      "text/html": [
       "<div>\n",
       "<style scoped>\n",
       "    .dataframe tbody tr th:only-of-type {\n",
       "        vertical-align: middle;\n",
       "    }\n",
       "\n",
       "    .dataframe tbody tr th {\n",
       "        vertical-align: top;\n",
       "    }\n",
       "\n",
       "    .dataframe thead th {\n",
       "        text-align: right;\n",
       "    }\n",
       "</style>\n",
       "<table border=\"1\" class=\"dataframe\">\n",
       "  <thead>\n",
       "    <tr style=\"text-align: right;\">\n",
       "      <th></th>\n",
       "      <th>Company/Brand</th>\n",
       "      <th>Founded</th>\n",
       "      <th>HeadQuarter</th>\n",
       "      <th>Sector</th>\n",
       "      <th>What it does</th>\n",
       "      <th>Founders</th>\n",
       "      <th>Investor</th>\n",
       "      <th>Amount($)</th>\n",
       "      <th>Stage</th>\n",
       "    </tr>\n",
       "  </thead>\n",
       "  <tbody>\n",
       "    <tr>\n",
       "      <th>48</th>\n",
       "      <td>Box8</td>\n",
       "      <td>2011.0</td>\n",
       "      <td>Mumbai</td>\n",
       "      <td>Foodtech</td>\n",
       "      <td>Enables to order food online</td>\n",
       "      <td>Amit Raj, Anshul Gupta</td>\n",
       "      <td>Trifecta Capital</td>\n",
       "      <td>$120,000,000</td>\n",
       "      <td>NaN</td>\n",
       "    </tr>\n",
       "    <tr>\n",
       "      <th>0</th>\n",
       "      <td>Bombay Shaving</td>\n",
       "      <td>NaN</td>\n",
       "      <td>NaN</td>\n",
       "      <td>Ecommerce</td>\n",
       "      <td>Provides a range of male grooming products</td>\n",
       "      <td>Shantanu Deshpande</td>\n",
       "      <td>Sixth Sense Ventures</td>\n",
       "      <td>$6,300,000</td>\n",
       "      <td>NaN</td>\n",
       "    </tr>\n",
       "    <tr>\n",
       "      <th>28</th>\n",
       "      <td>HungerBox</td>\n",
       "      <td>2015.0</td>\n",
       "      <td>Bangalore</td>\n",
       "      <td>Foodtech</td>\n",
       "      <td>Offers B2B tech platform to corporates, aimed ...</td>\n",
       "      <td>Sandipan Mitra, Uttam Kumar</td>\n",
       "      <td>Paytm, Asian VC fund NPTK, Sabre Partners, Neo...</td>\n",
       "      <td>$12,000,000</td>\n",
       "      <td>Series C</td>\n",
       "    </tr>\n",
       "    <tr>\n",
       "      <th>71</th>\n",
       "      <td>Smart Institute</td>\n",
       "      <td>NaN</td>\n",
       "      <td>Surat</td>\n",
       "      <td>Edtech</td>\n",
       "      <td>A platform to learn online</td>\n",
       "      <td>NaN</td>\n",
       "      <td>HNI investors</td>\n",
       "      <td>$1,500,000</td>\n",
       "      <td>NaN</td>\n",
       "    </tr>\n",
       "    <tr>\n",
       "      <th>74</th>\n",
       "      <td>Credr</td>\n",
       "      <td>2014.0</td>\n",
       "      <td>Mumbai</td>\n",
       "      <td>Automobile</td>\n",
       "      <td>A marketplace to buy and sell used bikes and s...</td>\n",
       "      <td>Mittal</td>\n",
       "      <td>Omidyar Network, Eight Roads Ventures, GrowthS...</td>\n",
       "      <td>$6,000,000</td>\n",
       "      <td>NaN</td>\n",
       "    </tr>\n",
       "  </tbody>\n",
       "</table>\n",
       "</div>"
      ],
      "text/plain": [
       "      Company/Brand  Founded HeadQuarter      Sector  \\\n",
       "48             Box8   2011.0      Mumbai    Foodtech   \n",
       "0    Bombay Shaving      NaN         NaN   Ecommerce   \n",
       "28        HungerBox   2015.0   Bangalore    Foodtech   \n",
       "71  Smart Institute      NaN       Surat      Edtech   \n",
       "74            Credr   2014.0      Mumbai  Automobile   \n",
       "\n",
       "                                         What it does  \\\n",
       "48                       Enables to order food online   \n",
       "0          Provides a range of male grooming products   \n",
       "28  Offers B2B tech platform to corporates, aimed ...   \n",
       "71                         A platform to learn online   \n",
       "74  A marketplace to buy and sell used bikes and s...   \n",
       "\n",
       "                       Founders  \\\n",
       "48       Amit Raj, Anshul Gupta   \n",
       "0            Shantanu Deshpande   \n",
       "28  Sandipan Mitra, Uttam Kumar   \n",
       "71                          NaN   \n",
       "74                       Mittal   \n",
       "\n",
       "                                             Investor     Amount($)     Stage  \n",
       "48                                   Trifecta Capital  $120,000,000       NaN  \n",
       "0                                Sixth Sense Ventures    $6,300,000       NaN  \n",
       "28  Paytm, Asian VC fund NPTK, Sabre Partners, Neo...   $12,000,000  Series C  \n",
       "71                                      HNI investors    $1,500,000       NaN  \n",
       "74  Omidyar Network, Eight Roads Ventures, GrowthS...    $6,000,000       NaN  "
      ]
     },
     "execution_count": 48,
     "metadata": {},
     "output_type": "execute_result"
    }
   ],
   "source": [
    "# get a sample of 2019 dataset\n",
    "data_2019.sample(5)"
   ]
  },
  {
   "cell_type": "code",
   "execution_count": 49,
   "id": "5b3f3480-99e5-4d9c-999b-c24fd6527f0b",
   "metadata": {},
   "outputs": [
    {
     "data": {
      "text/html": [
       "<div>\n",
       "<style scoped>\n",
       "    .dataframe tbody tr th:only-of-type {\n",
       "        vertical-align: middle;\n",
       "    }\n",
       "\n",
       "    .dataframe tbody tr th {\n",
       "        vertical-align: top;\n",
       "    }\n",
       "\n",
       "    .dataframe thead th {\n",
       "        text-align: right;\n",
       "    }\n",
       "</style>\n",
       "<table border=\"1\" class=\"dataframe\">\n",
       "  <thead>\n",
       "    <tr style=\"text-align: right;\">\n",
       "      <th></th>\n",
       "      <th>Company_Brand</th>\n",
       "      <th>Founded</th>\n",
       "      <th>HeadQuarter</th>\n",
       "      <th>Sector</th>\n",
       "      <th>What_it_does</th>\n",
       "      <th>Founders</th>\n",
       "      <th>Investor</th>\n",
       "      <th>Amount</th>\n",
       "      <th>Stage</th>\n",
       "      <th>column10</th>\n",
       "    </tr>\n",
       "  </thead>\n",
       "  <tbody>\n",
       "    <tr>\n",
       "      <th>255</th>\n",
       "      <td>Fleetx</td>\n",
       "      <td>2017.0</td>\n",
       "      <td>Gurugram</td>\n",
       "      <td>Tech Startup</td>\n",
       "      <td>Fleetx is an intelligent data platform which u...</td>\n",
       "      <td>Abhay Jeet Gupta, Parveen Kataria, Udbhav Rai,...</td>\n",
       "      <td>Rohit Bansal, Rohan Ranavat</td>\n",
       "      <td>3000000.0</td>\n",
       "      <td>Pre-series B</td>\n",
       "      <td>None</td>\n",
       "    </tr>\n",
       "    <tr>\n",
       "      <th>842</th>\n",
       "      <td>Shop101</td>\n",
       "      <td>2015.0</td>\n",
       "      <td>None</td>\n",
       "      <td>Social e-commerce</td>\n",
       "      <td>Enables entrepreneurs to sell online</td>\n",
       "      <td>Abhinav Jain, Aditya Gupta</td>\n",
       "      <td>Stellaris Venture Partners, Unilever Ventures,...</td>\n",
       "      <td>3900000.0</td>\n",
       "      <td>Series C</td>\n",
       "      <td>None</td>\n",
       "    </tr>\n",
       "    <tr>\n",
       "      <th>212</th>\n",
       "      <td>Jumbotail</td>\n",
       "      <td>2015.0</td>\n",
       "      <td>Bangalore</td>\n",
       "      <td>Retail</td>\n",
       "      <td>Jumbotail is solving an important problem of o...</td>\n",
       "      <td>Ashish Jhina, Karthik Venkateswaran</td>\n",
       "      <td>Nexus Venture Partners, Capria Ventures</td>\n",
       "      <td>11000000.0</td>\n",
       "      <td>Series B2</td>\n",
       "      <td>None</td>\n",
       "    </tr>\n",
       "    <tr>\n",
       "      <th>70</th>\n",
       "      <td>Atomberg Technologies</td>\n",
       "      <td>2012.0</td>\n",
       "      <td>Mumbai</td>\n",
       "      <td>Consumer appliances</td>\n",
       "      <td>Atomberg Technology aspires to be the \"Tesla\" ...</td>\n",
       "      <td>Manoj Meena, Sibabrata Das</td>\n",
       "      <td>Sandeep Tandon, Survam Partners</td>\n",
       "      <td>9000000.0</td>\n",
       "      <td>Series B</td>\n",
       "      <td>None</td>\n",
       "    </tr>\n",
       "    <tr>\n",
       "      <th>588</th>\n",
       "      <td>JetSynthesys</td>\n",
       "      <td>2012.0</td>\n",
       "      <td>Pune</td>\n",
       "      <td>Digital tech</td>\n",
       "      <td>Digital entertainment and technology company</td>\n",
       "      <td>RajanNavani</td>\n",
       "      <td>Adar Poonawalla, Kris Gopalakrishnan</td>\n",
       "      <td>40000000.0</td>\n",
       "      <td>None</td>\n",
       "      <td>None</td>\n",
       "    </tr>\n",
       "  </tbody>\n",
       "</table>\n",
       "</div>"
      ],
      "text/plain": [
       "             Company_Brand  Founded HeadQuarter               Sector  \\\n",
       "255                 Fleetx   2017.0    Gurugram         Tech Startup   \n",
       "842                Shop101   2015.0        None    Social e-commerce   \n",
       "212              Jumbotail   2015.0   Bangalore               Retail   \n",
       "70   Atomberg Technologies   2012.0      Mumbai  Consumer appliances   \n",
       "588           JetSynthesys   2012.0        Pune         Digital tech   \n",
       "\n",
       "                                          What_it_does  \\\n",
       "255  Fleetx is an intelligent data platform which u...   \n",
       "842               Enables entrepreneurs to sell online   \n",
       "212  Jumbotail is solving an important problem of o...   \n",
       "70   Atomberg Technology aspires to be the \"Tesla\" ...   \n",
       "588       Digital entertainment and technology company   \n",
       "\n",
       "                                              Founders  \\\n",
       "255  Abhay Jeet Gupta, Parveen Kataria, Udbhav Rai,...   \n",
       "842                         Abhinav Jain, Aditya Gupta   \n",
       "212                Ashish Jhina, Karthik Venkateswaran   \n",
       "70                          Manoj Meena, Sibabrata Das   \n",
       "588                                        RajanNavani   \n",
       "\n",
       "                                              Investor      Amount  \\\n",
       "255                        Rohit Bansal, Rohan Ranavat   3000000.0   \n",
       "842  Stellaris Venture Partners, Unilever Ventures,...   3900000.0   \n",
       "212            Nexus Venture Partners, Capria Ventures  11000000.0   \n",
       "70                     Sandeep Tandon, Survam Partners   9000000.0   \n",
       "588               Adar Poonawalla, Kris Gopalakrishnan  40000000.0   \n",
       "\n",
       "            Stage column10  \n",
       "255  Pre-series B     None  \n",
       "842      Series C     None  \n",
       "212     Series B2     None  \n",
       "70       Series B     None  \n",
       "588          None     None  "
      ]
     },
     "execution_count": 49,
     "metadata": {},
     "output_type": "execute_result"
    }
   ],
   "source": [
    "# get a sample of 2020 dataset\n",
    "data_2020.sample(5)"
   ]
  },
  {
   "cell_type": "code",
   "execution_count": 50,
   "id": "8677d87a-8df2-4c78-8bb3-f70f22ba3a64",
   "metadata": {},
   "outputs": [
    {
     "data": {
      "text/html": [
       "<div>\n",
       "<style scoped>\n",
       "    .dataframe tbody tr th:only-of-type {\n",
       "        vertical-align: middle;\n",
       "    }\n",
       "\n",
       "    .dataframe tbody tr th {\n",
       "        vertical-align: top;\n",
       "    }\n",
       "\n",
       "    .dataframe thead th {\n",
       "        text-align: right;\n",
       "    }\n",
       "</style>\n",
       "<table border=\"1\" class=\"dataframe\">\n",
       "  <thead>\n",
       "    <tr style=\"text-align: right;\">\n",
       "      <th></th>\n",
       "      <th>Company_Brand</th>\n",
       "      <th>Founded</th>\n",
       "      <th>HeadQuarter</th>\n",
       "      <th>Sector</th>\n",
       "      <th>What_it_does</th>\n",
       "      <th>Founders</th>\n",
       "      <th>Investor</th>\n",
       "      <th>Amount</th>\n",
       "      <th>Stage</th>\n",
       "    </tr>\n",
       "  </thead>\n",
       "  <tbody>\n",
       "    <tr>\n",
       "      <th>162</th>\n",
       "      <td>Navia Life Care</td>\n",
       "      <td>2016.0</td>\n",
       "      <td>New Delhi</td>\n",
       "      <td>Healtcare</td>\n",
       "      <td>Navia Life Care is a health technlogy company ...</td>\n",
       "      <td>Nupur Khandelwal, Kunal Kishore Dhawan, Gaurav...</td>\n",
       "      <td>Anicut Angel Fund, 9 Unicorns</td>\n",
       "      <td>$1000000</td>\n",
       "      <td>None</td>\n",
       "    </tr>\n",
       "    <tr>\n",
       "      <th>750</th>\n",
       "      <td>FloBiz</td>\n",
       "      <td>2019.0</td>\n",
       "      <td>Bangalore</td>\n",
       "      <td>Tech Startup</td>\n",
       "      <td>India’s first neobusiness platform</td>\n",
       "      <td>Rahul Raj</td>\n",
       "      <td>Elevation Capital</td>\n",
       "      <td>$10,000,000</td>\n",
       "      <td>Series A</td>\n",
       "    </tr>\n",
       "    <tr>\n",
       "      <th>501</th>\n",
       "      <td>GODI Energy</td>\n",
       "      <td>2020.0</td>\n",
       "      <td>Hyderabad</td>\n",
       "      <td>Automotive</td>\n",
       "      <td>GODI is a technology innovation organization f...</td>\n",
       "      <td>Mahesh Godi</td>\n",
       "      <td>Blue Ashva Capital</td>\n",
       "      <td>$undisclosed</td>\n",
       "      <td>None</td>\n",
       "    </tr>\n",
       "    <tr>\n",
       "      <th>66</th>\n",
       "      <td>Avanti Finance</td>\n",
       "      <td>2016.0</td>\n",
       "      <td>Bangalore</td>\n",
       "      <td>FinTech</td>\n",
       "      <td>Avanti Finance lends relatively large but trus...</td>\n",
       "      <td>Ratan Tata, Nandan Nilekani</td>\n",
       "      <td>Michael &amp; Susan Dell Foundation</td>\n",
       "      <td>$26,000,000</td>\n",
       "      <td>Series A</td>\n",
       "    </tr>\n",
       "    <tr>\n",
       "      <th>913</th>\n",
       "      <td>Velocity</td>\n",
       "      <td>2020.0</td>\n",
       "      <td>Bangalore</td>\n",
       "      <td>Financial Services</td>\n",
       "      <td>Velocity provides revenue based financing, up ...</td>\n",
       "      <td>Saurav Swaroop, Abhiroop Medhekar, Atul Khicha...</td>\n",
       "      <td>Valar Ventures</td>\n",
       "      <td>$20000000</td>\n",
       "      <td>Series A</td>\n",
       "    </tr>\n",
       "  </tbody>\n",
       "</table>\n",
       "</div>"
      ],
      "text/plain": [
       "       Company_Brand  Founded HeadQuarter              Sector  \\\n",
       "162  Navia Life Care   2016.0   New Delhi           Healtcare   \n",
       "750           FloBiz   2019.0   Bangalore        Tech Startup   \n",
       "501      GODI Energy   2020.0   Hyderabad          Automotive   \n",
       "66    Avanti Finance   2016.0   Bangalore             FinTech   \n",
       "913         Velocity   2020.0   Bangalore  Financial Services   \n",
       "\n",
       "                                          What_it_does  \\\n",
       "162  Navia Life Care is a health technlogy company ...   \n",
       "750                 India’s first neobusiness platform   \n",
       "501  GODI is a technology innovation organization f...   \n",
       "66   Avanti Finance lends relatively large but trus...   \n",
       "913  Velocity provides revenue based financing, up ...   \n",
       "\n",
       "                                              Founders  \\\n",
       "162  Nupur Khandelwal, Kunal Kishore Dhawan, Gaurav...   \n",
       "750                                          Rahul Raj   \n",
       "501                                        Mahesh Godi   \n",
       "66                         Ratan Tata, Nandan Nilekani   \n",
       "913  Saurav Swaroop, Abhiroop Medhekar, Atul Khicha...   \n",
       "\n",
       "                            Investor        Amount     Stage  \n",
       "162    Anicut Angel Fund, 9 Unicorns      $1000000      None  \n",
       "750                Elevation Capital   $10,000,000  Series A  \n",
       "501               Blue Ashva Capital  $undisclosed      None  \n",
       "66   Michael & Susan Dell Foundation   $26,000,000  Series A  \n",
       "913                   Valar Ventures     $20000000  Series A  "
      ]
     },
     "execution_count": 50,
     "metadata": {},
     "output_type": "execute_result"
    }
   ],
   "source": [
    "# get a sample of 2021 dataset\n",
    "data_2021.sample(5)"
   ]
  },
  {
   "cell_type": "markdown",
   "id": "9a5c87c3-51a6-40df-b378-e6f4e5773a8c",
   "metadata": {},
   "source": [
    "### 1.2 Data Inspection and Exploration"
   ]
  },
  {
   "cell_type": "markdown",
   "id": "b93543f2-23bb-4e03-91f7-2a339ccb6370",
   "metadata": {},
   "source": [
    "### 1.2.1 Shape of the data"
   ]
  },
  {
   "cell_type": "code",
   "execution_count": 51,
   "id": "2e589a02-7199-4a0b-902b-2f82a820b2f6",
   "metadata": {},
   "outputs": [
    {
     "name": "stdout",
     "output_type": "stream",
     "text": [
      "The 2018 dataset has 526 rows and 6 Columns\n",
      "\n",
      "The 2019 dataset has 89 rows and 9 Columns\n",
      "\n",
      "The 2020 dataset has 1055 rows and 10 Columns\n",
      "\n",
      "The 2021 dataset has 1209 rows and 9 Columns\n",
      "\n",
      "\n"
     ]
    }
   ],
   "source": [
    "# get the number of rows and columns for the datasets\n",
    "print(f\"The 2018 dataset has {data_2018.shape[0]} rows and {data_2018.shape[1]} Columns\\n\")\n",
    "print(f\"The 2019 dataset has {data_2019.shape[0]} rows and {data_2019.shape[1]} Columns\\n\")\n",
    "print(f\"The 2020 dataset has {data_2020.shape[0]} rows and {data_2020.shape[1]} Columns\\n\")\n",
    "print(f\"The 2021 dataset has {data_2021.shape[0]} rows and {data_2021.shape[1]} Columns\\n\\n\")"
   ]
  },
  {
   "cell_type": "markdown",
   "id": "579a5b01-4b8c-45e6-87b1-73ee5deb7007",
   "metadata": {},
   "source": [
    "### 1.2.2 Info of the data"
   ]
  },
  {
   "cell_type": "code",
   "execution_count": 52,
   "id": "51576669-93b6-4c83-abd4-0ec1383f911a",
   "metadata": {},
   "outputs": [
    {
     "name": "stdout",
     "output_type": "stream",
     "text": [
      "<class 'pandas.core.frame.DataFrame'>\n",
      "RangeIndex: 526 entries, 0 to 525\n",
      "Data columns (total 6 columns):\n",
      " #   Column         Non-Null Count  Dtype \n",
      "---  ------         --------------  ----- \n",
      " 0   Company Name   526 non-null    object\n",
      " 1   Industry       526 non-null    object\n",
      " 2   Round/Series   526 non-null    object\n",
      " 3   Amount         526 non-null    object\n",
      " 4   Location       526 non-null    object\n",
      " 5   About Company  526 non-null    object\n",
      "dtypes: object(6)\n",
      "memory usage: 24.8+ KB\n"
     ]
    }
   ],
   "source": [
    "# overview of 2018 dataset\n",
    "data_2018.info()"
   ]
  },
  {
   "cell_type": "code",
   "execution_count": 53,
   "id": "95d118f0-22c6-44e9-8e2f-032397e4f2fd",
   "metadata": {},
   "outputs": [
    {
     "name": "stdout",
     "output_type": "stream",
     "text": [
      "<class 'pandas.core.frame.DataFrame'>\n",
      "RangeIndex: 89 entries, 0 to 88\n",
      "Data columns (total 9 columns):\n",
      " #   Column         Non-Null Count  Dtype  \n",
      "---  ------         --------------  -----  \n",
      " 0   Company/Brand  89 non-null     object \n",
      " 1   Founded        60 non-null     float64\n",
      " 2   HeadQuarter    70 non-null     object \n",
      " 3   Sector         84 non-null     object \n",
      " 4   What it does   89 non-null     object \n",
      " 5   Founders       86 non-null     object \n",
      " 6   Investor       89 non-null     object \n",
      " 7   Amount($)      89 non-null     object \n",
      " 8   Stage          43 non-null     object \n",
      "dtypes: float64(1), object(8)\n",
      "memory usage: 6.4+ KB\n"
     ]
    }
   ],
   "source": [
    "# overview of 2019 dataset\n",
    "data_2019.info()"
   ]
  },
  {
   "cell_type": "code",
   "execution_count": 54,
   "id": "0a0d12df-af4b-4475-87fe-ea3e0ae6ecae",
   "metadata": {},
   "outputs": [
    {
     "name": "stdout",
     "output_type": "stream",
     "text": [
      "<class 'pandas.core.frame.DataFrame'>\n",
      "RangeIndex: 1055 entries, 0 to 1054\n",
      "Data columns (total 10 columns):\n",
      " #   Column         Non-Null Count  Dtype  \n",
      "---  ------         --------------  -----  \n",
      " 0   Company_Brand  1055 non-null   object \n",
      " 1   Founded        842 non-null    float64\n",
      " 2   HeadQuarter    961 non-null    object \n",
      " 3   Sector         1042 non-null   object \n",
      " 4   What_it_does   1055 non-null   object \n",
      " 5   Founders       1043 non-null   object \n",
      " 6   Investor       1017 non-null   object \n",
      " 7   Amount         801 non-null    float64\n",
      " 8   Stage          591 non-null    object \n",
      " 9   column10       2 non-null      object \n",
      "dtypes: float64(2), object(8)\n",
      "memory usage: 82.6+ KB\n"
     ]
    }
   ],
   "source": [
    "# overview of 2020 dataset\n",
    "data_2020.info()"
   ]
  },
  {
   "cell_type": "code",
   "execution_count": 55,
   "id": "59bb1fcb-4c04-4466-8dc3-533cc7a66d02",
   "metadata": {},
   "outputs": [
    {
     "name": "stdout",
     "output_type": "stream",
     "text": [
      "<class 'pandas.core.frame.DataFrame'>\n",
      "RangeIndex: 1209 entries, 0 to 1208\n",
      "Data columns (total 9 columns):\n",
      " #   Column         Non-Null Count  Dtype  \n",
      "---  ------         --------------  -----  \n",
      " 0   Company_Brand  1209 non-null   object \n",
      " 1   Founded        1208 non-null   float64\n",
      " 2   HeadQuarter    1208 non-null   object \n",
      " 3   Sector         1209 non-null   object \n",
      " 4   What_it_does   1209 non-null   object \n",
      " 5   Founders       1205 non-null   object \n",
      " 6   Investor       1147 non-null   object \n",
      " 7   Amount         1206 non-null   object \n",
      " 8   Stage          781 non-null    object \n",
      "dtypes: float64(1), object(8)\n",
      "memory usage: 85.1+ KB\n"
     ]
    }
   ],
   "source": [
    "# overview of 2021 dataset\n",
    "data_2021.info()"
   ]
  },
  {
   "cell_type": "markdown",
   "id": "b34f7762-7ada-467d-9553-ad81094e8a11",
   "metadata": {},
   "source": [
    "### 1.2.3 Displaying datasets columns"
   ]
  },
  {
   "cell_type": "code",
   "execution_count": 56,
   "id": "bd635e90-d8e9-4e8a-9290-b6feaa704d4b",
   "metadata": {},
   "outputs": [
    {
     "data": {
      "text/plain": [
       "Index(['Company_Brand', 'Founded', 'HeadQuarter', 'Sector', 'What_it_does',\n",
       "       'Founders', 'Investor', 'Amount', 'Stage'],\n",
       "      dtype='object')"
      ]
     },
     "execution_count": 56,
     "metadata": {},
     "output_type": "execute_result"
    }
   ],
   "source": [
    "data_2021.columns"
   ]
  },
  {
   "cell_type": "code",
   "execution_count": 57,
   "id": "36c35f2f-a6dd-484e-9b87-81eca131801c",
   "metadata": {},
   "outputs": [
    {
     "data": {
      "text/plain": [
       "Index(['Company_Brand', 'Founded', 'HeadQuarter', 'Sector', 'What_it_does',\n",
       "       'Founders', 'Investor', 'Amount', 'Stage', 'column10'],\n",
       "      dtype='object')"
      ]
     },
     "execution_count": 57,
     "metadata": {},
     "output_type": "execute_result"
    }
   ],
   "source": [
    "data_2020.columns"
   ]
  },
  {
   "cell_type": "code",
   "execution_count": 58,
   "id": "4f6ca9f7-a761-4a13-bf36-ce15976dc308",
   "metadata": {},
   "outputs": [
    {
     "data": {
      "text/plain": [
       "Index(['Company/Brand', 'Founded', 'HeadQuarter', 'Sector', 'What it does',\n",
       "       'Founders', 'Investor', 'Amount($)', 'Stage'],\n",
       "      dtype='object')"
      ]
     },
     "execution_count": 58,
     "metadata": {},
     "output_type": "execute_result"
    }
   ],
   "source": [
    "data_2019.columns"
   ]
  },
  {
   "cell_type": "code",
   "execution_count": 59,
   "id": "f8632c75-946a-42b6-8fb6-0d72b228f4a3",
   "metadata": {},
   "outputs": [
    {
     "data": {
      "text/plain": [
       "Index(['Company Name', 'Industry', 'Round/Series', 'Amount', 'Location',\n",
       "       'About Company'],\n",
       "      dtype='object')"
      ]
     },
     "execution_count": 59,
     "metadata": {},
     "output_type": "execute_result"
    }
   ],
   "source": [
    "data_2018.columns"
   ]
  },
  {
   "cell_type": "markdown",
   "id": "406e25a7-e736-4340-b842-a579360997d6",
   "metadata": {},
   "source": [
    "## **Observations:**\n",
    "\n",
    "1. There is a discrepancy in the naming conventions between the columns in the 2018 and 2019 datasets compared to the 2020 and 2021 datasets.\n",
    "\n",
    "2. The 2018 dataset exhibits some missing columns, contributing to an incomplete representation of the data.\n",
    "\n",
    "3. Conversely, the 2020 dataset contains an additional column that appears to be extraneous and does not serve a meaningful purpose in our analysis.\n",
    "\n",
    "**Course of Action:**\n",
    "\n",
    "1. **Missing Column Engineering for 2018:**\n",
    "   - We will address the absence of certain columns in the 2018 dataset by employing data engineering techniques to create and populate the missing columns, ensuring a comprehensive and consistent dataset.\n",
    "\n",
    "2. **Column Name Standardization:**\n",
    "   - To establish uniformity and coherence across all datasets, we will embark on a column renaming process for the 2018 and 2019 datasets. This action aims to align the naming conventions with those observed in the 2020 and 2021 datasets, facilitating seamless data integration and analysis.\n",
    "\n",
    "3. **Extraneous Column Removal in 2020:**\n",
    "   - The redundant column identified in the 2020 dataset will be removed, streamlining the dataset and eliminating unnecessary elements that do not contribute to the overall analysis objectives.\n",
    "\n",
    "These actions collectively enhance the integrity, consistency, and completeness of the dataset, paving the way for a more robust and coherent analytical process.\n",
    "ical process.\n",
    "\n",
    "\n",
    "\n",
    "\n",
    "\n"
   ]
  },
  {
   "cell_type": "markdown",
   "id": "5959a53d-4842-48c0-ab8c-77448bd42a0a",
   "metadata": {},
   "source": [
    "# 2. Data Cleaning"
   ]
  },
  {
   "cell_type": "markdown",
   "id": "eaca177c-df42-4d89-96fe-a057ddfd9bd5",
   "metadata": {},
   "source": [
    "## 2.1 Handling missing columns in the 2018 dataset"
   ]
  },
  {
   "cell_type": "code",
   "execution_count": 60,
   "id": "c492312c-28ab-431b-b264-994c397ffd1c",
   "metadata": {},
   "outputs": [],
   "source": [
    "# Engineer missing columns for the 2018 dataset\n",
    "Founded,Founders,Investor= [np.NAN,np.NAN,np.NAN]\n",
    "data_2018['Founded']=Founded\n",
    "data_2018['Founders']=Founders\n",
    "data_2018['Investor']=Investor"
   ]
  },
  {
   "cell_type": "code",
   "execution_count": 61,
   "id": "ee2b9099",
   "metadata": {},
   "outputs": [
    {
     "data": {
      "text/html": [
       "<div>\n",
       "<style scoped>\n",
       "    .dataframe tbody tr th:only-of-type {\n",
       "        vertical-align: middle;\n",
       "    }\n",
       "\n",
       "    .dataframe tbody tr th {\n",
       "        vertical-align: top;\n",
       "    }\n",
       "\n",
       "    .dataframe thead th {\n",
       "        text-align: right;\n",
       "    }\n",
       "</style>\n",
       "<table border=\"1\" class=\"dataframe\">\n",
       "  <thead>\n",
       "    <tr style=\"text-align: right;\">\n",
       "      <th></th>\n",
       "      <th>Company Name</th>\n",
       "      <th>Industry</th>\n",
       "      <th>Round/Series</th>\n",
       "      <th>Amount</th>\n",
       "      <th>Location</th>\n",
       "      <th>About Company</th>\n",
       "      <th>Founded</th>\n",
       "      <th>Founders</th>\n",
       "      <th>Investor</th>\n",
       "    </tr>\n",
       "  </thead>\n",
       "  <tbody>\n",
       "    <tr>\n",
       "      <th>0</th>\n",
       "      <td>TheCollegeFever</td>\n",
       "      <td>Brand Marketing, Event Promotion, Marketing, S...</td>\n",
       "      <td>Seed</td>\n",
       "      <td>250000</td>\n",
       "      <td>Bangalore, Karnataka, India</td>\n",
       "      <td>TheCollegeFever is a hub for fun, fiesta and f...</td>\n",
       "      <td>NaN</td>\n",
       "      <td>NaN</td>\n",
       "      <td>NaN</td>\n",
       "    </tr>\n",
       "    <tr>\n",
       "      <th>1</th>\n",
       "      <td>Happy Cow Dairy</td>\n",
       "      <td>Agriculture, Farming</td>\n",
       "      <td>Seed</td>\n",
       "      <td>₹40,000,000</td>\n",
       "      <td>Mumbai, Maharashtra, India</td>\n",
       "      <td>A startup which aggregates milk from dairy far...</td>\n",
       "      <td>NaN</td>\n",
       "      <td>NaN</td>\n",
       "      <td>NaN</td>\n",
       "    </tr>\n",
       "  </tbody>\n",
       "</table>\n",
       "</div>"
      ],
      "text/plain": [
       "      Company Name                                           Industry  \\\n",
       "0  TheCollegeFever  Brand Marketing, Event Promotion, Marketing, S...   \n",
       "1  Happy Cow Dairy                               Agriculture, Farming   \n",
       "\n",
       "  Round/Series       Amount                     Location  \\\n",
       "0         Seed       250000  Bangalore, Karnataka, India   \n",
       "1         Seed  ₹40,000,000   Mumbai, Maharashtra, India   \n",
       "\n",
       "                                       About Company  Founded  Founders  \\\n",
       "0  TheCollegeFever is a hub for fun, fiesta and f...      NaN       NaN   \n",
       "1  A startup which aggregates milk from dairy far...      NaN       NaN   \n",
       "\n",
       "   Investor  \n",
       "0       NaN  \n",
       "1       NaN  "
      ]
     },
     "execution_count": 61,
     "metadata": {},
     "output_type": "execute_result"
    }
   ],
   "source": [
    "# display the engineered columns\n",
    "data_2018.head(2)"
   ]
  },
  {
   "cell_type": "code",
   "execution_count": 31,
   "id": "63a027de",
   "metadata": {},
   "outputs": [],
   "source": [
    "# Define a dictionary with old column names as keys and new column names as values\n",
    "rename_dict_2018 = {\n",
    "    'Company Name': 'Company_Brand',\n",
    "    'Industry': 'Sector',\n",
    "    'Round/Series': 'Stage',\n",
    "    'About Company': 'What_it_does'\n",
    "}\n",
    "\n",
    "rename_dict_2019 = {\n",
    "    'Company/Brand': 'Company_Brand',\n",
    "    'What it does': 'What_it_does',\n",
    "    'Amount($)': 'Amount'\n",
    "}\n",
    "\n",
    "# Use the rename method to rename columns\n",
    "data_2018 = data_2018.rename(columns=rename_dict_2018)\n",
    "data_2019 = data_2019.rename(columns=rename_dict_2019)\n",
    "\n",
    "for dataframe in [data_2019, data_2020, data_2021]:\n",
    "    dataframe.rename(columns={'HeadQuater': 'Location'}, inplace=True)\n"
   ]
  },
  {
   "cell_type": "code",
   "execution_count": 62,
   "id": "b117131f",
   "metadata": {},
   "outputs": [],
   "source": [
    "# 2020 dataset has an extra column\n",
    "# Remove 2020 column10\n",
    "data_2020.drop('column10', axis=1, inplace=True)\n"
   ]
  },
  {
   "cell_type": "code",
   "execution_count": 33,
   "id": "c403ae4f",
   "metadata": {},
   "outputs": [
    {
     "data": {
      "text/html": [
       "<div>\n",
       "<style scoped>\n",
       "    .dataframe tbody tr th:only-of-type {\n",
       "        vertical-align: middle;\n",
       "    }\n",
       "\n",
       "    .dataframe tbody tr th {\n",
       "        vertical-align: top;\n",
       "    }\n",
       "\n",
       "    .dataframe thead th {\n",
       "        text-align: right;\n",
       "    }\n",
       "</style>\n",
       "<table border=\"1\" class=\"dataframe\">\n",
       "  <thead>\n",
       "    <tr style=\"text-align: right;\">\n",
       "      <th></th>\n",
       "      <th>Company_Brand</th>\n",
       "      <th>Founded</th>\n",
       "      <th>HeadQuarter</th>\n",
       "      <th>Sector</th>\n",
       "      <th>What_it_does</th>\n",
       "      <th>Founders</th>\n",
       "      <th>Investor</th>\n",
       "      <th>Amount</th>\n",
       "      <th>Stage</th>\n",
       "    </tr>\n",
       "  </thead>\n",
       "  <tbody>\n",
       "    <tr>\n",
       "      <th>0</th>\n",
       "      <td>Bombay Shaving</td>\n",
       "      <td>NaN</td>\n",
       "      <td>NaN</td>\n",
       "      <td>Ecommerce</td>\n",
       "      <td>Provides a range of male grooming products</td>\n",
       "      <td>Shantanu Deshpande</td>\n",
       "      <td>Sixth Sense Ventures</td>\n",
       "      <td>$6,300,000</td>\n",
       "      <td>NaN</td>\n",
       "    </tr>\n",
       "    <tr>\n",
       "      <th>1</th>\n",
       "      <td>Ruangguru</td>\n",
       "      <td>2014.0</td>\n",
       "      <td>Mumbai</td>\n",
       "      <td>Edtech</td>\n",
       "      <td>A learning platform that provides topic-based ...</td>\n",
       "      <td>Adamas Belva Syah Devara, Iman Usman.</td>\n",
       "      <td>General Atlantic</td>\n",
       "      <td>$150,000,000</td>\n",
       "      <td>Series C</td>\n",
       "    </tr>\n",
       "  </tbody>\n",
       "</table>\n",
       "</div>"
      ],
      "text/plain": [
       "    Company_Brand  Founded HeadQuarter     Sector  \\\n",
       "0  Bombay Shaving      NaN         NaN  Ecommerce   \n",
       "1       Ruangguru   2014.0      Mumbai     Edtech   \n",
       "\n",
       "                                        What_it_does  \\\n",
       "0         Provides a range of male grooming products   \n",
       "1  A learning platform that provides topic-based ...   \n",
       "\n",
       "                                Founders              Investor        Amount  \\\n",
       "0                     Shantanu Deshpande  Sixth Sense Ventures    $6,300,000   \n",
       "1  Adamas Belva Syah Devara, Iman Usman.      General Atlantic  $150,000,000   \n",
       "\n",
       "      Stage  \n",
       "0       NaN  \n",
       "1  Series C  "
      ]
     },
     "execution_count": 33,
     "metadata": {},
     "output_type": "execute_result"
    }
   ],
   "source": [
    "# display the columns to confirm the changes\n",
    "# dispaly 2019 dataset\n",
    "data_2019.head(2)"
   ]
  },
  {
   "cell_type": "code",
   "execution_count": 63,
   "id": "db14977b",
   "metadata": {},
   "outputs": [
    {
     "data": {
      "text/html": [
       "<div>\n",
       "<style scoped>\n",
       "    .dataframe tbody tr th:only-of-type {\n",
       "        vertical-align: middle;\n",
       "    }\n",
       "\n",
       "    .dataframe tbody tr th {\n",
       "        vertical-align: top;\n",
       "    }\n",
       "\n",
       "    .dataframe thead th {\n",
       "        text-align: right;\n",
       "    }\n",
       "</style>\n",
       "<table border=\"1\" class=\"dataframe\">\n",
       "  <thead>\n",
       "    <tr style=\"text-align: right;\">\n",
       "      <th></th>\n",
       "      <th>Company_Brand</th>\n",
       "      <th>Founded</th>\n",
       "      <th>HeadQuarter</th>\n",
       "      <th>Sector</th>\n",
       "      <th>What_it_does</th>\n",
       "      <th>Founders</th>\n",
       "      <th>Investor</th>\n",
       "      <th>Amount</th>\n",
       "      <th>Stage</th>\n",
       "    </tr>\n",
       "  </thead>\n",
       "  <tbody>\n",
       "    <tr>\n",
       "      <th>0</th>\n",
       "      <td>Aqgromalin</td>\n",
       "      <td>2019.0</td>\n",
       "      <td>Chennai</td>\n",
       "      <td>AgriTech</td>\n",
       "      <td>Cultivating Ideas for Profit</td>\n",
       "      <td>Prasanna Manogaran, Bharani C L</td>\n",
       "      <td>Angel investors</td>\n",
       "      <td>200000.0</td>\n",
       "      <td>None</td>\n",
       "    </tr>\n",
       "    <tr>\n",
       "      <th>1</th>\n",
       "      <td>Krayonnz</td>\n",
       "      <td>2019.0</td>\n",
       "      <td>Bangalore</td>\n",
       "      <td>EdTech</td>\n",
       "      <td>An academy-guardian-scholar centric ecosystem ...</td>\n",
       "      <td>Saurabh Dixit, Gurudutt Upadhyay</td>\n",
       "      <td>GSF Accelerator</td>\n",
       "      <td>100000.0</td>\n",
       "      <td>Pre-seed</td>\n",
       "    </tr>\n",
       "  </tbody>\n",
       "</table>\n",
       "</div>"
      ],
      "text/plain": [
       "  Company_Brand  Founded HeadQuarter    Sector  \\\n",
       "0    Aqgromalin   2019.0     Chennai  AgriTech   \n",
       "1      Krayonnz   2019.0   Bangalore    EdTech   \n",
       "\n",
       "                                        What_it_does  \\\n",
       "0                       Cultivating Ideas for Profit   \n",
       "1  An academy-guardian-scholar centric ecosystem ...   \n",
       "\n",
       "                           Founders         Investor    Amount     Stage  \n",
       "0   Prasanna Manogaran, Bharani C L  Angel investors  200000.0      None  \n",
       "1  Saurabh Dixit, Gurudutt Upadhyay  GSF Accelerator  100000.0  Pre-seed  "
      ]
     },
     "execution_count": 63,
     "metadata": {},
     "output_type": "execute_result"
    }
   ],
   "source": [
    "# dispaly 2020 dataset\n",
    "data_2020.head(2)"
   ]
  },
  {
   "cell_type": "code",
   "execution_count": 35,
   "id": "8869e6aa",
   "metadata": {},
   "outputs": [
    {
     "data": {
      "text/html": [
       "<div>\n",
       "<style scoped>\n",
       "    .dataframe tbody tr th:only-of-type {\n",
       "        vertical-align: middle;\n",
       "    }\n",
       "\n",
       "    .dataframe tbody tr th {\n",
       "        vertical-align: top;\n",
       "    }\n",
       "\n",
       "    .dataframe thead th {\n",
       "        text-align: right;\n",
       "    }\n",
       "</style>\n",
       "<table border=\"1\" class=\"dataframe\">\n",
       "  <thead>\n",
       "    <tr style=\"text-align: right;\">\n",
       "      <th></th>\n",
       "      <th>Company_Brand</th>\n",
       "      <th>Founded</th>\n",
       "      <th>HeadQuarter</th>\n",
       "      <th>Sector</th>\n",
       "      <th>What_it_does</th>\n",
       "      <th>Founders</th>\n",
       "      <th>Investor</th>\n",
       "      <th>Amount</th>\n",
       "      <th>Stage</th>\n",
       "    </tr>\n",
       "  </thead>\n",
       "  <tbody>\n",
       "    <tr>\n",
       "      <th>0</th>\n",
       "      <td>Unbox Robotics</td>\n",
       "      <td>2019.0</td>\n",
       "      <td>Bangalore</td>\n",
       "      <td>AI startup</td>\n",
       "      <td>Unbox Robotics builds on-demand AI-driven ware...</td>\n",
       "      <td>Pramod Ghadge, Shahid Memon</td>\n",
       "      <td>BEENEXT, Entrepreneur First</td>\n",
       "      <td>$1,200,000</td>\n",
       "      <td>Pre-series A</td>\n",
       "    </tr>\n",
       "    <tr>\n",
       "      <th>1</th>\n",
       "      <td>upGrad</td>\n",
       "      <td>2015.0</td>\n",
       "      <td>Mumbai</td>\n",
       "      <td>EdTech</td>\n",
       "      <td>UpGrad is an online higher education platform.</td>\n",
       "      <td>Mayank Kumar, Phalgun Kompalli, Ravijot Chugh,...</td>\n",
       "      <td>Unilazer Ventures, IIFL Asset Management</td>\n",
       "      <td>$120,000,000</td>\n",
       "      <td>None</td>\n",
       "    </tr>\n",
       "  </tbody>\n",
       "</table>\n",
       "</div>"
      ],
      "text/plain": [
       "    Company_Brand  Founded HeadQuarter      Sector  \\\n",
       "0  Unbox Robotics   2019.0   Bangalore  AI startup   \n",
       "1          upGrad   2015.0      Mumbai      EdTech   \n",
       "\n",
       "                                        What_it_does  \\\n",
       "0  Unbox Robotics builds on-demand AI-driven ware...   \n",
       "1     UpGrad is an online higher education platform.   \n",
       "\n",
       "                                            Founders  \\\n",
       "0                        Pramod Ghadge, Shahid Memon   \n",
       "1  Mayank Kumar, Phalgun Kompalli, Ravijot Chugh,...   \n",
       "\n",
       "                                   Investor        Amount         Stage  \n",
       "0               BEENEXT, Entrepreneur First    $1,200,000  Pre-series A  \n",
       "1  Unilazer Ventures, IIFL Asset Management  $120,000,000          None  "
      ]
     },
     "execution_count": 35,
     "metadata": {},
     "output_type": "execute_result"
    }
   ],
   "source": [
    "# dispaly 2021 dataset\n",
    "data_2021.head(2)"
   ]
  },
  {
   "cell_type": "markdown",
   "id": "7e385333",
   "metadata": {},
   "source": [
    "### 2.2 Merging the DataFrames"
   ]
  },
  {
   "cell_type": "markdown",
   "id": "622ff3a4",
   "metadata": {},
   "source": []
  }
 ],
 "metadata": {
  "kernelspec": {
   "display_name": "Python 3 (ipykernel)",
   "language": "python",
   "name": "python3"
  },
  "language_info": {
   "codemirror_mode": {
    "name": "ipython",
    "version": 3
   },
   "file_extension": ".py",
   "mimetype": "text/x-python",
   "name": "python",
   "nbconvert_exporter": "python",
   "pygments_lexer": "ipython3",
   "version": "3.11.6"
  }
 },
 "nbformat": 4,
 "nbformat_minor": 5
}
