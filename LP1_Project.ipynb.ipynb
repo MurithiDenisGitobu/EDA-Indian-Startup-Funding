{
 "cells": [
  {
   "cell_type": "markdown",
   "id": "098d19ba-83f1-4ebe-8224-3d771aa670e6",
   "metadata": {},
   "source": [
    "# **INDIAN STARTUP ECOSYSTEM**"
   ]
  },
  {
   "cell_type": "markdown",
   "id": "c62646cd-0736-4382-a4d2-318010effda4",
   "metadata": {},
   "source": [
    "## Project Description\n",
    "We embark on a journey of discovery as we leverage our data analysis expertise to uncover the untapped potential within the Indian startup ecosystem. This project is designed to not only decode the numbers but to distill insights that will guide our team towards a successful foray into this dynamic market."
   ]
  },
  {
   "cell_type": "markdown",
   "id": "073a46b0-b9c4-4cd3-941f-2966afc886e3",
   "metadata": {},
   "source": [
    "## Scope of Work\n",
    "\n",
    "- Conduct a thorough exploration of datasets, dissecting funding patterns, sectoral nuances, and geographical hotspots in the Indian startup landscap\n",
    "- Analyze funding received by startups in india from 2018 to 2021\n",
    "\n"
   ]
  },
  {
   "cell_type": "markdown",
   "id": "56c8dab3-8e2b-47f3-874a-d27632251b8f",
   "metadata": {},
   "source": [
    "## Hypothesis \n",
    "\n",
    "**Null Hypothesis (H0)**: There is no significant relationship between funding and the sector  \n",
    "\n",
    "**Alternative Hypothesis (H1)**: There is a significant relationship between funding and the sector"
   ]
  },
  {
   "cell_type": "markdown",
   "id": "8620e446-b068-4209-8f16-003e788eebdb",
   "metadata": {},
   "source": [
    "## Questions \n",
    "1. How does funding vary across different industry sectors in India?\n",
    "2. How does funding vary with the loaction of the start-ups\n",
    "3. What is the relationship between the amount of funding and the stage of the company?\n",
    "4. How have funding trends evolved between 2018 and 2021?\n",
    "5. What are the most attractive sectors for investors?\n",
    "6. Does the location of the company influence its sector?\n",
    "\n",
    "\n"
   ]
  },
  {
   "cell_type": "markdown",
   "id": "182b1f90-e702-479c-bed8-7b0937f92ec8",
   "metadata": {},
   "source": [
    "# **DATA EXPLORATION, DATA UNDERSTANDING and DATA ANALYSIS**"
   ]
  },
  {
   "cell_type": "code",
   "execution_count": 2,
   "id": "a4313f08-adad-4397-b2a2-07ab3f969571",
   "metadata": {},
   "outputs": [],
   "source": [
    "# Load libraries\n",
    "# Database connnection\n",
    "import pyodbc     \n",
    "from dotenv import dotenv_values    #import the dotenv_values function from the dotenv package\n",
    "\n",
    "# Data manipulation\n",
    "import pandas as pd\n",
    "import numpy as np\n",
    "\n",
    "# Data visualization\n",
    "import matplotlib.pyplot as plt\n",
    "import seaborn as sns\n",
    "import plotly.express as px\n",
    "\n",
    "# filter warnings\n",
    "import warnings \n",
    "warnings.filterwarnings('ignore')"
   ]
  },
  {
   "cell_type": "markdown",
   "id": "a5653ae6-aaf0-4f36-ac77-0d12378022dd",
   "metadata": {},
   "source": [
    "## **1. Loading and Inspection of Data**"
   ]
  },
  {
   "cell_type": "markdown",
   "id": "6c0ba8b8",
   "metadata": {},
   "source": [
    "**Load data from the SQL server**"
   ]
  },
  {
   "cell_type": "code",
   "execution_count": 3,
   "id": "64476aec-cfda-44ff-9287-f9ae1116d755",
   "metadata": {},
   "outputs": [],
   "source": [
    "# Load environment variables from .env file into a dictionary\n",
    "environment_variables = dotenv_values('.env')\n",
    "\n",
    "# Get the values for the credentials you set in the '.env' file\n",
    "server = environment_variables.get(\"SERVER\")\n",
    "database = environment_variables.get(\"DATABASE\")\n",
    "username = environment_variables.get(\"USERNAME\")\n",
    "password = environment_variables.get(\"PASSWORD\")"
   ]
  },
  {
   "cell_type": "code",
   "execution_count": 4,
   "id": "1065f30f-d2af-4355-9709-68b7cf2eec10",
   "metadata": {},
   "outputs": [],
   "source": [
    "# Create a connection string\n",
    "\n",
    "connection_string = f\"DRIVER={{SQL Server}};SERVER={server};DATABASE={database};UID={username};PWD={password}\"\n",
    "    \n",
    "connection = pyodbc.connect(connection_string)\n",
    "\n"
   ]
  },
  {
   "cell_type": "code",
   "execution_count": 5,
   "id": "7c96e340-66bf-4947-b4bf-878ba7335936",
   "metadata": {},
   "outputs": [],
   "source": [
    "# sql query to get 2020 data. \n",
    "query_2020=\"SELECT * FROM dbo.LP1_startup_funding2020\"\n",
    "\n",
    "# sql query to get 2021 data. \n",
    "query_2021=\"SELECT * FROM dbo.LP1_startup_funding2021\""
   ]
  },
  {
   "cell_type": "code",
   "execution_count": 6,
   "id": "4879cd40-2819-442a-a895-1560371616cc",
   "metadata": {},
   "outputs": [],
   "source": [
    "    # load 2021 data\n",
    "data_2021=pd.read_sql(query_2021,connection)\n",
    "\n",
    "    # load 2020 data\n",
    "data_2020=pd.read_sql(query_2020,connection)"
   ]
  },
  {
   "cell_type": "markdown",
   "id": "35309cc2",
   "metadata": {},
   "source": [
    "**Load CSV Files**"
   ]
  },
  {
   "cell_type": "code",
   "execution_count": 7,
   "id": "a81c6016",
   "metadata": {},
   "outputs": [],
   "source": [
    "# load 2019 data\n",
    "data_2019=pd.read_csv(r'C:\\Users\\iamde\\OneDrive\\Desktop\\jupyter\\india_startup_data\\startup_funding2019.csv')\n",
    "\n",
    "    # load 2018 data\n",
    "data_2018=pd.read_csv(r'C:\\Users\\iamde\\OneDrive\\Desktop\\jupyter\\india_startup_data\\startup_funding2018.csv')\n"
   ]
  },
  {
   "cell_type": "markdown",
   "id": "b93809db-ec5e-415e-bce8-dc9a3367493b",
   "metadata": {},
   "source": [
    "### **2. Data Exploration and Understanding**"
   ]
  },
  {
   "cell_type": "markdown",
   "id": "ededc4f7",
   "metadata": {},
   "source": [
    "**Preview Each dataset**"
   ]
  },
  {
   "cell_type": "code",
   "execution_count": 8,
   "id": "88a913fa-08a6-4612-ac72-37b0a290a00a",
   "metadata": {},
   "outputs": [
    {
     "data": {
      "text/html": [
       "<div>\n",
       "<style scoped>\n",
       "    .dataframe tbody tr th:only-of-type {\n",
       "        vertical-align: middle;\n",
       "    }\n",
       "\n",
       "    .dataframe tbody tr th {\n",
       "        vertical-align: top;\n",
       "    }\n",
       "\n",
       "    .dataframe thead th {\n",
       "        text-align: right;\n",
       "    }\n",
       "</style>\n",
       "<table border=\"1\" class=\"dataframe\">\n",
       "  <thead>\n",
       "    <tr style=\"text-align: right;\">\n",
       "      <th></th>\n",
       "      <th>Company Name</th>\n",
       "      <th>Industry</th>\n",
       "      <th>Round/Series</th>\n",
       "      <th>Amount</th>\n",
       "      <th>Location</th>\n",
       "      <th>About Company</th>\n",
       "    </tr>\n",
       "  </thead>\n",
       "  <tbody>\n",
       "    <tr>\n",
       "      <th>155</th>\n",
       "      <td>BuildSupply</td>\n",
       "      <td>Enterprise Resource Planning (ERP), Informatio...</td>\n",
       "      <td>Series A</td>\n",
       "      <td>₹250,000,000</td>\n",
       "      <td>Gurgaon, Haryana, India</td>\n",
       "      <td>India’s most advanced ERP system for the real ...</td>\n",
       "    </tr>\n",
       "    <tr>\n",
       "      <th>142</th>\n",
       "      <td>Khabri</td>\n",
       "      <td>Apps, Audio</td>\n",
       "      <td>Seed</td>\n",
       "      <td>—</td>\n",
       "      <td>Haryana, Haryana, India</td>\n",
       "      <td>Khabri is a digital audio platform for content...</td>\n",
       "    </tr>\n",
       "    <tr>\n",
       "      <th>472</th>\n",
       "      <td>Sequretek</td>\n",
       "      <td>—</td>\n",
       "      <td>Venture - Series Unknown</td>\n",
       "      <td>3700000</td>\n",
       "      <td>Mumbai, Maharashtra, India</td>\n",
       "      <td>Sequretek is a cyber security start-up.</td>\n",
       "    </tr>\n",
       "    <tr>\n",
       "      <th>226</th>\n",
       "      <td>Daaki</td>\n",
       "      <td>Health Care</td>\n",
       "      <td>Angel</td>\n",
       "      <td>—</td>\n",
       "      <td>Bangalore, Karnataka, India</td>\n",
       "      <td>Sports Nutrition startup</td>\n",
       "    </tr>\n",
       "    <tr>\n",
       "      <th>25</th>\n",
       "      <td>AgNext Technologies</td>\n",
       "      <td>Agriculture, Analytics, Big Data, Farming</td>\n",
       "      <td>Series A</td>\n",
       "      <td>—</td>\n",
       "      <td>Mohali, Punjab, India</td>\n",
       "      <td>AgNext is an agricultural sensing and solution...</td>\n",
       "    </tr>\n",
       "  </tbody>\n",
       "</table>\n",
       "</div>"
      ],
      "text/plain": [
       "            Company Name                                           Industry  \\\n",
       "155          BuildSupply  Enterprise Resource Planning (ERP), Informatio...   \n",
       "142               Khabri                                        Apps, Audio   \n",
       "472            Sequretek                                                  —   \n",
       "226                Daaki                                        Health Care   \n",
       "25   AgNext Technologies          Agriculture, Analytics, Big Data, Farming   \n",
       "\n",
       "                 Round/Series        Amount                     Location  \\\n",
       "155                  Series A  ₹250,000,000      Gurgaon, Haryana, India   \n",
       "142                      Seed             —      Haryana, Haryana, India   \n",
       "472  Venture - Series Unknown       3700000   Mumbai, Maharashtra, India   \n",
       "226                     Angel             —  Bangalore, Karnataka, India   \n",
       "25                   Series A             —        Mohali, Punjab, India   \n",
       "\n",
       "                                         About Company  \n",
       "155  India’s most advanced ERP system for the real ...  \n",
       "142  Khabri is a digital audio platform for content...  \n",
       "472            Sequretek is a cyber security start-up.  \n",
       "226                           Sports Nutrition startup  \n",
       "25   AgNext is an agricultural sensing and solution...  "
      ]
     },
     "execution_count": 8,
     "metadata": {},
     "output_type": "execute_result"
    }
   ],
   "source": [
    "# preview the rows and columns for the 2018 dataset\n",
    "data_2018.sample(5)"
   ]
  },
  {
   "cell_type": "code",
   "execution_count": 9,
   "id": "3caff6a6-fadb-4132-9c2c-f79d2378d04d",
   "metadata": {},
   "outputs": [
    {
     "data": {
      "text/html": [
       "<div>\n",
       "<style scoped>\n",
       "    .dataframe tbody tr th:only-of-type {\n",
       "        vertical-align: middle;\n",
       "    }\n",
       "\n",
       "    .dataframe tbody tr th {\n",
       "        vertical-align: top;\n",
       "    }\n",
       "\n",
       "    .dataframe thead th {\n",
       "        text-align: right;\n",
       "    }\n",
       "</style>\n",
       "<table border=\"1\" class=\"dataframe\">\n",
       "  <thead>\n",
       "    <tr style=\"text-align: right;\">\n",
       "      <th></th>\n",
       "      <th>Company/Brand</th>\n",
       "      <th>Founded</th>\n",
       "      <th>HeadQuarter</th>\n",
       "      <th>Sector</th>\n",
       "      <th>What it does</th>\n",
       "      <th>Founders</th>\n",
       "      <th>Investor</th>\n",
       "      <th>Amount($)</th>\n",
       "      <th>Stage</th>\n",
       "    </tr>\n",
       "  </thead>\n",
       "  <tbody>\n",
       "    <tr>\n",
       "      <th>59</th>\n",
       "      <td>WishADish</td>\n",
       "      <td>NaN</td>\n",
       "      <td>Delhi</td>\n",
       "      <td>Food &amp; tech</td>\n",
       "      <td>Provides management solution for restaurants</td>\n",
       "      <td>Sawan Kumar, Bhavya Bhambhani</td>\n",
       "      <td>Undisclosed</td>\n",
       "      <td>$6,000,000</td>\n",
       "      <td>NaN</td>\n",
       "    </tr>\n",
       "    <tr>\n",
       "      <th>87</th>\n",
       "      <td>Spinny</td>\n",
       "      <td>2015.0</td>\n",
       "      <td>Delhi</td>\n",
       "      <td>Automobile</td>\n",
       "      <td>Online car retailer</td>\n",
       "      <td>Niraj Singh, Ramanshu Mahaur, Ganesh Pawar, Mo...</td>\n",
       "      <td>Norwest Venture Partners, General Catalyst, Fu...</td>\n",
       "      <td>$50,000,000</td>\n",
       "      <td>NaN</td>\n",
       "    </tr>\n",
       "    <tr>\n",
       "      <th>76</th>\n",
       "      <td>Phable</td>\n",
       "      <td>2018.0</td>\n",
       "      <td>NaN</td>\n",
       "      <td>Healthtech</td>\n",
       "      <td>It creates an engagement loop between doctors,...</td>\n",
       "      <td>Sumit Sinha</td>\n",
       "      <td>LetsVenture, 91 Springboard, IKP Knowledge, An...</td>\n",
       "      <td>$220,000</td>\n",
       "      <td>NaN</td>\n",
       "    </tr>\n",
       "    <tr>\n",
       "      <th>42</th>\n",
       "      <td>Bombay Shirt Company</td>\n",
       "      <td>2012.0</td>\n",
       "      <td>Mumbai</td>\n",
       "      <td>E-commerce</td>\n",
       "      <td>Online custom shirt brand</td>\n",
       "      <td>Akshay Narvekar</td>\n",
       "      <td>Lightbox Ventures</td>\n",
       "      <td>$8,000,000</td>\n",
       "      <td>NaN</td>\n",
       "    </tr>\n",
       "    <tr>\n",
       "      <th>10</th>\n",
       "      <td>Cub McPaws</td>\n",
       "      <td>2010.0</td>\n",
       "      <td>Mumbai</td>\n",
       "      <td>E-commerce &amp; AR</td>\n",
       "      <td>A B2C  brand that focusses on premium and comf...</td>\n",
       "      <td>Abhay Bhat, Kinnar Shah</td>\n",
       "      <td>Venture Catalysts</td>\n",
       "      <td>Undisclosed</td>\n",
       "      <td>NaN</td>\n",
       "    </tr>\n",
       "  </tbody>\n",
       "</table>\n",
       "</div>"
      ],
      "text/plain": [
       "           Company/Brand  Founded HeadQuarter           Sector  \\\n",
       "59             WishADish      NaN       Delhi      Food & tech   \n",
       "87                Spinny   2015.0       Delhi       Automobile   \n",
       "76                Phable   2018.0         NaN       Healthtech   \n",
       "42  Bombay Shirt Company   2012.0      Mumbai       E-commerce   \n",
       "10            Cub McPaws   2010.0      Mumbai  E-commerce & AR   \n",
       "\n",
       "                                         What it does  \\\n",
       "59       Provides management solution for restaurants   \n",
       "87                                Online car retailer   \n",
       "76  It creates an engagement loop between doctors,...   \n",
       "42                          Online custom shirt brand   \n",
       "10  A B2C  brand that focusses on premium and comf...   \n",
       "\n",
       "                                             Founders  \\\n",
       "59                      Sawan Kumar, Bhavya Bhambhani   \n",
       "87  Niraj Singh, Ramanshu Mahaur, Ganesh Pawar, Mo...   \n",
       "76                                        Sumit Sinha   \n",
       "42                                    Akshay Narvekar   \n",
       "10                            Abhay Bhat, Kinnar Shah   \n",
       "\n",
       "                                             Investor    Amount($) Stage  \n",
       "59                                        Undisclosed   $6,000,000   NaN  \n",
       "87  Norwest Venture Partners, General Catalyst, Fu...  $50,000,000   NaN  \n",
       "76  LetsVenture, 91 Springboard, IKP Knowledge, An...     $220,000   NaN  \n",
       "42                                  Lightbox Ventures   $8,000,000   NaN  \n",
       "10                                  Venture Catalysts  Undisclosed   NaN  "
      ]
     },
     "execution_count": 9,
     "metadata": {},
     "output_type": "execute_result"
    }
   ],
   "source": [
    "# get a sample of 2019 dataset\n",
    "data_2019.sample(5)"
   ]
  },
  {
   "cell_type": "code",
   "execution_count": 10,
   "id": "5b3f3480-99e5-4d9c-999b-c24fd6527f0b",
   "metadata": {},
   "outputs": [
    {
     "data": {
      "text/html": [
       "<div>\n",
       "<style scoped>\n",
       "    .dataframe tbody tr th:only-of-type {\n",
       "        vertical-align: middle;\n",
       "    }\n",
       "\n",
       "    .dataframe tbody tr th {\n",
       "        vertical-align: top;\n",
       "    }\n",
       "\n",
       "    .dataframe thead th {\n",
       "        text-align: right;\n",
       "    }\n",
       "</style>\n",
       "<table border=\"1\" class=\"dataframe\">\n",
       "  <thead>\n",
       "    <tr style=\"text-align: right;\">\n",
       "      <th></th>\n",
       "      <th>Company_Brand</th>\n",
       "      <th>Founded</th>\n",
       "      <th>HeadQuarter</th>\n",
       "      <th>Sector</th>\n",
       "      <th>What_it_does</th>\n",
       "      <th>Founders</th>\n",
       "      <th>Investor</th>\n",
       "      <th>Amount</th>\n",
       "      <th>Stage</th>\n",
       "      <th>column10</th>\n",
       "    </tr>\n",
       "  </thead>\n",
       "  <tbody>\n",
       "    <tr>\n",
       "      <th>233</th>\n",
       "      <td>Genius Teacher</td>\n",
       "      <td>2016.0</td>\n",
       "      <td>Mumbai</td>\n",
       "      <td>Edtech</td>\n",
       "      <td>Genius Teacher creates engaging educational co...</td>\n",
       "      <td>Advitiya Sharma, Gaurav Lahoti</td>\n",
       "      <td>Whiteboard Capital, VKG Ventures LLP.</td>\n",
       "      <td>2000000.0</td>\n",
       "      <td>None</td>\n",
       "      <td>None</td>\n",
       "    </tr>\n",
       "    <tr>\n",
       "      <th>967</th>\n",
       "      <td>CureSkin</td>\n",
       "      <td>2017.0</td>\n",
       "      <td>Bangalore</td>\n",
       "      <td>Healthtech</td>\n",
       "      <td>Provides a treatment solution for skincare and...</td>\n",
       "      <td>Guna Kakulapati, Rama Rajanna, Charu Sharma</td>\n",
       "      <td>SenseAI Ventures</td>\n",
       "      <td>500000.0</td>\n",
       "      <td>None</td>\n",
       "      <td>None</td>\n",
       "    </tr>\n",
       "    <tr>\n",
       "      <th>1005</th>\n",
       "      <td>Extra Edge</td>\n",
       "      <td>NaN</td>\n",
       "      <td>Pune</td>\n",
       "      <td>Edtech</td>\n",
       "      <td>Admission Marketing Automation software for th...</td>\n",
       "      <td>Kavita Dhillon</td>\n",
       "      <td>Sprout Venture Partners, Indian Angel Network</td>\n",
       "      <td>700000.0</td>\n",
       "      <td>Pre Series A</td>\n",
       "      <td>None</td>\n",
       "    </tr>\n",
       "    <tr>\n",
       "      <th>462</th>\n",
       "      <td>Chiratae Ventures</td>\n",
       "      <td>2018.0</td>\n",
       "      <td>Bangalore</td>\n",
       "      <td>Venture capital</td>\n",
       "      <td>A leading tech venture capital fund focused on...</td>\n",
       "      <td>Vaishali Kulkarni, Arjun Singh Bajwa</td>\n",
       "      <td>None</td>\n",
       "      <td>NaN</td>\n",
       "      <td>Seed Funding</td>\n",
       "      <td>None</td>\n",
       "    </tr>\n",
       "    <tr>\n",
       "      <th>937</th>\n",
       "      <td>WorkIndia</td>\n",
       "      <td>NaN</td>\n",
       "      <td>None</td>\n",
       "      <td>HR tech</td>\n",
       "      <td>An online and mobile-based platform that conne...</td>\n",
       "      <td>Kunal Patil</td>\n",
       "      <td>Xiaomi</td>\n",
       "      <td>6000000.0</td>\n",
       "      <td>None</td>\n",
       "      <td>None</td>\n",
       "    </tr>\n",
       "  </tbody>\n",
       "</table>\n",
       "</div>"
      ],
      "text/plain": [
       "          Company_Brand  Founded HeadQuarter           Sector  \\\n",
       "233      Genius Teacher   2016.0      Mumbai           Edtech   \n",
       "967            CureSkin   2017.0   Bangalore       Healthtech   \n",
       "1005         Extra Edge      NaN        Pune           Edtech   \n",
       "462   Chiratae Ventures   2018.0   Bangalore  Venture capital   \n",
       "937           WorkIndia      NaN        None          HR tech   \n",
       "\n",
       "                                           What_it_does  \\\n",
       "233   Genius Teacher creates engaging educational co...   \n",
       "967   Provides a treatment solution for skincare and...   \n",
       "1005  Admission Marketing Automation software for th...   \n",
       "462   A leading tech venture capital fund focused on...   \n",
       "937   An online and mobile-based platform that conne...   \n",
       "\n",
       "                                         Founders  \\\n",
       "233                Advitiya Sharma, Gaurav Lahoti   \n",
       "967   Guna Kakulapati, Rama Rajanna, Charu Sharma   \n",
       "1005                               Kavita Dhillon   \n",
       "462          Vaishali Kulkarni, Arjun Singh Bajwa   \n",
       "937                                   Kunal Patil   \n",
       "\n",
       "                                           Investor     Amount         Stage  \\\n",
       "233           Whiteboard Capital, VKG Ventures LLP.  2000000.0          None   \n",
       "967                                SenseAI Ventures   500000.0          None   \n",
       "1005  Sprout Venture Partners, Indian Angel Network   700000.0  Pre Series A   \n",
       "462                                            None        NaN  Seed Funding   \n",
       "937                                          Xiaomi  6000000.0          None   \n",
       "\n",
       "     column10  \n",
       "233      None  \n",
       "967      None  \n",
       "1005     None  \n",
       "462      None  \n",
       "937      None  "
      ]
     },
     "execution_count": 10,
     "metadata": {},
     "output_type": "execute_result"
    }
   ],
   "source": [
    "# get a sample of 2020 dataset\n",
    "data_2020.sample(5)"
   ]
  },
  {
   "cell_type": "code",
   "execution_count": 11,
   "id": "8677d87a-8df2-4c78-8bb3-f70f22ba3a64",
   "metadata": {},
   "outputs": [
    {
     "data": {
      "text/html": [
       "<div>\n",
       "<style scoped>\n",
       "    .dataframe tbody tr th:only-of-type {\n",
       "        vertical-align: middle;\n",
       "    }\n",
       "\n",
       "    .dataframe tbody tr th {\n",
       "        vertical-align: top;\n",
       "    }\n",
       "\n",
       "    .dataframe thead th {\n",
       "        text-align: right;\n",
       "    }\n",
       "</style>\n",
       "<table border=\"1\" class=\"dataframe\">\n",
       "  <thead>\n",
       "    <tr style=\"text-align: right;\">\n",
       "      <th></th>\n",
       "      <th>Company_Brand</th>\n",
       "      <th>Founded</th>\n",
       "      <th>HeadQuarter</th>\n",
       "      <th>Sector</th>\n",
       "      <th>What_it_does</th>\n",
       "      <th>Founders</th>\n",
       "      <th>Investor</th>\n",
       "      <th>Amount</th>\n",
       "      <th>Stage</th>\n",
       "    </tr>\n",
       "  </thead>\n",
       "  <tbody>\n",
       "    <tr>\n",
       "      <th>133</th>\n",
       "      <td>House of Kieraya</td>\n",
       "      <td>2013.0</td>\n",
       "      <td>Bangalore</td>\n",
       "      <td>Lifestyle</td>\n",
       "      <td>House of Kieraya, well-known for furniture and...</td>\n",
       "      <td>Ajith Mohan Karimpana</td>\n",
       "      <td>TradeCred</td>\n",
       "      <td>$15000000</td>\n",
       "      <td>None</td>\n",
       "    </tr>\n",
       "    <tr>\n",
       "      <th>407</th>\n",
       "      <td>BharatPe</td>\n",
       "      <td>2018.0</td>\n",
       "      <td>New Delhi</td>\n",
       "      <td>FinTech</td>\n",
       "      <td>BharatPe develops a QR code-based payment app ...</td>\n",
       "      <td>Ashneer Grover, Shashvat Nakrani</td>\n",
       "      <td>InnoVen Capital, Steadview Capital</td>\n",
       "      <td>$10,000,000</td>\n",
       "      <td>Debt</td>\n",
       "    </tr>\n",
       "    <tr>\n",
       "      <th>1176</th>\n",
       "      <td>Peak</td>\n",
       "      <td>2014.0</td>\n",
       "      <td>Information Technology &amp; Services</td>\n",
       "      <td>Manchester, Greater Manchester</td>\n",
       "      <td>Peak helps the world's smartest companies put ...</td>\n",
       "      <td>Atul Sharma</td>\n",
       "      <td>SoftBank Vision Fund 2</td>\n",
       "      <td>$75000000</td>\n",
       "      <td>Series C</td>\n",
       "    </tr>\n",
       "    <tr>\n",
       "      <th>96</th>\n",
       "      <td>Bewakoof</td>\n",
       "      <td>2012.0</td>\n",
       "      <td>Mumbai</td>\n",
       "      <td>Apparel &amp; Fashion</td>\n",
       "      <td>Bewakoof is a lifestyle fashion brand that mak...</td>\n",
       "      <td>Prabhkiran Singh</td>\n",
       "      <td>InvestCorp</td>\n",
       "      <td>$8000000</td>\n",
       "      <td>None</td>\n",
       "    </tr>\n",
       "    <tr>\n",
       "      <th>553</th>\n",
       "      <td>The Ayurveda Co</td>\n",
       "      <td>2021.0</td>\n",
       "      <td>Gurugram</td>\n",
       "      <td>Consumer Goods</td>\n",
       "      <td>The Ayurveda Co. represents things that are al...</td>\n",
       "      <td>Param Bhargava, Shreedha Singh</td>\n",
       "      <td>GetVantage, Velocity, Shiprocket Capital</td>\n",
       "      <td>$undisclosed</td>\n",
       "      <td>None</td>\n",
       "    </tr>\n",
       "  </tbody>\n",
       "</table>\n",
       "</div>"
      ],
      "text/plain": [
       "         Company_Brand  Founded                        HeadQuarter  \\\n",
       "133   House of Kieraya   2013.0                          Bangalore   \n",
       "407           BharatPe   2018.0                          New Delhi   \n",
       "1176              Peak   2014.0  Information Technology & Services   \n",
       "96            Bewakoof   2012.0                             Mumbai   \n",
       "553    The Ayurveda Co   2021.0                           Gurugram   \n",
       "\n",
       "                              Sector  \\\n",
       "133                        Lifestyle   \n",
       "407                          FinTech   \n",
       "1176  Manchester, Greater Manchester   \n",
       "96                 Apparel & Fashion   \n",
       "553                   Consumer Goods   \n",
       "\n",
       "                                           What_it_does  \\\n",
       "133   House of Kieraya, well-known for furniture and...   \n",
       "407   BharatPe develops a QR code-based payment app ...   \n",
       "1176  Peak helps the world's smartest companies put ...   \n",
       "96    Bewakoof is a lifestyle fashion brand that mak...   \n",
       "553   The Ayurveda Co. represents things that are al...   \n",
       "\n",
       "                              Founders  \\\n",
       "133              Ajith Mohan Karimpana   \n",
       "407   Ashneer Grover, Shashvat Nakrani   \n",
       "1176                       Atul Sharma   \n",
       "96                    Prabhkiran Singh   \n",
       "553     Param Bhargava, Shreedha Singh   \n",
       "\n",
       "                                      Investor        Amount     Stage  \n",
       "133                                  TradeCred     $15000000      None  \n",
       "407         InnoVen Capital, Steadview Capital   $10,000,000      Debt  \n",
       "1176                    SoftBank Vision Fund 2     $75000000  Series C  \n",
       "96                                  InvestCorp      $8000000      None  \n",
       "553   GetVantage, Velocity, Shiprocket Capital  $undisclosed      None  "
      ]
     },
     "execution_count": 11,
     "metadata": {},
     "output_type": "execute_result"
    }
   ],
   "source": [
    "# get a sample of 2021 dataset\n",
    "data_2021.sample(5)"
   ]
  },
  {
   "cell_type": "markdown",
   "id": "b93543f2-23bb-4e03-91f7-2a339ccb6370",
   "metadata": {},
   "source": [
    "**Shape of the data**"
   ]
  },
  {
   "cell_type": "code",
   "execution_count": 12,
   "id": "2e589a02-7199-4a0b-902b-2f82a820b2f6",
   "metadata": {},
   "outputs": [
    {
     "name": "stdout",
     "output_type": "stream",
     "text": [
      "The 2018 dataset has 526 rows and 6 Columns\n",
      "\n",
      "The 2019 dataset has 89 rows and 9 Columns\n",
      "\n",
      "The 2020 dataset has 1055 rows and 10 Columns\n",
      "\n",
      "The 2021 dataset has 1209 rows and 9 Columns\n",
      "\n",
      "\n"
     ]
    }
   ],
   "source": [
    "# get the number of rows and columns for the datasets\n",
    "print(f\"The 2018 dataset has {data_2018.shape[0]} rows and {data_2018.shape[1]} Columns\\n\")\n",
    "print(f\"The 2019 dataset has {data_2019.shape[0]} rows and {data_2019.shape[1]} Columns\\n\")\n",
    "print(f\"The 2020 dataset has {data_2020.shape[0]} rows and {data_2020.shape[1]} Columns\\n\")\n",
    "print(f\"The 2021 dataset has {data_2021.shape[0]} rows and {data_2021.shape[1]} Columns\\n\\n\")"
   ]
  },
  {
   "cell_type": "markdown",
   "id": "579a5b01-4b8c-45e6-87b1-73ee5deb7007",
   "metadata": {},
   "source": [
    "**Info of the data**"
   ]
  },
  {
   "cell_type": "code",
   "execution_count": 13,
   "id": "51576669-93b6-4c83-abd4-0ec1383f911a",
   "metadata": {},
   "outputs": [
    {
     "name": "stdout",
     "output_type": "stream",
     "text": [
      "<class 'pandas.core.frame.DataFrame'>\n",
      "RangeIndex: 526 entries, 0 to 525\n",
      "Data columns (total 6 columns):\n",
      " #   Column         Non-Null Count  Dtype \n",
      "---  ------         --------------  ----- \n",
      " 0   Company Name   526 non-null    object\n",
      " 1   Industry       526 non-null    object\n",
      " 2   Round/Series   526 non-null    object\n",
      " 3   Amount         526 non-null    object\n",
      " 4   Location       526 non-null    object\n",
      " 5   About Company  526 non-null    object\n",
      "dtypes: object(6)\n",
      "memory usage: 24.8+ KB\n"
     ]
    }
   ],
   "source": [
    "# overview of 2018 dataset\n",
    "data_2018.info()"
   ]
  },
  {
   "cell_type": "code",
   "execution_count": 14,
   "id": "95d118f0-22c6-44e9-8e2f-032397e4f2fd",
   "metadata": {},
   "outputs": [
    {
     "name": "stdout",
     "output_type": "stream",
     "text": [
      "<class 'pandas.core.frame.DataFrame'>\n",
      "RangeIndex: 89 entries, 0 to 88\n",
      "Data columns (total 9 columns):\n",
      " #   Column         Non-Null Count  Dtype  \n",
      "---  ------         --------------  -----  \n",
      " 0   Company/Brand  89 non-null     object \n",
      " 1   Founded        60 non-null     float64\n",
      " 2   HeadQuarter    70 non-null     object \n",
      " 3   Sector         84 non-null     object \n",
      " 4   What it does   89 non-null     object \n",
      " 5   Founders       86 non-null     object \n",
      " 6   Investor       89 non-null     object \n",
      " 7   Amount($)      89 non-null     object \n",
      " 8   Stage          43 non-null     object \n",
      "dtypes: float64(1), object(8)\n",
      "memory usage: 6.4+ KB\n"
     ]
    }
   ],
   "source": [
    "# overview of 2019 dataset\n",
    "data_2019.info()"
   ]
  },
  {
   "cell_type": "code",
   "execution_count": 15,
   "id": "0a0d12df-af4b-4475-87fe-ea3e0ae6ecae",
   "metadata": {},
   "outputs": [
    {
     "name": "stdout",
     "output_type": "stream",
     "text": [
      "<class 'pandas.core.frame.DataFrame'>\n",
      "RangeIndex: 1055 entries, 0 to 1054\n",
      "Data columns (total 10 columns):\n",
      " #   Column         Non-Null Count  Dtype  \n",
      "---  ------         --------------  -----  \n",
      " 0   Company_Brand  1055 non-null   object \n",
      " 1   Founded        842 non-null    float64\n",
      " 2   HeadQuarter    961 non-null    object \n",
      " 3   Sector         1042 non-null   object \n",
      " 4   What_it_does   1055 non-null   object \n",
      " 5   Founders       1043 non-null   object \n",
      " 6   Investor       1017 non-null   object \n",
      " 7   Amount         801 non-null    float64\n",
      " 8   Stage          591 non-null    object \n",
      " 9   column10       2 non-null      object \n",
      "dtypes: float64(2), object(8)\n",
      "memory usage: 82.6+ KB\n"
     ]
    }
   ],
   "source": [
    "# overview of 2020 dataset\n",
    "data_2020.info()"
   ]
  },
  {
   "cell_type": "code",
   "execution_count": 16,
   "id": "59bb1fcb-4c04-4466-8dc3-533cc7a66d02",
   "metadata": {},
   "outputs": [
    {
     "name": "stdout",
     "output_type": "stream",
     "text": [
      "<class 'pandas.core.frame.DataFrame'>\n",
      "RangeIndex: 1209 entries, 0 to 1208\n",
      "Data columns (total 9 columns):\n",
      " #   Column         Non-Null Count  Dtype  \n",
      "---  ------         --------------  -----  \n",
      " 0   Company_Brand  1209 non-null   object \n",
      " 1   Founded        1208 non-null   float64\n",
      " 2   HeadQuarter    1208 non-null   object \n",
      " 3   Sector         1209 non-null   object \n",
      " 4   What_it_does   1209 non-null   object \n",
      " 5   Founders       1205 non-null   object \n",
      " 6   Investor       1147 non-null   object \n",
      " 7   Amount         1206 non-null   object \n",
      " 8   Stage          781 non-null    object \n",
      "dtypes: float64(1), object(8)\n",
      "memory usage: 85.1+ KB\n"
     ]
    }
   ],
   "source": [
    "# overview of 2021 dataset\n",
    "data_2021.info()"
   ]
  },
  {
   "cell_type": "markdown",
   "id": "b34f7762-7ada-467d-9553-ad81094e8a11",
   "metadata": {},
   "source": [
    "**Displaying datasets columns**"
   ]
  },
  {
   "cell_type": "code",
   "execution_count": 17,
   "id": "bd635e90-d8e9-4e8a-9290-b6feaa704d4b",
   "metadata": {},
   "outputs": [
    {
     "data": {
      "text/plain": [
       "Index(['Company_Brand', 'Founded', 'HeadQuarter', 'Sector', 'What_it_does',\n",
       "       'Founders', 'Investor', 'Amount', 'Stage'],\n",
       "      dtype='object')"
      ]
     },
     "execution_count": 17,
     "metadata": {},
     "output_type": "execute_result"
    }
   ],
   "source": [
    "# 2021 data columns\n",
    "data_2021.columns"
   ]
  },
  {
   "cell_type": "code",
   "execution_count": 18,
   "id": "36c35f2f-a6dd-484e-9b87-81eca131801c",
   "metadata": {},
   "outputs": [
    {
     "data": {
      "text/plain": [
       "Index(['Company_Brand', 'Founded', 'HeadQuarter', 'Sector', 'What_it_does',\n",
       "       'Founders', 'Investor', 'Amount', 'Stage', 'column10'],\n",
       "      dtype='object')"
      ]
     },
     "execution_count": 18,
     "metadata": {},
     "output_type": "execute_result"
    }
   ],
   "source": [
    "# 2020 data columns\n",
    "\n",
    "data_2020.columns"
   ]
  },
  {
   "cell_type": "code",
   "execution_count": 19,
   "id": "4f6ca9f7-a761-4a13-bf36-ce15976dc308",
   "metadata": {},
   "outputs": [
    {
     "data": {
      "text/plain": [
       "Index(['Company/Brand', 'Founded', 'HeadQuarter', 'Sector', 'What it does',\n",
       "       'Founders', 'Investor', 'Amount($)', 'Stage'],\n",
       "      dtype='object')"
      ]
     },
     "execution_count": 19,
     "metadata": {},
     "output_type": "execute_result"
    }
   ],
   "source": [
    "# 2019 data columns\n",
    "\n",
    "data_2019.columns"
   ]
  },
  {
   "cell_type": "code",
   "execution_count": 20,
   "id": "f8632c75-946a-42b6-8fb6-0d72b228f4a3",
   "metadata": {},
   "outputs": [
    {
     "data": {
      "text/plain": [
       "Index(['Company Name', 'Industry', 'Round/Series', 'Amount', 'Location',\n",
       "       'About Company'],\n",
       "      dtype='object')"
      ]
     },
     "execution_count": 20,
     "metadata": {},
     "output_type": "execute_result"
    }
   ],
   "source": [
    "# 2018 data columns\n",
    "\n",
    "data_2018.columns"
   ]
  },
  {
   "cell_type": "markdown",
   "id": "406e25a7-e736-4340-b842-a579360997d6",
   "metadata": {},
   "source": [
    "## **Observations:**\n",
    "**Issues with the data**\n",
    "\n",
    "1. There is a discrepancy in the naming conventions between the columns in the 2018 and 2019 datasets compared to the 2020 and 2021 datasets.\n",
    "\n",
    "2. The 2018 dataset exhibits some missing columns, contributing to an incomplete representation of the data.\n",
    "\n",
    "3. Conversely, the 2020 dataset contains an additional column that appears to be extraneous and does not serve a meaningful purpose in our analysis.\n",
    "\n",
    "**Course of Action:**\n",
    "\n",
    "1. **Missing Column Engineering for 2018:**\n",
    "   - We will address the absence of certain columns in the 2018 dataset by employing data engineering techniques to create and populate the missing columns, ensuring a comprehensive and consistent dataset.\n",
    "\n",
    "2. **Column Name Standardization:**\n",
    "   - To establish uniformity and coherence across all datasets, we will embark on a column renaming process for the 2018 and 2019 datasets. This action aims to align the naming conventions with those observed in the 2020 and 2021 datasets, facilitating seamless data integration and analysis.\n",
    "\n",
    "3. **Extraneous Column Removal in 2020:**\n",
    "   - The redundant column identified in the 2020 dataset will be removed, streamlining the dataset and eliminating unnecessary elements that do not contribute to the overall analysis objectives.\n",
    "\n",
    "These actions collectively enhance the integrity, consistency, and completeness of the dataset, paving the way for a more robust and coherent analytical process.\n",
    "ical process.\n",
    "\n",
    "\n",
    "\n",
    "\n",
    "\n"
   ]
  },
  {
   "cell_type": "markdown",
   "id": "5959a53d-4842-48c0-ab8c-77448bd42a0a",
   "metadata": {},
   "source": [
    "# **3. Data Cleaning**"
   ]
  },
  {
   "cell_type": "markdown",
   "id": "5a6699fc",
   "metadata": {},
   "source": [
    "**Handling missing columns and currency signs in the 2018 dataset**\n",
    "\n",
    "- The 2018 dataset has missing; 'founded', 'founders', and 'investor' columns\n"
   ]
  },
  {
   "cell_type": "code",
   "execution_count": 21,
   "id": "3058a0b5",
   "metadata": {},
   "outputs": [],
   "source": [
    "# Engineer missing columns for the 2018 dataset\n",
    "columns_to_add = ['founded', 'founders', 'investor']\n",
    "for column in columns_to_add:\n",
    "    if column not in data_2018.columns:\n",
    "        data_2018[column] = np.NaN\n",
    "\n",
    "# Replace '₹', commas, '—', and \"''\" in 'Amount' column\n",
    "data_2018['Amount'] = data_2018['Amount'].str.replace(',', '').str.replace('—', '').str.replace(\"''\",'').replace('', np.nan)\n",
    "\n",
    "# Conditionally apply multiplication only where '₹' is present\n",
    "mask = data_2018['Amount'].str.contains('₹', na=False)\n",
    "data_2018.loc[mask, 'Amount'] = data_2018.loc[mask, 'Amount'].str.replace('₹', '').astype(float) * 0.0146"
   ]
  },
  {
   "cell_type": "markdown",
   "id": "38deab22",
   "metadata": {},
   "source": [
    "**Data collection Year**\n",
    "\n",
    "- There is need to add a column that represents the year each dataset was collected. This will help with handling the datasets after merging the dataframes \n"
   ]
  },
  {
   "cell_type": "code",
   "execution_count": 22,
   "id": "0633e25e",
   "metadata": {},
   "outputs": [],
   "source": [
    "# add year when data was collected column to every dataset\n",
    "data_2018['data_year'] = pd.to_datetime('2018', format='%Y').year\n",
    "data_2019['data_year'] = pd.to_datetime('2019', format='%Y').year\n",
    "data_2020['data_year'] = pd.to_datetime('2020', format='%Y').year\n",
    "data_2021['data_year'] = pd.to_datetime('2021', format='%Y').year"
   ]
  },
  {
   "cell_type": "markdown",
   "id": "96f9f8d0",
   "metadata": {},
   "source": [
    "**Merge the dataframes**"
   ]
  },
  {
   "cell_type": "markdown",
   "id": "55009ec1",
   "metadata": {},
   "source": [
    "**Notes**\n",
    "- The function below concatenates the dataframes then renames the columns to ensure uniformity across the merged dataframe\n"
   ]
  },
  {
   "cell_type": "code",
   "execution_count": 44,
   "id": "ee2b9099",
   "metadata": {},
   "outputs": [],
   "source": [
    "# Define function to concatenate and rename columns\n",
    "def concat_dfs(df_1, df_2, df_3, df_4):\n",
    "    # Rename columns in individual DataFrames\n",
    "    df_1.rename(columns={'Company Name': 'company_brand', 'Industry': 'sector', 'Round/Series': 'stage',\n",
    "                         'Amount': 'amount($)', 'Location': 'headquater', 'About Company': 'about_company'},\n",
    "                inplace=True)\n",
    "    df_2.rename(columns={'Company/Brand': 'company_brand', 'Founded': 'founded', 'HeadQuarter': 'headquater',\n",
    "                         'Sector': 'sector', 'What it does': 'about_company', 'Founders': 'founders',\n",
    "                         'Investor': 'investor', 'Amount($)': 'amount($)', 'Stage': 'stage'},\n",
    "                inplace=True)\n",
    "    df_3.rename(columns={'Company_Brand': 'company_brand', 'Founded': 'founded', 'HeadQuarter': 'headquater',\n",
    "                         'Sector': 'sector', 'What_it_does': 'about_company', 'Founders': 'founders',\n",
    "                         'Investor': 'investor', 'Amount': 'amount($)', 'Stage': 'stage'},\n",
    "                inplace=True)\n",
    "    df_4.rename(columns={'Company_Brand': 'company_brand', 'Founded': 'founded', 'HeadQuarter': 'headquater',\n",
    "                         'Sector': 'sector', 'What_it_does': 'about_company', 'Founders': 'founders',\n",
    "                         'Investor': 'investor', 'Amount': 'amount($)', 'Stage': 'stage'},\n",
    "                inplace=True)\n",
    "\n",
    "    # Concatenate dataframes along the row axis and reset index\n",
    "    df = pd.concat([df_1, df_2, df_3, df_4])\n",
    "\n",
    "    return df\n",
    "\n",
    "\n",
    "df = concat_dfs(data_2018, data_2019, data_2020, data_2021)\n"
   ]
  },
  {
   "cell_type": "code",
   "execution_count": 45,
   "id": "482326e4",
   "metadata": {},
   "outputs": [],
   "source": [
    "#Drop the extreneous column 10\n",
    "df.drop('column10', axis=1, inplace= True)"
   ]
  },
  {
   "cell_type": "markdown",
   "id": "4d9d8fc2",
   "metadata": {},
   "source": [
    "**Cleaning 'Amount' column**"
   ]
  },
  {
   "cell_type": "markdown",
   "id": "7dafaa40",
   "metadata": {},
   "source": [
    "**Notes**  \n",
    "- Remove all currency signs  \n",
    "\n",
    "- Remove all other umwanted characters, words and symbols  \n",
    "\n",
    "- Populate null values with the mode of the dataset  \n",
    "\n",
    "- Convert the column from object to float"
   ]
  },
  {
   "cell_type": "code",
   "execution_count": 46,
   "id": "bb33eeac",
   "metadata": {},
   "outputs": [],
   "source": [
    "\n",
    "# Remove dollar sign\n",
    "df['amount($)'] = df['amount($)'].replace('\\$', '', regex=True)\n",
    "\n",
    "# Remove commas\n",
    "df['amount($)'] = df['amount($)'].str.replace(',', '')\n",
    "\n",
    "# Remove all other irrelevant characters, words and symbols\n",
    "df['amount($)'] = df['amount($)'].replace([\"Upsparks\", 'undisclosed', 'Undisclosed', \"ah! Ventures\", \n",
    "                                               \"Pre-series A\", \"ITO Angel Network LetsVenture\", \n",
    "                                               \"JITO Angel Network LetsVenture\", \"Series C\", 'Seed', ','], '')\n",
    "\n",
    "# Convert the 'amount($)' column to numeric\n",
    "df['amount($)'] = pd.to_numeric(df['amount($)'])"
   ]
  },
  {
   "cell_type": "code",
   "execution_count": 47,
   "id": "80a74fb7",
   "metadata": {},
   "outputs": [
    {
     "name": "stdout",
     "output_type": "stream",
     "text": [
      "<class 'pandas.core.series.Series'>\n",
      "Index: 2879 entries, 0 to 1208\n",
      "Series name: amount($)\n",
      "Non-Null Count  Dtype  \n",
      "--------------  -----  \n",
      "1367 non-null   float64\n",
      "dtypes: float64(1)\n",
      "memory usage: 45.0 KB\n"
     ]
    }
   ],
   "source": [
    "df['amount($)'].info()"
   ]
  },
  {
   "cell_type": "markdown",
   "id": "51fb2513",
   "metadata": {},
   "source": [
    "**Cleaning data_year column**"
   ]
  },
  {
   "cell_type": "markdown",
   "id": "b279ed04",
   "metadata": {},
   "source": [
    "**Notes**  \n",
    "\n",
    "\n",
    "- Convert data type to period\n"
   ]
  },
  {
   "cell_type": "code",
   "execution_count": 48,
   "id": "0cbb5d28",
   "metadata": {},
   "outputs": [],
   "source": [
    "# Convert the data_year column to date\n",
    "df['data_year']=pd.to_datetime(df['data_year'], format='%Y')\n",
    "df['data_year']=df['data_year'].dt.to_period('y')\n",
    "# df['founded']=pd.to_datetime(df['founded']).dt.year"
   ]
  },
  {
   "cell_type": "code",
   "execution_count": 49,
   "id": "375a213e",
   "metadata": {},
   "outputs": [
    {
     "name": "stdout",
     "output_type": "stream",
     "text": [
      "There are 0 Null values in the 'data_year' column\n"
     ]
    }
   ],
   "source": [
    "# check for nulls and duplicated\n",
    "print(f\"There are {df['data_year'].isna().sum()} Null values in the 'data_year' column\")"
   ]
  },
  {
   "cell_type": "code",
   "execution_count": 50,
   "id": "5cba9afa",
   "metadata": {},
   "outputs": [
    {
     "name": "stdout",
     "output_type": "stream",
     "text": [
      "<class 'pandas.core.series.Series'>\n",
      "Index: 2879 entries, 0 to 1208\n",
      "Series name: data_year\n",
      "Non-Null Count  Dtype        \n",
      "--------------  -----        \n",
      "2879 non-null   period[Y-DEC]\n",
      "dtypes: period[Y-DEC](1)\n",
      "memory usage: 45.0 KB\n"
     ]
    }
   ],
   "source": [
    "df['data_year'].info()"
   ]
  },
  {
   "cell_type": "markdown",
   "id": "60be2406",
   "metadata": {},
   "source": [
    "**Cleaning 'founded' column**"
   ]
  },
  {
   "cell_type": "markdown",
   "id": "26637de4",
   "metadata": {},
   "source": [
    "**Notes**\n",
    "- Handle nulls by populating with the 'bfill' method\n",
    "\n"
   ]
  },
  {
   "cell_type": "code",
   "execution_count": 51,
   "id": "b10490c8",
   "metadata": {},
   "outputs": [
    {
     "name": "stdout",
     "output_type": "stream",
     "text": [
      "There are 769 Null values in the 'founded' column\n"
     ]
    }
   ],
   "source": [
    "print(f\"There are {df['founded'].isna().sum()} Null values in the 'founded' column\")"
   ]
  },
  {
   "cell_type": "markdown",
   "id": "865f3aa5",
   "metadata": {},
   "source": [
    "**Notes**  \n",
    "- There are 769 null values in the 'founded' column.  \n",
    "\n",
    "- Since dropping the nulls will lead to a significant loss of our data, Backward fill will be used to fill the null values"
   ]
  },
  {
   "cell_type": "code",
   "execution_count": 52,
   "id": "a2ee8fc5",
   "metadata": {},
   "outputs": [],
   "source": [
    "# Convert to datetime\n",
    "df['founded'] = pd.to_datetime(df['founded'], format='%Y')\n",
    "\n",
    "# Convert to period\n",
    "df['founded'] = df['founded'].dt.to_period('Y')\n"
   ]
  },
  {
   "cell_type": "code",
   "execution_count": 53,
   "id": "24f08912",
   "metadata": {},
   "outputs": [
    {
     "name": "stdout",
     "output_type": "stream",
     "text": [
      "<class 'pandas.core.series.Series'>\n",
      "Index: 2879 entries, 0 to 1208\n",
      "Series name: founded\n",
      "Non-Null Count  Dtype        \n",
      "--------------  -----        \n",
      "2110 non-null   period[Y-DEC]\n",
      "dtypes: period[Y-DEC](1)\n",
      "memory usage: 45.0 KB\n"
     ]
    }
   ],
   "source": [
    "df['founded'].info()"
   ]
  },
  {
   "cell_type": "markdown",
   "id": "358535e4",
   "metadata": {},
   "source": [
    "**Cleaning the 'founders' column**"
   ]
  },
  {
   "cell_type": "code",
   "execution_count": 54,
   "id": "48bbb608",
   "metadata": {},
   "outputs": [
    {
     "name": "stdout",
     "output_type": "stream",
     "text": [
      "545\n"
     ]
    }
   ],
   "source": [
    "# Remove unwanted characters\n",
    "df['founders'] = df['founders'].replace(['...', np.nan], np.NaN)\n",
    "\n",
    "# Check the number of NaN values in the 'founders' column\n",
    "nan_count = df['founders'].isna().sum()\n",
    "\n",
    "print(nan_count)"
   ]
  },
  {
   "cell_type": "code",
   "execution_count": 55,
   "id": "dfd189ff-2635-47d7-9172-0fc53a7ea365",
   "metadata": {},
   "outputs": [
    {
     "name": "stdout",
     "output_type": "stream",
     "text": [
      "<class 'pandas.core.series.Series'>\n",
      "Index: 2879 entries, 0 to 1208\n",
      "Series name: founders\n",
      "Non-Null Count  Dtype \n",
      "--------------  ----- \n",
      "2334 non-null   object\n",
      "dtypes: object(1)\n",
      "memory usage: 45.0+ KB\n"
     ]
    }
   ],
   "source": [
    "df['founders'].info()"
   ]
  },
  {
   "cell_type": "markdown",
   "id": "82fa3c58",
   "metadata": {},
   "source": [
    "**Cleaning **Stage** column**"
   ]
  },
  {
   "cell_type": "markdown",
   "id": "891207b6",
   "metadata": {},
   "source": [
    "Startups start with pre-seed, progress through seed, Series A, Series B, etc., securing resources for development and strategies. Additional rounds like Series C or D may follow. External funding at each stage fuels growth toward the venture's full potential."
   ]
  },
  {
   "cell_type": "markdown",
   "id": "5f93eb2a",
   "metadata": {},
   "source": [
    "**Pre-Seed Funding**  \n",
    "Entrepreneurial idea in early development; small funds needed; limited informal channels for raising funds.\n",
    "\n",
    "**Seed Funding**  \n",
    "First official equity funding; investors provide funds for equity ownership.\n",
    "\n",
    "**Series A Financing**  \n",
    "First venture capital round; developed product, consistent revenue, long-term profit plan.\n",
    "\n",
    "**Series B Financing**  \n",
    "For established startups; substantial user base and revenue; funding for expansion.\n",
    "\n",
    "**Series C and Beyond**  \n",
    "Optional rounds for final push before IPO or unmet objectives; Series C is the third venture capital round.\n",
    "\n",
    "**Initial Public Offering (IPO)**  \n",
    "Process of offering corporate shares to the public; used for funding or divestment."
   ]
  },
  {
   "cell_type": "markdown",
   "id": "7c6b8512",
   "metadata": {},
   "source": [
    "link: https://www.startupindia.gov.in/content/sih/en/funding.html"
   ]
  },
  {
   "cell_type": "code",
   "execution_count": 56,
   "id": "b88de265",
   "metadata": {},
   "outputs": [],
   "source": [
    "# Cleaning stage column\n",
    "df['stage'].unique()\n",
    "df['stage']=df['stage'].replace(['https://docs.google.com/spreadsheets/d/1x9ziNeaz6auNChIHnMI8U6kS7knTr3byy_YBGfQaoUA/edit#gid=1861303593',\n",
    "'$6000000','$1000000','$300000','$1200000'],np.NaN)"
   ]
  },
  {
   "cell_type": "code",
   "execution_count": 57,
   "id": "502bbaec",
   "metadata": {},
   "outputs": [],
   "source": [
    "# Standardize funding stages in the 'stage' column\n",
    "df['stage'] = df['stage'].replace(['Series A', 'Seies A', 'Series A-1', 'Series A2', 'Series A+', 'Series A+'], 'Series A')\n",
    "df['stage'] = df['stage'].replace(['Pre-seed', 'Pre-seed Round', 'Pre seed Round', 'Pre seed round'], 'Pre-Seed Stage')\n",
    "df['stage'] = df['stage'].replace(['Pre series A', 'Pre-series A', 'Pre Series A', 'Pre series A1', 'Pre-series A1', 'Pre- series A'], 'Pre series A')\n",
    "df['stage'] = df['stage'].replace(['Series B', 'Series B+', 'Series B2', 'Series B3'], 'Series B')\n",
    "df['stage'] = df['stage'].replace(['Series C', 'Series C', 'Series C, D','Series C', 'Private Equity','PE', 'Post-IPO Equity','Series D', 'Series E', 'Series F', 'Series G', 'Series H', 'Series I','Series D1','Series F2', 'Series F1'], 'Series C and Beyond')\n",
    "df['stage'] = df['stage'].replace(['Venture - Series Unknown', None,'Grant','Debt','Debt Financing','Post-IPO Debt','Non-equity Assistance','Bridge','Bridge Round','Fresh funding','Funding Round','Mid series','Edge',], 'unknown')\n",
    "df['stage'] = df['stage'].replace(['Corporate Round','Undisclosed','Secondary Market','Pre-series','Post series A','Pre-series B','Pre-Series B','Pre series B','Pre-series C','Pre series C'], 'Other Stages')\n",
    "df['stage'] = df['stage'].replace(['Seed','Seed funding','Pre-Seed','Angel', 'Angel Round','Seed fund', 'Seed round', 'Seed A','Seed Funding', 'Seed Round & Series A', 'Series E2', 'Seed Round','Seed Investment','Seed+','Early seed'],'Seed Stage')"
   ]
  },
  {
   "cell_type": "code",
   "execution_count": 58,
   "id": "90556419",
   "metadata": {},
   "outputs": [
    {
     "name": "stdout",
     "output_type": "stream",
     "text": [
      "<class 'pandas.core.series.Series'>\n",
      "Index: 2879 entries, 0 to 1208\n",
      "Series name: stage\n",
      "Non-Null Count  Dtype \n",
      "--------------  ----- \n",
      "2879 non-null   object\n",
      "dtypes: object(1)\n",
      "memory usage: 45.0+ KB\n"
     ]
    }
   ],
   "source": [
    "df['stage'].info()"
   ]
  },
  {
   "cell_type": "code",
   "execution_count": 59,
   "metadata": {},
   "outputs": [
    {
     "data": {
      "text/plain": [
       "0"
      ]
     },
     "execution_count": 59,
     "metadata": {},
     "output_type": "execute_result"
    }
   ],
   "source": [
    "df['stage'].isna().sum()"
   ]
  },
  {
   "cell_type": "code",
   "execution_count": 60,
   "id": "082af59b",
   "metadata": {},
   "outputs": [
    {
     "data": {
      "text/plain": [
       "stage\n",
       "unknown                1060\n",
       "Seed Stage              746\n",
       "Series A                309\n",
       "Pre series A            291\n",
       "Series C and Beyond     232\n",
       "Series B                138\n",
       "Pre-Seed Stage           65\n",
       "Other Stages             38\n",
       "Name: count, dtype: int64"
      ]
     },
     "execution_count": 60,
     "metadata": {},
     "output_type": "execute_result"
    }
   ],
   "source": [
    "df['stage'].value_counts()"
   ]
  },
  {
   "cell_type": "markdown",
   "id": "4350b2c8",
   "metadata": {},
   "source": [
    "**Cleaning the Sector Column**"
   ]
  },
  {
   "cell_type": "code",
   "execution_count": 65,
   "id": "4d425ecd",
   "metadata": {},
   "outputs": [],
   "source": [
    "# Get the first sentence of every list\n",
    "df['sector']=df['sector'].str.split(\",\").str[0]"
   ]
  },
  {
   "cell_type": "markdown",
   "id": "017be599",
   "metadata": {},
   "source": [
    "**Correct naming variations in the headquater column**"
   ]
  },
  {
   "cell_type": "code",
   "execution_count": 66,
   "id": "6d752eed",
   "metadata": {},
   "outputs": [],
   "source": [
    "# Get the first location from every list\n",
    "df['headquater']=df['headquater'].str.split(\",\").str[0]"
   ]
  },
  {
   "cell_type": "code",
   "execution_count": 67,
   "id": "525727b4",
   "metadata": {},
   "outputs": [],
   "source": [
    "df['headquater']=df['headquater'].replace({'Bengaluru': 'Bangalore', 'Banglore': 'Bangalore', 'Gurugram': 'Gurgaon', 'Hyderebad': 'Hyderabad', \n",
    "                                      'New Delhi': 'Delhi', 'Ahmadabad': 'Ahmedabad', 'Ernakulam': 'Cochin', 'Telugana': 'Telangana',\n",
    "                                      'Rajastan': 'Rajasthan', 'San Franciscao': 'San Francisco', 'Samsitpur': 'Samastipur', 'Santra': 'Samtra',\n",
    "                                      'Rajsamand': 'Rajasthan', 'Kerala': 'Kochi','The Nilgiris': 'Nilgiris', 'Gurugram\\t#REF!': 'Gurgaon', \n",
    "                                      'California': 'San Francisco', 'San Francisco Bay Area': 'San Francisco', 'Hyderebad': 'Hyderabad',\n",
    "                                      'Online Media\\t#REF!': 'Unknown','Pharmaceuticals\\t#REF!': 'Unknown',\n",
    "                                      'Information Technology & Services':'Unknown' ,'Small Towns': 'Unknown','Orissia': 'Odisha', \n",
    "                                      'Santra': 'Samtra', 'Vadodara': 'Vadodara', 'Food & Beverages': 'Unknown', 'Bangaldesh': 'Bangladesh',}) \n"
   ]
  },
  {
   "cell_type": "code",
   "execution_count": 68,
   "id": "1bf275fd",
   "metadata": {},
   "outputs": [
    {
     "data": {
      "text/html": [
       "<div>\n",
       "<style scoped>\n",
       "    .dataframe tbody tr th:only-of-type {\n",
       "        vertical-align: middle;\n",
       "    }\n",
       "\n",
       "    .dataframe tbody tr th {\n",
       "        vertical-align: top;\n",
       "    }\n",
       "\n",
       "    .dataframe thead th {\n",
       "        text-align: right;\n",
       "    }\n",
       "</style>\n",
       "<table border=\"1\" class=\"dataframe\">\n",
       "  <thead>\n",
       "    <tr style=\"text-align: right;\">\n",
       "      <th></th>\n",
       "      <th>company_brand</th>\n",
       "      <th>sector</th>\n",
       "      <th>stage</th>\n",
       "      <th>amount($)</th>\n",
       "      <th>headquater</th>\n",
       "      <th>about_company</th>\n",
       "      <th>founded</th>\n",
       "      <th>founders</th>\n",
       "      <th>investor</th>\n",
       "      <th>data_year</th>\n",
       "    </tr>\n",
       "  </thead>\n",
       "  <tbody>\n",
       "    <tr>\n",
       "      <th>0</th>\n",
       "      <td>TheCollegeFever</td>\n",
       "      <td>Brand Marketing</td>\n",
       "      <td>Seed Stage</td>\n",
       "      <td>250000.0</td>\n",
       "      <td>Bangalore</td>\n",
       "      <td>TheCollegeFever is a hub for fun, fiesta and f...</td>\n",
       "      <td>NaT</td>\n",
       "      <td>NaN</td>\n",
       "      <td>NaN</td>\n",
       "      <td>2018</td>\n",
       "    </tr>\n",
       "    <tr>\n",
       "      <th>1</th>\n",
       "      <td>Happy Cow Dairy</td>\n",
       "      <td>Agriculture</td>\n",
       "      <td>Seed Stage</td>\n",
       "      <td>NaN</td>\n",
       "      <td>Mumbai</td>\n",
       "      <td>A startup which aggregates milk from dairy far...</td>\n",
       "      <td>NaT</td>\n",
       "      <td>NaN</td>\n",
       "      <td>NaN</td>\n",
       "      <td>2018</td>\n",
       "    </tr>\n",
       "    <tr>\n",
       "      <th>2</th>\n",
       "      <td>MyLoanCare</td>\n",
       "      <td>Credit</td>\n",
       "      <td>Series A</td>\n",
       "      <td>NaN</td>\n",
       "      <td>Gurgaon</td>\n",
       "      <td>Leading Online Loans Marketplace in India</td>\n",
       "      <td>NaT</td>\n",
       "      <td>NaN</td>\n",
       "      <td>NaN</td>\n",
       "      <td>2018</td>\n",
       "    </tr>\n",
       "    <tr>\n",
       "      <th>3</th>\n",
       "      <td>PayMe India</td>\n",
       "      <td>Financial Services</td>\n",
       "      <td>Seed Stage</td>\n",
       "      <td>2000000.0</td>\n",
       "      <td>Noida</td>\n",
       "      <td>PayMe India is an innovative FinTech organizat...</td>\n",
       "      <td>NaT</td>\n",
       "      <td>NaN</td>\n",
       "      <td>NaN</td>\n",
       "      <td>2018</td>\n",
       "    </tr>\n",
       "    <tr>\n",
       "      <th>4</th>\n",
       "      <td>Eunimart</td>\n",
       "      <td>E-Commerce Platforms</td>\n",
       "      <td>Seed Stage</td>\n",
       "      <td>NaN</td>\n",
       "      <td>Hyderabad</td>\n",
       "      <td>Eunimart is a one stop solution for merchants ...</td>\n",
       "      <td>NaT</td>\n",
       "      <td>NaN</td>\n",
       "      <td>NaN</td>\n",
       "      <td>2018</td>\n",
       "    </tr>\n",
       "    <tr>\n",
       "      <th>5</th>\n",
       "      <td>Hasura</td>\n",
       "      <td>Cloud Infrastructure</td>\n",
       "      <td>Seed Stage</td>\n",
       "      <td>1600000.0</td>\n",
       "      <td>Bangalore</td>\n",
       "      <td>Hasura is a platform that allows developers to...</td>\n",
       "      <td>NaT</td>\n",
       "      <td>NaN</td>\n",
       "      <td>NaN</td>\n",
       "      <td>2018</td>\n",
       "    </tr>\n",
       "    <tr>\n",
       "      <th>6</th>\n",
       "      <td>Tripshelf</td>\n",
       "      <td>Internet</td>\n",
       "      <td>Seed Stage</td>\n",
       "      <td>NaN</td>\n",
       "      <td>Kalkaji</td>\n",
       "      <td>Tripshelf is an online market place for holida...</td>\n",
       "      <td>NaT</td>\n",
       "      <td>NaN</td>\n",
       "      <td>NaN</td>\n",
       "      <td>2018</td>\n",
       "    </tr>\n",
       "    <tr>\n",
       "      <th>7</th>\n",
       "      <td>Hyperdata.IO</td>\n",
       "      <td>Market Research</td>\n",
       "      <td>Seed Stage</td>\n",
       "      <td>NaN</td>\n",
       "      <td>Hyderabad</td>\n",
       "      <td>Hyperdata combines advanced machine learning w...</td>\n",
       "      <td>NaT</td>\n",
       "      <td>NaN</td>\n",
       "      <td>NaN</td>\n",
       "      <td>2018</td>\n",
       "    </tr>\n",
       "    <tr>\n",
       "      <th>8</th>\n",
       "      <td>Freightwalla</td>\n",
       "      <td>Information Services</td>\n",
       "      <td>Seed Stage</td>\n",
       "      <td>NaN</td>\n",
       "      <td>Mumbai</td>\n",
       "      <td>Freightwalla is an international forwarder tha...</td>\n",
       "      <td>NaT</td>\n",
       "      <td>NaN</td>\n",
       "      <td>NaN</td>\n",
       "      <td>2018</td>\n",
       "    </tr>\n",
       "    <tr>\n",
       "      <th>9</th>\n",
       "      <td>Microchip Payments</td>\n",
       "      <td>Mobile Payments</td>\n",
       "      <td>Seed Stage</td>\n",
       "      <td>NaN</td>\n",
       "      <td>Bangalore</td>\n",
       "      <td>Microchip payments is a mobile-based payment a...</td>\n",
       "      <td>NaT</td>\n",
       "      <td>NaN</td>\n",
       "      <td>NaN</td>\n",
       "      <td>2018</td>\n",
       "    </tr>\n",
       "  </tbody>\n",
       "</table>\n",
       "</div>"
      ],
      "text/plain": [
       "        company_brand                sector       stage  amount($) headquater  \\\n",
       "0     TheCollegeFever       Brand Marketing  Seed Stage   250000.0  Bangalore   \n",
       "1     Happy Cow Dairy           Agriculture  Seed Stage        NaN     Mumbai   \n",
       "2          MyLoanCare                Credit    Series A        NaN    Gurgaon   \n",
       "3         PayMe India    Financial Services  Seed Stage  2000000.0      Noida   \n",
       "4            Eunimart  E-Commerce Platforms  Seed Stage        NaN  Hyderabad   \n",
       "5              Hasura  Cloud Infrastructure  Seed Stage  1600000.0  Bangalore   \n",
       "6           Tripshelf              Internet  Seed Stage        NaN    Kalkaji   \n",
       "7        Hyperdata.IO       Market Research  Seed Stage        NaN  Hyderabad   \n",
       "8        Freightwalla  Information Services  Seed Stage        NaN     Mumbai   \n",
       "9  Microchip Payments       Mobile Payments  Seed Stage        NaN  Bangalore   \n",
       "\n",
       "                                       about_company founded founders  \\\n",
       "0  TheCollegeFever is a hub for fun, fiesta and f...     NaT      NaN   \n",
       "1  A startup which aggregates milk from dairy far...     NaT      NaN   \n",
       "2          Leading Online Loans Marketplace in India     NaT      NaN   \n",
       "3  PayMe India is an innovative FinTech organizat...     NaT      NaN   \n",
       "4  Eunimart is a one stop solution for merchants ...     NaT      NaN   \n",
       "5  Hasura is a platform that allows developers to...     NaT      NaN   \n",
       "6  Tripshelf is an online market place for holida...     NaT      NaN   \n",
       "7  Hyperdata combines advanced machine learning w...     NaT      NaN   \n",
       "8  Freightwalla is an international forwarder tha...     NaT      NaN   \n",
       "9  Microchip payments is a mobile-based payment a...     NaT      NaN   \n",
       "\n",
       "  investor data_year  \n",
       "0      NaN      2018  \n",
       "1      NaN      2018  \n",
       "2      NaN      2018  \n",
       "3      NaN      2018  \n",
       "4      NaN      2018  \n",
       "5      NaN      2018  \n",
       "6      NaN      2018  \n",
       "7      NaN      2018  \n",
       "8      NaN      2018  \n",
       "9      NaN      2018  "
      ]
     },
     "execution_count": 68,
     "metadata": {},
     "output_type": "execute_result"
    }
   ],
   "source": [
    "df.head(10)"
   ]
  },
  {
   "cell_type": "code",
   "execution_count": null,
   "id": "c04ba1a4",
   "metadata": {},
   "outputs": [],
   "source": []
  },
  {
   "cell_type": "code",
   "execution_count": null,
   "id": "734de704",
   "metadata": {},
   "outputs": [],
   "source": []
  },
  {
   "cell_type": "code",
   "execution_count": null,
   "id": "c90a3a13",
   "metadata": {},
   "outputs": [],
   "source": []
  }
 ],
 "metadata": {
  "kernelspec": {
   "display_name": "Python 3 (ipykernel)",
   "language": "python",
   "name": "python3"
  },
  "language_info": {
   "codemirror_mode": {
    "name": "ipython",
    "version": 3
   },
   "file_extension": ".py",
   "mimetype": "text/x-python",
   "name": "python",
   "nbconvert_exporter": "python",
   "pygments_lexer": "ipython3",
   "version": "3.11.6"
  }
 },
 "nbformat": 4,
 "nbformat_minor": 5
}
