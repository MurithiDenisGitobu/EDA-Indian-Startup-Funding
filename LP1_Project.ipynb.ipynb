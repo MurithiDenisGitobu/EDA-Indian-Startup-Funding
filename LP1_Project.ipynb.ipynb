{
 "cells": [
  {
   "cell_type": "markdown",
   "id": "098d19ba-83f1-4ebe-8224-3d771aa670e6",
   "metadata": {},
   "source": [
    "# **INDIAN STARTUP ECOSYSTEM**"
   ]
  },
  {
   "cell_type": "markdown",
   "id": "c62646cd-0736-4382-a4d2-318010effda4",
   "metadata": {},
   "source": [
    "## Project Description\n",
    "We embark on a journey of discovery as we leverage our data analysis expertise to uncover the untapped potential within the Indian startup ecosystem. This project is designed to not only decode the numbers but to distill insights that will guide our team towards a successful foray into this dynamic market."
   ]
  },
  {
   "cell_type": "markdown",
   "id": "073a46b0-b9c4-4cd3-941f-2966afc886e3",
   "metadata": {},
   "source": [
    "## Scope of Work\n",
    "\n",
    "- Conduct a thorough exploration of datasets, dissecting funding patterns, sectoral nuances, and geographical hotspots in the Indian startup landscap\n",
    "- Analyze funding received by startups in india from 2018 to 2021\n",
    "\n"
   ]
  },
  {
   "cell_type": "markdown",
   "id": "56c8dab3-8e2b-47f3-874a-d27632251b8f",
   "metadata": {},
   "source": [
    "## Hypothesis \n",
    "**Null Hypothesis (H₀)**: There is no significant difference in the average funding received by startups and Location.\n",
    "\n",
    "**Alternative Hypothesis (H₁)**: There are significant differences in the average funding received by startups and Location.\n",
    "\n",
    "**Null Hypothesis (H0)**: There is no significant relationship between funding and the sector  \n",
    "\n",
    "**Alternative Hypothesis (H1)**: There is a significant relationship between funding and the sector"
   ]
  },
  {
   "cell_type": "markdown",
   "id": "8620e446-b068-4209-8f16-003e788eebdb",
   "metadata": {},
   "source": [
    "## Questions \n",
    "1. How does funding vary across different industry sectors in India?\n",
    "2. How does funding vary with the loaction of the start-ups\n",
    "3. What is the relationship between the amount of funding and the stage of the company?\n",
    "4. How have funding trends evolved between 2018 and 2021?\n",
    "5. What are the most attractive sectors for investors?\n",
    "6. Does the location of the company influence its sector?\n",
    "\n",
    "\n"
   ]
  },
  {
   "cell_type": "markdown",
   "id": "182b1f90-e702-479c-bed8-7b0937f92ec8",
   "metadata": {},
   "source": [
    "# **DATA EXPLORATION, DATA UNDERSTANDING and DATA ANALYSIS**"
   ]
  },
  {
   "cell_type": "code",
   "execution_count": 1,
   "id": "a4313f08-adad-4397-b2a2-07ab3f969571",
   "metadata": {},
   "outputs": [],
   "source": [
    "# Load libraries\n",
    "# Database connnection\n",
    "import pyodbc     \n",
    "from dotenv import dotenv_values    #import the dotenv_values function from the dotenv package\n",
    "\n",
    "# Data manipulation\n",
    "import pandas as pd\n",
    "import numpy as np\n",
    "\n",
    "# Data visualization\n",
    "import matplotlib.pyplot as plt\n",
    "import seaborn as sns\n",
    "import plotly.express as px\n",
    "\n",
    "# filter warnings\n",
    "import warnings \n",
    "warnings.filterwarnings('ignore')"
   ]
  },
  {
   "cell_type": "markdown",
   "id": "a5653ae6-aaf0-4f36-ac77-0d12378022dd",
   "metadata": {},
   "source": [
    "## **1. Loading and Inspection of Data**"
   ]
  },
  {
   "cell_type": "markdown",
   "id": "6c0ba8b8",
   "metadata": {},
   "source": [
    "**Load data from the SQL server**"
   ]
  },
  {
   "cell_type": "code",
   "execution_count": 2,
   "id": "64476aec-cfda-44ff-9287-f9ae1116d755",
   "metadata": {},
   "outputs": [],
   "source": [
    "# Load environment variables from .env file into a dictionary\n",
    "environment_variables = dotenv_values('.env')\n",
    "\n",
    "# Get the values for the credentials you set in the '.env' file\n",
    "server = environment_variables.get(\"SERVER\")\n",
    "database = environment_variables.get(\"DATABASE\")\n",
    "username = environment_variables.get(\"USERNAME\")\n",
    "password = environment_variables.get(\"PASSWORD\")"
   ]
  },
  {
   "cell_type": "code",
   "execution_count": 3,
   "id": "1065f30f-d2af-4355-9709-68b7cf2eec10",
   "metadata": {},
   "outputs": [],
   "source": [
    "# Create a connection string\n",
    "\n",
    "connection_string = f\"DRIVER={{SQL Server}};SERVER={server};DATABASE={database};UID={username};PWD={password}\"\n",
    "    \n",
    "connection = pyodbc.connect(connection_string)\n",
    "\n"
   ]
  },
  {
   "cell_type": "code",
   "execution_count": 4,
   "id": "7c96e340-66bf-4947-b4bf-878ba7335936",
   "metadata": {},
   "outputs": [],
   "source": [
    "# sql query to get 2020 data. \n",
    "query_2020=\"SELECT * FROM dbo.LP1_startup_funding2020\"\n",
    "\n",
    "# sql query to get 2021 data. \n",
    "query_2021=\"SELECT * FROM dbo.LP1_startup_funding2021\""
   ]
  },
  {
   "cell_type": "code",
   "execution_count": 5,
   "id": "4879cd40-2819-442a-a895-1560371616cc",
   "metadata": {},
   "outputs": [],
   "source": [
    "    # load 2021 data\n",
    "data_2021=pd.read_sql(query_2021,connection)\n",
    "\n",
    "    # load 2020 data\n",
    "data_2020=pd.read_sql(query_2020,connection)"
   ]
  },
  {
   "cell_type": "markdown",
   "id": "35309cc2",
   "metadata": {},
   "source": [
    "**Load CSV Files**"
   ]
  },
  {
   "cell_type": "code",
   "execution_count": 6,
   "id": "a81c6016",
   "metadata": {},
   "outputs": [],
   "source": [
    "# load 2019 data\n",
    "data_2019=pd.read_csv(r'C:\\Users\\iamde\\OneDrive\\Desktop\\jupyter\\india_startup_data\\startup_funding2019.csv')\n",
    "\n",
    "    # load 2018 data\n",
    "data_2018=pd.read_csv(r'C:\\Users\\iamde\\OneDrive\\Desktop\\jupyter\\india_startup_data\\startup_funding2018.csv')\n"
   ]
  },
  {
   "cell_type": "markdown",
   "id": "b93809db-ec5e-415e-bce8-dc9a3367493b",
   "metadata": {},
   "source": [
    "### **2. Data Exploration and Understanding**"
   ]
  },
  {
   "cell_type": "markdown",
   "id": "ededc4f7",
   "metadata": {},
   "source": [
    "**Preview Each dataset**"
   ]
  },
  {
   "cell_type": "code",
   "execution_count": 7,
   "id": "88a913fa-08a6-4612-ac72-37b0a290a00a",
   "metadata": {},
   "outputs": [
    {
     "data": {
      "text/html": [
       "<div>\n",
       "<style scoped>\n",
       "    .dataframe tbody tr th:only-of-type {\n",
       "        vertical-align: middle;\n",
       "    }\n",
       "\n",
       "    .dataframe tbody tr th {\n",
       "        vertical-align: top;\n",
       "    }\n",
       "\n",
       "    .dataframe thead th {\n",
       "        text-align: right;\n",
       "    }\n",
       "</style>\n",
       "<table border=\"1\" class=\"dataframe\">\n",
       "  <thead>\n",
       "    <tr style=\"text-align: right;\">\n",
       "      <th></th>\n",
       "      <th>Company Name</th>\n",
       "      <th>Industry</th>\n",
       "      <th>Round/Series</th>\n",
       "      <th>Amount</th>\n",
       "      <th>Location</th>\n",
       "      <th>About Company</th>\n",
       "    </tr>\n",
       "  </thead>\n",
       "  <tbody>\n",
       "    <tr>\n",
       "      <th>178</th>\n",
       "      <td>BuyForexOnline</td>\n",
       "      <td>Travel</td>\n",
       "      <td>https://docs.google.com/spreadsheets/d/1x9ziNe...</td>\n",
       "      <td>2000000</td>\n",
       "      <td>Bangalore, Karnataka, India</td>\n",
       "      <td>BuyForexOnline.com is India's first completely...</td>\n",
       "    </tr>\n",
       "    <tr>\n",
       "      <th>120</th>\n",
       "      <td>Dee Dee Labs</td>\n",
       "      <td>Embedded Systems, Health Care, Medical, Produc...</td>\n",
       "      <td>Seed</td>\n",
       "      <td>—</td>\n",
       "      <td>Pune, Maharashtra, India</td>\n",
       "      <td>Dee Dee Labs is design and development lab wit...</td>\n",
       "    </tr>\n",
       "    <tr>\n",
       "      <th>483</th>\n",
       "      <td>Cyclops Medtech</td>\n",
       "      <td>Health Care, Health Diagnostics, Internet of T...</td>\n",
       "      <td>Seed</td>\n",
       "      <td>1000000</td>\n",
       "      <td>Bangalore, Karnataka, India</td>\n",
       "      <td>Medtech startup working on clinical and wearab...</td>\n",
       "    </tr>\n",
       "    <tr>\n",
       "      <th>276</th>\n",
       "      <td>Nivesh.com</td>\n",
       "      <td>Finance, Financial Services, Marketing</td>\n",
       "      <td>Seed</td>\n",
       "      <td>₹30,000,000</td>\n",
       "      <td>Noida, Uttar Pradesh, India</td>\n",
       "      <td>Nivesh.com is a mass market mutual funds inves...</td>\n",
       "    </tr>\n",
       "    <tr>\n",
       "      <th>6</th>\n",
       "      <td>Tripshelf</td>\n",
       "      <td>Internet, Leisure, Marketplace</td>\n",
       "      <td>Seed</td>\n",
       "      <td>₹16,000,000</td>\n",
       "      <td>Kalkaji, Delhi, India</td>\n",
       "      <td>Tripshelf is an online market place for holida...</td>\n",
       "    </tr>\n",
       "  </tbody>\n",
       "</table>\n",
       "</div>"
      ],
      "text/plain": [
       "        Company Name                                           Industry  \\\n",
       "178   BuyForexOnline                                             Travel   \n",
       "120     Dee Dee Labs  Embedded Systems, Health Care, Medical, Produc...   \n",
       "483  Cyclops Medtech  Health Care, Health Diagnostics, Internet of T...   \n",
       "276       Nivesh.com             Finance, Financial Services, Marketing   \n",
       "6          Tripshelf                     Internet, Leisure, Marketplace   \n",
       "\n",
       "                                          Round/Series       Amount  \\\n",
       "178  https://docs.google.com/spreadsheets/d/1x9ziNe...      2000000   \n",
       "120                                               Seed            —   \n",
       "483                                               Seed      1000000   \n",
       "276                                               Seed  ₹30,000,000   \n",
       "6                                                 Seed  ₹16,000,000   \n",
       "\n",
       "                        Location  \\\n",
       "178  Bangalore, Karnataka, India   \n",
       "120     Pune, Maharashtra, India   \n",
       "483  Bangalore, Karnataka, India   \n",
       "276  Noida, Uttar Pradesh, India   \n",
       "6          Kalkaji, Delhi, India   \n",
       "\n",
       "                                         About Company  \n",
       "178  BuyForexOnline.com is India's first completely...  \n",
       "120  Dee Dee Labs is design and development lab wit...  \n",
       "483  Medtech startup working on clinical and wearab...  \n",
       "276  Nivesh.com is a mass market mutual funds inves...  \n",
       "6    Tripshelf is an online market place for holida...  "
      ]
     },
     "execution_count": 7,
     "metadata": {},
     "output_type": "execute_result"
    }
   ],
   "source": [
    "# preview the rows and columns for the 2018 dataset\n",
    "data_2018.sample(5)"
   ]
  },
  {
   "cell_type": "code",
   "execution_count": 8,
   "id": "3caff6a6-fadb-4132-9c2c-f79d2378d04d",
   "metadata": {},
   "outputs": [
    {
     "data": {
      "text/html": [
       "<div>\n",
       "<style scoped>\n",
       "    .dataframe tbody tr th:only-of-type {\n",
       "        vertical-align: middle;\n",
       "    }\n",
       "\n",
       "    .dataframe tbody tr th {\n",
       "        vertical-align: top;\n",
       "    }\n",
       "\n",
       "    .dataframe thead th {\n",
       "        text-align: right;\n",
       "    }\n",
       "</style>\n",
       "<table border=\"1\" class=\"dataframe\">\n",
       "  <thead>\n",
       "    <tr style=\"text-align: right;\">\n",
       "      <th></th>\n",
       "      <th>Company/Brand</th>\n",
       "      <th>Founded</th>\n",
       "      <th>HeadQuarter</th>\n",
       "      <th>Sector</th>\n",
       "      <th>What it does</th>\n",
       "      <th>Founders</th>\n",
       "      <th>Investor</th>\n",
       "      <th>Amount($)</th>\n",
       "      <th>Stage</th>\n",
       "    </tr>\n",
       "  </thead>\n",
       "  <tbody>\n",
       "    <tr>\n",
       "      <th>76</th>\n",
       "      <td>Phable</td>\n",
       "      <td>2018.0</td>\n",
       "      <td>NaN</td>\n",
       "      <td>Healthtech</td>\n",
       "      <td>It creates an engagement loop between doctors,...</td>\n",
       "      <td>Sumit Sinha</td>\n",
       "      <td>LetsVenture, 91 Springboard, IKP Knowledge, An...</td>\n",
       "      <td>$220,000</td>\n",
       "      <td>NaN</td>\n",
       "    </tr>\n",
       "    <tr>\n",
       "      <th>69</th>\n",
       "      <td>Nivesh.com</td>\n",
       "      <td>2016.0</td>\n",
       "      <td>Noida</td>\n",
       "      <td>Mutual Funds</td>\n",
       "      <td>The platform simplifies the process of investment</td>\n",
       "      <td>Anurag Garg, Sridhar Srinivasan</td>\n",
       "      <td>Windrose Capital</td>\n",
       "      <td>$600,000</td>\n",
       "      <td>NaN</td>\n",
       "    </tr>\n",
       "    <tr>\n",
       "      <th>25</th>\n",
       "      <td>Seekify</td>\n",
       "      <td>2019.0</td>\n",
       "      <td>Delhi</td>\n",
       "      <td>SaaS</td>\n",
       "      <td>Customer Experience (CX) Automation platform</td>\n",
       "      <td>Arihant Jain, Ajeet Kushwaha</td>\n",
       "      <td>Sequoia Capita</td>\n",
       "      <td>$1,500,000</td>\n",
       "      <td>Seed funding</td>\n",
       "    </tr>\n",
       "    <tr>\n",
       "      <th>42</th>\n",
       "      <td>Bombay Shirt Company</td>\n",
       "      <td>2012.0</td>\n",
       "      <td>Mumbai</td>\n",
       "      <td>E-commerce</td>\n",
       "      <td>Online custom shirt brand</td>\n",
       "      <td>Akshay Narvekar</td>\n",
       "      <td>Lightbox Ventures</td>\n",
       "      <td>$8,000,000</td>\n",
       "      <td>NaN</td>\n",
       "    </tr>\n",
       "    <tr>\n",
       "      <th>70</th>\n",
       "      <td>Zebu</td>\n",
       "      <td>2015.0</td>\n",
       "      <td>NaN</td>\n",
       "      <td>Cybersecurity</td>\n",
       "      <td>Platform uses encryption technology to allow b...</td>\n",
       "      <td>Team of Waterloo-based software developers</td>\n",
       "      <td>Undisclosed</td>\n",
       "      <td>$4,000,000</td>\n",
       "      <td>Seed round</td>\n",
       "    </tr>\n",
       "  </tbody>\n",
       "</table>\n",
       "</div>"
      ],
      "text/plain": [
       "           Company/Brand  Founded HeadQuarter         Sector  \\\n",
       "76                Phable   2018.0         NaN     Healthtech   \n",
       "69            Nivesh.com   2016.0       Noida   Mutual Funds   \n",
       "25               Seekify   2019.0       Delhi           SaaS   \n",
       "42  Bombay Shirt Company   2012.0      Mumbai     E-commerce   \n",
       "70                  Zebu   2015.0         NaN  Cybersecurity   \n",
       "\n",
       "                                         What it does  \\\n",
       "76  It creates an engagement loop between doctors,...   \n",
       "69  The platform simplifies the process of investment   \n",
       "25       Customer Experience (CX) Automation platform   \n",
       "42                          Online custom shirt brand   \n",
       "70  Platform uses encryption technology to allow b...   \n",
       "\n",
       "                                      Founders  \\\n",
       "76                                 Sumit Sinha   \n",
       "69             Anurag Garg, Sridhar Srinivasan   \n",
       "25                Arihant Jain, Ajeet Kushwaha   \n",
       "42                             Akshay Narvekar   \n",
       "70  Team of Waterloo-based software developers   \n",
       "\n",
       "                                             Investor   Amount($)  \\\n",
       "76  LetsVenture, 91 Springboard, IKP Knowledge, An...    $220,000   \n",
       "69                                   Windrose Capital    $600,000   \n",
       "25                                     Sequoia Capita  $1,500,000   \n",
       "42                                  Lightbox Ventures  $8,000,000   \n",
       "70                                        Undisclosed  $4,000,000   \n",
       "\n",
       "           Stage  \n",
       "76           NaN  \n",
       "69           NaN  \n",
       "25  Seed funding  \n",
       "42           NaN  \n",
       "70    Seed round  "
      ]
     },
     "execution_count": 8,
     "metadata": {},
     "output_type": "execute_result"
    }
   ],
   "source": [
    "# get a sample of 2019 dataset\n",
    "data_2019.sample(5)"
   ]
  },
  {
   "cell_type": "code",
   "execution_count": 9,
   "id": "5b3f3480-99e5-4d9c-999b-c24fd6527f0b",
   "metadata": {},
   "outputs": [
    {
     "data": {
      "text/html": [
       "<div>\n",
       "<style scoped>\n",
       "    .dataframe tbody tr th:only-of-type {\n",
       "        vertical-align: middle;\n",
       "    }\n",
       "\n",
       "    .dataframe tbody tr th {\n",
       "        vertical-align: top;\n",
       "    }\n",
       "\n",
       "    .dataframe thead th {\n",
       "        text-align: right;\n",
       "    }\n",
       "</style>\n",
       "<table border=\"1\" class=\"dataframe\">\n",
       "  <thead>\n",
       "    <tr style=\"text-align: right;\">\n",
       "      <th></th>\n",
       "      <th>Company_Brand</th>\n",
       "      <th>Founded</th>\n",
       "      <th>HeadQuarter</th>\n",
       "      <th>Sector</th>\n",
       "      <th>What_it_does</th>\n",
       "      <th>Founders</th>\n",
       "      <th>Investor</th>\n",
       "      <th>Amount</th>\n",
       "      <th>Stage</th>\n",
       "      <th>column10</th>\n",
       "    </tr>\n",
       "  </thead>\n",
       "  <tbody>\n",
       "    <tr>\n",
       "      <th>768</th>\n",
       "      <td>DailyHunt</td>\n",
       "      <td>NaN</td>\n",
       "      <td>None</td>\n",
       "      <td>Media</td>\n",
       "      <td>News aggregator</td>\n",
       "      <td>Virendra Gupta</td>\n",
       "      <td>Bytedance, Falcon Edge, Goldman Sachs, Advent ...</td>\n",
       "      <td>24000000.0</td>\n",
       "      <td>None</td>\n",
       "      <td>None</td>\n",
       "    </tr>\n",
       "    <tr>\n",
       "      <th>126</th>\n",
       "      <td>Country Delight</td>\n",
       "      <td>2015.0</td>\n",
       "      <td>Haryana</td>\n",
       "      <td>Food and Beverages</td>\n",
       "      <td>Country Delight produces and distributes milk ...</td>\n",
       "      <td>Chakradhar Gade, Nitin Kaushal</td>\n",
       "      <td>Orios Venture Partners, Matrix Partners India</td>\n",
       "      <td>25000000.0</td>\n",
       "      <td>Series C</td>\n",
       "      <td>None</td>\n",
       "    </tr>\n",
       "    <tr>\n",
       "      <th>901</th>\n",
       "      <td>Digit Insurance</td>\n",
       "      <td>NaN</td>\n",
       "      <td>Bangalore</td>\n",
       "      <td>Insurtech</td>\n",
       "      <td>General Insurance Company</td>\n",
       "      <td>Kamesh Goyal</td>\n",
       "      <td>Virat Kohli, Anushka Sharma</td>\n",
       "      <td>340000.0</td>\n",
       "      <td>None</td>\n",
       "      <td>None</td>\n",
       "    </tr>\n",
       "    <tr>\n",
       "      <th>711</th>\n",
       "      <td>Spyne</td>\n",
       "      <td>NaN</td>\n",
       "      <td>Gurugram</td>\n",
       "      <td>AI</td>\n",
       "      <td>Helps online businesses with visual content</td>\n",
       "      <td>Sanjay Kumar, Deepti Prasad</td>\n",
       "      <td>Angellist, Smile Group, Manish Amin, Anil Goel...</td>\n",
       "      <td>NaN</td>\n",
       "      <td>Pre series A</td>\n",
       "      <td>None</td>\n",
       "    </tr>\n",
       "    <tr>\n",
       "      <th>730</th>\n",
       "      <td>Biryani By Kilo</td>\n",
       "      <td>NaN</td>\n",
       "      <td>Delhi</td>\n",
       "      <td>Food</td>\n",
       "      <td>Online paltform to order biryani</td>\n",
       "      <td>Vishal Jindal</td>\n",
       "      <td>Devanshu Dolat Desai, Anand M Khatau, Debasish...</td>\n",
       "      <td>790000.0</td>\n",
       "      <td>Series B</td>\n",
       "      <td>None</td>\n",
       "    </tr>\n",
       "  </tbody>\n",
       "</table>\n",
       "</div>"
      ],
      "text/plain": [
       "       Company_Brand  Founded HeadQuarter              Sector  \\\n",
       "768        DailyHunt      NaN        None               Media   \n",
       "126  Country Delight   2015.0     Haryana  Food and Beverages   \n",
       "901  Digit Insurance      NaN   Bangalore           Insurtech   \n",
       "711            Spyne      NaN    Gurugram                  AI   \n",
       "730  Biryani By Kilo      NaN       Delhi                Food   \n",
       "\n",
       "                                          What_it_does  \\\n",
       "768                                    News aggregator   \n",
       "126  Country Delight produces and distributes milk ...   \n",
       "901                          General Insurance Company   \n",
       "711        Helps online businesses with visual content   \n",
       "730                   Online paltform to order biryani   \n",
       "\n",
       "                           Founders  \\\n",
       "768                  Virendra Gupta   \n",
       "126  Chakradhar Gade, Nitin Kaushal   \n",
       "901                    Kamesh Goyal   \n",
       "711     Sanjay Kumar, Deepti Prasad   \n",
       "730                   Vishal Jindal   \n",
       "\n",
       "                                              Investor      Amount  \\\n",
       "768  Bytedance, Falcon Edge, Goldman Sachs, Advent ...  24000000.0   \n",
       "126      Orios Venture Partners, Matrix Partners India  25000000.0   \n",
       "901                        Virat Kohli, Anushka Sharma    340000.0   \n",
       "711  Angellist, Smile Group, Manish Amin, Anil Goel...         NaN   \n",
       "730  Devanshu Dolat Desai, Anand M Khatau, Debasish...    790000.0   \n",
       "\n",
       "            Stage column10  \n",
       "768          None     None  \n",
       "126      Series C     None  \n",
       "901          None     None  \n",
       "711  Pre series A     None  \n",
       "730      Series B     None  "
      ]
     },
     "execution_count": 9,
     "metadata": {},
     "output_type": "execute_result"
    }
   ],
   "source": [
    "# get a sample of 2020 dataset\n",
    "data_2020.sample(5)"
   ]
  },
  {
   "cell_type": "code",
   "execution_count": 10,
   "id": "8677d87a-8df2-4c78-8bb3-f70f22ba3a64",
   "metadata": {},
   "outputs": [
    {
     "data": {
      "text/html": [
       "<div>\n",
       "<style scoped>\n",
       "    .dataframe tbody tr th:only-of-type {\n",
       "        vertical-align: middle;\n",
       "    }\n",
       "\n",
       "    .dataframe tbody tr th {\n",
       "        vertical-align: top;\n",
       "    }\n",
       "\n",
       "    .dataframe thead th {\n",
       "        text-align: right;\n",
       "    }\n",
       "</style>\n",
       "<table border=\"1\" class=\"dataframe\">\n",
       "  <thead>\n",
       "    <tr style=\"text-align: right;\">\n",
       "      <th></th>\n",
       "      <th>Company_Brand</th>\n",
       "      <th>Founded</th>\n",
       "      <th>HeadQuarter</th>\n",
       "      <th>Sector</th>\n",
       "      <th>What_it_does</th>\n",
       "      <th>Founders</th>\n",
       "      <th>Investor</th>\n",
       "      <th>Amount</th>\n",
       "      <th>Stage</th>\n",
       "    </tr>\n",
       "  </thead>\n",
       "  <tbody>\n",
       "    <tr>\n",
       "      <th>26</th>\n",
       "      <td>Sirona Hygiene</td>\n",
       "      <td>2015.0</td>\n",
       "      <td>New Delhi</td>\n",
       "      <td>HealthTech</td>\n",
       "      <td>Solving unaddressed Intimate &amp; Menstrual Hygie...</td>\n",
       "      <td>Deep Bajaj, Mohit Bajaj</td>\n",
       "      <td>NB Ventures, IAN Fund</td>\n",
       "      <td>$3,000,000</td>\n",
       "      <td>Series A</td>\n",
       "    </tr>\n",
       "    <tr>\n",
       "      <th>748</th>\n",
       "      <td>Muvin</td>\n",
       "      <td>2020.0</td>\n",
       "      <td>Bangalore</td>\n",
       "      <td>FinTech</td>\n",
       "      <td>Youth Neobank enabling financial solutions for...</td>\n",
       "      <td>Mukund V Rao</td>\n",
       "      <td>None</td>\n",
       "      <td>$1,000,000</td>\n",
       "      <td>Seed</td>\n",
       "    </tr>\n",
       "    <tr>\n",
       "      <th>535</th>\n",
       "      <td>Ola Electric</td>\n",
       "      <td>2017.0</td>\n",
       "      <td>Bangalore</td>\n",
       "      <td>Automotive</td>\n",
       "      <td>Ola Electric - The future of mobility is here....</td>\n",
       "      <td>Bhavish Aggarwal</td>\n",
       "      <td>Bank of Baroda</td>\n",
       "      <td>$100000000</td>\n",
       "      <td>Debt</td>\n",
       "    </tr>\n",
       "    <tr>\n",
       "      <th>733</th>\n",
       "      <td>Anar Business Community</td>\n",
       "      <td>2020.0</td>\n",
       "      <td>Mumbai</td>\n",
       "      <td>Tech Startup</td>\n",
       "      <td>Anar is a communications and networking platfo...</td>\n",
       "      <td>Nishank Jain, Sanjay Bhat</td>\n",
       "      <td>Titan Capital, First Cheque</td>\n",
       "      <td>Undisclosed</td>\n",
       "      <td>None</td>\n",
       "    </tr>\n",
       "    <tr>\n",
       "      <th>166</th>\n",
       "      <td>VerSe Innovation</td>\n",
       "      <td>2018.0</td>\n",
       "      <td>Bangalore</td>\n",
       "      <td>Media</td>\n",
       "      <td>The core of the company (VerSe Innovation), is...</td>\n",
       "      <td>Umang Bedi</td>\n",
       "      <td>Siguler Guff, Baillie Gifford</td>\n",
       "      <td>$450000000</td>\n",
       "      <td>None</td>\n",
       "    </tr>\n",
       "  </tbody>\n",
       "</table>\n",
       "</div>"
      ],
      "text/plain": [
       "               Company_Brand  Founded HeadQuarter        Sector  \\\n",
       "26            Sirona Hygiene   2015.0   New Delhi    HealthTech   \n",
       "748                    Muvin   2020.0   Bangalore       FinTech   \n",
       "535             Ola Electric   2017.0   Bangalore    Automotive   \n",
       "733  Anar Business Community   2020.0      Mumbai  Tech Startup   \n",
       "166         VerSe Innovation   2018.0   Bangalore         Media   \n",
       "\n",
       "                                          What_it_does  \\\n",
       "26   Solving unaddressed Intimate & Menstrual Hygie...   \n",
       "748  Youth Neobank enabling financial solutions for...   \n",
       "535  Ola Electric - The future of mobility is here....   \n",
       "733  Anar is a communications and networking platfo...   \n",
       "166  The core of the company (VerSe Innovation), is...   \n",
       "\n",
       "                      Founders                       Investor       Amount  \\\n",
       "26     Deep Bajaj, Mohit Bajaj          NB Ventures, IAN Fund   $3,000,000   \n",
       "748               Mukund V Rao                           None   $1,000,000   \n",
       "535           Bhavish Aggarwal                 Bank of Baroda   $100000000   \n",
       "733  Nishank Jain, Sanjay Bhat    Titan Capital, First Cheque  Undisclosed   \n",
       "166                 Umang Bedi  Siguler Guff, Baillie Gifford   $450000000   \n",
       "\n",
       "        Stage  \n",
       "26   Series A  \n",
       "748      Seed  \n",
       "535      Debt  \n",
       "733      None  \n",
       "166      None  "
      ]
     },
     "execution_count": 10,
     "metadata": {},
     "output_type": "execute_result"
    }
   ],
   "source": [
    "# get a sample of 2021 dataset\n",
    "data_2021.sample(5)"
   ]
  },
  {
   "cell_type": "markdown",
   "id": "b93543f2-23bb-4e03-91f7-2a339ccb6370",
   "metadata": {},
   "source": [
    "**Shape of the data**"
   ]
  },
  {
   "cell_type": "code",
   "execution_count": 11,
   "id": "2e589a02-7199-4a0b-902b-2f82a820b2f6",
   "metadata": {},
   "outputs": [
    {
     "name": "stdout",
     "output_type": "stream",
     "text": [
      "The 2018 dataset has 526 rows and 6 Columns\n",
      "\n",
      "The 2019 dataset has 89 rows and 9 Columns\n",
      "\n",
      "The 2020 dataset has 1055 rows and 10 Columns\n",
      "\n",
      "The 2021 dataset has 1209 rows and 9 Columns\n",
      "\n",
      "\n"
     ]
    }
   ],
   "source": [
    "# get the number of rows and columns for the datasets\n",
    "print(f\"The 2018 dataset has {data_2018.shape[0]} rows and {data_2018.shape[1]} Columns\\n\")\n",
    "print(f\"The 2019 dataset has {data_2019.shape[0]} rows and {data_2019.shape[1]} Columns\\n\")\n",
    "print(f\"The 2020 dataset has {data_2020.shape[0]} rows and {data_2020.shape[1]} Columns\\n\")\n",
    "print(f\"The 2021 dataset has {data_2021.shape[0]} rows and {data_2021.shape[1]} Columns\\n\\n\")"
   ]
  },
  {
   "cell_type": "markdown",
   "id": "579a5b01-4b8c-45e6-87b1-73ee5deb7007",
   "metadata": {},
   "source": [
    "**Info of the data**"
   ]
  },
  {
   "cell_type": "code",
   "execution_count": 12,
   "id": "51576669-93b6-4c83-abd4-0ec1383f911a",
   "metadata": {},
   "outputs": [
    {
     "name": "stdout",
     "output_type": "stream",
     "text": [
      "<class 'pandas.core.frame.DataFrame'>\n",
      "RangeIndex: 526 entries, 0 to 525\n",
      "Data columns (total 6 columns):\n",
      " #   Column         Non-Null Count  Dtype \n",
      "---  ------         --------------  ----- \n",
      " 0   Company Name   526 non-null    object\n",
      " 1   Industry       526 non-null    object\n",
      " 2   Round/Series   526 non-null    object\n",
      " 3   Amount         526 non-null    object\n",
      " 4   Location       526 non-null    object\n",
      " 5   About Company  526 non-null    object\n",
      "dtypes: object(6)\n",
      "memory usage: 24.8+ KB\n"
     ]
    }
   ],
   "source": [
    "# overview of 2018 dataset\n",
    "data_2018.info()"
   ]
  },
  {
   "cell_type": "code",
   "execution_count": 13,
   "id": "95d118f0-22c6-44e9-8e2f-032397e4f2fd",
   "metadata": {},
   "outputs": [
    {
     "name": "stdout",
     "output_type": "stream",
     "text": [
      "<class 'pandas.core.frame.DataFrame'>\n",
      "RangeIndex: 89 entries, 0 to 88\n",
      "Data columns (total 9 columns):\n",
      " #   Column         Non-Null Count  Dtype  \n",
      "---  ------         --------------  -----  \n",
      " 0   Company/Brand  89 non-null     object \n",
      " 1   Founded        60 non-null     float64\n",
      " 2   HeadQuarter    70 non-null     object \n",
      " 3   Sector         84 non-null     object \n",
      " 4   What it does   89 non-null     object \n",
      " 5   Founders       86 non-null     object \n",
      " 6   Investor       89 non-null     object \n",
      " 7   Amount($)      89 non-null     object \n",
      " 8   Stage          43 non-null     object \n",
      "dtypes: float64(1), object(8)\n",
      "memory usage: 6.4+ KB\n"
     ]
    }
   ],
   "source": [
    "# overview of 2019 dataset\n",
    "data_2019.info()"
   ]
  },
  {
   "cell_type": "code",
   "execution_count": 14,
   "id": "0a0d12df-af4b-4475-87fe-ea3e0ae6ecae",
   "metadata": {},
   "outputs": [
    {
     "name": "stdout",
     "output_type": "stream",
     "text": [
      "<class 'pandas.core.frame.DataFrame'>\n",
      "RangeIndex: 1055 entries, 0 to 1054\n",
      "Data columns (total 10 columns):\n",
      " #   Column         Non-Null Count  Dtype  \n",
      "---  ------         --------------  -----  \n",
      " 0   Company_Brand  1055 non-null   object \n",
      " 1   Founded        842 non-null    float64\n",
      " 2   HeadQuarter    961 non-null    object \n",
      " 3   Sector         1042 non-null   object \n",
      " 4   What_it_does   1055 non-null   object \n",
      " 5   Founders       1043 non-null   object \n",
      " 6   Investor       1017 non-null   object \n",
      " 7   Amount         801 non-null    float64\n",
      " 8   Stage          591 non-null    object \n",
      " 9   column10       2 non-null      object \n",
      "dtypes: float64(2), object(8)\n",
      "memory usage: 82.6+ KB\n"
     ]
    }
   ],
   "source": [
    "# overview of 2020 dataset\n",
    "data_2020.info()"
   ]
  },
  {
   "cell_type": "code",
   "execution_count": 15,
   "id": "59bb1fcb-4c04-4466-8dc3-533cc7a66d02",
   "metadata": {},
   "outputs": [
    {
     "name": "stdout",
     "output_type": "stream",
     "text": [
      "<class 'pandas.core.frame.DataFrame'>\n",
      "RangeIndex: 1209 entries, 0 to 1208\n",
      "Data columns (total 9 columns):\n",
      " #   Column         Non-Null Count  Dtype  \n",
      "---  ------         --------------  -----  \n",
      " 0   Company_Brand  1209 non-null   object \n",
      " 1   Founded        1208 non-null   float64\n",
      " 2   HeadQuarter    1208 non-null   object \n",
      " 3   Sector         1209 non-null   object \n",
      " 4   What_it_does   1209 non-null   object \n",
      " 5   Founders       1205 non-null   object \n",
      " 6   Investor       1147 non-null   object \n",
      " 7   Amount         1206 non-null   object \n",
      " 8   Stage          781 non-null    object \n",
      "dtypes: float64(1), object(8)\n",
      "memory usage: 85.1+ KB\n"
     ]
    }
   ],
   "source": [
    "# overview of 2021 dataset\n",
    "data_2021.info()"
   ]
  },
  {
   "cell_type": "markdown",
   "id": "b34f7762-7ada-467d-9553-ad81094e8a11",
   "metadata": {},
   "source": [
    "**Displaying datasets columns**"
   ]
  },
  {
   "cell_type": "code",
   "execution_count": 16,
   "id": "bd635e90-d8e9-4e8a-9290-b6feaa704d4b",
   "metadata": {},
   "outputs": [
    {
     "data": {
      "text/plain": [
       "Index(['Company_Brand', 'Founded', 'HeadQuarter', 'Sector', 'What_it_does',\n",
       "       'Founders', 'Investor', 'Amount', 'Stage'],\n",
       "      dtype='object')"
      ]
     },
     "execution_count": 16,
     "metadata": {},
     "output_type": "execute_result"
    }
   ],
   "source": [
    "# 2021 data columns\n",
    "data_2021.columns"
   ]
  },
  {
   "cell_type": "code",
   "execution_count": 17,
   "id": "36c35f2f-a6dd-484e-9b87-81eca131801c",
   "metadata": {},
   "outputs": [
    {
     "data": {
      "text/plain": [
       "Index(['Company_Brand', 'Founded', 'HeadQuarter', 'Sector', 'What_it_does',\n",
       "       'Founders', 'Investor', 'Amount', 'Stage', 'column10'],\n",
       "      dtype='object')"
      ]
     },
     "execution_count": 17,
     "metadata": {},
     "output_type": "execute_result"
    }
   ],
   "source": [
    "# 2020 data columns\n",
    "\n",
    "data_2020.columns"
   ]
  },
  {
   "cell_type": "code",
   "execution_count": 18,
   "id": "4f6ca9f7-a761-4a13-bf36-ce15976dc308",
   "metadata": {},
   "outputs": [
    {
     "data": {
      "text/plain": [
       "Index(['Company/Brand', 'Founded', 'HeadQuarter', 'Sector', 'What it does',\n",
       "       'Founders', 'Investor', 'Amount($)', 'Stage'],\n",
       "      dtype='object')"
      ]
     },
     "execution_count": 18,
     "metadata": {},
     "output_type": "execute_result"
    }
   ],
   "source": [
    "# 2019 data columns\n",
    "\n",
    "data_2019.columns"
   ]
  },
  {
   "cell_type": "code",
   "execution_count": 19,
   "id": "f8632c75-946a-42b6-8fb6-0d72b228f4a3",
   "metadata": {},
   "outputs": [
    {
     "data": {
      "text/plain": [
       "Index(['Company Name', 'Industry', 'Round/Series', 'Amount', 'Location',\n",
       "       'About Company'],\n",
       "      dtype='object')"
      ]
     },
     "execution_count": 19,
     "metadata": {},
     "output_type": "execute_result"
    }
   ],
   "source": [
    "# 2018 data columns\n",
    "\n",
    "data_2018.columns"
   ]
  },
  {
   "cell_type": "markdown",
   "id": "406e25a7-e736-4340-b842-a579360997d6",
   "metadata": {},
   "source": [
    "## **Observations:**\n",
    "**Issues with the data**\n",
    "\n",
    "1. There is a discrepancy in the naming conventions between the columns in the 2018 and 2019 datasets compared to the 2020 and 2021 datasets.\n",
    "\n",
    "2. The 2018 dataset exhibits some missing columns, contributing to an incomplete representation of the data.\n",
    "\n",
    "3. Conversely, the 2020 dataset contains an additional column that appears to be extraneous and does not serve a meaningful purpose in our analysis.\n",
    "\n",
    "**Course of Action:**\n",
    "\n",
    "1. **Missing Column Engineering for 2018:**\n",
    "   - We will address the absence of certain columns in the 2018 dataset by employing data engineering techniques to create and populate the missing columns, ensuring a comprehensive and consistent dataset.\n",
    "\n",
    "2. **Column Name Standardization:**\n",
    "   - To establish uniformity and coherence across all datasets, we will embark on a column renaming process for the 2018 and 2019 datasets. This action aims to align the naming conventions with those observed in the 2020 and 2021 datasets, facilitating seamless data integration and analysis.\n",
    "\n",
    "3. **Extraneous Column Removal in 2020:**\n",
    "   - The redundant column identified in the 2020 dataset will be removed, streamlining the dataset and eliminating unnecessary elements that do not contribute to the overall analysis objectives.\n",
    "\n",
    "These actions collectively enhance the integrity, consistency, and completeness of the dataset, paving the way for a more robust and coherent analytical process.\n",
    "ical process.\n",
    "\n",
    "\n",
    "\n",
    "\n",
    "\n"
   ]
  },
  {
   "cell_type": "markdown",
   "id": "5959a53d-4842-48c0-ab8c-77448bd42a0a",
   "metadata": {},
   "source": [
    "# **3. Data Cleaning**"
   ]
  },
  {
   "cell_type": "markdown",
   "id": "5a6699fc",
   "metadata": {},
   "source": [
    "**Handling missing columns in the 2018 dataset**\n",
    "\n",
    "- The 2018 dataset has missing; 'founded', 'founders', and 'investor' columns\n"
   ]
  },
  {
   "cell_type": "code",
   "execution_count": 20,
   "id": "3058a0b5",
   "metadata": {},
   "outputs": [],
   "source": [
    "#Handling missing columns in the 2018 dataset\n",
    "\n",
    "# Engineer missing columns for the 2018 dataset\n",
    "columns_to_add = ['founded', 'founders', 'investor']\n",
    "for column in columns_to_add:\n",
    "    if column not in data_2018.columns:\n",
    "        data_2018[column] = np.NaN"
   ]
  },
  {
   "cell_type": "markdown",
   "id": "38deab22",
   "metadata": {},
   "source": [
    "**Data collection Year**\n",
    "\n",
    "- There is need to add a column that represents the year each dataset was collected. This will help with handling the datasets after merging the dataframes \n"
   ]
  },
  {
   "cell_type": "code",
   "execution_count": 21,
   "id": "0633e25e",
   "metadata": {},
   "outputs": [],
   "source": [
    "# add year when data was collected column to every dataset\n",
    "data_2018['data_year'] = pd.to_datetime('2018', format='%Y').year\n",
    "data_2019['data_year'] = pd.to_datetime('2019', format='%Y').year\n",
    "data_2020['data_year'] = pd.to_datetime('2020', format='%Y').year\n",
    "data_2021['data_year'] = pd.to_datetime('2021', format='%Y').year"
   ]
  },
  {
   "cell_type": "markdown",
   "id": "96f9f8d0",
   "metadata": {},
   "source": [
    "**Merge the dataframes**"
   ]
  },
  {
   "cell_type": "markdown",
   "id": "55009ec1",
   "metadata": {},
   "source": [
    "**Notes**\n",
    "- The function below concatenates the dataframes then renames the columns to ensure uniformity across the merged dataframe\n"
   ]
  },
  {
   "cell_type": "code",
   "execution_count": 24,
   "id": "ee2b9099",
   "metadata": {},
   "outputs": [],
   "source": [
    "#Define fuction to concatenate and rename columns\n",
    "def concat_dfs(df_1, df_2, df_3, df_4):\n",
    "    # Concatenate dataframes along the row axis and reset index\n",
    "    df = pd.concat([df_1, df_2, df_3, df_4], ignore_index=True)\n",
    "\n",
    "    # Rename columns before concatenating\n",
    "    df_1.rename(columns={'Company Name': 'company_brand', 'Industry': 'sector', 'Round/Series': 'stage',\n",
    "                         'Amount': 'amount($)', 'Location': 'location', 'About Company': 'about_company'},\n",
    "                inplace=True)\n",
    "    df_2.rename(columns={'Company/Brand': 'company_brand', 'Founded': 'founded', 'HeadQuarter': 'location',\n",
    "                         'Sector': 'sector', 'What it does': 'about_company', 'Founders': 'founders',\n",
    "                         'Investor': 'investor', 'Amount($)': 'amount($)', 'Stage': 'stage'},\n",
    "                inplace=True)\n",
    "    df_3.rename(columns={'Company_Brand': 'company_brand', 'Founded': 'founded', 'HeadQuarter': 'location',\n",
    "                         'Sector': 'sector', 'What_it_does': 'about_company', 'Founders': 'founders',\n",
    "                         'Investor': 'investor', 'Amount': 'amount($)', 'Stage': 'stage'},\n",
    "                inplace=True)\n",
    "    df_4.rename(columns={'Company_Brand': 'company_brand', 'Founded': 'founded', 'HeadQuarter': 'location',\n",
    "                         'Sector': 'sector', 'What_it_does': 'about_company', 'Founders': 'founders',\n",
    "                         'Investor': 'investor', 'Amount': 'amount($)', 'Stage': 'stage'},\n",
    "                inplace=True)\n",
    "\n",
    "    return df\n",
    "\n",
    "df = concat_dfs(data_2018, data_2019, data_2020, data_2021)\n"
   ]
  },
  {
   "cell_type": "code",
   "execution_count": 25,
   "id": "7e9358ec",
   "metadata": {},
   "outputs": [
    {
     "name": "stdout",
     "output_type": "stream",
     "text": [
      "<class 'pandas.core.frame.DataFrame'>\n",
      "RangeIndex: 2879 entries, 0 to 2878\n",
      "Data columns (total 11 columns):\n",
      " #   Column         Non-Null Count  Dtype  \n",
      "---  ------         --------------  -----  \n",
      " 0   company_brand  2879 non-null   object \n",
      " 1   sector         2861 non-null   object \n",
      " 2   stage          1941 non-null   object \n",
      " 3   amount($)      2622 non-null   object \n",
      " 4   location       2765 non-null   object \n",
      " 5   about_company  2879 non-null   object \n",
      " 6   founded        2110 non-null   float64\n",
      " 7   founders       2334 non-null   object \n",
      " 8   investor       2253 non-null   object \n",
      " 9   data_year      2879 non-null   int64  \n",
      " 10  column10       2 non-null      object \n",
      "dtypes: float64(1), int64(1), object(9)\n",
      "memory usage: 247.5+ KB\n"
     ]
    }
   ],
   "source": [
    "df.info()"
   ]
  }
 ],
 "metadata": {
  "kernelspec": {
   "display_name": "Python 3 (ipykernel)",
   "language": "python",
   "name": "python3"
  },
  "language_info": {
   "codemirror_mode": {
    "name": "ipython",
    "version": 3
   },
   "file_extension": ".py",
   "mimetype": "text/x-python",
   "name": "python",
   "nbconvert_exporter": "python",
   "pygments_lexer": "ipython3",
   "version": "3.11.6"
  }
 },
 "nbformat": 4,
 "nbformat_minor": 5
}
